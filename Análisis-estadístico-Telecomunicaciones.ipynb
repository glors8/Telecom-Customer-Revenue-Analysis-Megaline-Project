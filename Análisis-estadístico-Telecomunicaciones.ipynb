{
 "cells": [
  {
   "cell_type": "markdown",
   "metadata": {
    "id": "3rYiDeEH0q0f"
   },
   "source": [
    "# ¿Cuál es la mejor tarifa?\n",
    "\n",
    "Trabajas como analista para el operador de telecomunicaciones Megaline. La empresa ofrece a sus clientes dos tarifas de prepago, Surf y Ultimate. El departamento comercial quiere saber cuál de las tarifas genera más ingresos para poder ajustar el presupuesto de publicidad.\n",
    "\n",
    "Vas a realizar un análisis preliminar de las tarifas basado en una selección de clientes relativamente pequeña. Tendrás los datos de 500 clientes de Megaline: quiénes son los clientes, de dónde son, qué tarifa usan, así como la cantidad de llamadas que hicieron y los mensajes de texto que enviaron en 2018. Tu trabajo es analizar el comportamiento de los clientes y determinar qué tarifa de prepago genera más ingresos."
   ]
  },
  {
   "cell_type": "markdown",
   "metadata": {
    "id": "VNddPNRQ0q0w"
   },
   "source": [
    "\n",
    "\n",
    "El propósito del proyecto para la empresa de telecomunucaciones Megaline es comprender, interpretar, comparar y visualizar distintos aspectos de sus planes Surf y Ultimate a través de varias herramientas del análisis de datos. \n",
    "Primero limpiaremos los dataframes que nos proporcionó el cliente, los cuales contienen datos como los usuarios, sus planes respectivos, llamadas, mensajes, minutos e internet para que así podamos proceder con reponder las preguntas del cliente. Se revisará desde los ingresos generados por plan, el promedio de llamdas, la distribución de los mensajes e internet. La representación de estos datos se harán a través de varias herramientas de visualización de datos, las cuales ayudarán a que el cliente tenga una presentación clara de los datos de cada rubro de los planes. Por último, se usarán breves prubas de estadísticas para corroborar hipótesis sobre la diferencia de ingresos entre los planes surf y ultimate. \n"
   ]
  },
  {
   "cell_type": "markdown",
   "metadata": {
    "id": "MQi4IPy70q0y"
   },
   "source": [
    "## Inicialización"
   ]
  },
  {
   "cell_type": "code",
   "execution_count": 1,
   "metadata": {
    "id": "MtYIuBxu0q0z",
    "trusted": false
   },
   "outputs": [],
   "source": [
    "# Cargar todas las librerías\n",
    "import pandas as pd\n",
    "import numpy as np \n",
    "from matplotlib import pyplot as plt\n",
    "from scipy import stats as st\n",
    "import seaborn as sns"
   ]
  },
  {
   "cell_type": "markdown",
   "metadata": {
    "id": "4ysWWC5i0q00"
   },
   "source": [
    "## Cargar datos"
   ]
  },
  {
   "cell_type": "code",
   "execution_count": 2,
   "metadata": {
    "id": "CCqPW7rS0q01",
    "trusted": false
   },
   "outputs": [],
   "source": [
    "# Carga los archivos de datos en diferentes DataFrames\n",
    "calls = pd.read_csv(\"/datasets/megaline_calls.csv\")\n",
    "internet = pd.read_csv(\"/datasets/megaline_internet.csv\")\n",
    "messages = pd.read_csv(\"/datasets/megaline_messages.csv\")\n",
    "plans = pd.read_csv(\"/datasets/megaline_plans.csv\")\n",
    "users = pd.read_csv(\"/datasets/megaline_users.csv\")"
   ]
  },
  {
   "cell_type": "markdown",
   "metadata": {
    "id": "69qqoJ3r0q01"
   },
   "source": [
    "## Preparar los datos"
   ]
  },
  {
   "cell_type": "markdown",
   "metadata": {
    "id": "ohBhimvH0q01"
   },
   "source": [
    "## Tarifas"
   ]
  },
  {
   "cell_type": "code",
   "execution_count": 3,
   "metadata": {
    "id": "GptqP3Q40q02",
    "trusted": false
   },
   "outputs": [
    {
     "name": "stdout",
     "output_type": "stream",
     "text": [
      "<class 'pandas.core.frame.DataFrame'>\n",
      "RangeIndex: 2 entries, 0 to 1\n",
      "Data columns (total 8 columns):\n",
      " #   Column                 Non-Null Count  Dtype  \n",
      "---  ------                 --------------  -----  \n",
      " 0   messages_included      2 non-null      int64  \n",
      " 1   mb_per_month_included  2 non-null      int64  \n",
      " 2   minutes_included       2 non-null      int64  \n",
      " 3   usd_monthly_pay        2 non-null      int64  \n",
      " 4   usd_per_gb             2 non-null      int64  \n",
      " 5   usd_per_message        2 non-null      float64\n",
      " 6   usd_per_minute         2 non-null      float64\n",
      " 7   plan_name              2 non-null      object \n",
      "dtypes: float64(2), int64(5), object(1)\n",
      "memory usage: 256.0+ bytes\n"
     ]
    }
   ],
   "source": [
    "# Imprime la información general/resumida sobre el DataFrame de las tarifas\n",
    "plans.info()"
   ]
  },
  {
   "cell_type": "code",
   "execution_count": 4,
   "metadata": {
    "id": "64xzjwL70q02",
    "trusted": false
   },
   "outputs": [
    {
     "data": {
      "text/html": [
       "<div>\n",
       "<style scoped>\n",
       "    .dataframe tbody tr th:only-of-type {\n",
       "        vertical-align: middle;\n",
       "    }\n",
       "\n",
       "    .dataframe tbody tr th {\n",
       "        vertical-align: top;\n",
       "    }\n",
       "\n",
       "    .dataframe thead th {\n",
       "        text-align: right;\n",
       "    }\n",
       "</style>\n",
       "<table border=\"1\" class=\"dataframe\">\n",
       "  <thead>\n",
       "    <tr style=\"text-align: right;\">\n",
       "      <th></th>\n",
       "      <th>messages_included</th>\n",
       "      <th>mb_per_month_included</th>\n",
       "      <th>minutes_included</th>\n",
       "      <th>usd_monthly_pay</th>\n",
       "      <th>usd_per_gb</th>\n",
       "      <th>usd_per_message</th>\n",
       "      <th>usd_per_minute</th>\n",
       "      <th>plan_name</th>\n",
       "    </tr>\n",
       "  </thead>\n",
       "  <tbody>\n",
       "    <tr>\n",
       "      <th>0</th>\n",
       "      <td>50</td>\n",
       "      <td>15360</td>\n",
       "      <td>500</td>\n",
       "      <td>20</td>\n",
       "      <td>10</td>\n",
       "      <td>0.03</td>\n",
       "      <td>0.03</td>\n",
       "      <td>surf</td>\n",
       "    </tr>\n",
       "    <tr>\n",
       "      <th>1</th>\n",
       "      <td>1000</td>\n",
       "      <td>30720</td>\n",
       "      <td>3000</td>\n",
       "      <td>70</td>\n",
       "      <td>7</td>\n",
       "      <td>0.01</td>\n",
       "      <td>0.01</td>\n",
       "      <td>ultimate</td>\n",
       "    </tr>\n",
       "  </tbody>\n",
       "</table>\n",
       "</div>"
      ],
      "text/plain": [
       "   messages_included  mb_per_month_included  minutes_included  \\\n",
       "0                 50                  15360               500   \n",
       "1               1000                  30720              3000   \n",
       "\n",
       "   usd_monthly_pay  usd_per_gb  usd_per_message  usd_per_minute plan_name  \n",
       "0               20          10             0.03            0.03      surf  \n",
       "1               70           7             0.01            0.01  ultimate  "
      ]
     },
     "execution_count": 4,
     "metadata": {},
     "output_type": "execute_result"
    }
   ],
   "source": [
    "# Imprime una muestra de los datos para las tarifas\n",
    "plans"
   ]
  },
  {
   "cell_type": "markdown",
   "metadata": {
    "id": "mEc_3_hs0q02"
   },
   "source": [
    "El contenido y tipo de datos que la tabla plans son correctos en cuanto a la información proporcionada por el cliente. Sin embargo, se puede cambiar la columna de plan_name a la posición cero para una visualización más clara, así como también agregar el rubro de GB por mes para que complemente la información de cada plan. "
   ]
  },
  {
   "cell_type": "markdown",
   "metadata": {
    "id": "R3C05i1l0q03"
   },
   "source": [
    "## Corregir datos"
   ]
  },
  {
   "cell_type": "code",
   "execution_count": 5,
   "metadata": {
    "trusted": false
   },
   "outputs": [
    {
     "data": {
      "text/html": [
       "<div>\n",
       "<style scoped>\n",
       "    .dataframe tbody tr th:only-of-type {\n",
       "        vertical-align: middle;\n",
       "    }\n",
       "\n",
       "    .dataframe tbody tr th {\n",
       "        vertical-align: top;\n",
       "    }\n",
       "\n",
       "    .dataframe thead th {\n",
       "        text-align: right;\n",
       "    }\n",
       "</style>\n",
       "<table border=\"1\" class=\"dataframe\">\n",
       "  <thead>\n",
       "    <tr style=\"text-align: right;\">\n",
       "      <th></th>\n",
       "      <th>plan_name</th>\n",
       "      <th>messages_included</th>\n",
       "      <th>mb_per_month_included</th>\n",
       "      <th>minutes_included</th>\n",
       "      <th>usd_monthly_pay</th>\n",
       "      <th>usd_per_gb</th>\n",
       "      <th>usd_per_message</th>\n",
       "      <th>usd_per_minute</th>\n",
       "    </tr>\n",
       "  </thead>\n",
       "  <tbody>\n",
       "    <tr>\n",
       "      <th>0</th>\n",
       "      <td>surf</td>\n",
       "      <td>50</td>\n",
       "      <td>15360</td>\n",
       "      <td>500</td>\n",
       "      <td>20</td>\n",
       "      <td>10</td>\n",
       "      <td>0.03</td>\n",
       "      <td>0.03</td>\n",
       "    </tr>\n",
       "    <tr>\n",
       "      <th>1</th>\n",
       "      <td>ultimate</td>\n",
       "      <td>1000</td>\n",
       "      <td>30720</td>\n",
       "      <td>3000</td>\n",
       "      <td>70</td>\n",
       "      <td>7</td>\n",
       "      <td>0.01</td>\n",
       "      <td>0.01</td>\n",
       "    </tr>\n",
       "  </tbody>\n",
       "</table>\n",
       "</div>"
      ],
      "text/plain": [
       "  plan_name  messages_included  mb_per_month_included  minutes_included  \\\n",
       "0      surf                 50                  15360               500   \n",
       "1  ultimate               1000                  30720              3000   \n",
       "\n",
       "   usd_monthly_pay  usd_per_gb  usd_per_message  usd_per_minute  \n",
       "0               20          10             0.03            0.03  \n",
       "1               70           7             0.01            0.01  "
      ]
     },
     "execution_count": 5,
     "metadata": {},
     "output_type": "execute_result"
    }
   ],
   "source": [
    "plans.insert(0,\"plan_name\", plans.pop(\"plan_name\"))\n",
    "plans"
   ]
  },
  {
   "cell_type": "markdown",
   "metadata": {
    "id": "LJir7bml0q03"
   },
   "source": [
    "## Enriquecer los datos"
   ]
  },
  {
   "cell_type": "code",
   "execution_count": 6,
   "metadata": {
    "trusted": false
   },
   "outputs": [],
   "source": [
    "plans[\"gb_per_month_included\"] = plans[\"mb_per_month_included\"]/1024\n",
    "plans.insert(3,\"gb_per_month_included\", plans.pop(\"gb_per_month_included\"))"
   ]
  },
  {
   "cell_type": "code",
   "execution_count": 7,
   "metadata": {
    "scrolled": true,
    "trusted": false
   },
   "outputs": [
    {
     "data": {
      "text/html": [
       "<div>\n",
       "<style scoped>\n",
       "    .dataframe tbody tr th:only-of-type {\n",
       "        vertical-align: middle;\n",
       "    }\n",
       "\n",
       "    .dataframe tbody tr th {\n",
       "        vertical-align: top;\n",
       "    }\n",
       "\n",
       "    .dataframe thead th {\n",
       "        text-align: right;\n",
       "    }\n",
       "</style>\n",
       "<table border=\"1\" class=\"dataframe\">\n",
       "  <thead>\n",
       "    <tr style=\"text-align: right;\">\n",
       "      <th></th>\n",
       "      <th>plan_name</th>\n",
       "      <th>messages_included</th>\n",
       "      <th>mb_per_month_included</th>\n",
       "      <th>gb_per_month_included</th>\n",
       "      <th>minutes_included</th>\n",
       "      <th>usd_monthly_pay</th>\n",
       "      <th>usd_per_gb</th>\n",
       "      <th>usd_per_message</th>\n",
       "      <th>usd_per_minute</th>\n",
       "    </tr>\n",
       "  </thead>\n",
       "  <tbody>\n",
       "    <tr>\n",
       "      <th>0</th>\n",
       "      <td>surf</td>\n",
       "      <td>50</td>\n",
       "      <td>15360</td>\n",
       "      <td>15.0</td>\n",
       "      <td>500</td>\n",
       "      <td>20</td>\n",
       "      <td>10</td>\n",
       "      <td>0.03</td>\n",
       "      <td>0.03</td>\n",
       "    </tr>\n",
       "    <tr>\n",
       "      <th>1</th>\n",
       "      <td>ultimate</td>\n",
       "      <td>1000</td>\n",
       "      <td>30720</td>\n",
       "      <td>30.0</td>\n",
       "      <td>3000</td>\n",
       "      <td>70</td>\n",
       "      <td>7</td>\n",
       "      <td>0.01</td>\n",
       "      <td>0.01</td>\n",
       "    </tr>\n",
       "  </tbody>\n",
       "</table>\n",
       "</div>"
      ],
      "text/plain": [
       "  plan_name  messages_included  mb_per_month_included  gb_per_month_included  \\\n",
       "0      surf                 50                  15360                   15.0   \n",
       "1  ultimate               1000                  30720                   30.0   \n",
       "\n",
       "   minutes_included  usd_monthly_pay  usd_per_gb  usd_per_message  \\\n",
       "0               500               20          10             0.03   \n",
       "1              3000               70           7             0.01   \n",
       "\n",
       "   usd_per_minute  \n",
       "0            0.03  \n",
       "1            0.01  "
      ]
     },
     "execution_count": 7,
     "metadata": {},
     "output_type": "execute_result"
    }
   ],
   "source": [
    "plans"
   ]
  },
  {
   "cell_type": "markdown",
   "metadata": {
    "id": "1n2X6WXf0q04"
   },
   "source": [
    "## Usuarios/as"
   ]
  },
  {
   "cell_type": "code",
   "execution_count": 8,
   "metadata": {
    "id": "2NgjWFqx0q05",
    "trusted": false
   },
   "outputs": [
    {
     "name": "stdout",
     "output_type": "stream",
     "text": [
      "<class 'pandas.core.frame.DataFrame'>\n",
      "RangeIndex: 500 entries, 0 to 499\n",
      "Data columns (total 8 columns):\n",
      " #   Column      Non-Null Count  Dtype \n",
      "---  ------      --------------  ----- \n",
      " 0   user_id     500 non-null    int64 \n",
      " 1   first_name  500 non-null    object\n",
      " 2   last_name   500 non-null    object\n",
      " 3   age         500 non-null    int64 \n",
      " 4   city        500 non-null    object\n",
      " 5   reg_date    500 non-null    object\n",
      " 6   plan        500 non-null    object\n",
      " 7   churn_date  34 non-null     object\n",
      "dtypes: int64(2), object(6)\n",
      "memory usage: 31.4+ KB\n"
     ]
    }
   ],
   "source": [
    "# Imprime la información general/resumida sobre el DataFrame de usuarios\n",
    "users.info()"
   ]
  },
  {
   "cell_type": "code",
   "execution_count": 9,
   "metadata": {
    "id": "1IN1L9uh0q05",
    "trusted": false
   },
   "outputs": [
    {
     "data": {
      "text/html": [
       "<div>\n",
       "<style scoped>\n",
       "    .dataframe tbody tr th:only-of-type {\n",
       "        vertical-align: middle;\n",
       "    }\n",
       "\n",
       "    .dataframe tbody tr th {\n",
       "        vertical-align: top;\n",
       "    }\n",
       "\n",
       "    .dataframe thead th {\n",
       "        text-align: right;\n",
       "    }\n",
       "</style>\n",
       "<table border=\"1\" class=\"dataframe\">\n",
       "  <thead>\n",
       "    <tr style=\"text-align: right;\">\n",
       "      <th></th>\n",
       "      <th>user_id</th>\n",
       "      <th>first_name</th>\n",
       "      <th>last_name</th>\n",
       "      <th>age</th>\n",
       "      <th>city</th>\n",
       "      <th>reg_date</th>\n",
       "      <th>plan</th>\n",
       "      <th>churn_date</th>\n",
       "    </tr>\n",
       "  </thead>\n",
       "  <tbody>\n",
       "    <tr>\n",
       "      <th>182</th>\n",
       "      <td>1182</td>\n",
       "      <td>Jeff</td>\n",
       "      <td>Burt</td>\n",
       "      <td>39</td>\n",
       "      <td>Charlotte-Concord-Gastonia, NC-SC MSA</td>\n",
       "      <td>2018-05-29</td>\n",
       "      <td>surf</td>\n",
       "      <td>NaN</td>\n",
       "    </tr>\n",
       "    <tr>\n",
       "      <th>71</th>\n",
       "      <td>1071</td>\n",
       "      <td>Isa</td>\n",
       "      <td>Roy</td>\n",
       "      <td>29</td>\n",
       "      <td>New York-Newark-Jersey City, NY-NJ-PA MSA</td>\n",
       "      <td>2018-05-23</td>\n",
       "      <td>surf</td>\n",
       "      <td>NaN</td>\n",
       "    </tr>\n",
       "    <tr>\n",
       "      <th>327</th>\n",
       "      <td>1327</td>\n",
       "      <td>Natosha</td>\n",
       "      <td>Peck</td>\n",
       "      <td>20</td>\n",
       "      <td>New York-Newark-Jersey City, NY-NJ-PA MSA</td>\n",
       "      <td>2018-02-17</td>\n",
       "      <td>surf</td>\n",
       "      <td>NaN</td>\n",
       "    </tr>\n",
       "    <tr>\n",
       "      <th>106</th>\n",
       "      <td>1106</td>\n",
       "      <td>Eddy</td>\n",
       "      <td>Garrison</td>\n",
       "      <td>47</td>\n",
       "      <td>New York-Newark-Jersey City, NY-NJ-PA MSA</td>\n",
       "      <td>2018-05-10</td>\n",
       "      <td>surf</td>\n",
       "      <td>2018-11-14</td>\n",
       "    </tr>\n",
       "    <tr>\n",
       "      <th>156</th>\n",
       "      <td>1156</td>\n",
       "      <td>Anette</td>\n",
       "      <td>Chambers</td>\n",
       "      <td>71</td>\n",
       "      <td>Albuquerque, NM MSA</td>\n",
       "      <td>2018-03-25</td>\n",
       "      <td>surf</td>\n",
       "      <td>NaN</td>\n",
       "    </tr>\n",
       "    <tr>\n",
       "      <th>379</th>\n",
       "      <td>1379</td>\n",
       "      <td>Jarrett</td>\n",
       "      <td>Spencer</td>\n",
       "      <td>34</td>\n",
       "      <td>Grand Rapids-Kentwood, MI MSA</td>\n",
       "      <td>2018-10-18</td>\n",
       "      <td>surf</td>\n",
       "      <td>NaN</td>\n",
       "    </tr>\n",
       "    <tr>\n",
       "      <th>422</th>\n",
       "      <td>1422</td>\n",
       "      <td>Georgianne</td>\n",
       "      <td>Huff</td>\n",
       "      <td>41</td>\n",
       "      <td>Los Angeles-Long Beach-Anaheim, CA MSA</td>\n",
       "      <td>2018-04-03</td>\n",
       "      <td>ultimate</td>\n",
       "      <td>NaN</td>\n",
       "    </tr>\n",
       "    <tr>\n",
       "      <th>278</th>\n",
       "      <td>1278</td>\n",
       "      <td>Masako</td>\n",
       "      <td>Montgomery</td>\n",
       "      <td>39</td>\n",
       "      <td>Dayton-Kettering, OH MSA</td>\n",
       "      <td>2018-11-03</td>\n",
       "      <td>surf</td>\n",
       "      <td>NaN</td>\n",
       "    </tr>\n",
       "    <tr>\n",
       "      <th>491</th>\n",
       "      <td>1491</td>\n",
       "      <td>Terina</td>\n",
       "      <td>Jensen</td>\n",
       "      <td>22</td>\n",
       "      <td>Grand Rapids-Kentwood, MI MSA</td>\n",
       "      <td>2018-04-27</td>\n",
       "      <td>surf</td>\n",
       "      <td>2018-09-18</td>\n",
       "    </tr>\n",
       "    <tr>\n",
       "      <th>476</th>\n",
       "      <td>1476</td>\n",
       "      <td>Tammara</td>\n",
       "      <td>Dorsey</td>\n",
       "      <td>24</td>\n",
       "      <td>Los Angeles-Long Beach-Anaheim, CA MSA</td>\n",
       "      <td>2018-06-10</td>\n",
       "      <td>ultimate</td>\n",
       "      <td>NaN</td>\n",
       "    </tr>\n",
       "    <tr>\n",
       "      <th>421</th>\n",
       "      <td>1421</td>\n",
       "      <td>Zane</td>\n",
       "      <td>Hobbs</td>\n",
       "      <td>26</td>\n",
       "      <td>Phoenix-Mesa-Chandler, AZ MSA</td>\n",
       "      <td>2018-05-18</td>\n",
       "      <td>surf</td>\n",
       "      <td>NaN</td>\n",
       "    </tr>\n",
       "    <tr>\n",
       "      <th>221</th>\n",
       "      <td>1221</td>\n",
       "      <td>Mckenzie</td>\n",
       "      <td>Wilkinson</td>\n",
       "      <td>18</td>\n",
       "      <td>Boston-Cambridge-Newton, MA-NH MSA</td>\n",
       "      <td>2018-12-17</td>\n",
       "      <td>surf</td>\n",
       "      <td>NaN</td>\n",
       "    </tr>\n",
       "    <tr>\n",
       "      <th>466</th>\n",
       "      <td>1466</td>\n",
       "      <td>Alphonse</td>\n",
       "      <td>Harmon</td>\n",
       "      <td>56</td>\n",
       "      <td>Los Angeles-Long Beach-Anaheim, CA MSA</td>\n",
       "      <td>2018-01-26</td>\n",
       "      <td>surf</td>\n",
       "      <td>2018-09-17</td>\n",
       "    </tr>\n",
       "    <tr>\n",
       "      <th>153</th>\n",
       "      <td>1153</td>\n",
       "      <td>Kathaleen</td>\n",
       "      <td>Crawford</td>\n",
       "      <td>30</td>\n",
       "      <td>Bridgeport-Stamford-Norwalk, CT MSA</td>\n",
       "      <td>2018-06-19</td>\n",
       "      <td>surf</td>\n",
       "      <td>NaN</td>\n",
       "    </tr>\n",
       "    <tr>\n",
       "      <th>93</th>\n",
       "      <td>1093</td>\n",
       "      <td>Karima</td>\n",
       "      <td>Hampton</td>\n",
       "      <td>69</td>\n",
       "      <td>Nashville-Davidson–Murfreesboro–Franklin, TN MSA</td>\n",
       "      <td>2018-12-17</td>\n",
       "      <td>surf</td>\n",
       "      <td>NaN</td>\n",
       "    </tr>\n",
       "  </tbody>\n",
       "</table>\n",
       "</div>"
      ],
      "text/plain": [
       "     user_id  first_name   last_name  age  \\\n",
       "182     1182        Jeff        Burt   39   \n",
       "71      1071         Isa         Roy   29   \n",
       "327     1327     Natosha        Peck   20   \n",
       "106     1106        Eddy    Garrison   47   \n",
       "156     1156      Anette    Chambers   71   \n",
       "379     1379     Jarrett     Spencer   34   \n",
       "422     1422  Georgianne        Huff   41   \n",
       "278     1278      Masako  Montgomery   39   \n",
       "491     1491      Terina      Jensen   22   \n",
       "476     1476     Tammara      Dorsey   24   \n",
       "421     1421        Zane       Hobbs   26   \n",
       "221     1221    Mckenzie   Wilkinson   18   \n",
       "466     1466    Alphonse      Harmon   56   \n",
       "153     1153   Kathaleen    Crawford   30   \n",
       "93      1093      Karima     Hampton   69   \n",
       "\n",
       "                                                 city    reg_date      plan  \\\n",
       "182             Charlotte-Concord-Gastonia, NC-SC MSA  2018-05-29      surf   \n",
       "71          New York-Newark-Jersey City, NY-NJ-PA MSA  2018-05-23      surf   \n",
       "327         New York-Newark-Jersey City, NY-NJ-PA MSA  2018-02-17      surf   \n",
       "106         New York-Newark-Jersey City, NY-NJ-PA MSA  2018-05-10      surf   \n",
       "156                               Albuquerque, NM MSA  2018-03-25      surf   \n",
       "379                     Grand Rapids-Kentwood, MI MSA  2018-10-18      surf   \n",
       "422            Los Angeles-Long Beach-Anaheim, CA MSA  2018-04-03  ultimate   \n",
       "278                          Dayton-Kettering, OH MSA  2018-11-03      surf   \n",
       "491                     Grand Rapids-Kentwood, MI MSA  2018-04-27      surf   \n",
       "476            Los Angeles-Long Beach-Anaheim, CA MSA  2018-06-10  ultimate   \n",
       "421                     Phoenix-Mesa-Chandler, AZ MSA  2018-05-18      surf   \n",
       "221                Boston-Cambridge-Newton, MA-NH MSA  2018-12-17      surf   \n",
       "466            Los Angeles-Long Beach-Anaheim, CA MSA  2018-01-26      surf   \n",
       "153               Bridgeport-Stamford-Norwalk, CT MSA  2018-06-19      surf   \n",
       "93   Nashville-Davidson–Murfreesboro–Franklin, TN MSA  2018-12-17      surf   \n",
       "\n",
       "     churn_date  \n",
       "182         NaN  \n",
       "71          NaN  \n",
       "327         NaN  \n",
       "106  2018-11-14  \n",
       "156         NaN  \n",
       "379         NaN  \n",
       "422         NaN  \n",
       "278         NaN  \n",
       "491  2018-09-18  \n",
       "476         NaN  \n",
       "421         NaN  \n",
       "221         NaN  \n",
       "466  2018-09-17  \n",
       "153         NaN  \n",
       "93          NaN  "
      ]
     },
     "execution_count": 9,
     "metadata": {},
     "output_type": "execute_result"
    }
   ],
   "source": [
    "# Imprime una muestra de datos para usuarios\n",
    "users.sample(15)"
   ]
  },
  {
   "cell_type": "markdown",
   "metadata": {
    "id": "dCZoUq4f0q06"
   },
   "source": [
    "Algunas columnas tienen tipos de datos que pueden ser cambiados para facilitar el análisis. Por ejemplo, user_id sería mejor si se cambia al tipo object. La columna churn_date tiene datos ausentes, los cuales pueden ser llenados con la fecha actual, ya que el cliente confirmó que se tratan de los usuarios que aún están activos. Ya que se llenaron los datos ausentes, podemos cambiar el tipo de dato de churn_date a datetime. Finalmente podemos remover de la columan city la palabra \"MSA\" que se encuentra al final de cada ciudad. Esta palabra significa \"Metropolitan Statistical Area\", pero no es significtiva para el análisis. \n",
    "Para enriquecer los datos se creo una columna nueva llamada state para que se pueda analizar una prueba de hipótesis al final del proyecto. "
   ]
  },
  {
   "cell_type": "markdown",
   "metadata": {
    "id": "BX5FQh_I0q06"
   },
   "source": [
    "### Corregir los datos"
   ]
  },
  {
   "cell_type": "markdown",
   "metadata": {
    "id": "8OdKMwJv0q06"
   },
   "source": [
    "[Corrige los problemas obvios con los datos basándote en las observaciones iniciales.]"
   ]
  },
  {
   "cell_type": "code",
   "execution_count": 10,
   "metadata": {
    "id": "yUqX-K0C0q07",
    "trusted": false
   },
   "outputs": [],
   "source": [
    "users[\"user_id\"] = users[\"user_id\"].astype(object)"
   ]
  },
  {
   "cell_type": "code",
   "execution_count": 11,
   "metadata": {
    "trusted": false
   },
   "outputs": [
    {
     "name": "stdout",
     "output_type": "stream",
     "text": [
      "<class 'pandas.core.frame.DataFrame'>\n",
      "RangeIndex: 500 entries, 0 to 499\n",
      "Data columns (total 8 columns):\n",
      " #   Column      Non-Null Count  Dtype \n",
      "---  ------      --------------  ----- \n",
      " 0   user_id     500 non-null    object\n",
      " 1   first_name  500 non-null    object\n",
      " 2   last_name   500 non-null    object\n",
      " 3   age         500 non-null    int64 \n",
      " 4   city        500 non-null    object\n",
      " 5   reg_date    500 non-null    object\n",
      " 6   plan        500 non-null    object\n",
      " 7   churn_date  34 non-null     object\n",
      "dtypes: int64(1), object(7)\n",
      "memory usage: 31.4+ KB\n"
     ]
    }
   ],
   "source": [
    "users.info()"
   ]
  },
  {
   "cell_type": "code",
   "execution_count": 12,
   "metadata": {
    "trusted": false
   },
   "outputs": [
    {
     "name": "stdout",
     "output_type": "stream",
     "text": [
      "<class 'pandas.core.frame.DataFrame'>\n",
      "RangeIndex: 500 entries, 0 to 499\n",
      "Data columns (total 8 columns):\n",
      " #   Column      Non-Null Count  Dtype         \n",
      "---  ------      --------------  -----         \n",
      " 0   user_id     500 non-null    object        \n",
      " 1   first_name  500 non-null    object        \n",
      " 2   last_name   500 non-null    object        \n",
      " 3   age         500 non-null    int64         \n",
      " 4   city        500 non-null    object        \n",
      " 5   reg_date    500 non-null    object        \n",
      " 6   plan        500 non-null    object        \n",
      " 7   churn_date  500 non-null    datetime64[ns]\n",
      "dtypes: datetime64[ns](1), int64(1), object(6)\n",
      "memory usage: 31.4+ KB\n"
     ]
    }
   ],
   "source": [
    "users[\"churn_date\"] = pd.to_datetime(users[\"churn_date\"], errors=\"coerce\")\n",
    "users[\"churn_date\"] = users[\"churn_date\"].fillna(pd.to_datetime(\"today\"))\n",
    "users[\"churn_date\"] = users[\"churn_date\"].dt.date\n",
    "users[\"churn_date\"] = pd.to_datetime(users[\"churn_date\"])\n",
    "users.info()"
   ]
  },
  {
   "cell_type": "code",
   "execution_count": 13,
   "metadata": {
    "trusted": false
   },
   "outputs": [],
   "source": [
    "users[\"city\"] = users[\"city\"].str.replace(\"MSA\", \"\", regex=False)"
   ]
  },
  {
   "cell_type": "code",
   "execution_count": 14,
   "metadata": {
    "trusted": false
   },
   "outputs": [
    {
     "data": {
      "text/html": [
       "<div>\n",
       "<style scoped>\n",
       "    .dataframe tbody tr th:only-of-type {\n",
       "        vertical-align: middle;\n",
       "    }\n",
       "\n",
       "    .dataframe tbody tr th {\n",
       "        vertical-align: top;\n",
       "    }\n",
       "\n",
       "    .dataframe thead th {\n",
       "        text-align: right;\n",
       "    }\n",
       "</style>\n",
       "<table border=\"1\" class=\"dataframe\">\n",
       "  <thead>\n",
       "    <tr style=\"text-align: right;\">\n",
       "      <th></th>\n",
       "      <th>user_id</th>\n",
       "      <th>first_name</th>\n",
       "      <th>last_name</th>\n",
       "      <th>age</th>\n",
       "      <th>city</th>\n",
       "      <th>reg_date</th>\n",
       "      <th>plan</th>\n",
       "      <th>churn_date</th>\n",
       "    </tr>\n",
       "  </thead>\n",
       "  <tbody>\n",
       "    <tr>\n",
       "      <th>320</th>\n",
       "      <td>1320</td>\n",
       "      <td>Bert</td>\n",
       "      <td>Wells</td>\n",
       "      <td>23</td>\n",
       "      <td>Los Angeles-Long Beach-Anaheim, CA</td>\n",
       "      <td>2018-02-23</td>\n",
       "      <td>surf</td>\n",
       "      <td>2024-12-27</td>\n",
       "    </tr>\n",
       "    <tr>\n",
       "      <th>143</th>\n",
       "      <td>1143</td>\n",
       "      <td>Lorina</td>\n",
       "      <td>Stevens</td>\n",
       "      <td>69</td>\n",
       "      <td>Cincinnati, OH-KY-IN</td>\n",
       "      <td>2018-10-26</td>\n",
       "      <td>surf</td>\n",
       "      <td>2024-12-27</td>\n",
       "    </tr>\n",
       "    <tr>\n",
       "      <th>131</th>\n",
       "      <td>1131</td>\n",
       "      <td>Shane</td>\n",
       "      <td>Morrison</td>\n",
       "      <td>60</td>\n",
       "      <td>Los Angeles-Long Beach-Anaheim, CA</td>\n",
       "      <td>2018-01-07</td>\n",
       "      <td>surf</td>\n",
       "      <td>2024-12-27</td>\n",
       "    </tr>\n",
       "    <tr>\n",
       "      <th>236</th>\n",
       "      <td>1236</td>\n",
       "      <td>Odell</td>\n",
       "      <td>Juarez</td>\n",
       "      <td>74</td>\n",
       "      <td>Minneapolis-St. Paul-Bloomington, MN-WI</td>\n",
       "      <td>2018-04-04</td>\n",
       "      <td>ultimate</td>\n",
       "      <td>2024-12-27</td>\n",
       "    </tr>\n",
       "    <tr>\n",
       "      <th>420</th>\n",
       "      <td>1420</td>\n",
       "      <td>Season</td>\n",
       "      <td>Hardy</td>\n",
       "      <td>27</td>\n",
       "      <td>San Francisco-Oakland-Berkeley, CA</td>\n",
       "      <td>2018-02-22</td>\n",
       "      <td>ultimate</td>\n",
       "      <td>2024-12-27</td>\n",
       "    </tr>\n",
       "    <tr>\n",
       "      <th>348</th>\n",
       "      <td>1348</td>\n",
       "      <td>Carl</td>\n",
       "      <td>Rutledge</td>\n",
       "      <td>60</td>\n",
       "      <td>Detroit-Warren-Dearborn, MI</td>\n",
       "      <td>2018-10-05</td>\n",
       "      <td>surf</td>\n",
       "      <td>2024-12-27</td>\n",
       "    </tr>\n",
       "    <tr>\n",
       "      <th>497</th>\n",
       "      <td>1497</td>\n",
       "      <td>Donte</td>\n",
       "      <td>Barrera</td>\n",
       "      <td>49</td>\n",
       "      <td>Los Angeles-Long Beach-Anaheim, CA</td>\n",
       "      <td>2018-12-10</td>\n",
       "      <td>ultimate</td>\n",
       "      <td>2024-12-27</td>\n",
       "    </tr>\n",
       "    <tr>\n",
       "      <th>457</th>\n",
       "      <td>1457</td>\n",
       "      <td>Janean</td>\n",
       "      <td>Lynch</td>\n",
       "      <td>47</td>\n",
       "      <td>New York-Newark-Jersey City, NY-NJ-PA</td>\n",
       "      <td>2018-02-17</td>\n",
       "      <td>surf</td>\n",
       "      <td>2024-12-27</td>\n",
       "    </tr>\n",
       "    <tr>\n",
       "      <th>312</th>\n",
       "      <td>1312</td>\n",
       "      <td>Kory</td>\n",
       "      <td>Emerson</td>\n",
       "      <td>42</td>\n",
       "      <td>Fresno, CA</td>\n",
       "      <td>2018-01-26</td>\n",
       "      <td>surf</td>\n",
       "      <td>2024-12-27</td>\n",
       "    </tr>\n",
       "    <tr>\n",
       "      <th>185</th>\n",
       "      <td>1185</td>\n",
       "      <td>Loria</td>\n",
       "      <td>Freeman</td>\n",
       "      <td>47</td>\n",
       "      <td>Louisville/Jefferson County, KY-IN</td>\n",
       "      <td>2018-01-14</td>\n",
       "      <td>ultimate</td>\n",
       "      <td>2024-12-27</td>\n",
       "    </tr>\n",
       "    <tr>\n",
       "      <th>383</th>\n",
       "      <td>1383</td>\n",
       "      <td>Margarito</td>\n",
       "      <td>Mccoy</td>\n",
       "      <td>52</td>\n",
       "      <td>Tampa-St. Petersburg-Clearwater, FL</td>\n",
       "      <td>2018-10-10</td>\n",
       "      <td>ultimate</td>\n",
       "      <td>2024-12-27</td>\n",
       "    </tr>\n",
       "    <tr>\n",
       "      <th>440</th>\n",
       "      <td>1440</td>\n",
       "      <td>France</td>\n",
       "      <td>Barrett</td>\n",
       "      <td>49</td>\n",
       "      <td>Nashville-Davidson–Murfreesboro–Franklin, TN</td>\n",
       "      <td>2018-04-16</td>\n",
       "      <td>surf</td>\n",
       "      <td>2024-12-27</td>\n",
       "    </tr>\n",
       "    <tr>\n",
       "      <th>140</th>\n",
       "      <td>1140</td>\n",
       "      <td>Randolph</td>\n",
       "      <td>Graves</td>\n",
       "      <td>53</td>\n",
       "      <td>New York-Newark-Jersey City, NY-NJ-PA</td>\n",
       "      <td>2018-03-26</td>\n",
       "      <td>surf</td>\n",
       "      <td>2024-12-27</td>\n",
       "    </tr>\n",
       "    <tr>\n",
       "      <th>118</th>\n",
       "      <td>1118</td>\n",
       "      <td>Deane</td>\n",
       "      <td>Ramirez</td>\n",
       "      <td>28</td>\n",
       "      <td>Columbus, OH</td>\n",
       "      <td>2018-12-08</td>\n",
       "      <td>surf</td>\n",
       "      <td>2024-12-27</td>\n",
       "    </tr>\n",
       "    <tr>\n",
       "      <th>337</th>\n",
       "      <td>1337</td>\n",
       "      <td>Lucius</td>\n",
       "      <td>Arnold</td>\n",
       "      <td>31</td>\n",
       "      <td>Riverside-San Bernardino-Ontario, CA</td>\n",
       "      <td>2018-03-11</td>\n",
       "      <td>surf</td>\n",
       "      <td>2024-12-27</td>\n",
       "    </tr>\n",
       "  </tbody>\n",
       "</table>\n",
       "</div>"
      ],
      "text/plain": [
       "    user_id first_name last_name  age  \\\n",
       "320    1320       Bert     Wells   23   \n",
       "143    1143     Lorina   Stevens   69   \n",
       "131    1131      Shane  Morrison   60   \n",
       "236    1236      Odell    Juarez   74   \n",
       "420    1420     Season     Hardy   27   \n",
       "348    1348       Carl  Rutledge   60   \n",
       "497    1497      Donte   Barrera   49   \n",
       "457    1457     Janean     Lynch   47   \n",
       "312    1312       Kory   Emerson   42   \n",
       "185    1185      Loria   Freeman   47   \n",
       "383    1383  Margarito     Mccoy   52   \n",
       "440    1440     France   Barrett   49   \n",
       "140    1140   Randolph    Graves   53   \n",
       "118    1118      Deane   Ramirez   28   \n",
       "337    1337     Lucius    Arnold   31   \n",
       "\n",
       "                                              city    reg_date      plan  \\\n",
       "320            Los Angeles-Long Beach-Anaheim, CA   2018-02-23      surf   \n",
       "143                          Cincinnati, OH-KY-IN   2018-10-26      surf   \n",
       "131            Los Angeles-Long Beach-Anaheim, CA   2018-01-07      surf   \n",
       "236       Minneapolis-St. Paul-Bloomington, MN-WI   2018-04-04  ultimate   \n",
       "420            San Francisco-Oakland-Berkeley, CA   2018-02-22  ultimate   \n",
       "348                   Detroit-Warren-Dearborn, MI   2018-10-05      surf   \n",
       "497            Los Angeles-Long Beach-Anaheim, CA   2018-12-10  ultimate   \n",
       "457         New York-Newark-Jersey City, NY-NJ-PA   2018-02-17      surf   \n",
       "312                                    Fresno, CA   2018-01-26      surf   \n",
       "185            Louisville/Jefferson County, KY-IN   2018-01-14  ultimate   \n",
       "383           Tampa-St. Petersburg-Clearwater, FL   2018-10-10  ultimate   \n",
       "440  Nashville-Davidson–Murfreesboro–Franklin, TN   2018-04-16      surf   \n",
       "140         New York-Newark-Jersey City, NY-NJ-PA   2018-03-26      surf   \n",
       "118                                  Columbus, OH   2018-12-08      surf   \n",
       "337          Riverside-San Bernardino-Ontario, CA   2018-03-11      surf   \n",
       "\n",
       "    churn_date  \n",
       "320 2024-12-27  \n",
       "143 2024-12-27  \n",
       "131 2024-12-27  \n",
       "236 2024-12-27  \n",
       "420 2024-12-27  \n",
       "348 2024-12-27  \n",
       "497 2024-12-27  \n",
       "457 2024-12-27  \n",
       "312 2024-12-27  \n",
       "185 2024-12-27  \n",
       "383 2024-12-27  \n",
       "440 2024-12-27  \n",
       "140 2024-12-27  \n",
       "118 2024-12-27  \n",
       "337 2024-12-27  "
      ]
     },
     "execution_count": 14,
     "metadata": {},
     "output_type": "execute_result"
    }
   ],
   "source": [
    "users.sample(15)"
   ]
  },
  {
   "cell_type": "markdown",
   "metadata": {
    "id": "ycwuARJp0q07"
   },
   "source": [
    "### Enriquecer los datos"
   ]
  },
  {
   "cell_type": "code",
   "execution_count": 15,
   "metadata": {
    "id": "iq0AaBS90q08",
    "trusted": false
   },
   "outputs": [
    {
     "data": {
      "text/html": [
       "<div>\n",
       "<style scoped>\n",
       "    .dataframe tbody tr th:only-of-type {\n",
       "        vertical-align: middle;\n",
       "    }\n",
       "\n",
       "    .dataframe tbody tr th {\n",
       "        vertical-align: top;\n",
       "    }\n",
       "\n",
       "    .dataframe thead th {\n",
       "        text-align: right;\n",
       "    }\n",
       "</style>\n",
       "<table border=\"1\" class=\"dataframe\">\n",
       "  <thead>\n",
       "    <tr style=\"text-align: right;\">\n",
       "      <th></th>\n",
       "      <th>user_id</th>\n",
       "      <th>first_name</th>\n",
       "      <th>last_name</th>\n",
       "      <th>age</th>\n",
       "      <th>city</th>\n",
       "      <th>state</th>\n",
       "      <th>reg_date</th>\n",
       "      <th>plan</th>\n",
       "      <th>churn_date</th>\n",
       "    </tr>\n",
       "  </thead>\n",
       "  <tbody>\n",
       "    <tr>\n",
       "      <th>0</th>\n",
       "      <td>1000</td>\n",
       "      <td>Anamaria</td>\n",
       "      <td>Bauer</td>\n",
       "      <td>45</td>\n",
       "      <td>Atlanta-Sandy Springs-Roswell, GA</td>\n",
       "      <td>GA</td>\n",
       "      <td>2018-12-24</td>\n",
       "      <td>ultimate</td>\n",
       "      <td>2024-12-27</td>\n",
       "    </tr>\n",
       "    <tr>\n",
       "      <th>1</th>\n",
       "      <td>1001</td>\n",
       "      <td>Mickey</td>\n",
       "      <td>Wilkerson</td>\n",
       "      <td>28</td>\n",
       "      <td>Seattle-Tacoma-Bellevue, WA</td>\n",
       "      <td>WA</td>\n",
       "      <td>2018-08-13</td>\n",
       "      <td>surf</td>\n",
       "      <td>2024-12-27</td>\n",
       "    </tr>\n",
       "    <tr>\n",
       "      <th>2</th>\n",
       "      <td>1002</td>\n",
       "      <td>Carlee</td>\n",
       "      <td>Hoffman</td>\n",
       "      <td>36</td>\n",
       "      <td>Las Vegas-Henderson-Paradise, NV</td>\n",
       "      <td>NV</td>\n",
       "      <td>2018-10-21</td>\n",
       "      <td>surf</td>\n",
       "      <td>2024-12-27</td>\n",
       "    </tr>\n",
       "    <tr>\n",
       "      <th>3</th>\n",
       "      <td>1003</td>\n",
       "      <td>Reynaldo</td>\n",
       "      <td>Jenkins</td>\n",
       "      <td>52</td>\n",
       "      <td>Tulsa, OK</td>\n",
       "      <td>OK</td>\n",
       "      <td>2018-01-28</td>\n",
       "      <td>surf</td>\n",
       "      <td>2024-12-27</td>\n",
       "    </tr>\n",
       "    <tr>\n",
       "      <th>4</th>\n",
       "      <td>1004</td>\n",
       "      <td>Leonila</td>\n",
       "      <td>Thompson</td>\n",
       "      <td>40</td>\n",
       "      <td>Seattle-Tacoma-Bellevue, WA</td>\n",
       "      <td>WA</td>\n",
       "      <td>2018-05-23</td>\n",
       "      <td>surf</td>\n",
       "      <td>2024-12-27</td>\n",
       "    </tr>\n",
       "    <tr>\n",
       "      <th>...</th>\n",
       "      <td>...</td>\n",
       "      <td>...</td>\n",
       "      <td>...</td>\n",
       "      <td>...</td>\n",
       "      <td>...</td>\n",
       "      <td>...</td>\n",
       "      <td>...</td>\n",
       "      <td>...</td>\n",
       "      <td>...</td>\n",
       "    </tr>\n",
       "    <tr>\n",
       "      <th>495</th>\n",
       "      <td>1495</td>\n",
       "      <td>Fidel</td>\n",
       "      <td>Sharpe</td>\n",
       "      <td>67</td>\n",
       "      <td>New York-Newark-Jersey City, NY-NJ-PA</td>\n",
       "      <td>NY-NJ-PA</td>\n",
       "      <td>2018-09-04</td>\n",
       "      <td>surf</td>\n",
       "      <td>2024-12-27</td>\n",
       "    </tr>\n",
       "    <tr>\n",
       "      <th>496</th>\n",
       "      <td>1496</td>\n",
       "      <td>Ariel</td>\n",
       "      <td>Shepherd</td>\n",
       "      <td>49</td>\n",
       "      <td>New Orleans-Metairie, LA</td>\n",
       "      <td>LA</td>\n",
       "      <td>2018-02-20</td>\n",
       "      <td>surf</td>\n",
       "      <td>2024-12-27</td>\n",
       "    </tr>\n",
       "    <tr>\n",
       "      <th>497</th>\n",
       "      <td>1497</td>\n",
       "      <td>Donte</td>\n",
       "      <td>Barrera</td>\n",
       "      <td>49</td>\n",
       "      <td>Los Angeles-Long Beach-Anaheim, CA</td>\n",
       "      <td>CA</td>\n",
       "      <td>2018-12-10</td>\n",
       "      <td>ultimate</td>\n",
       "      <td>2024-12-27</td>\n",
       "    </tr>\n",
       "    <tr>\n",
       "      <th>498</th>\n",
       "      <td>1498</td>\n",
       "      <td>Scot</td>\n",
       "      <td>Williamson</td>\n",
       "      <td>51</td>\n",
       "      <td>New York-Newark-Jersey City, NY-NJ-PA</td>\n",
       "      <td>NY-NJ-PA</td>\n",
       "      <td>2018-02-04</td>\n",
       "      <td>surf</td>\n",
       "      <td>2024-12-27</td>\n",
       "    </tr>\n",
       "    <tr>\n",
       "      <th>499</th>\n",
       "      <td>1499</td>\n",
       "      <td>Shena</td>\n",
       "      <td>Dickson</td>\n",
       "      <td>37</td>\n",
       "      <td>Orlando-Kissimmee-Sanford, FL</td>\n",
       "      <td>FL</td>\n",
       "      <td>2018-05-06</td>\n",
       "      <td>surf</td>\n",
       "      <td>2024-12-27</td>\n",
       "    </tr>\n",
       "  </tbody>\n",
       "</table>\n",
       "<p>500 rows × 9 columns</p>\n",
       "</div>"
      ],
      "text/plain": [
       "    user_id first_name   last_name  age  \\\n",
       "0      1000   Anamaria       Bauer   45   \n",
       "1      1001     Mickey   Wilkerson   28   \n",
       "2      1002     Carlee     Hoffman   36   \n",
       "3      1003   Reynaldo     Jenkins   52   \n",
       "4      1004    Leonila    Thompson   40   \n",
       "..      ...        ...         ...  ...   \n",
       "495    1495      Fidel      Sharpe   67   \n",
       "496    1496      Ariel    Shepherd   49   \n",
       "497    1497      Donte     Barrera   49   \n",
       "498    1498       Scot  Williamson   51   \n",
       "499    1499      Shena     Dickson   37   \n",
       "\n",
       "                                       city     state    reg_date      plan  \\\n",
       "0        Atlanta-Sandy Springs-Roswell, GA         GA  2018-12-24  ultimate   \n",
       "1              Seattle-Tacoma-Bellevue, WA         WA  2018-08-13      surf   \n",
       "2         Las Vegas-Henderson-Paradise, NV         NV  2018-10-21      surf   \n",
       "3                                Tulsa, OK         OK  2018-01-28      surf   \n",
       "4              Seattle-Tacoma-Bellevue, WA         WA  2018-05-23      surf   \n",
       "..                                      ...       ...         ...       ...   \n",
       "495  New York-Newark-Jersey City, NY-NJ-PA   NY-NJ-PA  2018-09-04      surf   \n",
       "496               New Orleans-Metairie, LA         LA  2018-02-20      surf   \n",
       "497     Los Angeles-Long Beach-Anaheim, CA         CA  2018-12-10  ultimate   \n",
       "498  New York-Newark-Jersey City, NY-NJ-PA   NY-NJ-PA  2018-02-04      surf   \n",
       "499          Orlando-Kissimmee-Sanford, FL         FL  2018-05-06      surf   \n",
       "\n",
       "    churn_date  \n",
       "0   2024-12-27  \n",
       "1   2024-12-27  \n",
       "2   2024-12-27  \n",
       "3   2024-12-27  \n",
       "4   2024-12-27  \n",
       "..         ...  \n",
       "495 2024-12-27  \n",
       "496 2024-12-27  \n",
       "497 2024-12-27  \n",
       "498 2024-12-27  \n",
       "499 2024-12-27  \n",
       "\n",
       "[500 rows x 9 columns]"
      ]
     },
     "execution_count": 15,
     "metadata": {},
     "output_type": "execute_result"
    }
   ],
   "source": [
    "users[\"state\"] = users[\"city\"].str.split(\",\").str[1].str.strip()\n",
    "users.insert(5,\"state\", users.pop(\"state\"))\n",
    "users"
   ]
  },
  {
   "cell_type": "markdown",
   "metadata": {
    "id": "o7MeKCid0q08"
   },
   "source": [
    "## Llamadas"
   ]
  },
  {
   "cell_type": "code",
   "execution_count": 16,
   "metadata": {
    "id": "6dDlnoDm0q08",
    "trusted": false
   },
   "outputs": [
    {
     "name": "stdout",
     "output_type": "stream",
     "text": [
      "<class 'pandas.core.frame.DataFrame'>\n",
      "RangeIndex: 137735 entries, 0 to 137734\n",
      "Data columns (total 4 columns):\n",
      " #   Column     Non-Null Count   Dtype  \n",
      "---  ------     --------------   -----  \n",
      " 0   id         137735 non-null  object \n",
      " 1   user_id    137735 non-null  int64  \n",
      " 2   call_date  137735 non-null  object \n",
      " 3   duration   137735 non-null  float64\n",
      "dtypes: float64(1), int64(1), object(2)\n",
      "memory usage: 4.2+ MB\n"
     ]
    }
   ],
   "source": [
    "# Imprime la información general/resumida sobre el DataFrame de las llamadas\n",
    "calls.info()"
   ]
  },
  {
   "cell_type": "code",
   "execution_count": 17,
   "metadata": {
    "id": "kuh1vlNB0q09",
    "trusted": false
   },
   "outputs": [
    {
     "data": {
      "text/html": [
       "<div>\n",
       "<style scoped>\n",
       "    .dataframe tbody tr th:only-of-type {\n",
       "        vertical-align: middle;\n",
       "    }\n",
       "\n",
       "    .dataframe tbody tr th {\n",
       "        vertical-align: top;\n",
       "    }\n",
       "\n",
       "    .dataframe thead th {\n",
       "        text-align: right;\n",
       "    }\n",
       "</style>\n",
       "<table border=\"1\" class=\"dataframe\">\n",
       "  <thead>\n",
       "    <tr style=\"text-align: right;\">\n",
       "      <th></th>\n",
       "      <th>id</th>\n",
       "      <th>user_id</th>\n",
       "      <th>call_date</th>\n",
       "      <th>duration</th>\n",
       "    </tr>\n",
       "  </thead>\n",
       "  <tbody>\n",
       "    <tr>\n",
       "      <th>24344</th>\n",
       "      <td>1091_112</td>\n",
       "      <td>1091</td>\n",
       "      <td>2018-11-18</td>\n",
       "      <td>0.00</td>\n",
       "    </tr>\n",
       "    <tr>\n",
       "      <th>38745</th>\n",
       "      <td>1144_691</td>\n",
       "      <td>1144</td>\n",
       "      <td>2018-09-30</td>\n",
       "      <td>0.00</td>\n",
       "    </tr>\n",
       "    <tr>\n",
       "      <th>114643</th>\n",
       "      <td>1401_461</td>\n",
       "      <td>1401</td>\n",
       "      <td>2018-11-06</td>\n",
       "      <td>0.00</td>\n",
       "    </tr>\n",
       "    <tr>\n",
       "      <th>57133</th>\n",
       "      <td>1203_524</td>\n",
       "      <td>1203</td>\n",
       "      <td>2018-08-25</td>\n",
       "      <td>12.44</td>\n",
       "    </tr>\n",
       "    <tr>\n",
       "      <th>25826</th>\n",
       "      <td>1099_146</td>\n",
       "      <td>1099</td>\n",
       "      <td>2018-03-19</td>\n",
       "      <td>11.56</td>\n",
       "    </tr>\n",
       "    <tr>\n",
       "      <th>113484</th>\n",
       "      <td>1399_107</td>\n",
       "      <td>1399</td>\n",
       "      <td>2018-10-18</td>\n",
       "      <td>7.39</td>\n",
       "    </tr>\n",
       "    <tr>\n",
       "      <th>33776</th>\n",
       "      <td>1126_620</td>\n",
       "      <td>1126</td>\n",
       "      <td>2018-06-30</td>\n",
       "      <td>0.00</td>\n",
       "    </tr>\n",
       "    <tr>\n",
       "      <th>64946</th>\n",
       "      <td>1236_219</td>\n",
       "      <td>1236</td>\n",
       "      <td>2018-09-09</td>\n",
       "      <td>0.00</td>\n",
       "    </tr>\n",
       "    <tr>\n",
       "      <th>3917</th>\n",
       "      <td>1016_207</td>\n",
       "      <td>1016</td>\n",
       "      <td>2018-11-22</td>\n",
       "      <td>3.90</td>\n",
       "    </tr>\n",
       "    <tr>\n",
       "      <th>101266</th>\n",
       "      <td>1362_0</td>\n",
       "      <td>1362</td>\n",
       "      <td>2018-05-05</td>\n",
       "      <td>4.99</td>\n",
       "    </tr>\n",
       "  </tbody>\n",
       "</table>\n",
       "</div>"
      ],
      "text/plain": [
       "              id  user_id   call_date  duration\n",
       "24344   1091_112     1091  2018-11-18      0.00\n",
       "38745   1144_691     1144  2018-09-30      0.00\n",
       "114643  1401_461     1401  2018-11-06      0.00\n",
       "57133   1203_524     1203  2018-08-25     12.44\n",
       "25826   1099_146     1099  2018-03-19     11.56\n",
       "113484  1399_107     1399  2018-10-18      7.39\n",
       "33776   1126_620     1126  2018-06-30      0.00\n",
       "64946   1236_219     1236  2018-09-09      0.00\n",
       "3917    1016_207     1016  2018-11-22      3.90\n",
       "101266    1362_0     1362  2018-05-05      4.99"
      ]
     },
     "execution_count": 17,
     "metadata": {},
     "output_type": "execute_result"
    }
   ],
   "source": [
    "# Imprime una muestra de datos para las llamadas\n",
    "calls.sample(10)"
   ]
  },
  {
   "cell_type": "markdown",
   "metadata": {
    "id": "DOAxYJSx0q09"
   },
   "source": [
    "Para esta tabla igualmente se cambiarán los user_id a tipo de dato object. Así como también la fecha a datetime. El cliente especificó que las llamadas se redondean, por lo que será necesario hacer este cambio en la columna duration. Al final se enriquecieron los datos a través de crear una columna nueva llamada dayofweek para que podamos extraer el dia de la semana en que los clientes realizan sus llamadas. Igualmente se creó una columna llamada call_duration_class para determinar si la duración de las llamadas son cortas, promedio o largas. \n"
   ]
  },
  {
   "cell_type": "markdown",
   "metadata": {
    "id": "S7hzxmbX0q0-"
   },
   "source": [
    "### Corregir los datos"
   ]
  },
  {
   "cell_type": "code",
   "execution_count": 18,
   "metadata": {
    "trusted": false
   },
   "outputs": [],
   "source": [
    "calls[\"user_id\"] = calls[\"user_id\"].astype(object)"
   ]
  },
  {
   "cell_type": "code",
   "execution_count": 19,
   "metadata": {
    "trusted": false
   },
   "outputs": [
    {
     "name": "stdout",
     "output_type": "stream",
     "text": [
      "<class 'pandas.core.frame.DataFrame'>\n",
      "RangeIndex: 137735 entries, 0 to 137734\n",
      "Data columns (total 4 columns):\n",
      " #   Column     Non-Null Count   Dtype  \n",
      "---  ------     --------------   -----  \n",
      " 0   id         137735 non-null  object \n",
      " 1   user_id    137735 non-null  object \n",
      " 2   call_date  137735 non-null  object \n",
      " 3   duration   137735 non-null  float64\n",
      "dtypes: float64(1), object(3)\n",
      "memory usage: 4.2+ MB\n"
     ]
    }
   ],
   "source": [
    "calls.info()"
   ]
  },
  {
   "cell_type": "code",
   "execution_count": 20,
   "metadata": {
    "id": "S2r8xA4f0q0-",
    "trusted": false
   },
   "outputs": [],
   "source": [
    "calls[\"call_date\"] = pd.to_datetime(calls[\"call_date\"])"
   ]
  },
  {
   "cell_type": "code",
   "execution_count": 21,
   "metadata": {
    "trusted": false
   },
   "outputs": [
    {
     "name": "stdout",
     "output_type": "stream",
     "text": [
      "<class 'pandas.core.frame.DataFrame'>\n",
      "RangeIndex: 137735 entries, 0 to 137734\n",
      "Data columns (total 4 columns):\n",
      " #   Column     Non-Null Count   Dtype         \n",
      "---  ------     --------------   -----         \n",
      " 0   id         137735 non-null  object        \n",
      " 1   user_id    137735 non-null  object        \n",
      " 2   call_date  137735 non-null  datetime64[ns]\n",
      " 3   duration   137735 non-null  float64       \n",
      "dtypes: datetime64[ns](1), float64(1), object(2)\n",
      "memory usage: 4.2+ MB\n"
     ]
    }
   ],
   "source": [
    "calls.info()"
   ]
  },
  {
   "cell_type": "code",
   "execution_count": 22,
   "metadata": {
    "trusted": false
   },
   "outputs": [
    {
     "data": {
      "text/html": [
       "<div>\n",
       "<style scoped>\n",
       "    .dataframe tbody tr th:only-of-type {\n",
       "        vertical-align: middle;\n",
       "    }\n",
       "\n",
       "    .dataframe tbody tr th {\n",
       "        vertical-align: top;\n",
       "    }\n",
       "\n",
       "    .dataframe thead th {\n",
       "        text-align: right;\n",
       "    }\n",
       "</style>\n",
       "<table border=\"1\" class=\"dataframe\">\n",
       "  <thead>\n",
       "    <tr style=\"text-align: right;\">\n",
       "      <th></th>\n",
       "      <th>id</th>\n",
       "      <th>user_id</th>\n",
       "      <th>call_date</th>\n",
       "      <th>duration</th>\n",
       "    </tr>\n",
       "  </thead>\n",
       "  <tbody>\n",
       "    <tr>\n",
       "      <th>0</th>\n",
       "      <td>1000_93</td>\n",
       "      <td>1000</td>\n",
       "      <td>2018-12-27</td>\n",
       "      <td>9.0</td>\n",
       "    </tr>\n",
       "    <tr>\n",
       "      <th>1</th>\n",
       "      <td>1000_145</td>\n",
       "      <td>1000</td>\n",
       "      <td>2018-12-27</td>\n",
       "      <td>14.0</td>\n",
       "    </tr>\n",
       "    <tr>\n",
       "      <th>2</th>\n",
       "      <td>1000_247</td>\n",
       "      <td>1000</td>\n",
       "      <td>2018-12-27</td>\n",
       "      <td>15.0</td>\n",
       "    </tr>\n",
       "    <tr>\n",
       "      <th>3</th>\n",
       "      <td>1000_309</td>\n",
       "      <td>1000</td>\n",
       "      <td>2018-12-28</td>\n",
       "      <td>6.0</td>\n",
       "    </tr>\n",
       "    <tr>\n",
       "      <th>4</th>\n",
       "      <td>1000_380</td>\n",
       "      <td>1000</td>\n",
       "      <td>2018-12-30</td>\n",
       "      <td>5.0</td>\n",
       "    </tr>\n",
       "    <tr>\n",
       "      <th>...</th>\n",
       "      <td>...</td>\n",
       "      <td>...</td>\n",
       "      <td>...</td>\n",
       "      <td>...</td>\n",
       "    </tr>\n",
       "    <tr>\n",
       "      <th>137730</th>\n",
       "      <td>1499_199</td>\n",
       "      <td>1499</td>\n",
       "      <td>2018-11-21</td>\n",
       "      <td>9.0</td>\n",
       "    </tr>\n",
       "    <tr>\n",
       "      <th>137731</th>\n",
       "      <td>1499_200</td>\n",
       "      <td>1499</td>\n",
       "      <td>2018-10-20</td>\n",
       "      <td>11.0</td>\n",
       "    </tr>\n",
       "    <tr>\n",
       "      <th>137732</th>\n",
       "      <td>1499_201</td>\n",
       "      <td>1499</td>\n",
       "      <td>2018-09-21</td>\n",
       "      <td>9.0</td>\n",
       "    </tr>\n",
       "    <tr>\n",
       "      <th>137733</th>\n",
       "      <td>1499_202</td>\n",
       "      <td>1499</td>\n",
       "      <td>2018-10-10</td>\n",
       "      <td>1.0</td>\n",
       "    </tr>\n",
       "    <tr>\n",
       "      <th>137734</th>\n",
       "      <td>1499_203</td>\n",
       "      <td>1499</td>\n",
       "      <td>2018-12-29</td>\n",
       "      <td>14.0</td>\n",
       "    </tr>\n",
       "  </tbody>\n",
       "</table>\n",
       "<p>137735 rows × 4 columns</p>\n",
       "</div>"
      ],
      "text/plain": [
       "              id user_id  call_date  duration\n",
       "0        1000_93    1000 2018-12-27       9.0\n",
       "1       1000_145    1000 2018-12-27      14.0\n",
       "2       1000_247    1000 2018-12-27      15.0\n",
       "3       1000_309    1000 2018-12-28       6.0\n",
       "4       1000_380    1000 2018-12-30       5.0\n",
       "...          ...     ...        ...       ...\n",
       "137730  1499_199    1499 2018-11-21       9.0\n",
       "137731  1499_200    1499 2018-10-20      11.0\n",
       "137732  1499_201    1499 2018-09-21       9.0\n",
       "137733  1499_202    1499 2018-10-10       1.0\n",
       "137734  1499_203    1499 2018-12-29      14.0\n",
       "\n",
       "[137735 rows x 4 columns]"
      ]
     },
     "execution_count": 22,
     "metadata": {},
     "output_type": "execute_result"
    }
   ],
   "source": [
    "calls[\"duration\"] = np.ceil(calls[\"duration\"])\n",
    "calls"
   ]
  },
  {
   "cell_type": "markdown",
   "metadata": {
    "id": "KrMgTrlG0q0_"
   },
   "source": [
    "### Enriquecer los datos"
   ]
  },
  {
   "cell_type": "code",
   "execution_count": 23,
   "metadata": {
    "id": "iZ1avpA_0q0_",
    "trusted": false
   },
   "outputs": [
    {
     "data": {
      "text/html": [
       "<div>\n",
       "<style scoped>\n",
       "    .dataframe tbody tr th:only-of-type {\n",
       "        vertical-align: middle;\n",
       "    }\n",
       "\n",
       "    .dataframe tbody tr th {\n",
       "        vertical-align: top;\n",
       "    }\n",
       "\n",
       "    .dataframe thead th {\n",
       "        text-align: right;\n",
       "    }\n",
       "</style>\n",
       "<table border=\"1\" class=\"dataframe\">\n",
       "  <thead>\n",
       "    <tr style=\"text-align: right;\">\n",
       "      <th></th>\n",
       "      <th>id</th>\n",
       "      <th>user_id</th>\n",
       "      <th>call_date</th>\n",
       "      <th>duration</th>\n",
       "      <th>day_of_week</th>\n",
       "    </tr>\n",
       "  </thead>\n",
       "  <tbody>\n",
       "    <tr>\n",
       "      <th>0</th>\n",
       "      <td>1000_93</td>\n",
       "      <td>1000</td>\n",
       "      <td>2018-12-27</td>\n",
       "      <td>9.0</td>\n",
       "      <td>3</td>\n",
       "    </tr>\n",
       "    <tr>\n",
       "      <th>1</th>\n",
       "      <td>1000_145</td>\n",
       "      <td>1000</td>\n",
       "      <td>2018-12-27</td>\n",
       "      <td>14.0</td>\n",
       "      <td>3</td>\n",
       "    </tr>\n",
       "    <tr>\n",
       "      <th>2</th>\n",
       "      <td>1000_247</td>\n",
       "      <td>1000</td>\n",
       "      <td>2018-12-27</td>\n",
       "      <td>15.0</td>\n",
       "      <td>3</td>\n",
       "    </tr>\n",
       "    <tr>\n",
       "      <th>3</th>\n",
       "      <td>1000_309</td>\n",
       "      <td>1000</td>\n",
       "      <td>2018-12-28</td>\n",
       "      <td>6.0</td>\n",
       "      <td>4</td>\n",
       "    </tr>\n",
       "    <tr>\n",
       "      <th>4</th>\n",
       "      <td>1000_380</td>\n",
       "      <td>1000</td>\n",
       "      <td>2018-12-30</td>\n",
       "      <td>5.0</td>\n",
       "      <td>6</td>\n",
       "    </tr>\n",
       "    <tr>\n",
       "      <th>...</th>\n",
       "      <td>...</td>\n",
       "      <td>...</td>\n",
       "      <td>...</td>\n",
       "      <td>...</td>\n",
       "      <td>...</td>\n",
       "    </tr>\n",
       "    <tr>\n",
       "      <th>137730</th>\n",
       "      <td>1499_199</td>\n",
       "      <td>1499</td>\n",
       "      <td>2018-11-21</td>\n",
       "      <td>9.0</td>\n",
       "      <td>2</td>\n",
       "    </tr>\n",
       "    <tr>\n",
       "      <th>137731</th>\n",
       "      <td>1499_200</td>\n",
       "      <td>1499</td>\n",
       "      <td>2018-10-20</td>\n",
       "      <td>11.0</td>\n",
       "      <td>5</td>\n",
       "    </tr>\n",
       "    <tr>\n",
       "      <th>137732</th>\n",
       "      <td>1499_201</td>\n",
       "      <td>1499</td>\n",
       "      <td>2018-09-21</td>\n",
       "      <td>9.0</td>\n",
       "      <td>4</td>\n",
       "    </tr>\n",
       "    <tr>\n",
       "      <th>137733</th>\n",
       "      <td>1499_202</td>\n",
       "      <td>1499</td>\n",
       "      <td>2018-10-10</td>\n",
       "      <td>1.0</td>\n",
       "      <td>2</td>\n",
       "    </tr>\n",
       "    <tr>\n",
       "      <th>137734</th>\n",
       "      <td>1499_203</td>\n",
       "      <td>1499</td>\n",
       "      <td>2018-12-29</td>\n",
       "      <td>14.0</td>\n",
       "      <td>5</td>\n",
       "    </tr>\n",
       "  </tbody>\n",
       "</table>\n",
       "<p>137735 rows × 5 columns</p>\n",
       "</div>"
      ],
      "text/plain": [
       "              id user_id  call_date  duration  day_of_week\n",
       "0        1000_93    1000 2018-12-27       9.0            3\n",
       "1       1000_145    1000 2018-12-27      14.0            3\n",
       "2       1000_247    1000 2018-12-27      15.0            3\n",
       "3       1000_309    1000 2018-12-28       6.0            4\n",
       "4       1000_380    1000 2018-12-30       5.0            6\n",
       "...          ...     ...        ...       ...          ...\n",
       "137730  1499_199    1499 2018-11-21       9.0            2\n",
       "137731  1499_200    1499 2018-10-20      11.0            5\n",
       "137732  1499_201    1499 2018-09-21       9.0            4\n",
       "137733  1499_202    1499 2018-10-10       1.0            2\n",
       "137734  1499_203    1499 2018-12-29      14.0            5\n",
       "\n",
       "[137735 rows x 5 columns]"
      ]
     },
     "execution_count": 23,
     "metadata": {},
     "output_type": "execute_result"
    }
   ],
   "source": [
    "calls[\"day_of_week\"] = calls[\"call_date\"].dt.dayofweek\n",
    "calls"
   ]
  },
  {
   "cell_type": "code",
   "execution_count": 24,
   "metadata": {
    "trusted": false
   },
   "outputs": [
    {
     "data": {
      "text/html": [
       "<div>\n",
       "<style scoped>\n",
       "    .dataframe tbody tr th:only-of-type {\n",
       "        vertical-align: middle;\n",
       "    }\n",
       "\n",
       "    .dataframe tbody tr th {\n",
       "        vertical-align: top;\n",
       "    }\n",
       "\n",
       "    .dataframe thead th {\n",
       "        text-align: right;\n",
       "    }\n",
       "</style>\n",
       "<table border=\"1\" class=\"dataframe\">\n",
       "  <thead>\n",
       "    <tr style=\"text-align: right;\">\n",
       "      <th></th>\n",
       "      <th>id</th>\n",
       "      <th>user_id</th>\n",
       "      <th>call_date</th>\n",
       "      <th>duration</th>\n",
       "      <th>day_of_week</th>\n",
       "      <th>call_duration_class</th>\n",
       "    </tr>\n",
       "  </thead>\n",
       "  <tbody>\n",
       "    <tr>\n",
       "      <th>0</th>\n",
       "      <td>1000_93</td>\n",
       "      <td>1000</td>\n",
       "      <td>2018-12-27</td>\n",
       "      <td>9.0</td>\n",
       "      <td>3</td>\n",
       "      <td>Medium</td>\n",
       "    </tr>\n",
       "    <tr>\n",
       "      <th>1</th>\n",
       "      <td>1000_145</td>\n",
       "      <td>1000</td>\n",
       "      <td>2018-12-27</td>\n",
       "      <td>14.0</td>\n",
       "      <td>3</td>\n",
       "      <td>Medium</td>\n",
       "    </tr>\n",
       "    <tr>\n",
       "      <th>2</th>\n",
       "      <td>1000_247</td>\n",
       "      <td>1000</td>\n",
       "      <td>2018-12-27</td>\n",
       "      <td>15.0</td>\n",
       "      <td>3</td>\n",
       "      <td>Long</td>\n",
       "    </tr>\n",
       "    <tr>\n",
       "      <th>3</th>\n",
       "      <td>1000_309</td>\n",
       "      <td>1000</td>\n",
       "      <td>2018-12-28</td>\n",
       "      <td>6.0</td>\n",
       "      <td>4</td>\n",
       "      <td>Medium</td>\n",
       "    </tr>\n",
       "    <tr>\n",
       "      <th>4</th>\n",
       "      <td>1000_380</td>\n",
       "      <td>1000</td>\n",
       "      <td>2018-12-30</td>\n",
       "      <td>5.0</td>\n",
       "      <td>6</td>\n",
       "      <td>Medium</td>\n",
       "    </tr>\n",
       "    <tr>\n",
       "      <th>...</th>\n",
       "      <td>...</td>\n",
       "      <td>...</td>\n",
       "      <td>...</td>\n",
       "      <td>...</td>\n",
       "      <td>...</td>\n",
       "      <td>...</td>\n",
       "    </tr>\n",
       "    <tr>\n",
       "      <th>137730</th>\n",
       "      <td>1499_199</td>\n",
       "      <td>1499</td>\n",
       "      <td>2018-11-21</td>\n",
       "      <td>9.0</td>\n",
       "      <td>2</td>\n",
       "      <td>Medium</td>\n",
       "    </tr>\n",
       "    <tr>\n",
       "      <th>137731</th>\n",
       "      <td>1499_200</td>\n",
       "      <td>1499</td>\n",
       "      <td>2018-10-20</td>\n",
       "      <td>11.0</td>\n",
       "      <td>5</td>\n",
       "      <td>Medium</td>\n",
       "    </tr>\n",
       "    <tr>\n",
       "      <th>137732</th>\n",
       "      <td>1499_201</td>\n",
       "      <td>1499</td>\n",
       "      <td>2018-09-21</td>\n",
       "      <td>9.0</td>\n",
       "      <td>4</td>\n",
       "      <td>Medium</td>\n",
       "    </tr>\n",
       "    <tr>\n",
       "      <th>137733</th>\n",
       "      <td>1499_202</td>\n",
       "      <td>1499</td>\n",
       "      <td>2018-10-10</td>\n",
       "      <td>1.0</td>\n",
       "      <td>2</td>\n",
       "      <td>Short</td>\n",
       "    </tr>\n",
       "    <tr>\n",
       "      <th>137734</th>\n",
       "      <td>1499_203</td>\n",
       "      <td>1499</td>\n",
       "      <td>2018-12-29</td>\n",
       "      <td>14.0</td>\n",
       "      <td>5</td>\n",
       "      <td>Medium</td>\n",
       "    </tr>\n",
       "  </tbody>\n",
       "</table>\n",
       "<p>137735 rows × 6 columns</p>\n",
       "</div>"
      ],
      "text/plain": [
       "              id user_id  call_date  duration  day_of_week call_duration_class\n",
       "0        1000_93    1000 2018-12-27       9.0            3              Medium\n",
       "1       1000_145    1000 2018-12-27      14.0            3              Medium\n",
       "2       1000_247    1000 2018-12-27      15.0            3                Long\n",
       "3       1000_309    1000 2018-12-28       6.0            4              Medium\n",
       "4       1000_380    1000 2018-12-30       5.0            6              Medium\n",
       "...          ...     ...        ...       ...          ...                 ...\n",
       "137730  1499_199    1499 2018-11-21       9.0            2              Medium\n",
       "137731  1499_200    1499 2018-10-20      11.0            5              Medium\n",
       "137732  1499_201    1499 2018-09-21       9.0            4              Medium\n",
       "137733  1499_202    1499 2018-10-10       1.0            2               Short\n",
       "137734  1499_203    1499 2018-12-29      14.0            5              Medium\n",
       "\n",
       "[137735 rows x 6 columns]"
      ]
     },
     "execution_count": 24,
     "metadata": {},
     "output_type": "execute_result"
    }
   ],
   "source": [
    "def classify_duration(duration):\n",
    "    if duration < 5:\n",
    "        return \"Short\"\n",
    "    elif 5 <= duration < 15:\n",
    "        return \"Medium\"\n",
    "    else:\n",
    "        return \"Long\"\n",
    "\n",
    "calls[\"call_duration_class\"] = calls[\"duration\"].apply(classify_duration)\n",
    "\n",
    "calls"
   ]
  },
  {
   "cell_type": "markdown",
   "metadata": {
    "id": "mOUZSi180q0_"
   },
   "source": [
    "## Mensajes"
   ]
  },
  {
   "cell_type": "code",
   "execution_count": 25,
   "metadata": {
    "id": "R-bYJpdV0q1A",
    "trusted": false
   },
   "outputs": [
    {
     "name": "stdout",
     "output_type": "stream",
     "text": [
      "<class 'pandas.core.frame.DataFrame'>\n",
      "RangeIndex: 76051 entries, 0 to 76050\n",
      "Data columns (total 3 columns):\n",
      " #   Column        Non-Null Count  Dtype \n",
      "---  ------        --------------  ----- \n",
      " 0   id            76051 non-null  object\n",
      " 1   user_id       76051 non-null  int64 \n",
      " 2   message_date  76051 non-null  object\n",
      "dtypes: int64(1), object(2)\n",
      "memory usage: 1.7+ MB\n"
     ]
    }
   ],
   "source": [
    "# Imprime la información general/resumida sobre el DataFrame de los mensajes\n",
    "messages.info()"
   ]
  },
  {
   "cell_type": "code",
   "execution_count": 26,
   "metadata": {
    "id": "mCEl2iGE0q1A",
    "trusted": false
   },
   "outputs": [
    {
     "data": {
      "text/html": [
       "<div>\n",
       "<style scoped>\n",
       "    .dataframe tbody tr th:only-of-type {\n",
       "        vertical-align: middle;\n",
       "    }\n",
       "\n",
       "    .dataframe tbody tr th {\n",
       "        vertical-align: top;\n",
       "    }\n",
       "\n",
       "    .dataframe thead th {\n",
       "        text-align: right;\n",
       "    }\n",
       "</style>\n",
       "<table border=\"1\" class=\"dataframe\">\n",
       "  <thead>\n",
       "    <tr style=\"text-align: right;\">\n",
       "      <th></th>\n",
       "      <th>id</th>\n",
       "      <th>user_id</th>\n",
       "      <th>message_date</th>\n",
       "    </tr>\n",
       "  </thead>\n",
       "  <tbody>\n",
       "    <tr>\n",
       "      <th>27631</th>\n",
       "      <td>1172_88</td>\n",
       "      <td>1172</td>\n",
       "      <td>2018-11-24</td>\n",
       "    </tr>\n",
       "    <tr>\n",
       "      <th>19154</th>\n",
       "      <td>1124_41</td>\n",
       "      <td>1124</td>\n",
       "      <td>2018-10-29</td>\n",
       "    </tr>\n",
       "    <tr>\n",
       "      <th>42341</th>\n",
       "      <td>1276_6</td>\n",
       "      <td>1276</td>\n",
       "      <td>2018-10-10</td>\n",
       "    </tr>\n",
       "    <tr>\n",
       "      <th>22220</th>\n",
       "      <td>1133_134</td>\n",
       "      <td>1133</td>\n",
       "      <td>2018-09-25</td>\n",
       "    </tr>\n",
       "    <tr>\n",
       "      <th>68382</th>\n",
       "      <td>1440_248</td>\n",
       "      <td>1440</td>\n",
       "      <td>2018-12-03</td>\n",
       "    </tr>\n",
       "    <tr>\n",
       "      <th>60969</th>\n",
       "      <td>1384_3</td>\n",
       "      <td>1384</td>\n",
       "      <td>2018-11-15</td>\n",
       "    </tr>\n",
       "    <tr>\n",
       "      <th>18186</th>\n",
       "      <td>1119_1061</td>\n",
       "      <td>1119</td>\n",
       "      <td>2018-10-17</td>\n",
       "    </tr>\n",
       "    <tr>\n",
       "      <th>11575</th>\n",
       "      <td>1078_42</td>\n",
       "      <td>1078</td>\n",
       "      <td>2018-11-29</td>\n",
       "    </tr>\n",
       "    <tr>\n",
       "      <th>15237</th>\n",
       "      <td>1101_294</td>\n",
       "      <td>1101</td>\n",
       "      <td>2018-11-26</td>\n",
       "    </tr>\n",
       "    <tr>\n",
       "      <th>52298</th>\n",
       "      <td>1336_264</td>\n",
       "      <td>1336</td>\n",
       "      <td>2018-06-25</td>\n",
       "    </tr>\n",
       "    <tr>\n",
       "      <th>61688</th>\n",
       "      <td>1385_152</td>\n",
       "      <td>1385</td>\n",
       "      <td>2018-07-29</td>\n",
       "    </tr>\n",
       "    <tr>\n",
       "      <th>5411</th>\n",
       "      <td>1052_168</td>\n",
       "      <td>1052</td>\n",
       "      <td>2018-12-12</td>\n",
       "    </tr>\n",
       "    <tr>\n",
       "      <th>53534</th>\n",
       "      <td>1340_60</td>\n",
       "      <td>1340</td>\n",
       "      <td>2018-11-02</td>\n",
       "    </tr>\n",
       "    <tr>\n",
       "      <th>59089</th>\n",
       "      <td>1374_263</td>\n",
       "      <td>1374</td>\n",
       "      <td>2018-08-21</td>\n",
       "    </tr>\n",
       "    <tr>\n",
       "      <th>5715</th>\n",
       "      <td>1054_81</td>\n",
       "      <td>1054</td>\n",
       "      <td>2018-10-11</td>\n",
       "    </tr>\n",
       "  </tbody>\n",
       "</table>\n",
       "</div>"
      ],
      "text/plain": [
       "              id  user_id message_date\n",
       "27631    1172_88     1172   2018-11-24\n",
       "19154    1124_41     1124   2018-10-29\n",
       "42341     1276_6     1276   2018-10-10\n",
       "22220   1133_134     1133   2018-09-25\n",
       "68382   1440_248     1440   2018-12-03\n",
       "60969     1384_3     1384   2018-11-15\n",
       "18186  1119_1061     1119   2018-10-17\n",
       "11575    1078_42     1078   2018-11-29\n",
       "15237   1101_294     1101   2018-11-26\n",
       "52298   1336_264     1336   2018-06-25\n",
       "61688   1385_152     1385   2018-07-29\n",
       "5411    1052_168     1052   2018-12-12\n",
       "53534    1340_60     1340   2018-11-02\n",
       "59089   1374_263     1374   2018-08-21\n",
       "5715     1054_81     1054   2018-10-11"
      ]
     },
     "execution_count": 26,
     "metadata": {},
     "output_type": "execute_result"
    }
   ],
   "source": [
    "# Imprime una muestra de datos para los mensajes\n",
    "messages.sample(15)"
   ]
  },
  {
   "cell_type": "markdown",
   "metadata": {
    "id": "04xDj7KH0q1A"
   },
   "source": [
    "Para esta tabla igualmente se cambiarán los user_id a tipo de dato object. Así como también la fecha a datetime. Como en la anterior tabla, se enriquecieron los datos a través de crear una columna nueva llamada dayofweek para que podamos extraer el dia de la semana en que los clientes mandan mensajes. "
   ]
  },
  {
   "cell_type": "markdown",
   "metadata": {
    "id": "Sprfak900q1B"
   },
   "source": [
    "### Corregir los datos"
   ]
  },
  {
   "cell_type": "code",
   "execution_count": 27,
   "metadata": {
    "id": "vsllvkoa0q1B",
    "trusted": false
   },
   "outputs": [],
   "source": [
    "messages[\"user_id\"] = messages[\"user_id\"].astype(object)\n",
    "messages[\"message_date\"] = pd.to_datetime(messages[\"message_date\"])"
   ]
  },
  {
   "cell_type": "code",
   "execution_count": 28,
   "metadata": {
    "trusted": false
   },
   "outputs": [
    {
     "name": "stdout",
     "output_type": "stream",
     "text": [
      "<class 'pandas.core.frame.DataFrame'>\n",
      "RangeIndex: 76051 entries, 0 to 76050\n",
      "Data columns (total 3 columns):\n",
      " #   Column        Non-Null Count  Dtype         \n",
      "---  ------        --------------  -----         \n",
      " 0   id            76051 non-null  object        \n",
      " 1   user_id       76051 non-null  object        \n",
      " 2   message_date  76051 non-null  datetime64[ns]\n",
      "dtypes: datetime64[ns](1), object(2)\n",
      "memory usage: 1.7+ MB\n"
     ]
    }
   ],
   "source": [
    "messages.info()"
   ]
  },
  {
   "cell_type": "markdown",
   "metadata": {
    "id": "HvLid7iD0q1B"
   },
   "source": [
    "### Enriquecer los datos"
   ]
  },
  {
   "cell_type": "code",
   "execution_count": 29,
   "metadata": {
    "id": "zYEXZac10q1C",
    "trusted": false
   },
   "outputs": [
    {
     "data": {
      "text/html": [
       "<div>\n",
       "<style scoped>\n",
       "    .dataframe tbody tr th:only-of-type {\n",
       "        vertical-align: middle;\n",
       "    }\n",
       "\n",
       "    .dataframe tbody tr th {\n",
       "        vertical-align: top;\n",
       "    }\n",
       "\n",
       "    .dataframe thead th {\n",
       "        text-align: right;\n",
       "    }\n",
       "</style>\n",
       "<table border=\"1\" class=\"dataframe\">\n",
       "  <thead>\n",
       "    <tr style=\"text-align: right;\">\n",
       "      <th></th>\n",
       "      <th>id</th>\n",
       "      <th>user_id</th>\n",
       "      <th>message_date</th>\n",
       "      <th>day_of_week</th>\n",
       "    </tr>\n",
       "  </thead>\n",
       "  <tbody>\n",
       "    <tr>\n",
       "      <th>0</th>\n",
       "      <td>1000_125</td>\n",
       "      <td>1000</td>\n",
       "      <td>2018-12-27</td>\n",
       "      <td>3</td>\n",
       "    </tr>\n",
       "    <tr>\n",
       "      <th>1</th>\n",
       "      <td>1000_160</td>\n",
       "      <td>1000</td>\n",
       "      <td>2018-12-31</td>\n",
       "      <td>0</td>\n",
       "    </tr>\n",
       "    <tr>\n",
       "      <th>2</th>\n",
       "      <td>1000_223</td>\n",
       "      <td>1000</td>\n",
       "      <td>2018-12-31</td>\n",
       "      <td>0</td>\n",
       "    </tr>\n",
       "    <tr>\n",
       "      <th>3</th>\n",
       "      <td>1000_251</td>\n",
       "      <td>1000</td>\n",
       "      <td>2018-12-27</td>\n",
       "      <td>3</td>\n",
       "    </tr>\n",
       "    <tr>\n",
       "      <th>4</th>\n",
       "      <td>1000_255</td>\n",
       "      <td>1000</td>\n",
       "      <td>2018-12-26</td>\n",
       "      <td>2</td>\n",
       "    </tr>\n",
       "    <tr>\n",
       "      <th>...</th>\n",
       "      <td>...</td>\n",
       "      <td>...</td>\n",
       "      <td>...</td>\n",
       "      <td>...</td>\n",
       "    </tr>\n",
       "    <tr>\n",
       "      <th>76046</th>\n",
       "      <td>1497_526</td>\n",
       "      <td>1497</td>\n",
       "      <td>2018-12-24</td>\n",
       "      <td>0</td>\n",
       "    </tr>\n",
       "    <tr>\n",
       "      <th>76047</th>\n",
       "      <td>1497_536</td>\n",
       "      <td>1497</td>\n",
       "      <td>2018-12-24</td>\n",
       "      <td>0</td>\n",
       "    </tr>\n",
       "    <tr>\n",
       "      <th>76048</th>\n",
       "      <td>1497_547</td>\n",
       "      <td>1497</td>\n",
       "      <td>2018-12-31</td>\n",
       "      <td>0</td>\n",
       "    </tr>\n",
       "    <tr>\n",
       "      <th>76049</th>\n",
       "      <td>1497_558</td>\n",
       "      <td>1497</td>\n",
       "      <td>2018-12-24</td>\n",
       "      <td>0</td>\n",
       "    </tr>\n",
       "    <tr>\n",
       "      <th>76050</th>\n",
       "      <td>1497_613</td>\n",
       "      <td>1497</td>\n",
       "      <td>2018-12-23</td>\n",
       "      <td>6</td>\n",
       "    </tr>\n",
       "  </tbody>\n",
       "</table>\n",
       "<p>76051 rows × 4 columns</p>\n",
       "</div>"
      ],
      "text/plain": [
       "             id user_id message_date  day_of_week\n",
       "0      1000_125    1000   2018-12-27            3\n",
       "1      1000_160    1000   2018-12-31            0\n",
       "2      1000_223    1000   2018-12-31            0\n",
       "3      1000_251    1000   2018-12-27            3\n",
       "4      1000_255    1000   2018-12-26            2\n",
       "...         ...     ...          ...          ...\n",
       "76046  1497_526    1497   2018-12-24            0\n",
       "76047  1497_536    1497   2018-12-24            0\n",
       "76048  1497_547    1497   2018-12-31            0\n",
       "76049  1497_558    1497   2018-12-24            0\n",
       "76050  1497_613    1497   2018-12-23            6\n",
       "\n",
       "[76051 rows x 4 columns]"
      ]
     },
     "execution_count": 29,
     "metadata": {},
     "output_type": "execute_result"
    }
   ],
   "source": [
    "messages[\"day_of_week\"] = messages[\"message_date\"].dt.dayofweek\n",
    "messages"
   ]
  },
  {
   "cell_type": "markdown",
   "metadata": {
    "id": "bStkaxn40q1C"
   },
   "source": [
    "## Internet"
   ]
  },
  {
   "cell_type": "code",
   "execution_count": 30,
   "metadata": {
    "id": "e-Uz5qyn0q1C",
    "trusted": false
   },
   "outputs": [
    {
     "name": "stdout",
     "output_type": "stream",
     "text": [
      "<class 'pandas.core.frame.DataFrame'>\n",
      "RangeIndex: 104825 entries, 0 to 104824\n",
      "Data columns (total 4 columns):\n",
      " #   Column        Non-Null Count   Dtype  \n",
      "---  ------        --------------   -----  \n",
      " 0   id            104825 non-null  object \n",
      " 1   user_id       104825 non-null  int64  \n",
      " 2   session_date  104825 non-null  object \n",
      " 3   mb_used       104825 non-null  float64\n",
      "dtypes: float64(1), int64(1), object(2)\n",
      "memory usage: 3.2+ MB\n"
     ]
    }
   ],
   "source": [
    "# Imprime la información general/resumida sobre el DataFrame de internet\n",
    "internet.info()"
   ]
  },
  {
   "cell_type": "code",
   "execution_count": 31,
   "metadata": {
    "id": "9r3x_XLw0q1C",
    "trusted": false
   },
   "outputs": [
    {
     "data": {
      "text/html": [
       "<div>\n",
       "<style scoped>\n",
       "    .dataframe tbody tr th:only-of-type {\n",
       "        vertical-align: middle;\n",
       "    }\n",
       "\n",
       "    .dataframe tbody tr th {\n",
       "        vertical-align: top;\n",
       "    }\n",
       "\n",
       "    .dataframe thead th {\n",
       "        text-align: right;\n",
       "    }\n",
       "</style>\n",
       "<table border=\"1\" class=\"dataframe\">\n",
       "  <thead>\n",
       "    <tr style=\"text-align: right;\">\n",
       "      <th></th>\n",
       "      <th>id</th>\n",
       "      <th>user_id</th>\n",
       "      <th>session_date</th>\n",
       "      <th>mb_used</th>\n",
       "    </tr>\n",
       "  </thead>\n",
       "  <tbody>\n",
       "    <tr>\n",
       "      <th>59277</th>\n",
       "      <td>1267_79</td>\n",
       "      <td>1267</td>\n",
       "      <td>2018-12-30</td>\n",
       "      <td>0.00</td>\n",
       "    </tr>\n",
       "    <tr>\n",
       "      <th>36421</th>\n",
       "      <td>1164_104</td>\n",
       "      <td>1164</td>\n",
       "      <td>2018-08-10</td>\n",
       "      <td>525.80</td>\n",
       "    </tr>\n",
       "    <tr>\n",
       "      <th>79607</th>\n",
       "      <td>1371_355</td>\n",
       "      <td>1371</td>\n",
       "      <td>2018-12-28</td>\n",
       "      <td>577.49</td>\n",
       "    </tr>\n",
       "    <tr>\n",
       "      <th>26138</th>\n",
       "      <td>1122_93</td>\n",
       "      <td>1122</td>\n",
       "      <td>2018-09-28</td>\n",
       "      <td>395.66</td>\n",
       "    </tr>\n",
       "    <tr>\n",
       "      <th>85702</th>\n",
       "      <td>1399_314</td>\n",
       "      <td>1399</td>\n",
       "      <td>2018-09-11</td>\n",
       "      <td>183.64</td>\n",
       "    </tr>\n",
       "    <tr>\n",
       "      <th>11310</th>\n",
       "      <td>1055_315</td>\n",
       "      <td>1055</td>\n",
       "      <td>2018-05-19</td>\n",
       "      <td>27.75</td>\n",
       "    </tr>\n",
       "    <tr>\n",
       "      <th>104176</th>\n",
       "      <td>1498_239</td>\n",
       "      <td>1498</td>\n",
       "      <td>2018-04-14</td>\n",
       "      <td>517.42</td>\n",
       "    </tr>\n",
       "    <tr>\n",
       "      <th>12522</th>\n",
       "      <td>1061_19</td>\n",
       "      <td>1061</td>\n",
       "      <td>2018-05-12</td>\n",
       "      <td>0.00</td>\n",
       "    </tr>\n",
       "    <tr>\n",
       "      <th>53983</th>\n",
       "      <td>1245_16</td>\n",
       "      <td>1245</td>\n",
       "      <td>2018-09-11</td>\n",
       "      <td>0.00</td>\n",
       "    </tr>\n",
       "    <tr>\n",
       "      <th>63051</th>\n",
       "      <td>1291_176</td>\n",
       "      <td>1291</td>\n",
       "      <td>2018-12-27</td>\n",
       "      <td>207.54</td>\n",
       "    </tr>\n",
       "    <tr>\n",
       "      <th>40425</th>\n",
       "      <td>1182_76</td>\n",
       "      <td>1182</td>\n",
       "      <td>2018-12-01</td>\n",
       "      <td>155.36</td>\n",
       "    </tr>\n",
       "    <tr>\n",
       "      <th>55848</th>\n",
       "      <td>1252_357</td>\n",
       "      <td>1252</td>\n",
       "      <td>2018-09-10</td>\n",
       "      <td>0.00</td>\n",
       "    </tr>\n",
       "    <tr>\n",
       "      <th>16706</th>\n",
       "      <td>1076_94</td>\n",
       "      <td>1076</td>\n",
       "      <td>2018-09-02</td>\n",
       "      <td>367.58</td>\n",
       "    </tr>\n",
       "    <tr>\n",
       "      <th>74680</th>\n",
       "      <td>1352_13</td>\n",
       "      <td>1352</td>\n",
       "      <td>2018-10-08</td>\n",
       "      <td>291.70</td>\n",
       "    </tr>\n",
       "    <tr>\n",
       "      <th>7116</th>\n",
       "      <td>1039_391</td>\n",
       "      <td>1039</td>\n",
       "      <td>2018-07-30</td>\n",
       "      <td>321.60</td>\n",
       "    </tr>\n",
       "  </tbody>\n",
       "</table>\n",
       "</div>"
      ],
      "text/plain": [
       "              id  user_id session_date  mb_used\n",
       "59277    1267_79     1267   2018-12-30     0.00\n",
       "36421   1164_104     1164   2018-08-10   525.80\n",
       "79607   1371_355     1371   2018-12-28   577.49\n",
       "26138    1122_93     1122   2018-09-28   395.66\n",
       "85702   1399_314     1399   2018-09-11   183.64\n",
       "11310   1055_315     1055   2018-05-19    27.75\n",
       "104176  1498_239     1498   2018-04-14   517.42\n",
       "12522    1061_19     1061   2018-05-12     0.00\n",
       "53983    1245_16     1245   2018-09-11     0.00\n",
       "63051   1291_176     1291   2018-12-27   207.54\n",
       "40425    1182_76     1182   2018-12-01   155.36\n",
       "55848   1252_357     1252   2018-09-10     0.00\n",
       "16706    1076_94     1076   2018-09-02   367.58\n",
       "74680    1352_13     1352   2018-10-08   291.70\n",
       "7116    1039_391     1039   2018-07-30   321.60"
      ]
     },
     "execution_count": 31,
     "metadata": {},
     "output_type": "execute_result"
    }
   ],
   "source": [
    "# Imprime una muestra de datos para el tráfico de internet\n",
    "internet.sample(15)"
   ]
  },
  {
   "cell_type": "markdown",
   "metadata": {
    "id": "EzOG5ik30q1D"
   },
   "source": [
    "En la última tabla se cambiará el tipo de dato a datetime para la columna session_date ya que se trata de una fecha. Para enriquecer los datos se creó la columna gb_used para que también tengamos un cálculo de los GB usadas por usuario y complementarlo a partir de los mb_used. "
   ]
  },
  {
   "cell_type": "markdown",
   "metadata": {
    "id": "yA0tkPFg0q1D"
   },
   "source": [
    "### Corregir los datos"
   ]
  },
  {
   "cell_type": "code",
   "execution_count": 32,
   "metadata": {
    "id": "zVeanzdd0q1E",
    "trusted": false
   },
   "outputs": [],
   "source": [
    "internet[\"session_date\"] = pd.to_datetime(internet[\"session_date\"])"
   ]
  },
  {
   "cell_type": "code",
   "execution_count": 33,
   "metadata": {
    "trusted": false
   },
   "outputs": [
    {
     "name": "stdout",
     "output_type": "stream",
     "text": [
      "<class 'pandas.core.frame.DataFrame'>\n",
      "RangeIndex: 104825 entries, 0 to 104824\n",
      "Data columns (total 4 columns):\n",
      " #   Column        Non-Null Count   Dtype         \n",
      "---  ------        --------------   -----         \n",
      " 0   id            104825 non-null  object        \n",
      " 1   user_id       104825 non-null  int64         \n",
      " 2   session_date  104825 non-null  datetime64[ns]\n",
      " 3   mb_used       104825 non-null  float64       \n",
      "dtypes: datetime64[ns](1), float64(1), int64(1), object(1)\n",
      "memory usage: 3.2+ MB\n"
     ]
    }
   ],
   "source": [
    "internet.info()"
   ]
  },
  {
   "cell_type": "markdown",
   "metadata": {
    "id": "e8_mLF4a0q1E"
   },
   "source": [
    "### Enriquecer los datos"
   ]
  },
  {
   "cell_type": "code",
   "execution_count": 34,
   "metadata": {
    "id": "ESiYPIEK0q1E",
    "trusted": false
   },
   "outputs": [
    {
     "data": {
      "text/html": [
       "<div>\n",
       "<style scoped>\n",
       "    .dataframe tbody tr th:only-of-type {\n",
       "        vertical-align: middle;\n",
       "    }\n",
       "\n",
       "    .dataframe tbody tr th {\n",
       "        vertical-align: top;\n",
       "    }\n",
       "\n",
       "    .dataframe thead th {\n",
       "        text-align: right;\n",
       "    }\n",
       "</style>\n",
       "<table border=\"1\" class=\"dataframe\">\n",
       "  <thead>\n",
       "    <tr style=\"text-align: right;\">\n",
       "      <th></th>\n",
       "      <th>id</th>\n",
       "      <th>user_id</th>\n",
       "      <th>session_date</th>\n",
       "      <th>mb_used</th>\n",
       "      <th>gb_used</th>\n",
       "    </tr>\n",
       "  </thead>\n",
       "  <tbody>\n",
       "    <tr>\n",
       "      <th>0</th>\n",
       "      <td>1000_13</td>\n",
       "      <td>1000</td>\n",
       "      <td>2018-12-29</td>\n",
       "      <td>89.86</td>\n",
       "      <td>0.087754</td>\n",
       "    </tr>\n",
       "    <tr>\n",
       "      <th>1</th>\n",
       "      <td>1000_204</td>\n",
       "      <td>1000</td>\n",
       "      <td>2018-12-31</td>\n",
       "      <td>0.00</td>\n",
       "      <td>0.000000</td>\n",
       "    </tr>\n",
       "    <tr>\n",
       "      <th>2</th>\n",
       "      <td>1000_379</td>\n",
       "      <td>1000</td>\n",
       "      <td>2018-12-28</td>\n",
       "      <td>660.40</td>\n",
       "      <td>0.644922</td>\n",
       "    </tr>\n",
       "    <tr>\n",
       "      <th>3</th>\n",
       "      <td>1000_413</td>\n",
       "      <td>1000</td>\n",
       "      <td>2018-12-26</td>\n",
       "      <td>270.99</td>\n",
       "      <td>0.264639</td>\n",
       "    </tr>\n",
       "    <tr>\n",
       "      <th>4</th>\n",
       "      <td>1000_442</td>\n",
       "      <td>1000</td>\n",
       "      <td>2018-12-27</td>\n",
       "      <td>880.22</td>\n",
       "      <td>0.859590</td>\n",
       "    </tr>\n",
       "    <tr>\n",
       "      <th>...</th>\n",
       "      <td>...</td>\n",
       "      <td>...</td>\n",
       "      <td>...</td>\n",
       "      <td>...</td>\n",
       "      <td>...</td>\n",
       "    </tr>\n",
       "    <tr>\n",
       "      <th>104820</th>\n",
       "      <td>1499_215</td>\n",
       "      <td>1499</td>\n",
       "      <td>2018-10-20</td>\n",
       "      <td>218.06</td>\n",
       "      <td>0.212949</td>\n",
       "    </tr>\n",
       "    <tr>\n",
       "      <th>104821</th>\n",
       "      <td>1499_216</td>\n",
       "      <td>1499</td>\n",
       "      <td>2018-12-30</td>\n",
       "      <td>304.72</td>\n",
       "      <td>0.297578</td>\n",
       "    </tr>\n",
       "    <tr>\n",
       "      <th>104822</th>\n",
       "      <td>1499_217</td>\n",
       "      <td>1499</td>\n",
       "      <td>2018-09-22</td>\n",
       "      <td>292.75</td>\n",
       "      <td>0.285889</td>\n",
       "    </tr>\n",
       "    <tr>\n",
       "      <th>104823</th>\n",
       "      <td>1499_218</td>\n",
       "      <td>1499</td>\n",
       "      <td>2018-12-07</td>\n",
       "      <td>0.00</td>\n",
       "      <td>0.000000</td>\n",
       "    </tr>\n",
       "    <tr>\n",
       "      <th>104824</th>\n",
       "      <td>1499_219</td>\n",
       "      <td>1499</td>\n",
       "      <td>2018-12-24</td>\n",
       "      <td>758.31</td>\n",
       "      <td>0.740537</td>\n",
       "    </tr>\n",
       "  </tbody>\n",
       "</table>\n",
       "<p>104825 rows × 5 columns</p>\n",
       "</div>"
      ],
      "text/plain": [
       "              id  user_id session_date  mb_used   gb_used\n",
       "0        1000_13     1000   2018-12-29    89.86  0.087754\n",
       "1       1000_204     1000   2018-12-31     0.00  0.000000\n",
       "2       1000_379     1000   2018-12-28   660.40  0.644922\n",
       "3       1000_413     1000   2018-12-26   270.99  0.264639\n",
       "4       1000_442     1000   2018-12-27   880.22  0.859590\n",
       "...          ...      ...          ...      ...       ...\n",
       "104820  1499_215     1499   2018-10-20   218.06  0.212949\n",
       "104821  1499_216     1499   2018-12-30   304.72  0.297578\n",
       "104822  1499_217     1499   2018-09-22   292.75  0.285889\n",
       "104823  1499_218     1499   2018-12-07     0.00  0.000000\n",
       "104824  1499_219     1499   2018-12-24   758.31  0.740537\n",
       "\n",
       "[104825 rows x 5 columns]"
      ]
     },
     "execution_count": 34,
     "metadata": {},
     "output_type": "execute_result"
    }
   ],
   "source": [
    "internet[\"gb_used\"] = (internet[\"mb_used\"]/1024)\n",
    "internet"
   ]
  },
  {
   "cell_type": "markdown",
   "metadata": {
    "id": "3UA2cqIW0q1E"
   },
   "source": [
    "## Estudiar las condiciones de las tarifas"
   ]
  },
  {
   "cell_type": "code",
   "execution_count": 35,
   "metadata": {
    "id": "i409op8p0q1F",
    "trusted": false
   },
   "outputs": [
    {
     "data": {
      "text/html": [
       "<div>\n",
       "<style scoped>\n",
       "    .dataframe tbody tr th:only-of-type {\n",
       "        vertical-align: middle;\n",
       "    }\n",
       "\n",
       "    .dataframe tbody tr th {\n",
       "        vertical-align: top;\n",
       "    }\n",
       "\n",
       "    .dataframe thead th {\n",
       "        text-align: right;\n",
       "    }\n",
       "</style>\n",
       "<table border=\"1\" class=\"dataframe\">\n",
       "  <thead>\n",
       "    <tr style=\"text-align: right;\">\n",
       "      <th></th>\n",
       "      <th>plan_name</th>\n",
       "      <th>messages_included</th>\n",
       "      <th>mb_per_month_included</th>\n",
       "      <th>gb_per_month_included</th>\n",
       "      <th>minutes_included</th>\n",
       "      <th>usd_monthly_pay</th>\n",
       "      <th>usd_per_gb</th>\n",
       "      <th>usd_per_message</th>\n",
       "      <th>usd_per_minute</th>\n",
       "    </tr>\n",
       "  </thead>\n",
       "  <tbody>\n",
       "    <tr>\n",
       "      <th>0</th>\n",
       "      <td>surf</td>\n",
       "      <td>50</td>\n",
       "      <td>15360</td>\n",
       "      <td>15.0</td>\n",
       "      <td>500</td>\n",
       "      <td>20</td>\n",
       "      <td>10</td>\n",
       "      <td>0.03</td>\n",
       "      <td>0.03</td>\n",
       "    </tr>\n",
       "    <tr>\n",
       "      <th>1</th>\n",
       "      <td>ultimate</td>\n",
       "      <td>1000</td>\n",
       "      <td>30720</td>\n",
       "      <td>30.0</td>\n",
       "      <td>3000</td>\n",
       "      <td>70</td>\n",
       "      <td>7</td>\n",
       "      <td>0.01</td>\n",
       "      <td>0.01</td>\n",
       "    </tr>\n",
       "  </tbody>\n",
       "</table>\n",
       "</div>"
      ],
      "text/plain": [
       "  plan_name  messages_included  mb_per_month_included  gb_per_month_included  \\\n",
       "0      surf                 50                  15360                   15.0   \n",
       "1  ultimate               1000                  30720                   30.0   \n",
       "\n",
       "   minutes_included  usd_monthly_pay  usd_per_gb  usd_per_message  \\\n",
       "0               500               20          10             0.03   \n",
       "1              3000               70           7             0.01   \n",
       "\n",
       "   usd_per_minute  \n",
       "0            0.03  \n",
       "1            0.01  "
      ]
     },
     "execution_count": 35,
     "metadata": {},
     "output_type": "execute_result"
    }
   ],
   "source": [
    "# Imprime las condiciones de la tarifa y asegúrate de que te quedan claras\n",
    "plans"
   ]
  },
  {
   "cell_type": "markdown",
   "metadata": {
    "id": "hMR1tP5d0q1F"
   },
   "source": [
    "## Agregar datos por usuario\n"
   ]
  },
  {
   "cell_type": "code",
   "execution_count": 36,
   "metadata": {
    "id": "A332cedB0q1G",
    "trusted": false
   },
   "outputs": [
    {
     "data": {
      "text/html": [
       "<div>\n",
       "<style scoped>\n",
       "    .dataframe tbody tr th:only-of-type {\n",
       "        vertical-align: middle;\n",
       "    }\n",
       "\n",
       "    .dataframe tbody tr th {\n",
       "        vertical-align: top;\n",
       "    }\n",
       "\n",
       "    .dataframe thead th {\n",
       "        text-align: right;\n",
       "    }\n",
       "</style>\n",
       "<table border=\"1\" class=\"dataframe\">\n",
       "  <thead>\n",
       "    <tr style=\"text-align: right;\">\n",
       "      <th></th>\n",
       "      <th>user_id</th>\n",
       "      <th>month</th>\n",
       "      <th>total_minutes</th>\n",
       "      <th>total_calls</th>\n",
       "    </tr>\n",
       "  </thead>\n",
       "  <tbody>\n",
       "    <tr>\n",
       "      <th>0</th>\n",
       "      <td>1000</td>\n",
       "      <td>12</td>\n",
       "      <td>124.0</td>\n",
       "      <td>16</td>\n",
       "    </tr>\n",
       "    <tr>\n",
       "      <th>1</th>\n",
       "      <td>1001</td>\n",
       "      <td>8</td>\n",
       "      <td>182.0</td>\n",
       "      <td>27</td>\n",
       "    </tr>\n",
       "    <tr>\n",
       "      <th>2</th>\n",
       "      <td>1001</td>\n",
       "      <td>9</td>\n",
       "      <td>315.0</td>\n",
       "      <td>49</td>\n",
       "    </tr>\n",
       "    <tr>\n",
       "      <th>3</th>\n",
       "      <td>1001</td>\n",
       "      <td>10</td>\n",
       "      <td>393.0</td>\n",
       "      <td>65</td>\n",
       "    </tr>\n",
       "    <tr>\n",
       "      <th>4</th>\n",
       "      <td>1001</td>\n",
       "      <td>11</td>\n",
       "      <td>426.0</td>\n",
       "      <td>64</td>\n",
       "    </tr>\n",
       "    <tr>\n",
       "      <th>...</th>\n",
       "      <td>...</td>\n",
       "      <td>...</td>\n",
       "      <td>...</td>\n",
       "      <td>...</td>\n",
       "    </tr>\n",
       "    <tr>\n",
       "      <th>2253</th>\n",
       "      <td>1498</td>\n",
       "      <td>12</td>\n",
       "      <td>339.0</td>\n",
       "      <td>39</td>\n",
       "    </tr>\n",
       "    <tr>\n",
       "      <th>2254</th>\n",
       "      <td>1499</td>\n",
       "      <td>9</td>\n",
       "      <td>346.0</td>\n",
       "      <td>41</td>\n",
       "    </tr>\n",
       "    <tr>\n",
       "      <th>2255</th>\n",
       "      <td>1499</td>\n",
       "      <td>10</td>\n",
       "      <td>385.0</td>\n",
       "      <td>53</td>\n",
       "    </tr>\n",
       "    <tr>\n",
       "      <th>2256</th>\n",
       "      <td>1499</td>\n",
       "      <td>11</td>\n",
       "      <td>308.0</td>\n",
       "      <td>45</td>\n",
       "    </tr>\n",
       "    <tr>\n",
       "      <th>2257</th>\n",
       "      <td>1499</td>\n",
       "      <td>12</td>\n",
       "      <td>496.0</td>\n",
       "      <td>65</td>\n",
       "    </tr>\n",
       "  </tbody>\n",
       "</table>\n",
       "<p>2258 rows × 4 columns</p>\n",
       "</div>"
      ],
      "text/plain": [
       "      user_id  month  total_minutes  total_calls\n",
       "0        1000     12          124.0           16\n",
       "1        1001      8          182.0           27\n",
       "2        1001      9          315.0           49\n",
       "3        1001     10          393.0           65\n",
       "4        1001     11          426.0           64\n",
       "...       ...    ...            ...          ...\n",
       "2253     1498     12          339.0           39\n",
       "2254     1499      9          346.0           41\n",
       "2255     1499     10          385.0           53\n",
       "2256     1499     11          308.0           45\n",
       "2257     1499     12          496.0           65\n",
       "\n",
       "[2258 rows x 4 columns]"
      ]
     },
     "execution_count": 36,
     "metadata": {},
     "output_type": "execute_result"
    }
   ],
   "source": [
    "# Calcula el número de llamadas hechas por cada usuario al mes. Guarda el resultado. #Se incluye en el calculo de la cantidad de minutos usados por cada usuario al mes.\n",
    "calls[\"month\"] = calls[\"call_date\"].dt.month\n",
    "calls_pivot = calls.pivot_table(index=[\"user_id\",\"month\"], values=\"duration\", aggfunc=[\"sum\", \"count\"])\n",
    "calls_pivot.columns = [\"total_minutes\", \"total_calls\"]\n",
    "calls_pivot = calls_pivot.reset_index()\n",
    "calls_pivot"
   ]
  },
  {
   "cell_type": "code",
   "execution_count": 37,
   "metadata": {
    "id": "CcQvNHn60q1G",
    "trusted": false
   },
   "outputs": [
    {
     "data": {
      "text/html": [
       "<div>\n",
       "<style scoped>\n",
       "    .dataframe tbody tr th:only-of-type {\n",
       "        vertical-align: middle;\n",
       "    }\n",
       "\n",
       "    .dataframe tbody tr th {\n",
       "        vertical-align: top;\n",
       "    }\n",
       "\n",
       "    .dataframe thead th {\n",
       "        text-align: right;\n",
       "    }\n",
       "</style>\n",
       "<table border=\"1\" class=\"dataframe\">\n",
       "  <thead>\n",
       "    <tr style=\"text-align: right;\">\n",
       "      <th></th>\n",
       "      <th>user_id</th>\n",
       "      <th>month</th>\n",
       "      <th>total_messages</th>\n",
       "    </tr>\n",
       "  </thead>\n",
       "  <tbody>\n",
       "    <tr>\n",
       "      <th>0</th>\n",
       "      <td>1000</td>\n",
       "      <td>12</td>\n",
       "      <td>11</td>\n",
       "    </tr>\n",
       "    <tr>\n",
       "      <th>1</th>\n",
       "      <td>1001</td>\n",
       "      <td>8</td>\n",
       "      <td>30</td>\n",
       "    </tr>\n",
       "    <tr>\n",
       "      <th>2</th>\n",
       "      <td>1001</td>\n",
       "      <td>9</td>\n",
       "      <td>44</td>\n",
       "    </tr>\n",
       "    <tr>\n",
       "      <th>3</th>\n",
       "      <td>1001</td>\n",
       "      <td>10</td>\n",
       "      <td>53</td>\n",
       "    </tr>\n",
       "    <tr>\n",
       "      <th>4</th>\n",
       "      <td>1001</td>\n",
       "      <td>11</td>\n",
       "      <td>36</td>\n",
       "    </tr>\n",
       "    <tr>\n",
       "      <th>...</th>\n",
       "      <td>...</td>\n",
       "      <td>...</td>\n",
       "      <td>...</td>\n",
       "    </tr>\n",
       "    <tr>\n",
       "      <th>1801</th>\n",
       "      <td>1496</td>\n",
       "      <td>9</td>\n",
       "      <td>21</td>\n",
       "    </tr>\n",
       "    <tr>\n",
       "      <th>1802</th>\n",
       "      <td>1496</td>\n",
       "      <td>10</td>\n",
       "      <td>18</td>\n",
       "    </tr>\n",
       "    <tr>\n",
       "      <th>1803</th>\n",
       "      <td>1496</td>\n",
       "      <td>11</td>\n",
       "      <td>13</td>\n",
       "    </tr>\n",
       "    <tr>\n",
       "      <th>1804</th>\n",
       "      <td>1496</td>\n",
       "      <td>12</td>\n",
       "      <td>11</td>\n",
       "    </tr>\n",
       "    <tr>\n",
       "      <th>1805</th>\n",
       "      <td>1497</td>\n",
       "      <td>12</td>\n",
       "      <td>50</td>\n",
       "    </tr>\n",
       "  </tbody>\n",
       "</table>\n",
       "<p>1806 rows × 3 columns</p>\n",
       "</div>"
      ],
      "text/plain": [
       "      user_id  month  total_messages\n",
       "0        1000     12              11\n",
       "1        1001      8              30\n",
       "2        1001      9              44\n",
       "3        1001     10              53\n",
       "4        1001     11              36\n",
       "...       ...    ...             ...\n",
       "1801     1496      9              21\n",
       "1802     1496     10              18\n",
       "1803     1496     11              13\n",
       "1804     1496     12              11\n",
       "1805     1497     12              50\n",
       "\n",
       "[1806 rows x 3 columns]"
      ]
     },
     "execution_count": 37,
     "metadata": {},
     "output_type": "execute_result"
    }
   ],
   "source": [
    "# Calcula el número de mensajes enviados por cada usuario al mes. Guarda el resultado.\n",
    "messages[\"month\"] = messages[\"message_date\"].dt.month\n",
    "messages_per_month = messages.groupby([\"user_id\",\"month\"])[\"id\"].count().reset_index()\n",
    "messages_per_month.columns = [\"user_id\", \"month\", \"total_messages\"]\n",
    "messages_per_month"
   ]
  },
  {
   "cell_type": "code",
   "execution_count": 38,
   "metadata": {
    "id": "H1AqN2eG0q1H",
    "trusted": false
   },
   "outputs": [
    {
     "data": {
      "text/html": [
       "<div>\n",
       "<style scoped>\n",
       "    .dataframe tbody tr th:only-of-type {\n",
       "        vertical-align: middle;\n",
       "    }\n",
       "\n",
       "    .dataframe tbody tr th {\n",
       "        vertical-align: top;\n",
       "    }\n",
       "\n",
       "    .dataframe thead th {\n",
       "        text-align: right;\n",
       "    }\n",
       "</style>\n",
       "<table border=\"1\" class=\"dataframe\">\n",
       "  <thead>\n",
       "    <tr style=\"text-align: right;\">\n",
       "      <th></th>\n",
       "      <th>user_id</th>\n",
       "      <th>month</th>\n",
       "      <th>gb_used</th>\n",
       "    </tr>\n",
       "  </thead>\n",
       "  <tbody>\n",
       "    <tr>\n",
       "      <th>0</th>\n",
       "      <td>1000</td>\n",
       "      <td>12</td>\n",
       "      <td>2.0</td>\n",
       "    </tr>\n",
       "    <tr>\n",
       "      <th>1</th>\n",
       "      <td>1001</td>\n",
       "      <td>8</td>\n",
       "      <td>7.0</td>\n",
       "    </tr>\n",
       "    <tr>\n",
       "      <th>2</th>\n",
       "      <td>1001</td>\n",
       "      <td>9</td>\n",
       "      <td>14.0</td>\n",
       "    </tr>\n",
       "    <tr>\n",
       "      <th>3</th>\n",
       "      <td>1001</td>\n",
       "      <td>10</td>\n",
       "      <td>22.0</td>\n",
       "    </tr>\n",
       "    <tr>\n",
       "      <th>4</th>\n",
       "      <td>1001</td>\n",
       "      <td>11</td>\n",
       "      <td>19.0</td>\n",
       "    </tr>\n",
       "    <tr>\n",
       "      <th>...</th>\n",
       "      <td>...</td>\n",
       "      <td>...</td>\n",
       "      <td>...</td>\n",
       "    </tr>\n",
       "    <tr>\n",
       "      <th>2272</th>\n",
       "      <td>1498</td>\n",
       "      <td>12</td>\n",
       "      <td>23.0</td>\n",
       "    </tr>\n",
       "    <tr>\n",
       "      <th>2273</th>\n",
       "      <td>1499</td>\n",
       "      <td>9</td>\n",
       "      <td>13.0</td>\n",
       "    </tr>\n",
       "    <tr>\n",
       "      <th>2274</th>\n",
       "      <td>1499</td>\n",
       "      <td>10</td>\n",
       "      <td>20.0</td>\n",
       "    </tr>\n",
       "    <tr>\n",
       "      <th>2275</th>\n",
       "      <td>1499</td>\n",
       "      <td>11</td>\n",
       "      <td>17.0</td>\n",
       "    </tr>\n",
       "    <tr>\n",
       "      <th>2276</th>\n",
       "      <td>1499</td>\n",
       "      <td>12</td>\n",
       "      <td>22.0</td>\n",
       "    </tr>\n",
       "  </tbody>\n",
       "</table>\n",
       "<p>2277 rows × 3 columns</p>\n",
       "</div>"
      ],
      "text/plain": [
       "      user_id  month  gb_used\n",
       "0        1000     12      2.0\n",
       "1        1001      8      7.0\n",
       "2        1001      9     14.0\n",
       "3        1001     10     22.0\n",
       "4        1001     11     19.0\n",
       "...       ...    ...      ...\n",
       "2272     1498     12     23.0\n",
       "2273     1499      9     13.0\n",
       "2274     1499     10     20.0\n",
       "2275     1499     11     17.0\n",
       "2276     1499     12     22.0\n",
       "\n",
       "[2277 rows x 3 columns]"
      ]
     },
     "execution_count": 38,
     "metadata": {},
     "output_type": "execute_result"
    }
   ],
   "source": [
    "# Calcula el volumen del tráfico de Internet usado por cada usuario al mes. Guarda el resultado.\n",
    "internet[\"month\"] = internet[\"session_date\"].dt.month\n",
    "mb_per_month = internet.groupby([\"user_id\",\"month\"])[\"gb_used\"].sum().reset_index()\n",
    "mb_per_month[\"gb_used\"] = mb_per_month[\"gb_used\"].apply(np.ceil)\n",
    "mb_per_month"
   ]
  },
  {
   "cell_type": "code",
   "execution_count": 39,
   "metadata": {
    "id": "FW99ykyf0q1H",
    "scrolled": true,
    "trusted": false
   },
   "outputs": [
    {
     "data": {
      "text/html": [
       "<div>\n",
       "<style scoped>\n",
       "    .dataframe tbody tr th:only-of-type {\n",
       "        vertical-align: middle;\n",
       "    }\n",
       "\n",
       "    .dataframe tbody tr th {\n",
       "        vertical-align: top;\n",
       "    }\n",
       "\n",
       "    .dataframe thead th {\n",
       "        text-align: right;\n",
       "    }\n",
       "</style>\n",
       "<table border=\"1\" class=\"dataframe\">\n",
       "  <thead>\n",
       "    <tr style=\"text-align: right;\">\n",
       "      <th></th>\n",
       "      <th>user_id</th>\n",
       "      <th>month</th>\n",
       "      <th>total_minutes</th>\n",
       "      <th>total_calls</th>\n",
       "      <th>total_messages</th>\n",
       "      <th>gb_used</th>\n",
       "    </tr>\n",
       "  </thead>\n",
       "  <tbody>\n",
       "    <tr>\n",
       "      <th>0</th>\n",
       "      <td>1000</td>\n",
       "      <td>12</td>\n",
       "      <td>124.0</td>\n",
       "      <td>16.0</td>\n",
       "      <td>11.0</td>\n",
       "      <td>2.0</td>\n",
       "    </tr>\n",
       "    <tr>\n",
       "      <th>1</th>\n",
       "      <td>1001</td>\n",
       "      <td>8</td>\n",
       "      <td>182.0</td>\n",
       "      <td>27.0</td>\n",
       "      <td>30.0</td>\n",
       "      <td>7.0</td>\n",
       "    </tr>\n",
       "    <tr>\n",
       "      <th>2</th>\n",
       "      <td>1001</td>\n",
       "      <td>9</td>\n",
       "      <td>315.0</td>\n",
       "      <td>49.0</td>\n",
       "      <td>44.0</td>\n",
       "      <td>14.0</td>\n",
       "    </tr>\n",
       "    <tr>\n",
       "      <th>3</th>\n",
       "      <td>1001</td>\n",
       "      <td>10</td>\n",
       "      <td>393.0</td>\n",
       "      <td>65.0</td>\n",
       "      <td>53.0</td>\n",
       "      <td>22.0</td>\n",
       "    </tr>\n",
       "    <tr>\n",
       "      <th>4</th>\n",
       "      <td>1001</td>\n",
       "      <td>11</td>\n",
       "      <td>426.0</td>\n",
       "      <td>64.0</td>\n",
       "      <td>36.0</td>\n",
       "      <td>19.0</td>\n",
       "    </tr>\n",
       "    <tr>\n",
       "      <th>...</th>\n",
       "      <td>...</td>\n",
       "      <td>...</td>\n",
       "      <td>...</td>\n",
       "      <td>...</td>\n",
       "      <td>...</td>\n",
       "      <td>...</td>\n",
       "    </tr>\n",
       "    <tr>\n",
       "      <th>2288</th>\n",
       "      <td>1349</td>\n",
       "      <td>12</td>\n",
       "      <td>NaN</td>\n",
       "      <td>NaN</td>\n",
       "      <td>61.0</td>\n",
       "      <td>13.0</td>\n",
       "    </tr>\n",
       "    <tr>\n",
       "      <th>2289</th>\n",
       "      <td>1361</td>\n",
       "      <td>5</td>\n",
       "      <td>NaN</td>\n",
       "      <td>NaN</td>\n",
       "      <td>2.0</td>\n",
       "      <td>2.0</td>\n",
       "    </tr>\n",
       "    <tr>\n",
       "      <th>2290</th>\n",
       "      <td>1482</td>\n",
       "      <td>10</td>\n",
       "      <td>NaN</td>\n",
       "      <td>NaN</td>\n",
       "      <td>2.0</td>\n",
       "      <td>NaN</td>\n",
       "    </tr>\n",
       "    <tr>\n",
       "      <th>2291</th>\n",
       "      <td>1108</td>\n",
       "      <td>12</td>\n",
       "      <td>NaN</td>\n",
       "      <td>NaN</td>\n",
       "      <td>NaN</td>\n",
       "      <td>1.0</td>\n",
       "    </tr>\n",
       "    <tr>\n",
       "      <th>2292</th>\n",
       "      <td>1311</td>\n",
       "      <td>6</td>\n",
       "      <td>NaN</td>\n",
       "      <td>NaN</td>\n",
       "      <td>NaN</td>\n",
       "      <td>2.0</td>\n",
       "    </tr>\n",
       "  </tbody>\n",
       "</table>\n",
       "<p>2293 rows × 6 columns</p>\n",
       "</div>"
      ],
      "text/plain": [
       "      user_id  month  total_minutes  total_calls  total_messages  gb_used\n",
       "0        1000     12          124.0         16.0            11.0      2.0\n",
       "1        1001      8          182.0         27.0            30.0      7.0\n",
       "2        1001      9          315.0         49.0            44.0     14.0\n",
       "3        1001     10          393.0         65.0            53.0     22.0\n",
       "4        1001     11          426.0         64.0            36.0     19.0\n",
       "...       ...    ...            ...          ...             ...      ...\n",
       "2288     1349     12            NaN          NaN            61.0     13.0\n",
       "2289     1361      5            NaN          NaN             2.0      2.0\n",
       "2290     1482     10            NaN          NaN             2.0      NaN\n",
       "2291     1108     12            NaN          NaN             NaN      1.0\n",
       "2292     1311      6            NaN          NaN             NaN      2.0\n",
       "\n",
       "[2293 rows x 6 columns]"
      ]
     },
     "execution_count": 39,
     "metadata": {},
     "output_type": "execute_result"
    }
   ],
   "source": [
    "# Fusiona los datos de llamadas, minutos, mensajes e Internet con base en user_id y month\n",
    "calls_data = pd.merge(calls_pivot, messages_per_month, on=[\"user_id\",\"month\"], how=\"outer\") \n",
    "filtered_user_data = calls_data.merge(mb_per_month, on=[\"user_id\", \"month\"], how=\"outer\")\n",
    "filtered_user_data"
   ]
  },
  {
   "cell_type": "code",
   "execution_count": 40,
   "metadata": {
    "id": "0dNOXHag0q1H",
    "scrolled": true,
    "trusted": false
   },
   "outputs": [
    {
     "data": {
      "text/html": [
       "<div>\n",
       "<style scoped>\n",
       "    .dataframe tbody tr th:only-of-type {\n",
       "        vertical-align: middle;\n",
       "    }\n",
       "\n",
       "    .dataframe tbody tr th {\n",
       "        vertical-align: top;\n",
       "    }\n",
       "\n",
       "    .dataframe thead th {\n",
       "        text-align: right;\n",
       "    }\n",
       "</style>\n",
       "<table border=\"1\" class=\"dataframe\">\n",
       "  <thead>\n",
       "    <tr style=\"text-align: right;\">\n",
       "      <th></th>\n",
       "      <th>user_id</th>\n",
       "      <th>month</th>\n",
       "      <th>total_minutes</th>\n",
       "      <th>total_calls</th>\n",
       "      <th>total_messages</th>\n",
       "      <th>gb_used</th>\n",
       "      <th>plan</th>\n",
       "    </tr>\n",
       "  </thead>\n",
       "  <tbody>\n",
       "    <tr>\n",
       "      <th>0</th>\n",
       "      <td>1000</td>\n",
       "      <td>12</td>\n",
       "      <td>124.0</td>\n",
       "      <td>16.0</td>\n",
       "      <td>11.0</td>\n",
       "      <td>2.0</td>\n",
       "      <td>ultimate</td>\n",
       "    </tr>\n",
       "    <tr>\n",
       "      <th>1</th>\n",
       "      <td>1001</td>\n",
       "      <td>8</td>\n",
       "      <td>182.0</td>\n",
       "      <td>27.0</td>\n",
       "      <td>30.0</td>\n",
       "      <td>7.0</td>\n",
       "      <td>surf</td>\n",
       "    </tr>\n",
       "    <tr>\n",
       "      <th>2</th>\n",
       "      <td>1001</td>\n",
       "      <td>9</td>\n",
       "      <td>315.0</td>\n",
       "      <td>49.0</td>\n",
       "      <td>44.0</td>\n",
       "      <td>14.0</td>\n",
       "      <td>surf</td>\n",
       "    </tr>\n",
       "    <tr>\n",
       "      <th>3</th>\n",
       "      <td>1001</td>\n",
       "      <td>10</td>\n",
       "      <td>393.0</td>\n",
       "      <td>65.0</td>\n",
       "      <td>53.0</td>\n",
       "      <td>22.0</td>\n",
       "      <td>surf</td>\n",
       "    </tr>\n",
       "    <tr>\n",
       "      <th>4</th>\n",
       "      <td>1001</td>\n",
       "      <td>11</td>\n",
       "      <td>426.0</td>\n",
       "      <td>64.0</td>\n",
       "      <td>36.0</td>\n",
       "      <td>19.0</td>\n",
       "      <td>surf</td>\n",
       "    </tr>\n",
       "    <tr>\n",
       "      <th>...</th>\n",
       "      <td>...</td>\n",
       "      <td>...</td>\n",
       "      <td>...</td>\n",
       "      <td>...</td>\n",
       "      <td>...</td>\n",
       "      <td>...</td>\n",
       "      <td>...</td>\n",
       "    </tr>\n",
       "    <tr>\n",
       "      <th>2288</th>\n",
       "      <td>1349</td>\n",
       "      <td>12</td>\n",
       "      <td>NaN</td>\n",
       "      <td>NaN</td>\n",
       "      <td>61.0</td>\n",
       "      <td>13.0</td>\n",
       "      <td>surf</td>\n",
       "    </tr>\n",
       "    <tr>\n",
       "      <th>2289</th>\n",
       "      <td>1361</td>\n",
       "      <td>5</td>\n",
       "      <td>NaN</td>\n",
       "      <td>NaN</td>\n",
       "      <td>2.0</td>\n",
       "      <td>2.0</td>\n",
       "      <td>surf</td>\n",
       "    </tr>\n",
       "    <tr>\n",
       "      <th>2290</th>\n",
       "      <td>1482</td>\n",
       "      <td>10</td>\n",
       "      <td>NaN</td>\n",
       "      <td>NaN</td>\n",
       "      <td>2.0</td>\n",
       "      <td>NaN</td>\n",
       "      <td>ultimate</td>\n",
       "    </tr>\n",
       "    <tr>\n",
       "      <th>2291</th>\n",
       "      <td>1108</td>\n",
       "      <td>12</td>\n",
       "      <td>NaN</td>\n",
       "      <td>NaN</td>\n",
       "      <td>NaN</td>\n",
       "      <td>1.0</td>\n",
       "      <td>ultimate</td>\n",
       "    </tr>\n",
       "    <tr>\n",
       "      <th>2292</th>\n",
       "      <td>1311</td>\n",
       "      <td>6</td>\n",
       "      <td>NaN</td>\n",
       "      <td>NaN</td>\n",
       "      <td>NaN</td>\n",
       "      <td>2.0</td>\n",
       "      <td>ultimate</td>\n",
       "    </tr>\n",
       "  </tbody>\n",
       "</table>\n",
       "<p>2293 rows × 7 columns</p>\n",
       "</div>"
      ],
      "text/plain": [
       "     user_id  month  total_minutes  total_calls  total_messages  gb_used  \\\n",
       "0       1000     12          124.0         16.0            11.0      2.0   \n",
       "1       1001      8          182.0         27.0            30.0      7.0   \n",
       "2       1001      9          315.0         49.0            44.0     14.0   \n",
       "3       1001     10          393.0         65.0            53.0     22.0   \n",
       "4       1001     11          426.0         64.0            36.0     19.0   \n",
       "...      ...    ...            ...          ...             ...      ...   \n",
       "2288    1349     12            NaN          NaN            61.0     13.0   \n",
       "2289    1361      5            NaN          NaN             2.0      2.0   \n",
       "2290    1482     10            NaN          NaN             2.0      NaN   \n",
       "2291    1108     12            NaN          NaN             NaN      1.0   \n",
       "2292    1311      6            NaN          NaN             NaN      2.0   \n",
       "\n",
       "          plan  \n",
       "0     ultimate  \n",
       "1         surf  \n",
       "2         surf  \n",
       "3         surf  \n",
       "4         surf  \n",
       "...        ...  \n",
       "2288      surf  \n",
       "2289      surf  \n",
       "2290  ultimate  \n",
       "2291  ultimate  \n",
       "2292  ultimate  \n",
       "\n",
       "[2293 rows x 7 columns]"
      ]
     },
     "execution_count": 40,
     "metadata": {},
     "output_type": "execute_result"
    }
   ],
   "source": [
    "# Añade la información de la tarifa\n",
    "filtered_user_data = filtered_user_data.merge(users[[\"plan\",\"user_id\"]],on=\"user_id\", how=\"left\")\n",
    "filtered_user_data"
   ]
  },
  {
   "cell_type": "code",
   "execution_count": 41,
   "metadata": {
    "id": "5FGCf_c60q1I",
    "trusted": false
   },
   "outputs": [
    {
     "data": {
      "text/html": [
       "<div>\n",
       "<style scoped>\n",
       "    .dataframe tbody tr th:only-of-type {\n",
       "        vertical-align: middle;\n",
       "    }\n",
       "\n",
       "    .dataframe tbody tr th {\n",
       "        vertical-align: top;\n",
       "    }\n",
       "\n",
       "    .dataframe thead th {\n",
       "        text-align: right;\n",
       "    }\n",
       "</style>\n",
       "<table border=\"1\" class=\"dataframe\">\n",
       "  <thead>\n",
       "    <tr style=\"text-align: right;\">\n",
       "      <th></th>\n",
       "      <th>user_id</th>\n",
       "      <th>month</th>\n",
       "      <th>total_minutes</th>\n",
       "      <th>total_calls</th>\n",
       "      <th>total_messages</th>\n",
       "      <th>gb_used</th>\n",
       "      <th>plan</th>\n",
       "      <th>minutes_limit</th>\n",
       "      <th>messages_limit</th>\n",
       "      <th>data_limit</th>\n",
       "      <th>...</th>\n",
       "      <th>message_rate</th>\n",
       "      <th>data_rate</th>\n",
       "      <th>plan_cost</th>\n",
       "      <th>excess_minutes</th>\n",
       "      <th>excess_messages</th>\n",
       "      <th>excess_data</th>\n",
       "      <th>extra_minutes_cost</th>\n",
       "      <th>extra_message_cost</th>\n",
       "      <th>extra_data_cost</th>\n",
       "      <th>total_revenue</th>\n",
       "    </tr>\n",
       "  </thead>\n",
       "  <tbody>\n",
       "    <tr>\n",
       "      <th>0</th>\n",
       "      <td>1000</td>\n",
       "      <td>12</td>\n",
       "      <td>124.0</td>\n",
       "      <td>16.0</td>\n",
       "      <td>11.0</td>\n",
       "      <td>2.0</td>\n",
       "      <td>ultimate</td>\n",
       "      <td>3000</td>\n",
       "      <td>1000</td>\n",
       "      <td>30</td>\n",
       "      <td>...</td>\n",
       "      <td>0.03</td>\n",
       "      <td>7</td>\n",
       "      <td>70</td>\n",
       "      <td>0.0</td>\n",
       "      <td>0.0</td>\n",
       "      <td>0.0</td>\n",
       "      <td>0.0</td>\n",
       "      <td>0.00</td>\n",
       "      <td>0.0</td>\n",
       "      <td>70.00</td>\n",
       "    </tr>\n",
       "    <tr>\n",
       "      <th>1</th>\n",
       "      <td>1001</td>\n",
       "      <td>8</td>\n",
       "      <td>182.0</td>\n",
       "      <td>27.0</td>\n",
       "      <td>30.0</td>\n",
       "      <td>7.0</td>\n",
       "      <td>surf</td>\n",
       "      <td>500</td>\n",
       "      <td>50</td>\n",
       "      <td>15</td>\n",
       "      <td>...</td>\n",
       "      <td>0.01</td>\n",
       "      <td>10</td>\n",
       "      <td>20</td>\n",
       "      <td>0.0</td>\n",
       "      <td>0.0</td>\n",
       "      <td>0.0</td>\n",
       "      <td>0.0</td>\n",
       "      <td>0.00</td>\n",
       "      <td>0.0</td>\n",
       "      <td>20.00</td>\n",
       "    </tr>\n",
       "    <tr>\n",
       "      <th>2</th>\n",
       "      <td>1001</td>\n",
       "      <td>9</td>\n",
       "      <td>315.0</td>\n",
       "      <td>49.0</td>\n",
       "      <td>44.0</td>\n",
       "      <td>14.0</td>\n",
       "      <td>surf</td>\n",
       "      <td>500</td>\n",
       "      <td>50</td>\n",
       "      <td>15</td>\n",
       "      <td>...</td>\n",
       "      <td>0.01</td>\n",
       "      <td>10</td>\n",
       "      <td>20</td>\n",
       "      <td>0.0</td>\n",
       "      <td>0.0</td>\n",
       "      <td>0.0</td>\n",
       "      <td>0.0</td>\n",
       "      <td>0.00</td>\n",
       "      <td>0.0</td>\n",
       "      <td>20.00</td>\n",
       "    </tr>\n",
       "    <tr>\n",
       "      <th>3</th>\n",
       "      <td>1001</td>\n",
       "      <td>10</td>\n",
       "      <td>393.0</td>\n",
       "      <td>65.0</td>\n",
       "      <td>53.0</td>\n",
       "      <td>22.0</td>\n",
       "      <td>surf</td>\n",
       "      <td>500</td>\n",
       "      <td>50</td>\n",
       "      <td>15</td>\n",
       "      <td>...</td>\n",
       "      <td>0.01</td>\n",
       "      <td>10</td>\n",
       "      <td>20</td>\n",
       "      <td>0.0</td>\n",
       "      <td>3.0</td>\n",
       "      <td>7.0</td>\n",
       "      <td>0.0</td>\n",
       "      <td>0.03</td>\n",
       "      <td>70.0</td>\n",
       "      <td>90.03</td>\n",
       "    </tr>\n",
       "    <tr>\n",
       "      <th>4</th>\n",
       "      <td>1001</td>\n",
       "      <td>11</td>\n",
       "      <td>426.0</td>\n",
       "      <td>64.0</td>\n",
       "      <td>36.0</td>\n",
       "      <td>19.0</td>\n",
       "      <td>surf</td>\n",
       "      <td>500</td>\n",
       "      <td>50</td>\n",
       "      <td>15</td>\n",
       "      <td>...</td>\n",
       "      <td>0.01</td>\n",
       "      <td>10</td>\n",
       "      <td>20</td>\n",
       "      <td>0.0</td>\n",
       "      <td>0.0</td>\n",
       "      <td>4.0</td>\n",
       "      <td>0.0</td>\n",
       "      <td>0.00</td>\n",
       "      <td>40.0</td>\n",
       "      <td>60.00</td>\n",
       "    </tr>\n",
       "    <tr>\n",
       "      <th>...</th>\n",
       "      <td>...</td>\n",
       "      <td>...</td>\n",
       "      <td>...</td>\n",
       "      <td>...</td>\n",
       "      <td>...</td>\n",
       "      <td>...</td>\n",
       "      <td>...</td>\n",
       "      <td>...</td>\n",
       "      <td>...</td>\n",
       "      <td>...</td>\n",
       "      <td>...</td>\n",
       "      <td>...</td>\n",
       "      <td>...</td>\n",
       "      <td>...</td>\n",
       "      <td>...</td>\n",
       "      <td>...</td>\n",
       "      <td>...</td>\n",
       "      <td>...</td>\n",
       "      <td>...</td>\n",
       "      <td>...</td>\n",
       "      <td>...</td>\n",
       "    </tr>\n",
       "    <tr>\n",
       "      <th>2288</th>\n",
       "      <td>1349</td>\n",
       "      <td>12</td>\n",
       "      <td>0.0</td>\n",
       "      <td>0.0</td>\n",
       "      <td>61.0</td>\n",
       "      <td>13.0</td>\n",
       "      <td>surf</td>\n",
       "      <td>500</td>\n",
       "      <td>50</td>\n",
       "      <td>15</td>\n",
       "      <td>...</td>\n",
       "      <td>0.01</td>\n",
       "      <td>10</td>\n",
       "      <td>20</td>\n",
       "      <td>0.0</td>\n",
       "      <td>11.0</td>\n",
       "      <td>0.0</td>\n",
       "      <td>0.0</td>\n",
       "      <td>0.11</td>\n",
       "      <td>0.0</td>\n",
       "      <td>20.11</td>\n",
       "    </tr>\n",
       "    <tr>\n",
       "      <th>2289</th>\n",
       "      <td>1361</td>\n",
       "      <td>5</td>\n",
       "      <td>0.0</td>\n",
       "      <td>0.0</td>\n",
       "      <td>2.0</td>\n",
       "      <td>2.0</td>\n",
       "      <td>surf</td>\n",
       "      <td>500</td>\n",
       "      <td>50</td>\n",
       "      <td>15</td>\n",
       "      <td>...</td>\n",
       "      <td>0.01</td>\n",
       "      <td>10</td>\n",
       "      <td>20</td>\n",
       "      <td>0.0</td>\n",
       "      <td>0.0</td>\n",
       "      <td>0.0</td>\n",
       "      <td>0.0</td>\n",
       "      <td>0.00</td>\n",
       "      <td>0.0</td>\n",
       "      <td>20.00</td>\n",
       "    </tr>\n",
       "    <tr>\n",
       "      <th>2290</th>\n",
       "      <td>1482</td>\n",
       "      <td>10</td>\n",
       "      <td>0.0</td>\n",
       "      <td>0.0</td>\n",
       "      <td>2.0</td>\n",
       "      <td>0.0</td>\n",
       "      <td>ultimate</td>\n",
       "      <td>3000</td>\n",
       "      <td>1000</td>\n",
       "      <td>30</td>\n",
       "      <td>...</td>\n",
       "      <td>0.03</td>\n",
       "      <td>7</td>\n",
       "      <td>70</td>\n",
       "      <td>0.0</td>\n",
       "      <td>0.0</td>\n",
       "      <td>0.0</td>\n",
       "      <td>0.0</td>\n",
       "      <td>0.00</td>\n",
       "      <td>0.0</td>\n",
       "      <td>70.00</td>\n",
       "    </tr>\n",
       "    <tr>\n",
       "      <th>2291</th>\n",
       "      <td>1108</td>\n",
       "      <td>12</td>\n",
       "      <td>0.0</td>\n",
       "      <td>0.0</td>\n",
       "      <td>0.0</td>\n",
       "      <td>1.0</td>\n",
       "      <td>ultimate</td>\n",
       "      <td>3000</td>\n",
       "      <td>1000</td>\n",
       "      <td>30</td>\n",
       "      <td>...</td>\n",
       "      <td>0.03</td>\n",
       "      <td>7</td>\n",
       "      <td>70</td>\n",
       "      <td>0.0</td>\n",
       "      <td>0.0</td>\n",
       "      <td>0.0</td>\n",
       "      <td>0.0</td>\n",
       "      <td>0.00</td>\n",
       "      <td>0.0</td>\n",
       "      <td>70.00</td>\n",
       "    </tr>\n",
       "    <tr>\n",
       "      <th>2292</th>\n",
       "      <td>1311</td>\n",
       "      <td>6</td>\n",
       "      <td>0.0</td>\n",
       "      <td>0.0</td>\n",
       "      <td>0.0</td>\n",
       "      <td>2.0</td>\n",
       "      <td>ultimate</td>\n",
       "      <td>3000</td>\n",
       "      <td>1000</td>\n",
       "      <td>30</td>\n",
       "      <td>...</td>\n",
       "      <td>0.03</td>\n",
       "      <td>7</td>\n",
       "      <td>70</td>\n",
       "      <td>0.0</td>\n",
       "      <td>0.0</td>\n",
       "      <td>0.0</td>\n",
       "      <td>0.0</td>\n",
       "      <td>0.00</td>\n",
       "      <td>0.0</td>\n",
       "      <td>70.00</td>\n",
       "    </tr>\n",
       "  </tbody>\n",
       "</table>\n",
       "<p>2293 rows × 21 columns</p>\n",
       "</div>"
      ],
      "text/plain": [
       "      user_id  month  total_minutes  total_calls  total_messages  gb_used  \\\n",
       "0        1000     12          124.0         16.0            11.0      2.0   \n",
       "1        1001      8          182.0         27.0            30.0      7.0   \n",
       "2        1001      9          315.0         49.0            44.0     14.0   \n",
       "3        1001     10          393.0         65.0            53.0     22.0   \n",
       "4        1001     11          426.0         64.0            36.0     19.0   \n",
       "...       ...    ...            ...          ...             ...      ...   \n",
       "2288     1349     12            0.0          0.0            61.0     13.0   \n",
       "2289     1361      5            0.0          0.0             2.0      2.0   \n",
       "2290     1482     10            0.0          0.0             2.0      0.0   \n",
       "2291     1108     12            0.0          0.0             0.0      1.0   \n",
       "2292     1311      6            0.0          0.0             0.0      2.0   \n",
       "\n",
       "          plan  minutes_limit  messages_limit  data_limit  ...  message_rate  \\\n",
       "0     ultimate           3000            1000          30  ...          0.03   \n",
       "1         surf            500              50          15  ...          0.01   \n",
       "2         surf            500              50          15  ...          0.01   \n",
       "3         surf            500              50          15  ...          0.01   \n",
       "4         surf            500              50          15  ...          0.01   \n",
       "...        ...            ...             ...         ...  ...           ...   \n",
       "2288      surf            500              50          15  ...          0.01   \n",
       "2289      surf            500              50          15  ...          0.01   \n",
       "2290  ultimate           3000            1000          30  ...          0.03   \n",
       "2291  ultimate           3000            1000          30  ...          0.03   \n",
       "2292  ultimate           3000            1000          30  ...          0.03   \n",
       "\n",
       "      data_rate  plan_cost  excess_minutes  excess_messages  excess_data  \\\n",
       "0             7         70             0.0              0.0          0.0   \n",
       "1            10         20             0.0              0.0          0.0   \n",
       "2            10         20             0.0              0.0          0.0   \n",
       "3            10         20             0.0              3.0          7.0   \n",
       "4            10         20             0.0              0.0          4.0   \n",
       "...         ...        ...             ...              ...          ...   \n",
       "2288         10         20             0.0             11.0          0.0   \n",
       "2289         10         20             0.0              0.0          0.0   \n",
       "2290          7         70             0.0              0.0          0.0   \n",
       "2291          7         70             0.0              0.0          0.0   \n",
       "2292          7         70             0.0              0.0          0.0   \n",
       "\n",
       "      extra_minutes_cost  extra_message_cost  extra_data_cost  total_revenue  \n",
       "0                    0.0                0.00              0.0          70.00  \n",
       "1                    0.0                0.00              0.0          20.00  \n",
       "2                    0.0                0.00              0.0          20.00  \n",
       "3                    0.0                0.03             70.0          90.03  \n",
       "4                    0.0                0.00             40.0          60.00  \n",
       "...                  ...                 ...              ...            ...  \n",
       "2288                 0.0                0.11              0.0          20.11  \n",
       "2289                 0.0                0.00              0.0          20.00  \n",
       "2290                 0.0                0.00              0.0          70.00  \n",
       "2291                 0.0                0.00              0.0          70.00  \n",
       "2292                 0.0                0.00              0.0          70.00  \n",
       "\n",
       "[2293 rows x 21 columns]"
      ]
     },
     "execution_count": 41,
     "metadata": {},
     "output_type": "execute_result"
    }
   ],
   "source": [
    "# Calcula el ingreso mensual para cada usuario\n",
    "\n",
    "plan_details = {\n",
    "    \"plan\": [\"surf\", \"ultimate\"],\n",
    "    \"minutes_limit\": [500, 3000],  \n",
    "    \"messages_limit\": [50, 1000],  \n",
    "    \"data_limit\": [15, 30],  \n",
    "    \"minutes_rate\": [0.03, 0.01],  \n",
    "    \"message_rate\": [0.01, 0.03], \n",
    "    \"data_rate\": [10, 7], \n",
    "    \"plan_cost\": [20, 70]}\n",
    "\n",
    "df_plans = pd.DataFrame(plan_details)\n",
    "\n",
    "df = pd.merge(filtered_user_data, df_plans, on=\"plan\", how=\"left\")\n",
    "df = df.fillna(0)\n",
    "\n",
    "df[\"excess_minutes\"] = (df[\"total_minutes\"] - df[\"minutes_limit\"]).clip(lower=0)\n",
    "df[\"excess_messages\"] = (df[\"total_messages\"] - df[\"messages_limit\"]).clip(lower=0)\n",
    "df[\"excess_data\"] = (df[\"gb_used\"] - df[\"data_limit\"]).clip(lower=0)\n",
    "\n",
    "df[\"extra_minutes_cost\"] = df[\"excess_minutes\"] * df[\"minutes_rate\"]\n",
    "df[\"extra_message_cost\"] = df[\"excess_messages\"] * df[\"message_rate\"]\n",
    "df[\"extra_data_cost\"] = df[\"excess_data\"] * df[\"data_rate\"]\n",
    "\n",
    "df[\"total_revenue\"] = df[\"plan_cost\"] + df[\"extra_minutes_cost\"] + df[\"extra_message_cost\"] + df[\"extra_data_cost\"]\n",
    "\n",
    "df\n"
   ]
  },
  {
   "cell_type": "markdown",
   "metadata": {
    "id": "-jtyHzJb0q1I"
   },
   "source": [
    "## Estudia el comportamiento de usuario"
   ]
  },
  {
   "cell_type": "markdown",
   "metadata": {
    "id": "vtW4CJEe0q1J"
   },
   "source": [
    "### Llamadas"
   ]
  },
  {
   "cell_type": "code",
   "execution_count": 42,
   "metadata": {
    "id": "Jf5v5--k0q1J",
    "trusted": false
   },
   "outputs": [
    {
     "name": "stderr",
     "output_type": "stream",
     "text": [
      "/tmp/ipykernel_171/1695910166.py:5: SettingWithCopyWarning: \n",
      "A value is trying to be set on a copy of a slice from a DataFrame.\n",
      "Try using .loc[row_indexer,col_indexer] = value instead\n",
      "\n",
      "See the caveats in the documentation: https://pandas.pydata.org/pandas-docs/stable/user_guide/indexing.html#returning-a-view-versus-a-copy\n",
      "  surf_calls[\"avg_duration\"] = surf_calls[\"total_minutes\"] / surf_calls[\"total_calls\"]\n",
      "/tmp/ipykernel_171/1695910166.py:6: SettingWithCopyWarning: \n",
      "A value is trying to be set on a copy of a slice from a DataFrame.\n",
      "Try using .loc[row_indexer,col_indexer] = value instead\n",
      "\n",
      "See the caveats in the documentation: https://pandas.pydata.org/pandas-docs/stable/user_guide/indexing.html#returning-a-view-versus-a-copy\n",
      "  ultimate_calls[\"avg_duration\"] = ultimate_calls[\"total_minutes\"] / ultimate_calls[\"total_calls\"]\n"
     ]
    },
    {
     "data": {
      "image/png": "[encoded data removed]",
      "text/plain": [
       "<Figure size 640x480 with 1 Axes>"
      ]
     },
     "metadata": {},
     "output_type": "display_data"
    }
   ],
   "source": [
    "# Compara la duración promedio de llamadas por cada plan y por cada mes. Traza un gráfico de barras para visualizarla.\n",
    "\n",
    "surf_calls = filtered_user_data[filtered_user_data[\"plan\"] == \"surf\"]\n",
    "ultimate_calls = filtered_user_data[filtered_user_data[\"plan\"] == \"ultimate\"]\n",
    "surf_calls[\"avg_duration\"] = surf_calls[\"total_minutes\"] / surf_calls[\"total_calls\"]\n",
    "ultimate_calls[\"avg_duration\"] = ultimate_calls[\"total_minutes\"] / ultimate_calls[\"total_calls\"]\n",
    "\n",
    "surf_comparative_calls = surf_calls.groupby(\"month\")[\"avg_duration\"].mean()\n",
    "ultimate_comparative_calls = ultimate_calls.groupby(\"month\")[\"avg_duration\"].mean()\n",
    "\n",
    "df_concat_calls = pd.concat([surf_comparative_calls,ultimate_comparative_calls], axis=1)\n",
    "\n",
    "df_concat_calls.plot(kind=\"bar\", rot=0, color=[\"black\",\"firebrick\"])\n",
    "\n",
    "plt.xlabel(\"\")\n",
    "plt.ylabel(\"Average Call Duration\")\n",
    "plt.legend([\"Surf\",\"Ultimate\"])\n",
    "plt.xticks(ticks=[0,1, 2, 3, 4, 5,6,7,8,9,10,11], labels=[\"Jan\",\"Feb\",\"Mar\",\"Apr\",\"May\",\"Jun\",\"Jul\",\"Aug\",\"Sep\",\"Oct\",\"Nov\",\"Dec\"])\n",
    "plt.legend([\"Surf\",\"Ultimate\"])\n",
    "plt.show()\n"
   ]
  },
  {
   "cell_type": "code",
   "execution_count": 43,
   "metadata": {
    "id": "QoLqW1S_0q1J",
    "trusted": false
   },
   "outputs": [
    {
     "data": {
      "text/plain": [
       "Text(0.5, 0, 'Used Minutes Distribution')"
      ]
     },
     "execution_count": 43,
     "metadata": {},
     "output_type": "execute_result"
    },
    {
     "data": {
      "image/png": "[encoded data removed]",
      "text/plain": [
       "<Figure size 640x480 with 1 Axes>"
      ]
     },
     "metadata": {},
     "output_type": "display_data"
    }
   ],
   "source": [
    "# Compara el número de minutos mensuales que necesitan los usuarios de cada plan. Traza un histograma.\n",
    "surf_calls = filtered_user_data[filtered_user_data[\"plan\"] == \"surf\"] \n",
    "ultimate_calls = filtered_user_data[filtered_user_data[\"plan\"] == \"ultimate\"]\n",
    "\n",
    "surf_calls[\"total_minutes\"].hist(color=\"black\")\n",
    "ultimate_calls[\"total_minutes\"].hist(color=\"firebrick\")\n",
    "plt.legend([\"Surf\",\"Ultimate\"])\n",
    "plt.xlabel(\"Used Minutes Distribution\")"
   ]
  },
  {
   "cell_type": "code",
   "execution_count": 44,
   "metadata": {
    "id": "oSndbAnt0q1K",
    "trusted": false
   },
   "outputs": [
    {
     "data": {
      "text/html": [
       "<div>\n",
       "<style scoped>\n",
       "    .dataframe tbody tr th:only-of-type {\n",
       "        vertical-align: middle;\n",
       "    }\n",
       "\n",
       "    .dataframe tbody tr th {\n",
       "        vertical-align: top;\n",
       "    }\n",
       "\n",
       "    .dataframe thead th {\n",
       "        text-align: right;\n",
       "    }\n",
       "</style>\n",
       "<table border=\"1\" class=\"dataframe\">\n",
       "  <thead>\n",
       "    <tr style=\"text-align: right;\">\n",
       "      <th></th>\n",
       "      <th>plan</th>\n",
       "      <th>calls_duration_avg</th>\n",
       "    </tr>\n",
       "  </thead>\n",
       "  <tbody>\n",
       "    <tr>\n",
       "      <th>0</th>\n",
       "      <td>surf</td>\n",
       "      <td>7.158130</td>\n",
       "    </tr>\n",
       "    <tr>\n",
       "      <th>1</th>\n",
       "      <td>ultimate</td>\n",
       "      <td>7.078557</td>\n",
       "    </tr>\n",
       "  </tbody>\n",
       "</table>\n",
       "</div>"
      ],
      "text/plain": [
       "       plan  calls_duration_avg\n",
       "0      surf            7.158130\n",
       "1  ultimate            7.078557"
      ]
     },
     "execution_count": 44,
     "metadata": {},
     "output_type": "execute_result"
    }
   ],
   "source": [
    "# Calcula la media y la varianza de la duración mensual de llamadas.\n",
    "filtered_user_data[\"calls_duration_avg\"] = filtered_user_data[\"total_minutes\"] / filtered_user_data[\"total_calls\"]\n",
    "mean = filtered_user_data.groupby(\"plan\")[\"calls_duration_avg\"].mean().reset_index()\n",
    "mean"
   ]
  },
  {
   "cell_type": "code",
   "execution_count": 45,
   "metadata": {
    "trusted": false
   },
   "outputs": [
    {
     "data": {
      "text/html": [
       "<div>\n",
       "<style scoped>\n",
       "    .dataframe tbody tr th:only-of-type {\n",
       "        vertical-align: middle;\n",
       "    }\n",
       "\n",
       "    .dataframe tbody tr th {\n",
       "        vertical-align: top;\n",
       "    }\n",
       "\n",
       "    .dataframe thead th {\n",
       "        text-align: right;\n",
       "    }\n",
       "</style>\n",
       "<table border=\"1\" class=\"dataframe\">\n",
       "  <thead>\n",
       "    <tr style=\"text-align: right;\">\n",
       "      <th></th>\n",
       "      <th>plan</th>\n",
       "      <th>calls_duration_avg</th>\n",
       "    </tr>\n",
       "  </thead>\n",
       "  <tbody>\n",
       "    <tr>\n",
       "      <th>0</th>\n",
       "      <td>surf</td>\n",
       "      <td>1.227523</td>\n",
       "    </tr>\n",
       "    <tr>\n",
       "      <th>1</th>\n",
       "      <td>ultimate</td>\n",
       "      <td>0.915475</td>\n",
       "    </tr>\n",
       "  </tbody>\n",
       "</table>\n",
       "</div>"
      ],
      "text/plain": [
       "       plan  calls_duration_avg\n",
       "0      surf            1.227523\n",
       "1  ultimate            0.915475"
      ]
     },
     "execution_count": 45,
     "metadata": {},
     "output_type": "execute_result"
    }
   ],
   "source": [
    "var = filtered_user_data.groupby(\"plan\")[\"calls_duration_avg\"].var().reset_index()\n",
    "var"
   ]
  },
  {
   "cell_type": "code",
   "execution_count": 46,
   "metadata": {
    "id": "nZzoRUKc0q1K",
    "trusted": false
   },
   "outputs": [
    {
     "data": {
      "text/plain": [
       "Text(0, 0.5, 'Minutes Used')"
      ]
     },
     "execution_count": 46,
     "metadata": {},
     "output_type": "execute_result"
    },
    {
     "data": {
      "image/png": "[encoded data removed]",
      "text/plain": [
       "<Figure size 640x480 with 1 Axes>"
      ]
     },
     "metadata": {},
     "output_type": "display_data"
    }
   ],
   "source": [
    "# Traza un diagrama de caja para visualizar la distribución de la duración mensual de llamadas\n",
    "call_distribution = filtered_user_data[\"total_minutes\"] / filtered_user_data[\"total_calls\"]\n",
    "sns.boxplot(data=call_distribution, color=\"royalblue\")\n",
    "plt.title(\"Monthly Call Duration Distribution\")\n",
    "plt.ylabel(\"Minutes Used\")"
   ]
  },
  {
   "cell_type": "markdown",
   "metadata": {
    "id": "r627zBO50q1K"
   },
   "source": [
    "En la primera gráfica comprobamos la duración promedio de las llamadas entre ambos planes. Los usuarios de ambos planes mantienen la duración de sus llamadas a máximo 7 minutos. Por lo que el comportamiento de ambos usuarios no difiere en ninguno de los meses. El dato exacto de la duración promedio de la duración de las llamadas se corrobora al calcular sus medias, en donde los usuarios de surf mantienen llamadas por 7.15 y los de ultimate de 7.07. En cuanto a la varianza también nos confirma que el promedio se concentra en los 7 minutos ya que la variabilidad de los datos es de solo 1 y 0.9. \n",
    "\n",
    "En el diagrama de caja podemos visulizar que la media está en los 7 minutos. También se puede contemplar la distribución de los datos atípicos, siendo entre 18 a 20 minutos el máximo de los valores de la duración de llamadas. \n",
    "\n",
    "En la tabla de distribución se revisa que para el plan ultimate la mayoría emplea entre 400 a 600 minutos. El plan surf emplea mayoritariamente entre 300 a 450 minutos. Por lo que los usuarios de este plan aprovechan al máximo los 500 minutos que tienen permitidos dentro del plan.\n",
    "\n",
    "Por lo tanto, a pesar de que los usuarios de ultimate tienen 2500 minutos más a comparación de los usuarios de surf, los usuarios de ambos planes mantienen en promedio llamadas cortas de 7 minutos al mes. "
   ]
  },
  {
   "cell_type": "markdown",
   "metadata": {
    "id": "8idKy8Wh0q1L"
   },
   "source": [
    "### Mensajes"
   ]
  },
  {
   "cell_type": "code",
   "execution_count": 47,
   "metadata": {
    "id": "NXLxiTit0q1L",
    "trusted": false
   },
   "outputs": [
    {
     "data": {
      "image/png": "[encoded data removed]",
      "text/plain": [
       "<Figure size 640x480 with 1 Axes>"
      ]
     },
     "metadata": {},
     "output_type": "display_data"
    }
   ],
   "source": [
    "# Comprara el número de mensajes que tienden a enviar cada mes los usuarios de cada plan\n",
    "\n",
    "surf_calls = filtered_user_data[filtered_user_data[\"plan\"] == \"surf\"]\n",
    "ultimate_calls = filtered_user_data[filtered_user_data[\"plan\"] == \"ultimate\"]\n",
    "\n",
    "\n",
    "surf_comparative_messages = surf_calls.groupby(\"month\")[\"total_messages\"].mean()\n",
    "ultimate_comparative_messages = ultimate_calls.groupby(\"month\")[\"total_messages\"].mean()\n",
    "\n",
    "df_concat_messages = pd.concat([surf_comparative_messages,ultimate_comparative_messages], axis=1)\n",
    "\n",
    "df_concat_messages.plot(kind=\"bar\", rot=0, color=[\"black\",\"firebrick\"])\n",
    "\n",
    "plt.xlabel(\"\")\n",
    "plt.ylabel(\"Average Messages per Month\")\n",
    "plt.xticks(ticks=[0,1, 2, 3, 4, 5,6,7,8,9,10,11], labels=[\"Jan\",\"Feb\",\"Mar\",\"Apr\",\"May\",\"Jun\",\"Jul\",\"Aug\",\"Sep\",\"Oct\",\"Nov\",\"Dec\"])\n",
    "plt.legend([\"Surf\",\"Ultimate\"])\n",
    "plt.show()\n"
   ]
  },
  {
   "cell_type": "markdown",
   "metadata": {
    "id": "390SSL480q1M"
   },
   "source": [
    "Para los mensajes los usuarios de ultimate utilizan más mensajes que los usuarios de surf, entre un promedio de 30 a 40 mensajes al mes. Mientras que los usuarios de surf mandan en promedio entre 20 a 30 mensajes al mes. El total de mensajes empleados por cada plan no sigue una secuencia lógica, pero los picos de mayor uso de mensajes se ven durante los ultimos meses del año, entre agosto y diciembre. Esto se debe simplemente a la capacidad de SMS permitidos al mes por cada plan. "
   ]
  },
  {
   "cell_type": "markdown",
   "metadata": {
    "id": "42YSypXz0q1M"
   },
   "source": [
    "### Internet"
   ]
  },
  {
   "cell_type": "code",
   "execution_count": 48,
   "metadata": {
    "id": "lSuKPtjh0q1M",
    "trusted": false
   },
   "outputs": [
    {
     "data": {
      "image/png": "[encoded data removed]",
      "text/plain": [
       "<Figure size 640x480 with 1 Axes>"
      ]
     },
     "metadata": {},
     "output_type": "display_data"
    }
   ],
   "source": [
    "# Compara la cantidad de tráfico de Internet consumido por usuarios por plan\n",
    "surf_gb = filtered_user_data[filtered_user_data[\"plan\"] == \"surf\"]\n",
    "ultimate_gb = filtered_user_data[filtered_user_data[\"plan\"] == \"ultimate\"]\n",
    "\n",
    "\n",
    "surf_comparative_gb = surf_gb.groupby(\"plan\")[\"gb_used\"].mean()\n",
    "ultimate_comparative_gb = ultimate_gb.groupby(\"plan\")[\"gb_used\"].mean()\n",
    "\n",
    "df_concat_gb = pd.concat([surf_comparative_gb,ultimate_comparative_gb], axis=1)\n",
    "\n",
    "df_concat_gb.plot(kind=\"bar\", rot=0, color=[\"black\",\"firebrick\"])\n",
    "\n",
    "plt.xlabel(\"\")\n",
    "plt.ylabel(\"Total of gb used per Month\")\n",
    "plt.legend([])\n",
    "plt.show()"
   ]
  },
  {
   "cell_type": "markdown",
   "metadata": {
    "id": "UN9zwuMP0q1N"
   },
   "source": [
    "Para el uso de datos de internet, los usuarios de ambos planes usan casi la misma cantidad, hasta 16 a 17 GB. Se pueden concluir que para los usuarios del plan surf, es probable que se pasen de su cantidad permitida de internet de 15 GB mensuales. Por lo que también se puede inferir que este es el rubro que más utilizan comparado a las llamadas y mensajes. Los usuarios de ultimate  usan casi la misma de 17 GB a pesar de que tienen 30 GB permitidos al mes. "
   ]
  },
  {
   "cell_type": "markdown",
   "metadata": {
    "id": "tCijq3260q1N"
   },
   "source": [
    "## Ingreso"
   ]
  },
  {
   "cell_type": "code",
   "execution_count": 49,
   "metadata": {
    "id": "tz-dq_V00q1O",
    "trusted": false
   },
   "outputs": [
    {
     "name": "stdout",
     "output_type": "stream",
     "text": [
      "El valor de la media de los ingresos es: \n"
     ]
    },
    {
     "data": {
      "text/plain": [
       "64.25493240296555"
      ]
     },
     "execution_count": 49,
     "metadata": {},
     "output_type": "execute_result"
    }
   ],
   "source": [
    "print(\"El valor de la media de los ingresos es: \")\n",
    "df[\"total_revenue\"].mean()"
   ]
  },
  {
   "cell_type": "code",
   "execution_count": 50,
   "metadata": {
    "trusted": false
   },
   "outputs": [
    {
     "data": {
      "image/png": "[encoded data removed]",
      "text/plain": [
       "<Figure size 640x480 with 1 Axes>"
      ]
     },
     "metadata": {},
     "output_type": "display_data"
    }
   ],
   "source": [
    "sns.boxplot(x=df[\"total_revenue\"])\n",
    "plt.title(\"Total Revenue Distribution\")\n",
    "plt.xlabel(\"\")\n",
    "plt.show()"
   ]
  },
  {
   "cell_type": "code",
   "execution_count": 51,
   "metadata": {
    "trusted": false
   },
   "outputs": [
    {
     "name": "stdout",
     "output_type": "stream",
     "text": [
      "El valor de la mediana de los ingresos es: \n"
     ]
    },
    {
     "data": {
      "text/plain": [
       "70.0"
      ]
     },
     "execution_count": 51,
     "metadata": {},
     "output_type": "execute_result"
    }
   ],
   "source": [
    "print(\"El valor de la mediana de los ingresos es: \")\n",
    "df[\"total_revenue\"].median()"
   ]
  },
  {
   "cell_type": "code",
   "execution_count": 52,
   "metadata": {
    "trusted": false
   },
   "outputs": [
    {
     "name": "stdout",
     "output_type": "stream",
     "text": [
      "El valor de la media de los ingresos del plan surf es: \n"
     ]
    },
    {
     "data": {
      "text/plain": [
       "60.566153846153846"
      ]
     },
     "execution_count": 52,
     "metadata": {},
     "output_type": "execute_result"
    }
   ],
   "source": [
    "print(\"El valor de la media de los ingresos del plan surf es: \")\n",
    "df[df[\"plan\"] == \"surf\"][\"total_revenue\"].mean()"
   ]
  },
  {
   "cell_type": "code",
   "execution_count": 53,
   "metadata": {
    "trusted": false
   },
   "outputs": [
    {
     "data": {
      "image/png": "[encoded data removed]",
      "text/plain": [
       "<Figure size 640x480 with 1 Axes>"
      ]
     },
     "metadata": {},
     "output_type": "display_data"
    }
   ],
   "source": [
    "surf_data = df[df[\"plan\"] == \"surf\"][\"total_revenue\"]\n",
    "surf_revenue_mean = surf_data.mean()\n",
    "\n",
    "sns.boxplot(x=surf_data)\n",
    "\n",
    "plt.axvline(surf_revenue_mean, color=\"red\", linestyle='--', label=f'Average: {surf_revenue_mean:.2f}')\n",
    "\n",
    "plt.title(\"Surf Revenue Distribution\")\n",
    "plt.xlabel(\"\")\n",
    "plt.legend()\n",
    "plt.show()"
   ]
  },
  {
   "cell_type": "code",
   "execution_count": 54,
   "metadata": {
    "trusted": false
   },
   "outputs": [
    {
     "name": "stdout",
     "output_type": "stream",
     "text": [
      "El valor de la media de los ingresos del plan ultimate es: \n"
     ]
    },
    {
     "data": {
      "text/plain": [
       "72.31388888888888"
      ]
     },
     "execution_count": 54,
     "metadata": {},
     "output_type": "execute_result"
    }
   ],
   "source": [
    "print(\"El valor de la media de los ingresos del plan ultimate es: \")\n",
    "df[df[\"plan\"] == \"ultimate\"][\"total_revenue\"].mean()"
   ]
  },
  {
   "cell_type": "code",
   "execution_count": 55,
   "metadata": {
    "trusted": false
   },
   "outputs": [
    {
     "data": {
      "image/png": "[encoded data removed]",
      "text/plain": [
       "<Figure size 640x480 with 1 Axes>"
      ]
     },
     "metadata": {},
     "output_type": "display_data"
    }
   ],
   "source": [
    "ultimate_data = df[df[\"plan\"] == \"ultimate\"][\"total_revenue\"]\n",
    "ultimate_revenue_mean = ultimate_data.mean()\n",
    "\n",
    "sns.boxplot(x=ultimate_data)\n",
    "\n",
    "plt.axvline(ultimate_revenue_mean, color=\"red\", linestyle='--', label=f'Average: {ultimate_revenue_mean:.2f}')\n",
    "\n",
    "plt.title(\"Ultimate Revenue Distribution\")\n",
    "plt.xlabel(\"\")\n",
    "plt.legend()\n",
    "plt.show()"
   ]
  },
  {
   "cell_type": "code",
   "execution_count": 56,
   "metadata": {
    "trusted": false
   },
   "outputs": [
    {
     "name": "stdout",
     "output_type": "stream",
     "text": [
      "La desviación estándar de los ingresos es: \n"
     ]
    },
    {
     "data": {
      "text/plain": [
       "46.5768579535089"
      ]
     },
     "execution_count": 56,
     "metadata": {},
     "output_type": "execute_result"
    }
   ],
   "source": [
    "print(\"La desviación estándar de los ingresos es: \")\n",
    "df[\"total_revenue\"].std()"
   ]
  },
  {
   "cell_type": "markdown",
   "metadata": {
    "id": "KAFidcXZ0q1P"
   },
   "source": [
    "El valor promedio de ingresos que generan ambos planes es de 70 dólares. Sin embargo, el plan que genera más ingresos promedios comparados a su costo base de 20 USD es el surf, ya que los ingresos promedio que genera es de 60 USD. Es decir que el usuario promedio se excede en el uso de uno de los rubros de su plan, ya que genera 40 USD más en promedio. Con base en los análisis del uso de llamadas, mensajes y datos, se corroboró que los usuarios de surf usan en promedio 17 GB de los 15 GB permitidos. Por lo que al sobrepasar este límite genera el cargo de 10 USD por GB de más y así se generan más ingresos para este plan. \n",
    "\n",
    "Comparado con el plan ultimate que genera en promedio 72.31, solo 2 dólares más que el costo base del plan de 70 USD. Esto significa que los límites de este plan son adecuados al costo que deben de pagar los usuarios y que los rubros de cada plan cubren de manera ideal las necesidades de los usuarios. "
   ]
  },
  {
   "cell_type": "markdown",
   "metadata": {
    "id": "ajJ7VKeI0q1Q"
   },
   "source": [
    "## Prueba las hipótesis estadísticas"
   ]
  },
  {
   "cell_type": "markdown",
   "metadata": {
    "id": "IQwa_hsh0q1Q"
   },
   "source": [
    "-  H0= El promedio de los ingresos que generan surf es el mismo que el promedio de ingresos de ultimate.\n",
    "-  H1= El promedio de los ingresos que generan surf es diferente al promedio de ingresos de ultimate. \n",
    "-  Valor alpha = 0.05"
   ]
  },
  {
   "cell_type": "code",
   "execution_count": 57,
   "metadata": {
    "id": "nFoPNlPq0q1R",
    "trusted": false
   },
   "outputs": [
    {
     "name": "stdout",
     "output_type": "stream",
     "text": [
      "valor p:  1.8767813403765117e-08\n",
      "Rechazamos la hipótesis nula\n"
     ]
    }
   ],
   "source": [
    "# Prueba las hipótesis \n",
    "surf_revenue = df[df[\"plan\"] == \"surf\"]\n",
    "ultimate_revenue = df[df[\"plan\"] == \"ultimate\"]\n",
    "\n",
    "alpha = 0.05 \n",
    "\n",
    "results_revenue = st.ttest_ind(surf_revenue[\"total_revenue\"], ultimate_revenue[\"total_revenue\"]) \n",
    "\n",
    "print(\"valor p: \", results_revenue.pvalue) \n",
    "\n",
    "if results_revenue.pvalue < alpha: \n",
    "    print(\"Rechazamos la hipótesis nula\")\n",
    "else:\n",
    "    print(\"No podemos rechazar la hipótesis nula\")"
   ]
  },
  {
   "cell_type": "markdown",
   "metadata": {
    "id": "LsBgitqj0q1R"
   },
   "source": [
    "-  H0= El premedio entre los ingresos que generan los usuarios en el área de NY-NJ es el mismo que el de los usuarios del resto de los estados\n",
    "-  H1= El premedio entre los ingresos que generan los usuarios en el área de NY-NJ es diferente al de los usuarios del resto de los estados\n",
    "-  Valor alpha = 0.05"
   ]
  },
  {
   "cell_type": "code",
   "execution_count": 58,
   "metadata": {
    "id": "Cqcj7wrZ0q1S",
    "trusted": false
   },
   "outputs": [],
   "source": [
    "# Prueba las hipótesis\n",
    "df_merged = df.merge(users, on=\"user_id\", how=\"left\")"
   ]
  },
  {
   "cell_type": "code",
   "execution_count": 59,
   "metadata": {
    "trusted": false
   },
   "outputs": [
    {
     "data": {
      "text/html": [
       "<div>\n",
       "<style scoped>\n",
       "    .dataframe tbody tr th:only-of-type {\n",
       "        vertical-align: middle;\n",
       "    }\n",
       "\n",
       "    .dataframe tbody tr th {\n",
       "        vertical-align: top;\n",
       "    }\n",
       "\n",
       "    .dataframe thead th {\n",
       "        text-align: right;\n",
       "    }\n",
       "</style>\n",
       "<table border=\"1\" class=\"dataframe\">\n",
       "  <thead>\n",
       "    <tr style=\"text-align: right;\">\n",
       "      <th></th>\n",
       "      <th>user_id</th>\n",
       "      <th>month</th>\n",
       "      <th>total_minutes</th>\n",
       "      <th>total_calls</th>\n",
       "      <th>total_messages</th>\n",
       "      <th>gb_used</th>\n",
       "      <th>plan_x</th>\n",
       "      <th>minutes_limit</th>\n",
       "      <th>messages_limit</th>\n",
       "      <th>data_limit</th>\n",
       "      <th>...</th>\n",
       "      <th>extra_data_cost</th>\n",
       "      <th>total_revenue</th>\n",
       "      <th>first_name</th>\n",
       "      <th>last_name</th>\n",
       "      <th>age</th>\n",
       "      <th>city</th>\n",
       "      <th>state</th>\n",
       "      <th>reg_date</th>\n",
       "      <th>plan_y</th>\n",
       "      <th>churn_date</th>\n",
       "    </tr>\n",
       "  </thead>\n",
       "  <tbody>\n",
       "    <tr>\n",
       "      <th>0</th>\n",
       "      <td>1000</td>\n",
       "      <td>12</td>\n",
       "      <td>124.0</td>\n",
       "      <td>16.0</td>\n",
       "      <td>11.0</td>\n",
       "      <td>2.0</td>\n",
       "      <td>ultimate</td>\n",
       "      <td>3000</td>\n",
       "      <td>1000</td>\n",
       "      <td>30</td>\n",
       "      <td>...</td>\n",
       "      <td>0.0</td>\n",
       "      <td>70.00</td>\n",
       "      <td>Anamaria</td>\n",
       "      <td>Bauer</td>\n",
       "      <td>45</td>\n",
       "      <td>Atlanta-Sandy Springs-Roswell, GA</td>\n",
       "      <td>GA</td>\n",
       "      <td>2018-12-24</td>\n",
       "      <td>ultimate</td>\n",
       "      <td>2024-12-27</td>\n",
       "    </tr>\n",
       "    <tr>\n",
       "      <th>1</th>\n",
       "      <td>1001</td>\n",
       "      <td>8</td>\n",
       "      <td>182.0</td>\n",
       "      <td>27.0</td>\n",
       "      <td>30.0</td>\n",
       "      <td>7.0</td>\n",
       "      <td>surf</td>\n",
       "      <td>500</td>\n",
       "      <td>50</td>\n",
       "      <td>15</td>\n",
       "      <td>...</td>\n",
       "      <td>0.0</td>\n",
       "      <td>20.00</td>\n",
       "      <td>Mickey</td>\n",
       "      <td>Wilkerson</td>\n",
       "      <td>28</td>\n",
       "      <td>Seattle-Tacoma-Bellevue, WA</td>\n",
       "      <td>WA</td>\n",
       "      <td>2018-08-13</td>\n",
       "      <td>surf</td>\n",
       "      <td>2024-12-27</td>\n",
       "    </tr>\n",
       "    <tr>\n",
       "      <th>2</th>\n",
       "      <td>1001</td>\n",
       "      <td>9</td>\n",
       "      <td>315.0</td>\n",
       "      <td>49.0</td>\n",
       "      <td>44.0</td>\n",
       "      <td>14.0</td>\n",
       "      <td>surf</td>\n",
       "      <td>500</td>\n",
       "      <td>50</td>\n",
       "      <td>15</td>\n",
       "      <td>...</td>\n",
       "      <td>0.0</td>\n",
       "      <td>20.00</td>\n",
       "      <td>Mickey</td>\n",
       "      <td>Wilkerson</td>\n",
       "      <td>28</td>\n",
       "      <td>Seattle-Tacoma-Bellevue, WA</td>\n",
       "      <td>WA</td>\n",
       "      <td>2018-08-13</td>\n",
       "      <td>surf</td>\n",
       "      <td>2024-12-27</td>\n",
       "    </tr>\n",
       "    <tr>\n",
       "      <th>3</th>\n",
       "      <td>1001</td>\n",
       "      <td>10</td>\n",
       "      <td>393.0</td>\n",
       "      <td>65.0</td>\n",
       "      <td>53.0</td>\n",
       "      <td>22.0</td>\n",
       "      <td>surf</td>\n",
       "      <td>500</td>\n",
       "      <td>50</td>\n",
       "      <td>15</td>\n",
       "      <td>...</td>\n",
       "      <td>70.0</td>\n",
       "      <td>90.03</td>\n",
       "      <td>Mickey</td>\n",
       "      <td>Wilkerson</td>\n",
       "      <td>28</td>\n",
       "      <td>Seattle-Tacoma-Bellevue, WA</td>\n",
       "      <td>WA</td>\n",
       "      <td>2018-08-13</td>\n",
       "      <td>surf</td>\n",
       "      <td>2024-12-27</td>\n",
       "    </tr>\n",
       "    <tr>\n",
       "      <th>4</th>\n",
       "      <td>1001</td>\n",
       "      <td>11</td>\n",
       "      <td>426.0</td>\n",
       "      <td>64.0</td>\n",
       "      <td>36.0</td>\n",
       "      <td>19.0</td>\n",
       "      <td>surf</td>\n",
       "      <td>500</td>\n",
       "      <td>50</td>\n",
       "      <td>15</td>\n",
       "      <td>...</td>\n",
       "      <td>40.0</td>\n",
       "      <td>60.00</td>\n",
       "      <td>Mickey</td>\n",
       "      <td>Wilkerson</td>\n",
       "      <td>28</td>\n",
       "      <td>Seattle-Tacoma-Bellevue, WA</td>\n",
       "      <td>WA</td>\n",
       "      <td>2018-08-13</td>\n",
       "      <td>surf</td>\n",
       "      <td>2024-12-27</td>\n",
       "    </tr>\n",
       "    <tr>\n",
       "      <th>...</th>\n",
       "      <td>...</td>\n",
       "      <td>...</td>\n",
       "      <td>...</td>\n",
       "      <td>...</td>\n",
       "      <td>...</td>\n",
       "      <td>...</td>\n",
       "      <td>...</td>\n",
       "      <td>...</td>\n",
       "      <td>...</td>\n",
       "      <td>...</td>\n",
       "      <td>...</td>\n",
       "      <td>...</td>\n",
       "      <td>...</td>\n",
       "      <td>...</td>\n",
       "      <td>...</td>\n",
       "      <td>...</td>\n",
       "      <td>...</td>\n",
       "      <td>...</td>\n",
       "      <td>...</td>\n",
       "      <td>...</td>\n",
       "      <td>...</td>\n",
       "    </tr>\n",
       "    <tr>\n",
       "      <th>2288</th>\n",
       "      <td>1349</td>\n",
       "      <td>12</td>\n",
       "      <td>0.0</td>\n",
       "      <td>0.0</td>\n",
       "      <td>61.0</td>\n",
       "      <td>13.0</td>\n",
       "      <td>surf</td>\n",
       "      <td>500</td>\n",
       "      <td>50</td>\n",
       "      <td>15</td>\n",
       "      <td>...</td>\n",
       "      <td>0.0</td>\n",
       "      <td>20.11</td>\n",
       "      <td>Florentina</td>\n",
       "      <td>Diaz</td>\n",
       "      <td>69</td>\n",
       "      <td>Boston-Cambridge-Newton, MA-NH</td>\n",
       "      <td>MA-NH</td>\n",
       "      <td>2018-10-01</td>\n",
       "      <td>surf</td>\n",
       "      <td>2024-12-27</td>\n",
       "    </tr>\n",
       "    <tr>\n",
       "      <th>2289</th>\n",
       "      <td>1361</td>\n",
       "      <td>5</td>\n",
       "      <td>0.0</td>\n",
       "      <td>0.0</td>\n",
       "      <td>2.0</td>\n",
       "      <td>2.0</td>\n",
       "      <td>surf</td>\n",
       "      <td>500</td>\n",
       "      <td>50</td>\n",
       "      <td>15</td>\n",
       "      <td>...</td>\n",
       "      <td>0.0</td>\n",
       "      <td>20.00</td>\n",
       "      <td>Jacelyn</td>\n",
       "      <td>Hoffman</td>\n",
       "      <td>45</td>\n",
       "      <td>Birmingham-Hoover, AL</td>\n",
       "      <td>AL</td>\n",
       "      <td>2018-04-14</td>\n",
       "      <td>surf</td>\n",
       "      <td>2024-12-27</td>\n",
       "    </tr>\n",
       "    <tr>\n",
       "      <th>2290</th>\n",
       "      <td>1482</td>\n",
       "      <td>10</td>\n",
       "      <td>0.0</td>\n",
       "      <td>0.0</td>\n",
       "      <td>2.0</td>\n",
       "      <td>0.0</td>\n",
       "      <td>ultimate</td>\n",
       "      <td>3000</td>\n",
       "      <td>1000</td>\n",
       "      <td>30</td>\n",
       "      <td>...</td>\n",
       "      <td>0.0</td>\n",
       "      <td>70.00</td>\n",
       "      <td>Armand</td>\n",
       "      <td>Glenn</td>\n",
       "      <td>70</td>\n",
       "      <td>New York-Newark-Jersey City, NY-NJ-PA</td>\n",
       "      <td>NY-NJ-PA</td>\n",
       "      <td>2018-01-01</td>\n",
       "      <td>ultimate</td>\n",
       "      <td>2024-12-27</td>\n",
       "    </tr>\n",
       "    <tr>\n",
       "      <th>2291</th>\n",
       "      <td>1108</td>\n",
       "      <td>12</td>\n",
       "      <td>0.0</td>\n",
       "      <td>0.0</td>\n",
       "      <td>0.0</td>\n",
       "      <td>1.0</td>\n",
       "      <td>ultimate</td>\n",
       "      <td>3000</td>\n",
       "      <td>1000</td>\n",
       "      <td>30</td>\n",
       "      <td>...</td>\n",
       "      <td>0.0</td>\n",
       "      <td>70.00</td>\n",
       "      <td>Porfirio</td>\n",
       "      <td>Kane</td>\n",
       "      <td>45</td>\n",
       "      <td>Salt Lake City, UT</td>\n",
       "      <td>UT</td>\n",
       "      <td>2018-12-30</td>\n",
       "      <td>ultimate</td>\n",
       "      <td>2024-12-27</td>\n",
       "    </tr>\n",
       "    <tr>\n",
       "      <th>2292</th>\n",
       "      <td>1311</td>\n",
       "      <td>6</td>\n",
       "      <td>0.0</td>\n",
       "      <td>0.0</td>\n",
       "      <td>0.0</td>\n",
       "      <td>2.0</td>\n",
       "      <td>ultimate</td>\n",
       "      <td>3000</td>\n",
       "      <td>1000</td>\n",
       "      <td>30</td>\n",
       "      <td>...</td>\n",
       "      <td>0.0</td>\n",
       "      <td>70.00</td>\n",
       "      <td>Cherlyn</td>\n",
       "      <td>Saunders</td>\n",
       "      <td>69</td>\n",
       "      <td>Memphis, TN-MS-AR</td>\n",
       "      <td>TN-MS-AR</td>\n",
       "      <td>2018-06-27</td>\n",
       "      <td>ultimate</td>\n",
       "      <td>2024-12-27</td>\n",
       "    </tr>\n",
       "  </tbody>\n",
       "</table>\n",
       "<p>2293 rows × 29 columns</p>\n",
       "</div>"
      ],
      "text/plain": [
       "     user_id  month  total_minutes  total_calls  total_messages  gb_used  \\\n",
       "0       1000     12          124.0         16.0            11.0      2.0   \n",
       "1       1001      8          182.0         27.0            30.0      7.0   \n",
       "2       1001      9          315.0         49.0            44.0     14.0   \n",
       "3       1001     10          393.0         65.0            53.0     22.0   \n",
       "4       1001     11          426.0         64.0            36.0     19.0   \n",
       "...      ...    ...            ...          ...             ...      ...   \n",
       "2288    1349     12            0.0          0.0            61.0     13.0   \n",
       "2289    1361      5            0.0          0.0             2.0      2.0   \n",
       "2290    1482     10            0.0          0.0             2.0      0.0   \n",
       "2291    1108     12            0.0          0.0             0.0      1.0   \n",
       "2292    1311      6            0.0          0.0             0.0      2.0   \n",
       "\n",
       "        plan_x  minutes_limit  messages_limit  data_limit  ...  \\\n",
       "0     ultimate           3000            1000          30  ...   \n",
       "1         surf            500              50          15  ...   \n",
       "2         surf            500              50          15  ...   \n",
       "3         surf            500              50          15  ...   \n",
       "4         surf            500              50          15  ...   \n",
       "...        ...            ...             ...         ...  ...   \n",
       "2288      surf            500              50          15  ...   \n",
       "2289      surf            500              50          15  ...   \n",
       "2290  ultimate           3000            1000          30  ...   \n",
       "2291  ultimate           3000            1000          30  ...   \n",
       "2292  ultimate           3000            1000          30  ...   \n",
       "\n",
       "      extra_data_cost  total_revenue  first_name  last_name  age  \\\n",
       "0                 0.0          70.00    Anamaria      Bauer   45   \n",
       "1                 0.0          20.00      Mickey  Wilkerson   28   \n",
       "2                 0.0          20.00      Mickey  Wilkerson   28   \n",
       "3                70.0          90.03      Mickey  Wilkerson   28   \n",
       "4                40.0          60.00      Mickey  Wilkerson   28   \n",
       "...               ...            ...         ...        ...  ...   \n",
       "2288              0.0          20.11  Florentina       Diaz   69   \n",
       "2289              0.0          20.00     Jacelyn    Hoffman   45   \n",
       "2290              0.0          70.00      Armand      Glenn   70   \n",
       "2291              0.0          70.00    Porfirio       Kane   45   \n",
       "2292              0.0          70.00     Cherlyn   Saunders   69   \n",
       "\n",
       "                                        city     state    reg_date    plan_y  \\\n",
       "0         Atlanta-Sandy Springs-Roswell, GA         GA  2018-12-24  ultimate   \n",
       "1               Seattle-Tacoma-Bellevue, WA         WA  2018-08-13      surf   \n",
       "2               Seattle-Tacoma-Bellevue, WA         WA  2018-08-13      surf   \n",
       "3               Seattle-Tacoma-Bellevue, WA         WA  2018-08-13      surf   \n",
       "4               Seattle-Tacoma-Bellevue, WA         WA  2018-08-13      surf   \n",
       "...                                      ...       ...         ...       ...   \n",
       "2288         Boston-Cambridge-Newton, MA-NH      MA-NH  2018-10-01      surf   \n",
       "2289                  Birmingham-Hoover, AL         AL  2018-04-14      surf   \n",
       "2290  New York-Newark-Jersey City, NY-NJ-PA   NY-NJ-PA  2018-01-01  ultimate   \n",
       "2291                     Salt Lake City, UT         UT  2018-12-30  ultimate   \n",
       "2292                      Memphis, TN-MS-AR   TN-MS-AR  2018-06-27  ultimate   \n",
       "\n",
       "      churn_date  \n",
       "0     2024-12-27  \n",
       "1     2024-12-27  \n",
       "2     2024-12-27  \n",
       "3     2024-12-27  \n",
       "4     2024-12-27  \n",
       "...          ...  \n",
       "2288  2024-12-27  \n",
       "2289  2024-12-27  \n",
       "2290  2024-12-27  \n",
       "2291  2024-12-27  \n",
       "2292  2024-12-27  \n",
       "\n",
       "[2293 rows x 29 columns]"
      ]
     },
     "execution_count": 59,
     "metadata": {},
     "output_type": "execute_result"
    }
   ],
   "source": [
    "df_merged"
   ]
  },
  {
   "cell_type": "code",
   "execution_count": 60,
   "metadata": {
    "scrolled": true,
    "trusted": false
   },
   "outputs": [
    {
     "data": {
      "text/html": [
       "<div>\n",
       "<style scoped>\n",
       "    .dataframe tbody tr th:only-of-type {\n",
       "        vertical-align: middle;\n",
       "    }\n",
       "\n",
       "    .dataframe tbody tr th {\n",
       "        vertical-align: top;\n",
       "    }\n",
       "\n",
       "    .dataframe thead th {\n",
       "        text-align: right;\n",
       "    }\n",
       "</style>\n",
       "<table border=\"1\" class=\"dataframe\">\n",
       "  <thead>\n",
       "    <tr style=\"text-align: right;\">\n",
       "      <th></th>\n",
       "      <th>user_id</th>\n",
       "      <th>month</th>\n",
       "      <th>total_minutes</th>\n",
       "      <th>total_calls</th>\n",
       "      <th>total_messages</th>\n",
       "      <th>gb_used</th>\n",
       "      <th>plan_x</th>\n",
       "      <th>minutes_limit</th>\n",
       "      <th>messages_limit</th>\n",
       "      <th>data_limit</th>\n",
       "      <th>...</th>\n",
       "      <th>extra_data_cost</th>\n",
       "      <th>total_revenue</th>\n",
       "      <th>first_name</th>\n",
       "      <th>last_name</th>\n",
       "      <th>age</th>\n",
       "      <th>city</th>\n",
       "      <th>state</th>\n",
       "      <th>reg_date</th>\n",
       "      <th>plan_y</th>\n",
       "      <th>churn_date</th>\n",
       "    </tr>\n",
       "  </thead>\n",
       "  <tbody>\n",
       "    <tr>\n",
       "      <th>56</th>\n",
       "      <td>1014</td>\n",
       "      <td>11</td>\n",
       "      <td>163.0</td>\n",
       "      <td>28.0</td>\n",
       "      <td>9.0</td>\n",
       "      <td>2.0</td>\n",
       "      <td>surf</td>\n",
       "      <td>500</td>\n",
       "      <td>50</td>\n",
       "      <td>15</td>\n",
       "      <td>...</td>\n",
       "      <td>0.0</td>\n",
       "      <td>20.00</td>\n",
       "      <td>Edmundo</td>\n",
       "      <td>Simon</td>\n",
       "      <td>61</td>\n",
       "      <td>New York-Newark-Jersey City, NY-NJ-PA</td>\n",
       "      <td>NY-NJ-PA</td>\n",
       "      <td>2018-11-25</td>\n",
       "      <td>surf</td>\n",
       "      <td>2024-12-27</td>\n",
       "    </tr>\n",
       "    <tr>\n",
       "      <th>57</th>\n",
       "      <td>1014</td>\n",
       "      <td>12</td>\n",
       "      <td>1114.0</td>\n",
       "      <td>150.0</td>\n",
       "      <td>64.0</td>\n",
       "      <td>8.0</td>\n",
       "      <td>surf</td>\n",
       "      <td>500</td>\n",
       "      <td>50</td>\n",
       "      <td>15</td>\n",
       "      <td>...</td>\n",
       "      <td>0.0</td>\n",
       "      <td>38.56</td>\n",
       "      <td>Edmundo</td>\n",
       "      <td>Simon</td>\n",
       "      <td>61</td>\n",
       "      <td>New York-Newark-Jersey City, NY-NJ-PA</td>\n",
       "      <td>NY-NJ-PA</td>\n",
       "      <td>2018-11-25</td>\n",
       "      <td>surf</td>\n",
       "      <td>2024-12-27</td>\n",
       "    </tr>\n",
       "    <tr>\n",
       "      <th>75</th>\n",
       "      <td>1022</td>\n",
       "      <td>5</td>\n",
       "      <td>302.0</td>\n",
       "      <td>39.0</td>\n",
       "      <td>0.0</td>\n",
       "      <td>5.0</td>\n",
       "      <td>surf</td>\n",
       "      <td>500</td>\n",
       "      <td>50</td>\n",
       "      <td>15</td>\n",
       "      <td>...</td>\n",
       "      <td>0.0</td>\n",
       "      <td>20.00</td>\n",
       "      <td>Bo</td>\n",
       "      <td>Snow</td>\n",
       "      <td>73</td>\n",
       "      <td>New York-Newark-Jersey City, NY-NJ-PA</td>\n",
       "      <td>NY-NJ-PA</td>\n",
       "      <td>2018-04-20</td>\n",
       "      <td>surf</td>\n",
       "      <td>2018-09-07</td>\n",
       "    </tr>\n",
       "    <tr>\n",
       "      <th>76</th>\n",
       "      <td>1022</td>\n",
       "      <td>6</td>\n",
       "      <td>490.0</td>\n",
       "      <td>76.0</td>\n",
       "      <td>0.0</td>\n",
       "      <td>23.0</td>\n",
       "      <td>surf</td>\n",
       "      <td>500</td>\n",
       "      <td>50</td>\n",
       "      <td>15</td>\n",
       "      <td>...</td>\n",
       "      <td>80.0</td>\n",
       "      <td>100.00</td>\n",
       "      <td>Bo</td>\n",
       "      <td>Snow</td>\n",
       "      <td>73</td>\n",
       "      <td>New York-Newark-Jersey City, NY-NJ-PA</td>\n",
       "      <td>NY-NJ-PA</td>\n",
       "      <td>2018-04-20</td>\n",
       "      <td>surf</td>\n",
       "      <td>2018-09-07</td>\n",
       "    </tr>\n",
       "    <tr>\n",
       "      <th>77</th>\n",
       "      <td>1022</td>\n",
       "      <td>7</td>\n",
       "      <td>475.0</td>\n",
       "      <td>70.0</td>\n",
       "      <td>0.0</td>\n",
       "      <td>10.0</td>\n",
       "      <td>surf</td>\n",
       "      <td>500</td>\n",
       "      <td>50</td>\n",
       "      <td>15</td>\n",
       "      <td>...</td>\n",
       "      <td>0.0</td>\n",
       "      <td>20.00</td>\n",
       "      <td>Bo</td>\n",
       "      <td>Snow</td>\n",
       "      <td>73</td>\n",
       "      <td>New York-Newark-Jersey City, NY-NJ-PA</td>\n",
       "      <td>NY-NJ-PA</td>\n",
       "      <td>2018-04-20</td>\n",
       "      <td>surf</td>\n",
       "      <td>2018-09-07</td>\n",
       "    </tr>\n",
       "    <tr>\n",
       "      <th>...</th>\n",
       "      <td>...</td>\n",
       "      <td>...</td>\n",
       "      <td>...</td>\n",
       "      <td>...</td>\n",
       "      <td>...</td>\n",
       "      <td>...</td>\n",
       "      <td>...</td>\n",
       "      <td>...</td>\n",
       "      <td>...</td>\n",
       "      <td>...</td>\n",
       "      <td>...</td>\n",
       "      <td>...</td>\n",
       "      <td>...</td>\n",
       "      <td>...</td>\n",
       "      <td>...</td>\n",
       "      <td>...</td>\n",
       "      <td>...</td>\n",
       "      <td>...</td>\n",
       "      <td>...</td>\n",
       "      <td>...</td>\n",
       "      <td>...</td>\n",
       "    </tr>\n",
       "    <tr>\n",
       "      <th>2260</th>\n",
       "      <td>1080</td>\n",
       "      <td>9</td>\n",
       "      <td>0.0</td>\n",
       "      <td>0.0</td>\n",
       "      <td>64.0</td>\n",
       "      <td>25.0</td>\n",
       "      <td>surf</td>\n",
       "      <td>500</td>\n",
       "      <td>50</td>\n",
       "      <td>15</td>\n",
       "      <td>...</td>\n",
       "      <td>100.0</td>\n",
       "      <td>120.14</td>\n",
       "      <td>Neal</td>\n",
       "      <td>Mcgee</td>\n",
       "      <td>45</td>\n",
       "      <td>New York-Newark-Jersey City, NY-NJ-PA</td>\n",
       "      <td>NY-NJ-PA</td>\n",
       "      <td>2018-08-03</td>\n",
       "      <td>surf</td>\n",
       "      <td>2024-12-27</td>\n",
       "    </tr>\n",
       "    <tr>\n",
       "      <th>2261</th>\n",
       "      <td>1080</td>\n",
       "      <td>10</td>\n",
       "      <td>0.0</td>\n",
       "      <td>0.0</td>\n",
       "      <td>59.0</td>\n",
       "      <td>30.0</td>\n",
       "      <td>surf</td>\n",
       "      <td>500</td>\n",
       "      <td>50</td>\n",
       "      <td>15</td>\n",
       "      <td>...</td>\n",
       "      <td>150.0</td>\n",
       "      <td>170.09</td>\n",
       "      <td>Neal</td>\n",
       "      <td>Mcgee</td>\n",
       "      <td>45</td>\n",
       "      <td>New York-Newark-Jersey City, NY-NJ-PA</td>\n",
       "      <td>NY-NJ-PA</td>\n",
       "      <td>2018-08-03</td>\n",
       "      <td>surf</td>\n",
       "      <td>2024-12-27</td>\n",
       "    </tr>\n",
       "    <tr>\n",
       "      <th>2262</th>\n",
       "      <td>1080</td>\n",
       "      <td>11</td>\n",
       "      <td>0.0</td>\n",
       "      <td>0.0</td>\n",
       "      <td>50.0</td>\n",
       "      <td>33.0</td>\n",
       "      <td>surf</td>\n",
       "      <td>500</td>\n",
       "      <td>50</td>\n",
       "      <td>15</td>\n",
       "      <td>...</td>\n",
       "      <td>180.0</td>\n",
       "      <td>200.00</td>\n",
       "      <td>Neal</td>\n",
       "      <td>Mcgee</td>\n",
       "      <td>45</td>\n",
       "      <td>New York-Newark-Jersey City, NY-NJ-PA</td>\n",
       "      <td>NY-NJ-PA</td>\n",
       "      <td>2018-08-03</td>\n",
       "      <td>surf</td>\n",
       "      <td>2024-12-27</td>\n",
       "    </tr>\n",
       "    <tr>\n",
       "      <th>2263</th>\n",
       "      <td>1080</td>\n",
       "      <td>12</td>\n",
       "      <td>0.0</td>\n",
       "      <td>0.0</td>\n",
       "      <td>61.0</td>\n",
       "      <td>24.0</td>\n",
       "      <td>surf</td>\n",
       "      <td>500</td>\n",
       "      <td>50</td>\n",
       "      <td>15</td>\n",
       "      <td>...</td>\n",
       "      <td>90.0</td>\n",
       "      <td>110.11</td>\n",
       "      <td>Neal</td>\n",
       "      <td>Mcgee</td>\n",
       "      <td>45</td>\n",
       "      <td>New York-Newark-Jersey City, NY-NJ-PA</td>\n",
       "      <td>NY-NJ-PA</td>\n",
       "      <td>2018-08-03</td>\n",
       "      <td>surf</td>\n",
       "      <td>2024-12-27</td>\n",
       "    </tr>\n",
       "    <tr>\n",
       "      <th>2290</th>\n",
       "      <td>1482</td>\n",
       "      <td>10</td>\n",
       "      <td>0.0</td>\n",
       "      <td>0.0</td>\n",
       "      <td>2.0</td>\n",
       "      <td>0.0</td>\n",
       "      <td>ultimate</td>\n",
       "      <td>3000</td>\n",
       "      <td>1000</td>\n",
       "      <td>30</td>\n",
       "      <td>...</td>\n",
       "      <td>0.0</td>\n",
       "      <td>70.00</td>\n",
       "      <td>Armand</td>\n",
       "      <td>Glenn</td>\n",
       "      <td>70</td>\n",
       "      <td>New York-Newark-Jersey City, NY-NJ-PA</td>\n",
       "      <td>NY-NJ-PA</td>\n",
       "      <td>2018-01-01</td>\n",
       "      <td>ultimate</td>\n",
       "      <td>2024-12-27</td>\n",
       "    </tr>\n",
       "  </tbody>\n",
       "</table>\n",
       "<p>377 rows × 29 columns</p>\n",
       "</div>"
      ],
      "text/plain": [
       "     user_id  month  total_minutes  total_calls  total_messages  gb_used  \\\n",
       "56      1014     11          163.0         28.0             9.0      2.0   \n",
       "57      1014     12         1114.0        150.0            64.0      8.0   \n",
       "75      1022      5          302.0         39.0             0.0      5.0   \n",
       "76      1022      6          490.0         76.0             0.0     23.0   \n",
       "77      1022      7          475.0         70.0             0.0     10.0   \n",
       "...      ...    ...            ...          ...             ...      ...   \n",
       "2260    1080      9            0.0          0.0            64.0     25.0   \n",
       "2261    1080     10            0.0          0.0            59.0     30.0   \n",
       "2262    1080     11            0.0          0.0            50.0     33.0   \n",
       "2263    1080     12            0.0          0.0            61.0     24.0   \n",
       "2290    1482     10            0.0          0.0             2.0      0.0   \n",
       "\n",
       "        plan_x  minutes_limit  messages_limit  data_limit  ...  \\\n",
       "56        surf            500              50          15  ...   \n",
       "57        surf            500              50          15  ...   \n",
       "75        surf            500              50          15  ...   \n",
       "76        surf            500              50          15  ...   \n",
       "77        surf            500              50          15  ...   \n",
       "...        ...            ...             ...         ...  ...   \n",
       "2260      surf            500              50          15  ...   \n",
       "2261      surf            500              50          15  ...   \n",
       "2262      surf            500              50          15  ...   \n",
       "2263      surf            500              50          15  ...   \n",
       "2290  ultimate           3000            1000          30  ...   \n",
       "\n",
       "      extra_data_cost  total_revenue  first_name  last_name  age  \\\n",
       "56                0.0          20.00     Edmundo      Simon   61   \n",
       "57                0.0          38.56     Edmundo      Simon   61   \n",
       "75                0.0          20.00          Bo       Snow   73   \n",
       "76               80.0         100.00          Bo       Snow   73   \n",
       "77                0.0          20.00          Bo       Snow   73   \n",
       "...               ...            ...         ...        ...  ...   \n",
       "2260            100.0         120.14        Neal      Mcgee   45   \n",
       "2261            150.0         170.09        Neal      Mcgee   45   \n",
       "2262            180.0         200.00        Neal      Mcgee   45   \n",
       "2263             90.0         110.11        Neal      Mcgee   45   \n",
       "2290              0.0          70.00      Armand      Glenn   70   \n",
       "\n",
       "                                        city     state    reg_date    plan_y  \\\n",
       "56    New York-Newark-Jersey City, NY-NJ-PA   NY-NJ-PA  2018-11-25      surf   \n",
       "57    New York-Newark-Jersey City, NY-NJ-PA   NY-NJ-PA  2018-11-25      surf   \n",
       "75    New York-Newark-Jersey City, NY-NJ-PA   NY-NJ-PA  2018-04-20      surf   \n",
       "76    New York-Newark-Jersey City, NY-NJ-PA   NY-NJ-PA  2018-04-20      surf   \n",
       "77    New York-Newark-Jersey City, NY-NJ-PA   NY-NJ-PA  2018-04-20      surf   \n",
       "...                                      ...       ...         ...       ...   \n",
       "2260  New York-Newark-Jersey City, NY-NJ-PA   NY-NJ-PA  2018-08-03      surf   \n",
       "2261  New York-Newark-Jersey City, NY-NJ-PA   NY-NJ-PA  2018-08-03      surf   \n",
       "2262  New York-Newark-Jersey City, NY-NJ-PA   NY-NJ-PA  2018-08-03      surf   \n",
       "2263  New York-Newark-Jersey City, NY-NJ-PA   NY-NJ-PA  2018-08-03      surf   \n",
       "2290  New York-Newark-Jersey City, NY-NJ-PA   NY-NJ-PA  2018-01-01  ultimate   \n",
       "\n",
       "      churn_date  \n",
       "56    2024-12-27  \n",
       "57    2024-12-27  \n",
       "75    2018-09-07  \n",
       "76    2018-09-07  \n",
       "77    2018-09-07  \n",
       "...          ...  \n",
       "2260  2024-12-27  \n",
       "2261  2024-12-27  \n",
       "2262  2024-12-27  \n",
       "2263  2024-12-27  \n",
       "2290  2024-12-27  \n",
       "\n",
       "[377 rows x 29 columns]"
      ]
     },
     "execution_count": 60,
     "metadata": {},
     "output_type": "execute_result"
    }
   ],
   "source": [
    "users_NY_NJ = df_merged[df_merged[\"city\"].str.contains(\"NY-NJ\")] \n",
    "users_NY_NJ"
   ]
  },
  {
   "cell_type": "code",
   "execution_count": 61,
   "metadata": {
    "trusted": false
   },
   "outputs": [
    {
     "data": {
      "text/html": [
       "<div>\n",
       "<style scoped>\n",
       "    .dataframe tbody tr th:only-of-type {\n",
       "        vertical-align: middle;\n",
       "    }\n",
       "\n",
       "    .dataframe tbody tr th {\n",
       "        vertical-align: top;\n",
       "    }\n",
       "\n",
       "    .dataframe thead th {\n",
       "        text-align: right;\n",
       "    }\n",
       "</style>\n",
       "<table border=\"1\" class=\"dataframe\">\n",
       "  <thead>\n",
       "    <tr style=\"text-align: right;\">\n",
       "      <th></th>\n",
       "      <th>user_id</th>\n",
       "      <th>month</th>\n",
       "      <th>total_minutes</th>\n",
       "      <th>total_calls</th>\n",
       "      <th>total_messages</th>\n",
       "      <th>gb_used</th>\n",
       "      <th>plan_x</th>\n",
       "      <th>minutes_limit</th>\n",
       "      <th>messages_limit</th>\n",
       "      <th>data_limit</th>\n",
       "      <th>...</th>\n",
       "      <th>extra_data_cost</th>\n",
       "      <th>total_revenue</th>\n",
       "      <th>first_name</th>\n",
       "      <th>last_name</th>\n",
       "      <th>age</th>\n",
       "      <th>city</th>\n",
       "      <th>state</th>\n",
       "      <th>reg_date</th>\n",
       "      <th>plan_y</th>\n",
       "      <th>churn_date</th>\n",
       "    </tr>\n",
       "  </thead>\n",
       "  <tbody>\n",
       "    <tr>\n",
       "      <th>0</th>\n",
       "      <td>1000</td>\n",
       "      <td>12</td>\n",
       "      <td>124.0</td>\n",
       "      <td>16.0</td>\n",
       "      <td>11.0</td>\n",
       "      <td>2.0</td>\n",
       "      <td>ultimate</td>\n",
       "      <td>3000</td>\n",
       "      <td>1000</td>\n",
       "      <td>30</td>\n",
       "      <td>...</td>\n",
       "      <td>0.0</td>\n",
       "      <td>70.00</td>\n",
       "      <td>Anamaria</td>\n",
       "      <td>Bauer</td>\n",
       "      <td>45</td>\n",
       "      <td>Atlanta-Sandy Springs-Roswell, GA</td>\n",
       "      <td>GA</td>\n",
       "      <td>2018-12-24</td>\n",
       "      <td>ultimate</td>\n",
       "      <td>2024-12-27</td>\n",
       "    </tr>\n",
       "    <tr>\n",
       "      <th>1</th>\n",
       "      <td>1001</td>\n",
       "      <td>8</td>\n",
       "      <td>182.0</td>\n",
       "      <td>27.0</td>\n",
       "      <td>30.0</td>\n",
       "      <td>7.0</td>\n",
       "      <td>surf</td>\n",
       "      <td>500</td>\n",
       "      <td>50</td>\n",
       "      <td>15</td>\n",
       "      <td>...</td>\n",
       "      <td>0.0</td>\n",
       "      <td>20.00</td>\n",
       "      <td>Mickey</td>\n",
       "      <td>Wilkerson</td>\n",
       "      <td>28</td>\n",
       "      <td>Seattle-Tacoma-Bellevue, WA</td>\n",
       "      <td>WA</td>\n",
       "      <td>2018-08-13</td>\n",
       "      <td>surf</td>\n",
       "      <td>2024-12-27</td>\n",
       "    </tr>\n",
       "    <tr>\n",
       "      <th>2</th>\n",
       "      <td>1001</td>\n",
       "      <td>9</td>\n",
       "      <td>315.0</td>\n",
       "      <td>49.0</td>\n",
       "      <td>44.0</td>\n",
       "      <td>14.0</td>\n",
       "      <td>surf</td>\n",
       "      <td>500</td>\n",
       "      <td>50</td>\n",
       "      <td>15</td>\n",
       "      <td>...</td>\n",
       "      <td>0.0</td>\n",
       "      <td>20.00</td>\n",
       "      <td>Mickey</td>\n",
       "      <td>Wilkerson</td>\n",
       "      <td>28</td>\n",
       "      <td>Seattle-Tacoma-Bellevue, WA</td>\n",
       "      <td>WA</td>\n",
       "      <td>2018-08-13</td>\n",
       "      <td>surf</td>\n",
       "      <td>2024-12-27</td>\n",
       "    </tr>\n",
       "    <tr>\n",
       "      <th>3</th>\n",
       "      <td>1001</td>\n",
       "      <td>10</td>\n",
       "      <td>393.0</td>\n",
       "      <td>65.0</td>\n",
       "      <td>53.0</td>\n",
       "      <td>22.0</td>\n",
       "      <td>surf</td>\n",
       "      <td>500</td>\n",
       "      <td>50</td>\n",
       "      <td>15</td>\n",
       "      <td>...</td>\n",
       "      <td>70.0</td>\n",
       "      <td>90.03</td>\n",
       "      <td>Mickey</td>\n",
       "      <td>Wilkerson</td>\n",
       "      <td>28</td>\n",
       "      <td>Seattle-Tacoma-Bellevue, WA</td>\n",
       "      <td>WA</td>\n",
       "      <td>2018-08-13</td>\n",
       "      <td>surf</td>\n",
       "      <td>2024-12-27</td>\n",
       "    </tr>\n",
       "    <tr>\n",
       "      <th>4</th>\n",
       "      <td>1001</td>\n",
       "      <td>11</td>\n",
       "      <td>426.0</td>\n",
       "      <td>64.0</td>\n",
       "      <td>36.0</td>\n",
       "      <td>19.0</td>\n",
       "      <td>surf</td>\n",
       "      <td>500</td>\n",
       "      <td>50</td>\n",
       "      <td>15</td>\n",
       "      <td>...</td>\n",
       "      <td>40.0</td>\n",
       "      <td>60.00</td>\n",
       "      <td>Mickey</td>\n",
       "      <td>Wilkerson</td>\n",
       "      <td>28</td>\n",
       "      <td>Seattle-Tacoma-Bellevue, WA</td>\n",
       "      <td>WA</td>\n",
       "      <td>2018-08-13</td>\n",
       "      <td>surf</td>\n",
       "      <td>2024-12-27</td>\n",
       "    </tr>\n",
       "    <tr>\n",
       "      <th>...</th>\n",
       "      <td>...</td>\n",
       "      <td>...</td>\n",
       "      <td>...</td>\n",
       "      <td>...</td>\n",
       "      <td>...</td>\n",
       "      <td>...</td>\n",
       "      <td>...</td>\n",
       "      <td>...</td>\n",
       "      <td>...</td>\n",
       "      <td>...</td>\n",
       "      <td>...</td>\n",
       "      <td>...</td>\n",
       "      <td>...</td>\n",
       "      <td>...</td>\n",
       "      <td>...</td>\n",
       "      <td>...</td>\n",
       "      <td>...</td>\n",
       "      <td>...</td>\n",
       "      <td>...</td>\n",
       "      <td>...</td>\n",
       "      <td>...</td>\n",
       "    </tr>\n",
       "    <tr>\n",
       "      <th>2287</th>\n",
       "      <td>1349</td>\n",
       "      <td>11</td>\n",
       "      <td>0.0</td>\n",
       "      <td>0.0</td>\n",
       "      <td>72.0</td>\n",
       "      <td>17.0</td>\n",
       "      <td>surf</td>\n",
       "      <td>500</td>\n",
       "      <td>50</td>\n",
       "      <td>15</td>\n",
       "      <td>...</td>\n",
       "      <td>20.0</td>\n",
       "      <td>40.22</td>\n",
       "      <td>Florentina</td>\n",
       "      <td>Diaz</td>\n",
       "      <td>69</td>\n",
       "      <td>Boston-Cambridge-Newton, MA-NH</td>\n",
       "      <td>MA-NH</td>\n",
       "      <td>2018-10-01</td>\n",
       "      <td>surf</td>\n",
       "      <td>2024-12-27</td>\n",
       "    </tr>\n",
       "    <tr>\n",
       "      <th>2288</th>\n",
       "      <td>1349</td>\n",
       "      <td>12</td>\n",
       "      <td>0.0</td>\n",
       "      <td>0.0</td>\n",
       "      <td>61.0</td>\n",
       "      <td>13.0</td>\n",
       "      <td>surf</td>\n",
       "      <td>500</td>\n",
       "      <td>50</td>\n",
       "      <td>15</td>\n",
       "      <td>...</td>\n",
       "      <td>0.0</td>\n",
       "      <td>20.11</td>\n",
       "      <td>Florentina</td>\n",
       "      <td>Diaz</td>\n",
       "      <td>69</td>\n",
       "      <td>Boston-Cambridge-Newton, MA-NH</td>\n",
       "      <td>MA-NH</td>\n",
       "      <td>2018-10-01</td>\n",
       "      <td>surf</td>\n",
       "      <td>2024-12-27</td>\n",
       "    </tr>\n",
       "    <tr>\n",
       "      <th>2289</th>\n",
       "      <td>1361</td>\n",
       "      <td>5</td>\n",
       "      <td>0.0</td>\n",
       "      <td>0.0</td>\n",
       "      <td>2.0</td>\n",
       "      <td>2.0</td>\n",
       "      <td>surf</td>\n",
       "      <td>500</td>\n",
       "      <td>50</td>\n",
       "      <td>15</td>\n",
       "      <td>...</td>\n",
       "      <td>0.0</td>\n",
       "      <td>20.00</td>\n",
       "      <td>Jacelyn</td>\n",
       "      <td>Hoffman</td>\n",
       "      <td>45</td>\n",
       "      <td>Birmingham-Hoover, AL</td>\n",
       "      <td>AL</td>\n",
       "      <td>2018-04-14</td>\n",
       "      <td>surf</td>\n",
       "      <td>2024-12-27</td>\n",
       "    </tr>\n",
       "    <tr>\n",
       "      <th>2291</th>\n",
       "      <td>1108</td>\n",
       "      <td>12</td>\n",
       "      <td>0.0</td>\n",
       "      <td>0.0</td>\n",
       "      <td>0.0</td>\n",
       "      <td>1.0</td>\n",
       "      <td>ultimate</td>\n",
       "      <td>3000</td>\n",
       "      <td>1000</td>\n",
       "      <td>30</td>\n",
       "      <td>...</td>\n",
       "      <td>0.0</td>\n",
       "      <td>70.00</td>\n",
       "      <td>Porfirio</td>\n",
       "      <td>Kane</td>\n",
       "      <td>45</td>\n",
       "      <td>Salt Lake City, UT</td>\n",
       "      <td>UT</td>\n",
       "      <td>2018-12-30</td>\n",
       "      <td>ultimate</td>\n",
       "      <td>2024-12-27</td>\n",
       "    </tr>\n",
       "    <tr>\n",
       "      <th>2292</th>\n",
       "      <td>1311</td>\n",
       "      <td>6</td>\n",
       "      <td>0.0</td>\n",
       "      <td>0.0</td>\n",
       "      <td>0.0</td>\n",
       "      <td>2.0</td>\n",
       "      <td>ultimate</td>\n",
       "      <td>3000</td>\n",
       "      <td>1000</td>\n",
       "      <td>30</td>\n",
       "      <td>...</td>\n",
       "      <td>0.0</td>\n",
       "      <td>70.00</td>\n",
       "      <td>Cherlyn</td>\n",
       "      <td>Saunders</td>\n",
       "      <td>69</td>\n",
       "      <td>Memphis, TN-MS-AR</td>\n",
       "      <td>TN-MS-AR</td>\n",
       "      <td>2018-06-27</td>\n",
       "      <td>ultimate</td>\n",
       "      <td>2024-12-27</td>\n",
       "    </tr>\n",
       "  </tbody>\n",
       "</table>\n",
       "<p>1916 rows × 29 columns</p>\n",
       "</div>"
      ],
      "text/plain": [
       "     user_id  month  total_minutes  total_calls  total_messages  gb_used  \\\n",
       "0       1000     12          124.0         16.0            11.0      2.0   \n",
       "1       1001      8          182.0         27.0            30.0      7.0   \n",
       "2       1001      9          315.0         49.0            44.0     14.0   \n",
       "3       1001     10          393.0         65.0            53.0     22.0   \n",
       "4       1001     11          426.0         64.0            36.0     19.0   \n",
       "...      ...    ...            ...          ...             ...      ...   \n",
       "2287    1349     11            0.0          0.0            72.0     17.0   \n",
       "2288    1349     12            0.0          0.0            61.0     13.0   \n",
       "2289    1361      5            0.0          0.0             2.0      2.0   \n",
       "2291    1108     12            0.0          0.0             0.0      1.0   \n",
       "2292    1311      6            0.0          0.0             0.0      2.0   \n",
       "\n",
       "        plan_x  minutes_limit  messages_limit  data_limit  ...  \\\n",
       "0     ultimate           3000            1000          30  ...   \n",
       "1         surf            500              50          15  ...   \n",
       "2         surf            500              50          15  ...   \n",
       "3         surf            500              50          15  ...   \n",
       "4         surf            500              50          15  ...   \n",
       "...        ...            ...             ...         ...  ...   \n",
       "2287      surf            500              50          15  ...   \n",
       "2288      surf            500              50          15  ...   \n",
       "2289      surf            500              50          15  ...   \n",
       "2291  ultimate           3000            1000          30  ...   \n",
       "2292  ultimate           3000            1000          30  ...   \n",
       "\n",
       "      extra_data_cost  total_revenue  first_name  last_name  age  \\\n",
       "0                 0.0          70.00    Anamaria      Bauer   45   \n",
       "1                 0.0          20.00      Mickey  Wilkerson   28   \n",
       "2                 0.0          20.00      Mickey  Wilkerson   28   \n",
       "3                70.0          90.03      Mickey  Wilkerson   28   \n",
       "4                40.0          60.00      Mickey  Wilkerson   28   \n",
       "...               ...            ...         ...        ...  ...   \n",
       "2287             20.0          40.22  Florentina       Diaz   69   \n",
       "2288              0.0          20.11  Florentina       Diaz   69   \n",
       "2289              0.0          20.00     Jacelyn    Hoffman   45   \n",
       "2291              0.0          70.00    Porfirio       Kane   45   \n",
       "2292              0.0          70.00     Cherlyn   Saunders   69   \n",
       "\n",
       "                                    city     state    reg_date    plan_y  \\\n",
       "0     Atlanta-Sandy Springs-Roswell, GA         GA  2018-12-24  ultimate   \n",
       "1           Seattle-Tacoma-Bellevue, WA         WA  2018-08-13      surf   \n",
       "2           Seattle-Tacoma-Bellevue, WA         WA  2018-08-13      surf   \n",
       "3           Seattle-Tacoma-Bellevue, WA         WA  2018-08-13      surf   \n",
       "4           Seattle-Tacoma-Bellevue, WA         WA  2018-08-13      surf   \n",
       "...                                  ...       ...         ...       ...   \n",
       "2287     Boston-Cambridge-Newton, MA-NH      MA-NH  2018-10-01      surf   \n",
       "2288     Boston-Cambridge-Newton, MA-NH      MA-NH  2018-10-01      surf   \n",
       "2289              Birmingham-Hoover, AL         AL  2018-04-14      surf   \n",
       "2291                 Salt Lake City, UT         UT  2018-12-30  ultimate   \n",
       "2292                  Memphis, TN-MS-AR   TN-MS-AR  2018-06-27  ultimate   \n",
       "\n",
       "      churn_date  \n",
       "0     2024-12-27  \n",
       "1     2024-12-27  \n",
       "2     2024-12-27  \n",
       "3     2024-12-27  \n",
       "4     2024-12-27  \n",
       "...          ...  \n",
       "2287  2024-12-27  \n",
       "2288  2024-12-27  \n",
       "2289  2024-12-27  \n",
       "2291  2024-12-27  \n",
       "2292  2024-12-27  \n",
       "\n",
       "[1916 rows x 29 columns]"
      ]
     },
     "execution_count": 61,
     "metadata": {},
     "output_type": "execute_result"
    }
   ],
   "source": [
    "not_users_NY_NJ = df_merged[~df_merged[\"city\"].str.contains(\"NY-NJ\")]\n",
    "not_users_NY_NJ"
   ]
  },
  {
   "cell_type": "code",
   "execution_count": 62,
   "metadata": {
    "trusted": false
   },
   "outputs": [
    {
     "name": "stdout",
     "output_type": "stream",
     "text": [
      "valor p:  0.045471076580896004\n",
      "Rechazamos la hipótesis nula\n"
     ]
    }
   ],
   "source": [
    "alpha = 0.05  \n",
    "\n",
    "results_comparative_area = st.ttest_ind(users_NY_NJ[\"total_revenue\"], not_users_NY_NJ[\"total_revenue\"]) \n",
    "\n",
    "print('valor p: ', results_comparative_area.pvalue) \n",
    "\n",
    "if results_comparative_area.pvalue < alpha: \n",
    "    print(\"Rechazamos la hipótesis nula\")\n",
    "else:\n",
    "    print(\"No podemos rechazar la hipótesis nula\")"
   ]
  },
  {
   "cell_type": "markdown",
   "metadata": {
    "id": "bbTR8UQO0q1T"
   },
   "source": [
    "## Conclusión general\n",
    "\n",
    "-El comportamiento de los usuarios surf y ultimate es muy similar en cuanto al uso de mensajes promedio, la duración de las llamadas y el uso de los datos. Tomando en cuenta su comportamiento durante varios meses, tampoco se nota una diferencia significativa. \n",
    "-Sin embargo, el uso de datos promedio es de casi 17 GB para ambos planes. Los usuarios de surf se ven afectados con cargos por exceso de datos de internet. Esto provoca que el promedio de ingresos generados sea de 60 USD, un ingreso mucho mayor a los 20 dólares del precio base. \n",
    "-Igualmente se concluye a través de pruebas de hipótesis que el promedio de ingresos generados entre ultimate y surf sí diferen y no se debe solo a la variabibilidad de los datos. \n",
    "-Se realizó también una prueba estadística entre los ingresos sel área de NY-NJ y del resto de los estados de EEUU, siendo que la diferencia del promedio entre ambas es significativa. "
   ]
  }
 ],
 "metadata": {
  "ExecuteTimeLog": [
   {
    "duration": 828,
    "start_time": "2021-11-16T09:21:11.304Z"
   },
   {
    "duration": 893,
    "start_time": "2021-11-16T09:21:17.728Z"
   },
   {
    "duration": 1150,
    "start_time": "2021-11-16T09:21:29.568Z"
   },
   {
    "duration": 3,
    "start_time": "2021-11-16T09:24:14.495Z"
   },
   {
    "duration": 120,
    "start_time": "2021-11-16T09:24:46.630Z"
   },
   {
    "duration": 3,
    "start_time": "2021-11-16T09:28:27.882Z"
   },
   {
    "duration": 4,
    "start_time": "2021-11-16T09:29:54.281Z"
   },
   {
    "duration": 3,
    "start_time": "2021-11-16T09:30:45.936Z"
   },
   {
    "duration": 4,
    "start_time": "2021-11-16T09:31:06.300Z"
   },
   {
    "duration": 113,
    "start_time": "2021-11-16T09:31:37.208Z"
   },
   {
    "duration": 143,
    "start_time": "2021-11-16T09:31:48.656Z"
   },
   {
    "duration": 98,
    "start_time": "2021-11-16T09:31:55.678Z"
   },
   {
    "duration": 3,
    "start_time": "2021-11-16T09:32:08.535Z"
   },
   {
    "duration": 111,
    "start_time": "2021-11-16T09:32:10.120Z"
   },
   {
    "duration": 3,
    "start_time": "2021-11-16T09:32:15.732Z"
   },
   {
    "duration": 4,
    "start_time": "2021-11-16T09:32:29.423Z"
   },
   {
    "duration": 3,
    "start_time": "2021-11-16T10:03:03.074Z"
   },
   {
    "duration": 3,
    "start_time": "2021-11-16T10:10:01.288Z"
   },
   {
    "duration": 3,
    "start_time": "2021-11-16T10:10:46.923Z"
   },
   {
    "duration": 121,
    "start_time": "2021-11-16T10:37:46.494Z"
   },
   {
    "duration": 125,
    "start_time": "2021-11-16T10:38:20.632Z"
   },
   {
    "duration": 112,
    "start_time": "2021-11-16T10:46:53.001Z"
   },
   {
    "duration": 110,
    "start_time": "2021-11-16T10:48:25.775Z"
   },
   {
    "duration": 3,
    "start_time": "2021-11-16T10:50:18.720Z"
   },
   {
    "duration": 4,
    "start_time": "2021-11-16T10:50:37.649Z"
   },
   {
    "duration": 2,
    "start_time": "2021-11-16T10:50:51.884Z"
   },
   {
    "duration": 3,
    "start_time": "2021-11-16T10:51:56.237Z"
   },
   {
    "duration": 101,
    "start_time": "2021-11-16T10:53:13.791Z"
   },
   {
    "duration": 3,
    "start_time": "2021-11-16T10:55:59.186Z"
   },
   {
    "duration": 3,
    "start_time": "2021-11-16T10:56:10.751Z"
   },
   {
    "duration": 3,
    "start_time": "2021-11-16T10:56:49.038Z"
   },
   {
    "duration": 3,
    "start_time": "2021-11-16T10:56:49.174Z"
   },
   {
    "duration": 4,
    "start_time": "2021-11-16T10:56:49.414Z"
   },
   {
    "duration": 3,
    "start_time": "2021-11-16T10:56:49.680Z"
   },
   {
    "duration": 3,
    "start_time": "2021-11-16T10:56:50.370Z"
   },
   {
    "duration": 114,
    "start_time": "2021-11-16T10:59:34.518Z"
   },
   {
    "duration": 3,
    "start_time": "2021-11-16T11:01:41.201Z"
   },
   {
    "duration": 116,
    "start_time": "2021-11-16T11:01:48.754Z"
   },
   {
    "duration": 3,
    "start_time": "2021-11-16T11:02:16.685Z"
   },
   {
    "duration": 3,
    "start_time": "2021-11-16T11:02:19.479Z"
   },
   {
    "duration": 3,
    "start_time": "2021-11-16T11:02:47.067Z"
   },
   {
    "duration": 3,
    "start_time": "2021-11-16T11:02:49.353Z"
   },
   {
    "duration": 3,
    "start_time": "2021-11-16T11:03:07.835Z"
   },
   {
    "duration": 3,
    "start_time": "2021-11-16T11:03:07.953Z"
   },
   {
    "duration": 112,
    "start_time": "2021-11-16T11:07:52.072Z"
   },
   {
    "duration": 187,
    "start_time": "2021-11-16T11:09:23.468Z"
   },
   {
    "duration": 4,
    "start_time": "2021-11-16T11:10:01.455Z"
   },
   {
    "duration": 3,
    "start_time": "2021-11-16T11:10:05.069Z"
   },
   {
    "duration": 4,
    "start_time": "2021-11-16T11:10:13.376Z"
   },
   {
    "duration": 3,
    "start_time": "2021-11-16T11:10:14.434Z"
   },
   {
    "duration": 3,
    "start_time": "2021-11-16T11:10:22.853Z"
   },
   {
    "duration": 4,
    "start_time": "2021-11-16T11:27:29.279Z"
   },
   {
    "duration": 4,
    "start_time": "2021-11-16T11:29:08.919Z"
   },
   {
    "duration": 118,
    "start_time": "2021-11-16T11:29:46.703Z"
   },
   {
    "duration": 437,
    "start_time": "2021-11-16T11:36:02.181Z"
   },
   {
    "duration": 157,
    "start_time": "2021-11-16T11:36:14.388Z"
   },
   {
    "duration": 207,
    "start_time": "2021-11-16T11:47:15.898Z"
   },
   {
    "duration": 3,
    "start_time": "2021-11-16T11:53:52.092Z"
   },
   {
    "duration": 3,
    "start_time": "2021-11-16T11:53:52.236Z"
   },
   {
    "duration": 3,
    "start_time": "2021-11-16T11:59:12.005Z"
   },
   {
    "duration": 112,
    "start_time": "2021-11-16T12:00:33.446Z"
   },
   {
    "duration": 3,
    "start_time": "2021-11-16T12:02:14.453Z"
   },
   {
    "duration": 3,
    "start_time": "2021-11-16T12:02:39.512Z"
   },
   {
    "duration": 106,
    "start_time": "2021-11-16T12:03:03.460Z"
   },
   {
    "duration": 3,
    "start_time": "2021-11-17T20:37:21.139Z"
   },
   {
    "duration": 3,
    "start_time": "2021-11-17T20:37:22.229Z"
   },
   {
    "duration": 3,
    "start_time": "2021-11-17T20:38:38.806Z"
   },
   {
    "duration": 3,
    "start_time": "2021-11-17T20:38:41.958Z"
   },
   {
    "duration": 3,
    "start_time": "2021-11-17T20:43:46.551Z"
   },
   {
    "duration": 4,
    "start_time": "2021-11-17T20:58:21.835Z"
   },
   {
    "duration": 3,
    "start_time": "2021-11-17T20:59:21.872Z"
   },
   {
    "duration": 4,
    "start_time": "2021-11-17T20:59:45.352Z"
   },
   {
    "duration": 4,
    "start_time": "2021-11-17T20:59:49.646Z"
   },
   {
    "duration": 159,
    "start_time": "2021-11-17T21:02:26.949Z"
   },
   {
    "duration": 3,
    "start_time": "2021-11-17T21:03:53.461Z"
   },
   {
    "duration": 3,
    "start_time": "2021-11-17T21:03:53.694Z"
   },
   {
    "duration": 3,
    "start_time": "2021-11-17T21:05:28.145Z"
   },
   {
    "duration": 116,
    "start_time": "2021-11-17T21:05:57.787Z"
   },
   {
    "duration": 3,
    "start_time": "2021-11-17T21:06:37.993Z"
   },
   {
    "duration": 3,
    "start_time": "2021-11-17T21:06:38.261Z"
   },
   {
    "duration": 3,
    "start_time": "2021-11-17T21:11:54.358Z"
   },
   {
    "duration": 3,
    "start_time": "2021-11-17T21:12:43.846Z"
   },
   {
    "duration": 4,
    "start_time": "2021-11-17T21:13:08.773Z"
   },
   {
    "duration": 3,
    "start_time": "2021-11-17T21:14:44.441Z"
   },
   {
    "duration": 3,
    "start_time": "2021-11-17T21:15:42.059Z"
   },
   {
    "duration": 4,
    "start_time": "2021-11-17T21:15:51.995Z"
   },
   {
    "duration": 3,
    "start_time": "2021-11-17T21:15:53.923Z"
   },
   {
    "duration": 3,
    "start_time": "2021-11-17T21:15:55.282Z"
   },
   {
    "duration": 3,
    "start_time": "2021-11-17T21:16:28.492Z"
   },
   {
    "duration": 3,
    "start_time": "2021-11-17T21:16:32.603Z"
   },
   {
    "duration": 3,
    "start_time": "2021-11-17T21:17:06.941Z"
   },
   {
    "duration": 98,
    "start_time": "2021-11-17T21:18:05.733Z"
   },
   {
    "duration": 4,
    "start_time": "2021-11-17T21:21:35.255Z"
   },
   {
    "duration": 3,
    "start_time": "2021-11-17T21:21:37.804Z"
   },
   {
    "duration": 4,
    "start_time": "2021-11-17T21:23:06.071Z"
   },
   {
    "duration": 3,
    "start_time": "2021-11-17T21:23:24.799Z"
   },
   {
    "duration": 3,
    "start_time": "2021-11-17T21:23:32.591Z"
   },
   {
    "duration": 98,
    "start_time": "2021-11-17T21:28:31.559Z"
   },
   {
    "duration": 3,
    "start_time": "2021-11-17T21:28:45.448Z"
   },
   {
    "duration": 3,
    "start_time": "2021-11-17T21:29:17.303Z"
   },
   {
    "duration": 3,
    "start_time": "2021-11-17T21:29:29.617Z"
   },
   {
    "duration": 3,
    "start_time": "2021-11-17T21:29:32.681Z"
   },
   {
    "duration": 3,
    "start_time": "2021-11-17T21:36:11.474Z"
   },
   {
    "duration": 3,
    "start_time": "2021-11-17T21:36:14.791Z"
   },
   {
    "duration": 3,
    "start_time": "2021-11-17T21:36:53.943Z"
   },
   {
    "duration": 3,
    "start_time": "2021-11-17T21:36:56.165Z"
   },
   {
    "duration": 4,
    "start_time": "2021-11-17T21:37:16.590Z"
   },
   {
    "duration": 3,
    "start_time": "2021-11-17T21:37:22.702Z"
   },
   {
    "duration": 4,
    "start_time": "2021-11-17T21:38:03.479Z"
   },
   {
    "duration": 3,
    "start_time": "2021-11-17T21:38:08.601Z"
   },
   {
    "duration": 3,
    "start_time": "2021-11-17T21:38:12.928Z"
   },
   {
    "duration": 3,
    "start_time": "2021-11-17T21:38:48.896Z"
   },
   {
    "duration": 2,
    "start_time": "2021-11-17T21:38:49.171Z"
   },
   {
    "duration": 4,
    "start_time": "2021-11-17T21:39:57.889Z"
   },
   {
    "duration": 3,
    "start_time": "2021-11-17T21:39:58.057Z"
   },
   {
    "duration": 3,
    "start_time": "2021-11-17T21:41:20.108Z"
   },
   {
    "duration": 3,
    "start_time": "2021-11-17T21:41:20.629Z"
   },
   {
    "duration": 3,
    "start_time": "2021-11-17T21:42:49.136Z"
   },
   {
    "duration": 3,
    "start_time": "2021-11-17T21:43:15.137Z"
   },
   {
    "duration": 4,
    "start_time": "2021-11-17T21:43:16.766Z"
   },
   {
    "duration": 4,
    "start_time": "2021-11-17T21:43:31.711Z"
   },
   {
    "duration": 3,
    "start_time": "2021-11-17T21:43:36.312Z"
   },
   {
    "duration": 4,
    "start_time": "2021-11-17T21:45:08.825Z"
   },
   {
    "duration": 4,
    "start_time": "2021-11-17T21:45:10.119Z"
   },
   {
    "duration": 4,
    "start_time": "2021-11-17T21:45:13.748Z"
   },
   {
    "duration": 3,
    "start_time": "2021-11-17T21:45:22.219Z"
   },
   {
    "duration": 3,
    "start_time": "2021-11-17T21:45:33.412Z"
   },
   {
    "duration": 2,
    "start_time": "2021-11-17T21:46:01.885Z"
   },
   {
    "duration": 3,
    "start_time": "2021-11-17T21:46:03.628Z"
   },
   {
    "duration": 107,
    "start_time": "2021-11-17T21:47:32.512Z"
   },
   {
    "duration": 103,
    "start_time": "2021-11-17T21:50:36.243Z"
   },
   {
    "duration": 3,
    "start_time": "2021-11-18T06:28:31.440Z"
   },
   {
    "duration": 3,
    "start_time": "2021-11-18T06:29:00.168Z"
   },
   {
    "duration": 3,
    "start_time": "2021-11-18T06:31:27.008Z"
   },
   {
    "duration": 2,
    "start_time": "2021-11-18T06:35:34.288Z"
   },
   {
    "duration": 2,
    "start_time": "2021-11-18T06:38:04.527Z"
   },
   {
    "duration": 2177,
    "start_time": "2024-12-11T16:08:44.869Z"
   },
   {
    "duration": 212,
    "start_time": "2024-12-11T16:08:47.049Z"
   },
   {
    "duration": 11,
    "start_time": "2024-12-11T16:09:32.586Z"
   },
   {
    "duration": 438,
    "start_time": "2024-12-11T16:10:05.989Z"
   },
   {
    "duration": 10,
    "start_time": "2024-12-11T16:10:56.185Z"
   },
   {
    "duration": 9,
    "start_time": "2024-12-11T16:19:40.331Z"
   },
   {
    "duration": 10,
    "start_time": "2024-12-11T16:19:56.204Z"
   },
   {
    "duration": 15,
    "start_time": "2024-12-11T16:21:41.653Z"
   },
   {
    "duration": 158,
    "start_time": "2024-12-11T16:21:52.510Z"
   },
   {
    "duration": 17,
    "start_time": "2024-12-11T16:21:57.446Z"
   },
   {
    "duration": 10,
    "start_time": "2024-12-11T16:22:13.873Z"
   },
   {
    "duration": 12,
    "start_time": "2024-12-11T17:15:23.668Z"
   },
   {
    "duration": 449,
    "start_time": "2024-12-11T17:15:32.946Z"
   },
   {
    "duration": 195,
    "start_time": "2024-12-11T17:15:33.397Z"
   },
   {
    "duration": 10,
    "start_time": "2024-12-11T17:15:33.593Z"
   },
   {
    "duration": 10,
    "start_time": "2024-12-11T17:15:33.605Z"
   },
   {
    "duration": 7,
    "start_time": "2024-12-11T17:15:33.618Z"
   },
   {
    "duration": 18,
    "start_time": "2024-12-11T17:15:33.628Z"
   },
   {
    "duration": 15,
    "start_time": "2024-12-11T17:15:33.648Z"
   },
   {
    "duration": 10,
    "start_time": "2024-12-11T17:15:33.666Z"
   },
   {
    "duration": 120,
    "start_time": "2024-12-11T17:15:33.677Z"
   },
   {
    "duration": 0,
    "start_time": "2024-12-11T17:15:33.801Z"
   },
   {
    "duration": 0,
    "start_time": "2024-12-11T17:15:33.802Z"
   },
   {
    "duration": 0,
    "start_time": "2024-12-11T17:15:33.804Z"
   },
   {
    "duration": 0,
    "start_time": "2024-12-11T17:15:33.805Z"
   },
   {
    "duration": 0,
    "start_time": "2024-12-11T17:15:33.806Z"
   },
   {
    "duration": 0,
    "start_time": "2024-12-11T17:15:33.807Z"
   },
   {
    "duration": 0,
    "start_time": "2024-12-11T17:15:33.808Z"
   },
   {
    "duration": 0,
    "start_time": "2024-12-11T17:15:33.809Z"
   },
   {
    "duration": 0,
    "start_time": "2024-12-11T17:15:33.811Z"
   },
   {
    "duration": 0,
    "start_time": "2024-12-11T17:15:33.812Z"
   },
   {
    "duration": 0,
    "start_time": "2024-12-11T17:15:33.813Z"
   },
   {
    "duration": 0,
    "start_time": "2024-12-11T17:15:33.814Z"
   },
   {
    "duration": 0,
    "start_time": "2024-12-11T17:15:33.815Z"
   },
   {
    "duration": 0,
    "start_time": "2024-12-11T17:15:33.816Z"
   },
   {
    "duration": 0,
    "start_time": "2024-12-11T17:15:33.843Z"
   },
   {
    "duration": 0,
    "start_time": "2024-12-11T17:15:33.844Z"
   },
   {
    "duration": 0,
    "start_time": "2024-12-11T17:15:33.846Z"
   },
   {
    "duration": 0,
    "start_time": "2024-12-11T17:15:33.848Z"
   },
   {
    "duration": 0,
    "start_time": "2024-12-11T17:15:33.849Z"
   },
   {
    "duration": 0,
    "start_time": "2024-12-11T17:15:33.850Z"
   },
   {
    "duration": 11,
    "start_time": "2024-12-11T17:15:41.575Z"
   },
   {
    "duration": 16,
    "start_time": "2024-12-11T17:17:30.056Z"
   },
   {
    "duration": 13,
    "start_time": "2024-12-11T17:17:40.767Z"
   },
   {
    "duration": 3,
    "start_time": "2024-12-11T17:19:58.702Z"
   },
   {
    "duration": 5,
    "start_time": "2024-12-11T17:20:12.717Z"
   },
   {
    "duration": 12,
    "start_time": "2024-12-11T17:25:03.451Z"
   },
   {
    "duration": 3,
    "start_time": "2024-12-11T17:25:17.965Z"
   },
   {
    "duration": 11,
    "start_time": "2024-12-11T17:25:20.393Z"
   },
   {
    "duration": 11,
    "start_time": "2024-12-11T17:28:50.110Z"
   },
   {
    "duration": 396,
    "start_time": "2024-12-11T17:29:04.225Z"
   },
   {
    "duration": 188,
    "start_time": "2024-12-11T17:29:04.624Z"
   },
   {
    "duration": 9,
    "start_time": "2024-12-11T17:29:04.814Z"
   },
   {
    "duration": 18,
    "start_time": "2024-12-11T17:29:04.826Z"
   },
   {
    "duration": 8,
    "start_time": "2024-12-11T17:29:04.845Z"
   },
   {
    "duration": 10,
    "start_time": "2024-12-11T17:29:04.855Z"
   },
   {
    "duration": 16,
    "start_time": "2024-12-11T17:29:04.867Z"
   },
   {
    "duration": 10,
    "start_time": "2024-12-11T17:29:04.885Z"
   },
   {
    "duration": 49,
    "start_time": "2024-12-11T17:29:04.897Z"
   },
   {
    "duration": 12,
    "start_time": "2024-12-11T17:29:04.949Z"
   },
   {
    "duration": 4,
    "start_time": "2024-12-11T17:29:04.963Z"
   },
   {
    "duration": 10,
    "start_time": "2024-12-11T17:29:04.969Z"
   },
   {
    "duration": 2,
    "start_time": "2024-12-11T17:29:04.981Z"
   },
   {
    "duration": 2,
    "start_time": "2024-12-11T17:29:04.985Z"
   },
   {
    "duration": 2,
    "start_time": "2024-12-11T17:29:04.989Z"
   },
   {
    "duration": 3,
    "start_time": "2024-12-11T17:29:04.993Z"
   },
   {
    "duration": 3,
    "start_time": "2024-12-11T17:29:04.998Z"
   },
   {
    "duration": 1,
    "start_time": "2024-12-11T17:29:05.042Z"
   },
   {
    "duration": 3,
    "start_time": "2024-12-11T17:29:05.045Z"
   },
   {
    "duration": 3,
    "start_time": "2024-12-11T17:29:05.049Z"
   },
   {
    "duration": 2,
    "start_time": "2024-12-11T17:29:05.054Z"
   },
   {
    "duration": 3,
    "start_time": "2024-12-11T17:29:05.057Z"
   },
   {
    "duration": 2,
    "start_time": "2024-12-11T17:29:05.062Z"
   },
   {
    "duration": 2,
    "start_time": "2024-12-11T17:29:05.066Z"
   },
   {
    "duration": 2,
    "start_time": "2024-12-11T17:29:05.070Z"
   },
   {
    "duration": 2,
    "start_time": "2024-12-11T17:29:05.074Z"
   },
   {
    "duration": 3,
    "start_time": "2024-12-11T17:29:05.078Z"
   },
   {
    "duration": 2,
    "start_time": "2024-12-11T17:29:05.084Z"
   },
   {
    "duration": 3,
    "start_time": "2024-12-11T17:29:05.088Z"
   },
   {
    "duration": 51,
    "start_time": "2024-12-11T17:29:05.093Z"
   },
   {
    "duration": 40,
    "start_time": "2024-12-11T17:29:05.147Z"
   },
   {
    "duration": 5,
    "start_time": "2024-12-11T17:29:05.190Z"
   },
   {
    "duration": 183,
    "start_time": "2024-12-11T17:44:37.891Z"
   },
   {
    "duration": 34,
    "start_time": "2024-12-11T17:44:50.421Z"
   },
   {
    "duration": 11,
    "start_time": "2024-12-11T17:44:59.721Z"
   },
   {
    "duration": 13,
    "start_time": "2024-12-11T17:46:26.065Z"
   },
   {
    "duration": 6,
    "start_time": "2024-12-11T17:47:19.662Z"
   },
   {
    "duration": 16,
    "start_time": "2024-12-11T17:47:21.376Z"
   },
   {
    "duration": 10,
    "start_time": "2024-12-11T17:51:48.323Z"
   },
   {
    "duration": 3,
    "start_time": "2024-12-11T17:52:51.119Z"
   },
   {
    "duration": 9,
    "start_time": "2024-12-11T17:52:57.571Z"
   },
   {
    "duration": 4,
    "start_time": "2024-12-11T17:54:06.089Z"
   },
   {
    "duration": 10,
    "start_time": "2024-12-11T17:54:20.984Z"
   },
   {
    "duration": 4,
    "start_time": "2024-12-11T18:04:34.319Z"
   },
   {
    "duration": 10,
    "start_time": "2024-12-11T18:04:43.004Z"
   },
   {
    "duration": 12,
    "start_time": "2024-12-11T18:06:04.764Z"
   },
   {
    "duration": 9,
    "start_time": "2024-12-11T18:06:26.137Z"
   },
   {
    "duration": 5,
    "start_time": "2024-12-11T18:17:50.086Z"
   },
   {
    "duration": 15,
    "start_time": "2024-12-11T18:17:51.587Z"
   },
   {
    "duration": 12,
    "start_time": "2024-12-11T18:19:43.400Z"
   },
   {
    "duration": 13,
    "start_time": "2024-12-11T18:19:44.760Z"
   },
   {
    "duration": 16,
    "start_time": "2024-12-11T18:20:31.990Z"
   },
   {
    "duration": 10,
    "start_time": "2024-12-11T18:20:54.964Z"
   },
   {
    "duration": 13,
    "start_time": "2024-12-11T18:34:46.663Z"
   },
   {
    "duration": 12,
    "start_time": "2024-12-11T18:34:58.223Z"
   },
   {
    "duration": 7,
    "start_time": "2024-12-11T18:40:55.840Z"
   },
   {
    "duration": 16,
    "start_time": "2024-12-11T19:03:28.015Z"
   },
   {
    "duration": 22,
    "start_time": "2024-12-11T19:04:48.610Z"
   },
   {
    "duration": 406,
    "start_time": "2024-12-11T19:19:15.228Z"
   },
   {
    "duration": 13,
    "start_time": "2024-12-11T19:19:57.074Z"
   },
   {
    "duration": 15,
    "start_time": "2024-12-11T19:20:05.509Z"
   },
   {
    "duration": 15,
    "start_time": "2024-12-11T19:24:23.266Z"
   },
   {
    "duration": 13,
    "start_time": "2024-12-11T19:24:53.373Z"
   },
   {
    "duration": 15,
    "start_time": "2024-12-11T19:33:28.058Z"
   },
   {
    "duration": 10,
    "start_time": "2024-12-11T19:33:42.249Z"
   },
   {
    "duration": 13,
    "start_time": "2024-12-11T19:34:56.352Z"
   },
   {
    "duration": 12,
    "start_time": "2024-12-11T19:35:22.493Z"
   },
   {
    "duration": 22,
    "start_time": "2024-12-11T19:39:11.484Z"
   },
   {
    "duration": 14,
    "start_time": "2024-12-11T19:44:02.503Z"
   },
   {
    "duration": 13,
    "start_time": "2024-12-11T19:44:11.745Z"
   },
   {
    "duration": 11,
    "start_time": "2024-12-11T19:44:14.822Z"
   },
   {
    "duration": 7,
    "start_time": "2024-12-11T19:46:06.428Z"
   },
   {
    "duration": 13,
    "start_time": "2024-12-11T19:46:12.978Z"
   },
   {
    "duration": 10,
    "start_time": "2024-12-11T19:46:29.684Z"
   },
   {
    "duration": 21,
    "start_time": "2024-12-11T19:47:40.088Z"
   },
   {
    "duration": 19,
    "start_time": "2024-12-11T19:47:48.592Z"
   },
   {
    "duration": 19,
    "start_time": "2024-12-11T19:48:28.320Z"
   },
   {
    "duration": 25,
    "start_time": "2024-12-11T19:48:36.336Z"
   },
   {
    "duration": 15,
    "start_time": "2024-12-11T20:09:34.251Z"
   },
   {
    "duration": 13,
    "start_time": "2024-12-11T20:09:36.424Z"
   },
   {
    "duration": 17,
    "start_time": "2024-12-11T20:09:46.899Z"
   },
   {
    "duration": 14,
    "start_time": "2024-12-11T20:10:00.253Z"
   },
   {
    "duration": 22,
    "start_time": "2024-12-11T20:10:11.859Z"
   },
   {
    "duration": 10,
    "start_time": "2024-12-11T20:19:17.451Z"
   },
   {
    "duration": 9,
    "start_time": "2024-12-11T20:19:31.613Z"
   },
   {
    "duration": 14,
    "start_time": "2024-12-11T20:20:46.116Z"
   },
   {
    "duration": 5,
    "start_time": "2024-12-11T20:21:43.480Z"
   },
   {
    "duration": 6,
    "start_time": "2024-12-11T20:22:03.798Z"
   },
   {
    "duration": 5,
    "start_time": "2024-12-11T20:22:13.547Z"
   },
   {
    "duration": 4,
    "start_time": "2024-12-11T20:22:59.908Z"
   },
   {
    "duration": 6,
    "start_time": "2024-12-11T20:23:04.818Z"
   },
   {
    "duration": 7,
    "start_time": "2024-12-11T20:23:27.461Z"
   },
   {
    "duration": 4,
    "start_time": "2024-12-11T20:23:37.723Z"
   },
   {
    "duration": 443,
    "start_time": "2024-12-11T20:24:10.577Z"
   },
   {
    "duration": 199,
    "start_time": "2024-12-11T20:24:11.022Z"
   },
   {
    "duration": 9,
    "start_time": "2024-12-11T20:24:11.223Z"
   },
   {
    "duration": 13,
    "start_time": "2024-12-11T20:24:11.236Z"
   },
   {
    "duration": 10,
    "start_time": "2024-12-11T20:24:11.251Z"
   },
   {
    "duration": 10,
    "start_time": "2024-12-11T20:24:11.263Z"
   },
   {
    "duration": 4,
    "start_time": "2024-12-11T20:24:11.274Z"
   },
   {
    "duration": 8,
    "start_time": "2024-12-11T20:24:11.280Z"
   },
   {
    "duration": 3,
    "start_time": "2024-12-11T20:24:11.290Z"
   },
   {
    "duration": 47,
    "start_time": "2024-12-11T20:24:11.296Z"
   },
   {
    "duration": 4,
    "start_time": "2024-12-11T20:24:11.345Z"
   },
   {
    "duration": 10,
    "start_time": "2024-12-11T20:24:11.351Z"
   },
   {
    "duration": 17,
    "start_time": "2024-12-11T20:24:11.364Z"
   },
   {
    "duration": 13,
    "start_time": "2024-12-11T20:24:11.383Z"
   },
   {
    "duration": 8,
    "start_time": "2024-12-11T20:24:11.398Z"
   },
   {
    "duration": 48,
    "start_time": "2024-12-11T20:24:11.408Z"
   },
   {
    "duration": 17,
    "start_time": "2024-12-11T20:24:11.458Z"
   },
   {
    "duration": 16,
    "start_time": "2024-12-11T20:24:11.477Z"
   },
   {
    "duration": 3,
    "start_time": "2024-12-11T20:24:11.495Z"
   },
   {
    "duration": 45,
    "start_time": "2024-12-11T20:24:11.499Z"
   },
   {
    "duration": 25,
    "start_time": "2024-12-11T20:24:11.546Z"
   },
   {
    "duration": 11,
    "start_time": "2024-12-11T20:24:11.573Z"
   },
   {
    "duration": 9,
    "start_time": "2024-12-11T20:24:11.586Z"
   },
   {
    "duration": 12,
    "start_time": "2024-12-11T20:24:11.596Z"
   },
   {
    "duration": 36,
    "start_time": "2024-12-11T20:24:11.609Z"
   },
   {
    "duration": 13,
    "start_time": "2024-12-11T20:24:11.647Z"
   },
   {
    "duration": 13,
    "start_time": "2024-12-11T20:24:11.662Z"
   },
   {
    "duration": 12,
    "start_time": "2024-12-11T20:24:11.680Z"
   },
   {
    "duration": 9,
    "start_time": "2024-12-11T20:24:11.694Z"
   },
   {
    "duration": 41,
    "start_time": "2024-12-11T20:24:11.705Z"
   },
   {
    "duration": 13,
    "start_time": "2024-12-11T20:24:11.747Z"
   },
   {
    "duration": 2,
    "start_time": "2024-12-11T20:24:11.762Z"
   },
   {
    "duration": 7,
    "start_time": "2024-12-11T20:24:11.766Z"
   },
   {
    "duration": 27,
    "start_time": "2024-12-11T20:24:11.774Z"
   },
   {
    "duration": 41,
    "start_time": "2024-12-11T20:24:11.802Z"
   },
   {
    "duration": 13,
    "start_time": "2024-12-11T20:24:11.845Z"
   },
   {
    "duration": 17,
    "start_time": "2024-12-11T20:24:11.859Z"
   },
   {
    "duration": 24,
    "start_time": "2024-12-11T20:24:11.877Z"
   },
   {
    "duration": 2,
    "start_time": "2024-12-11T20:24:11.903Z"
   },
   {
    "duration": 3,
    "start_time": "2024-12-11T20:24:11.906Z"
   },
   {
    "duration": 33,
    "start_time": "2024-12-11T20:24:11.910Z"
   },
   {
    "duration": 2,
    "start_time": "2024-12-11T20:24:11.944Z"
   },
   {
    "duration": 3,
    "start_time": "2024-12-11T20:24:11.948Z"
   },
   {
    "duration": 1,
    "start_time": "2024-12-11T20:24:11.954Z"
   },
   {
    "duration": 2,
    "start_time": "2024-12-11T20:24:11.957Z"
   },
   {
    "duration": 2,
    "start_time": "2024-12-11T20:24:11.961Z"
   },
   {
    "duration": 2,
    "start_time": "2024-12-11T20:24:11.965Z"
   },
   {
    "duration": 2,
    "start_time": "2024-12-11T20:24:11.969Z"
   },
   {
    "duration": 11,
    "start_time": "2024-12-11T20:37:31.517Z"
   },
   {
    "duration": 25,
    "start_time": "2024-12-11T22:26:50.421Z"
   },
   {
    "duration": 12,
    "start_time": "2024-12-11T22:42:40.753Z"
   },
   {
    "duration": 17,
    "start_time": "2024-12-11T22:42:45.071Z"
   },
   {
    "duration": 19,
    "start_time": "2024-12-11T22:50:56.392Z"
   },
   {
    "duration": 16,
    "start_time": "2024-12-11T22:57:46.378Z"
   },
   {
    "duration": 502,
    "start_time": "2024-12-11T23:01:48.295Z"
   },
   {
    "duration": 19,
    "start_time": "2024-12-11T23:02:10.729Z"
   },
   {
    "duration": 18,
    "start_time": "2024-12-11T23:10:57.641Z"
   },
   {
    "duration": 23,
    "start_time": "2024-12-11T23:12:10.149Z"
   },
   {
    "duration": 20,
    "start_time": "2024-12-11T23:12:40.581Z"
   },
   {
    "duration": 18,
    "start_time": "2024-12-11T23:13:02.223Z"
   },
   {
    "duration": 27,
    "start_time": "2024-12-11T23:13:04.735Z"
   },
   {
    "duration": 23,
    "start_time": "2024-12-11T23:13:41.169Z"
   },
   {
    "duration": 24,
    "start_time": "2024-12-11T23:13:49.680Z"
   },
   {
    "duration": 26,
    "start_time": "2024-12-11T23:14:10.277Z"
   },
   {
    "duration": 31,
    "start_time": "2024-12-11T23:15:16.388Z"
   },
   {
    "duration": 4,
    "start_time": "2024-12-11T23:17:41.230Z"
   },
   {
    "duration": 110,
    "start_time": "2024-12-11T23:17:52.903Z"
   },
   {
    "duration": 212,
    "start_time": "2024-12-11T23:18:06.064Z"
   },
   {
    "duration": 97,
    "start_time": "2024-12-11T23:18:13.905Z"
   },
   {
    "duration": 28,
    "start_time": "2024-12-11T23:20:20.641Z"
   },
   {
    "duration": 202,
    "start_time": "2024-12-11T23:26:11.480Z"
   },
   {
    "duration": 16,
    "start_time": "2024-12-11T23:26:44.071Z"
   },
   {
    "duration": 15,
    "start_time": "2024-12-11T23:27:47.927Z"
   },
   {
    "duration": 18,
    "start_time": "2024-12-11T23:30:44.457Z"
   },
   {
    "duration": 12,
    "start_time": "2024-12-11T23:31:00.320Z"
   },
   {
    "duration": 42,
    "start_time": "2024-12-11T23:34:08.223Z"
   },
   {
    "duration": 13,
    "start_time": "2024-12-11T23:34:28.358Z"
   },
   {
    "duration": 168,
    "start_time": "2024-12-13T15:04:16.623Z"
   },
   {
    "duration": 2085,
    "start_time": "2024-12-13T15:04:28.140Z"
   },
   {
    "duration": 210,
    "start_time": "2024-12-13T15:04:30.227Z"
   },
   {
    "duration": 10,
    "start_time": "2024-12-13T15:04:30.438Z"
   },
   {
    "duration": 9,
    "start_time": "2024-12-13T15:04:30.450Z"
   },
   {
    "duration": 8,
    "start_time": "2024-12-13T15:04:30.461Z"
   },
   {
    "duration": 10,
    "start_time": "2024-12-13T15:04:30.470Z"
   },
   {
    "duration": 3,
    "start_time": "2024-12-13T15:04:30.481Z"
   },
   {
    "duration": 7,
    "start_time": "2024-12-13T15:04:30.486Z"
   },
   {
    "duration": 3,
    "start_time": "2024-12-13T15:04:30.495Z"
   },
   {
    "duration": 9,
    "start_time": "2024-12-13T15:04:30.501Z"
   },
   {
    "duration": 4,
    "start_time": "2024-12-13T15:04:30.512Z"
   },
   {
    "duration": 10,
    "start_time": "2024-12-13T15:04:30.517Z"
   },
   {
    "duration": 55,
    "start_time": "2024-12-13T15:04:30.528Z"
   },
   {
    "duration": 9,
    "start_time": "2024-12-13T15:04:30.585Z"
   },
   {
    "duration": 6,
    "start_time": "2024-12-13T15:04:30.596Z"
   },
   {
    "duration": 18,
    "start_time": "2024-12-13T15:04:30.604Z"
   },
   {
    "duration": 16,
    "start_time": "2024-12-13T15:04:30.624Z"
   },
   {
    "duration": 39,
    "start_time": "2024-12-13T15:04:30.642Z"
   },
   {
    "duration": 4,
    "start_time": "2024-12-13T15:04:30.683Z"
   },
   {
    "duration": 15,
    "start_time": "2024-12-13T15:04:30.688Z"
   },
   {
    "duration": 25,
    "start_time": "2024-12-13T15:04:30.705Z"
   },
   {
    "duration": 41,
    "start_time": "2024-12-13T15:04:30.731Z"
   },
   {
    "duration": 12,
    "start_time": "2024-12-13T15:04:30.773Z"
   },
   {
    "duration": 8,
    "start_time": "2024-12-13T15:04:30.786Z"
   },
   {
    "duration": 12,
    "start_time": "2024-12-13T15:04:30.796Z"
   },
   {
    "duration": 12,
    "start_time": "2024-12-13T15:04:30.810Z"
   },
   {
    "duration": 13,
    "start_time": "2024-12-13T15:04:30.823Z"
   },
   {
    "duration": 10,
    "start_time": "2024-12-13T15:04:30.869Z"
   },
   {
    "duration": 12,
    "start_time": "2024-12-13T15:04:30.880Z"
   },
   {
    "duration": 11,
    "start_time": "2024-12-13T15:04:30.894Z"
   },
   {
    "duration": 11,
    "start_time": "2024-12-13T15:04:30.907Z"
   },
   {
    "duration": 7,
    "start_time": "2024-12-13T15:04:30.919Z"
   },
   {
    "duration": 65,
    "start_time": "2024-12-13T15:04:30.927Z"
   },
   {
    "duration": 22,
    "start_time": "2024-12-13T15:04:30.993Z"
   },
   {
    "duration": 15,
    "start_time": "2024-12-13T15:04:31.017Z"
   },
   {
    "duration": 14,
    "start_time": "2024-12-13T15:04:31.034Z"
   },
   {
    "duration": 496,
    "start_time": "2024-12-13T15:04:31.070Z"
   },
   {
    "duration": 0,
    "start_time": "2024-12-13T15:04:31.570Z"
   },
   {
    "duration": 0,
    "start_time": "2024-12-13T15:04:31.571Z"
   },
   {
    "duration": 0,
    "start_time": "2024-12-13T15:04:31.572Z"
   },
   {
    "duration": 0,
    "start_time": "2024-12-13T15:04:31.573Z"
   },
   {
    "duration": 0,
    "start_time": "2024-12-13T15:04:31.575Z"
   },
   {
    "duration": 0,
    "start_time": "2024-12-13T15:04:31.575Z"
   },
   {
    "duration": 0,
    "start_time": "2024-12-13T15:04:31.577Z"
   },
   {
    "duration": 0,
    "start_time": "2024-12-13T15:04:31.578Z"
   },
   {
    "duration": 0,
    "start_time": "2024-12-13T15:04:31.580Z"
   },
   {
    "duration": 0,
    "start_time": "2024-12-13T15:04:31.582Z"
   },
   {
    "duration": 15,
    "start_time": "2024-12-13T15:12:38.488Z"
   },
   {
    "duration": 53,
    "start_time": "2024-12-13T15:42:56.833Z"
   },
   {
    "duration": 53,
    "start_time": "2024-12-13T15:44:19.431Z"
   },
   {
    "duration": 58,
    "start_time": "2024-12-13T15:44:46.937Z"
   },
   {
    "duration": 52,
    "start_time": "2024-12-13T15:45:04.444Z"
   },
   {
    "duration": 51,
    "start_time": "2024-12-13T15:45:17.460Z"
   },
   {
    "duration": 19,
    "start_time": "2024-12-13T15:46:38.563Z"
   },
   {
    "duration": 19,
    "start_time": "2024-12-13T15:47:21.332Z"
   },
   {
    "duration": 11,
    "start_time": "2024-12-13T15:48:39.017Z"
   },
   {
    "duration": 13,
    "start_time": "2024-12-13T15:49:06.291Z"
   },
   {
    "duration": 14,
    "start_time": "2024-12-13T15:50:21.600Z"
   },
   {
    "duration": 14,
    "start_time": "2024-12-13T15:50:44.938Z"
   },
   {
    "duration": 15,
    "start_time": "2024-12-13T15:51:35.256Z"
   },
   {
    "duration": 407,
    "start_time": "2024-12-13T15:51:40.025Z"
   },
   {
    "duration": 184,
    "start_time": "2024-12-13T15:51:40.434Z"
   },
   {
    "duration": 9,
    "start_time": "2024-12-13T15:51:40.620Z"
   },
   {
    "duration": 9,
    "start_time": "2024-12-13T15:51:40.631Z"
   },
   {
    "duration": 7,
    "start_time": "2024-12-13T15:51:40.644Z"
   },
   {
    "duration": 9,
    "start_time": "2024-12-13T15:51:40.669Z"
   },
   {
    "duration": 3,
    "start_time": "2024-12-13T15:51:40.680Z"
   },
   {
    "duration": 8,
    "start_time": "2024-12-13T15:51:40.684Z"
   },
   {
    "duration": 3,
    "start_time": "2024-12-13T15:51:40.694Z"
   },
   {
    "duration": 12,
    "start_time": "2024-12-13T15:51:40.698Z"
   },
   {
    "duration": 3,
    "start_time": "2024-12-13T15:51:40.711Z"
   },
   {
    "duration": 11,
    "start_time": "2024-12-13T15:51:40.716Z"
   },
   {
    "duration": 48,
    "start_time": "2024-12-13T15:51:40.729Z"
   },
   {
    "duration": 11,
    "start_time": "2024-12-13T15:51:40.780Z"
   },
   {
    "duration": 7,
    "start_time": "2024-12-13T15:51:40.792Z"
   },
   {
    "duration": 19,
    "start_time": "2024-12-13T15:51:40.801Z"
   },
   {
    "duration": 16,
    "start_time": "2024-12-13T15:51:40.822Z"
   },
   {
    "duration": 44,
    "start_time": "2024-12-13T15:51:40.840Z"
   },
   {
    "duration": 3,
    "start_time": "2024-12-13T15:51:40.886Z"
   },
   {
    "duration": 16,
    "start_time": "2024-12-13T15:51:40.890Z"
   },
   {
    "duration": 24,
    "start_time": "2024-12-13T15:51:40.908Z"
   },
   {
    "duration": 40,
    "start_time": "2024-12-13T15:51:40.934Z"
   },
   {
    "duration": 12,
    "start_time": "2024-12-13T15:51:40.976Z"
   },
   {
    "duration": 8,
    "start_time": "2024-12-13T15:51:40.990Z"
   },
   {
    "duration": 13,
    "start_time": "2024-12-13T15:51:41.000Z"
   },
   {
    "duration": 12,
    "start_time": "2024-12-13T15:51:41.015Z"
   },
   {
    "duration": 43,
    "start_time": "2024-12-13T15:51:41.029Z"
   },
   {
    "duration": 9,
    "start_time": "2024-12-13T15:51:41.074Z"
   },
   {
    "duration": 12,
    "start_time": "2024-12-13T15:51:41.084Z"
   },
   {
    "duration": 11,
    "start_time": "2024-12-13T15:51:41.098Z"
   },
   {
    "duration": 12,
    "start_time": "2024-12-13T15:51:41.110Z"
   },
   {
    "duration": 7,
    "start_time": "2024-12-13T15:51:41.123Z"
   },
   {
    "duration": 82,
    "start_time": "2024-12-13T15:51:41.132Z"
   },
   {
    "duration": 2,
    "start_time": "2024-12-13T15:51:41.216Z"
   },
   {
    "duration": 19,
    "start_time": "2024-12-13T15:51:41.220Z"
   },
   {
    "duration": 32,
    "start_time": "2024-12-13T15:51:41.240Z"
   },
   {
    "duration": 15,
    "start_time": "2024-12-13T15:51:41.274Z"
   },
   {
    "duration": 3,
    "start_time": "2024-12-13T15:51:41.290Z"
   },
   {
    "duration": 3,
    "start_time": "2024-12-13T15:51:41.294Z"
   },
   {
    "duration": 3,
    "start_time": "2024-12-13T15:51:41.298Z"
   },
   {
    "duration": 2,
    "start_time": "2024-12-13T15:51:41.306Z"
   },
   {
    "duration": 2,
    "start_time": "2024-12-13T15:51:41.310Z"
   },
   {
    "duration": 2,
    "start_time": "2024-12-13T15:51:41.314Z"
   },
   {
    "duration": 2,
    "start_time": "2024-12-13T15:51:41.318Z"
   },
   {
    "duration": 2,
    "start_time": "2024-12-13T15:51:41.322Z"
   },
   {
    "duration": 2,
    "start_time": "2024-12-13T15:51:41.370Z"
   },
   {
    "duration": 5,
    "start_time": "2024-12-13T15:51:41.374Z"
   },
   {
    "duration": 14,
    "start_time": "2024-12-13T15:52:32.370Z"
   },
   {
    "duration": 202,
    "start_time": "2024-12-13T15:54:18.293Z"
   },
   {
    "duration": 18,
    "start_time": "2024-12-13T15:54:23.192Z"
   },
   {
    "duration": 14,
    "start_time": "2024-12-13T15:54:34.050Z"
   },
   {
    "duration": 17,
    "start_time": "2024-12-13T15:56:23.130Z"
   },
   {
    "duration": 17,
    "start_time": "2024-12-13T16:03:15.614Z"
   },
   {
    "duration": 10,
    "start_time": "2024-12-13T16:06:10.612Z"
   },
   {
    "duration": 2,
    "start_time": "2024-12-13T16:06:25.019Z"
   },
   {
    "duration": 12,
    "start_time": "2024-12-13T16:09:41.246Z"
   },
   {
    "duration": 14,
    "start_time": "2024-12-13T16:09:58.131Z"
   },
   {
    "duration": 12,
    "start_time": "2024-12-13T16:10:12.102Z"
   },
   {
    "duration": 13,
    "start_time": "2024-12-13T16:10:17.098Z"
   },
   {
    "duration": 7,
    "start_time": "2024-12-13T16:10:23.143Z"
   },
   {
    "duration": 48,
    "start_time": "2024-12-13T16:58:34.481Z"
   },
   {
    "duration": 424,
    "start_time": "2024-12-13T17:15:57.725Z"
   },
   {
    "duration": 193,
    "start_time": "2024-12-13T17:15:58.151Z"
   },
   {
    "duration": 9,
    "start_time": "2024-12-13T17:15:58.345Z"
   },
   {
    "duration": 10,
    "start_time": "2024-12-13T17:15:58.357Z"
   },
   {
    "duration": 9,
    "start_time": "2024-12-13T17:15:58.370Z"
   },
   {
    "duration": 10,
    "start_time": "2024-12-13T17:15:58.380Z"
   },
   {
    "duration": 3,
    "start_time": "2024-12-13T17:15:58.392Z"
   },
   {
    "duration": 7,
    "start_time": "2024-12-13T17:15:58.397Z"
   },
   {
    "duration": 3,
    "start_time": "2024-12-13T17:15:58.406Z"
   },
   {
    "duration": 10,
    "start_time": "2024-12-13T17:15:58.412Z"
   },
   {
    "duration": 3,
    "start_time": "2024-12-13T17:15:58.424Z"
   },
   {
    "duration": 48,
    "start_time": "2024-12-13T17:15:58.429Z"
   },
   {
    "duration": 15,
    "start_time": "2024-12-13T17:15:58.478Z"
   },
   {
    "duration": 11,
    "start_time": "2024-12-13T17:15:58.495Z"
   },
   {
    "duration": 7,
    "start_time": "2024-12-13T17:15:58.508Z"
   },
   {
    "duration": 18,
    "start_time": "2024-12-13T17:15:58.517Z"
   },
   {
    "duration": 46,
    "start_time": "2024-12-13T17:15:58.536Z"
   },
   {
    "duration": 15,
    "start_time": "2024-12-13T17:15:58.584Z"
   },
   {
    "duration": 3,
    "start_time": "2024-12-13T17:15:58.601Z"
   },
   {
    "duration": 16,
    "start_time": "2024-12-13T17:15:58.605Z"
   },
   {
    "duration": 50,
    "start_time": "2024-12-13T17:15:58.622Z"
   },
   {
    "duration": 10,
    "start_time": "2024-12-13T17:15:58.674Z"
   },
   {
    "duration": 12,
    "start_time": "2024-12-13T17:15:58.686Z"
   },
   {
    "duration": 8,
    "start_time": "2024-12-13T17:15:58.700Z"
   },
   {
    "duration": 12,
    "start_time": "2024-12-13T17:15:58.709Z"
   },
   {
    "duration": 11,
    "start_time": "2024-12-13T17:15:58.723Z"
   },
   {
    "duration": 16,
    "start_time": "2024-12-13T17:15:58.770Z"
   },
   {
    "duration": 9,
    "start_time": "2024-12-13T17:15:58.790Z"
   },
   {
    "duration": 13,
    "start_time": "2024-12-13T17:15:58.801Z"
   },
   {
    "duration": 13,
    "start_time": "2024-12-13T17:15:58.815Z"
   },
   {
    "duration": 12,
    "start_time": "2024-12-13T17:15:58.831Z"
   },
   {
    "duration": 7,
    "start_time": "2024-12-13T17:15:58.869Z"
   },
   {
    "duration": 49,
    "start_time": "2024-12-13T17:15:58.878Z"
   },
   {
    "duration": 2,
    "start_time": "2024-12-13T17:15:58.929Z"
   },
   {
    "duration": 39,
    "start_time": "2024-12-13T17:15:58.933Z"
   },
   {
    "duration": 16,
    "start_time": "2024-12-13T17:15:58.974Z"
   },
   {
    "duration": 16,
    "start_time": "2024-12-13T17:15:58.992Z"
   },
   {
    "duration": 3,
    "start_time": "2024-12-13T17:15:59.010Z"
   },
   {
    "duration": 0,
    "start_time": "2024-12-13T17:15:59.015Z"
   },
   {
    "duration": 0,
    "start_time": "2024-12-13T17:15:59.017Z"
   },
   {
    "duration": 0,
    "start_time": "2024-12-13T17:15:59.018Z"
   },
   {
    "duration": 0,
    "start_time": "2024-12-13T17:15:59.020Z"
   },
   {
    "duration": 0,
    "start_time": "2024-12-13T17:15:59.021Z"
   },
   {
    "duration": 0,
    "start_time": "2024-12-13T17:15:59.022Z"
   },
   {
    "duration": 0,
    "start_time": "2024-12-13T17:15:59.023Z"
   },
   {
    "duration": 0,
    "start_time": "2024-12-13T17:15:59.023Z"
   },
   {
    "duration": 0,
    "start_time": "2024-12-13T17:15:59.024Z"
   },
   {
    "duration": 4,
    "start_time": "2024-12-13T17:18:56.210Z"
   },
   {
    "duration": 12,
    "start_time": "2024-12-13T17:19:05.703Z"
   },
   {
    "duration": 386,
    "start_time": "2024-12-13T17:22:14.828Z"
   },
   {
    "duration": 85,
    "start_time": "2024-12-13T17:24:01.364Z"
   },
   {
    "duration": 18,
    "start_time": "2024-12-13T17:24:13.666Z"
   },
   {
    "duration": 38,
    "start_time": "2024-12-13T17:24:17.034Z"
   },
   {
    "duration": 37,
    "start_time": "2024-12-13T17:27:25.590Z"
   },
   {
    "duration": 28,
    "start_time": "2024-12-13T17:28:08.341Z"
   },
   {
    "duration": 27,
    "start_time": "2024-12-13T17:28:22.018Z"
   },
   {
    "duration": 28,
    "start_time": "2024-12-13T17:28:54.073Z"
   },
   {
    "duration": 27,
    "start_time": "2024-12-13T17:29:07.367Z"
   },
   {
    "duration": 28,
    "start_time": "2024-12-13T17:29:18.788Z"
   },
   {
    "duration": 22,
    "start_time": "2024-12-13T17:29:34.143Z"
   },
   {
    "duration": 27,
    "start_time": "2024-12-13T17:29:51.369Z"
   },
   {
    "duration": 23,
    "start_time": "2024-12-13T17:29:56.555Z"
   },
   {
    "duration": 33,
    "start_time": "2024-12-13T17:30:11.542Z"
   },
   {
    "duration": 21,
    "start_time": "2024-12-13T17:30:41.816Z"
   },
   {
    "duration": 27,
    "start_time": "2024-12-13T17:32:43.627Z"
   },
   {
    "duration": 2463,
    "start_time": "2024-12-13T23:05:50.942Z"
   },
   {
    "duration": 241,
    "start_time": "2024-12-13T23:05:53.408Z"
   },
   {
    "duration": 11,
    "start_time": "2024-12-13T23:05:53.651Z"
   },
   {
    "duration": 13,
    "start_time": "2024-12-13T23:05:53.665Z"
   },
   {
    "duration": 11,
    "start_time": "2024-12-13T23:05:53.680Z"
   },
   {
    "duration": 33,
    "start_time": "2024-12-13T23:05:53.694Z"
   },
   {
    "duration": 4,
    "start_time": "2024-12-13T23:05:53.729Z"
   },
   {
    "duration": 11,
    "start_time": "2024-12-13T23:05:53.734Z"
   },
   {
    "duration": 2,
    "start_time": "2024-12-13T23:05:53.747Z"
   },
   {
    "duration": 15,
    "start_time": "2024-12-13T23:05:53.752Z"
   },
   {
    "duration": 7,
    "start_time": "2024-12-13T23:05:53.771Z"
   },
   {
    "duration": 34,
    "start_time": "2024-12-13T23:05:53.780Z"
   },
   {
    "duration": 15,
    "start_time": "2024-12-13T23:05:53.816Z"
   },
   {
    "duration": 10,
    "start_time": "2024-12-13T23:05:53.832Z"
   },
   {
    "duration": 7,
    "start_time": "2024-12-13T23:05:53.844Z"
   },
   {
    "duration": 18,
    "start_time": "2024-12-13T23:05:53.853Z"
   },
   {
    "duration": 46,
    "start_time": "2024-12-13T23:05:53.873Z"
   },
   {
    "duration": 15,
    "start_time": "2024-12-13T23:05:53.921Z"
   },
   {
    "duration": 3,
    "start_time": "2024-12-13T23:05:53.937Z"
   },
   {
    "duration": 16,
    "start_time": "2024-12-13T23:05:53.942Z"
   },
   {
    "duration": 57,
    "start_time": "2024-12-13T23:05:53.960Z"
   },
   {
    "duration": 11,
    "start_time": "2024-12-13T23:05:54.018Z"
   },
   {
    "duration": 11,
    "start_time": "2024-12-13T23:05:54.031Z"
   },
   {
    "duration": 9,
    "start_time": "2024-12-13T23:05:54.044Z"
   },
   {
    "duration": 13,
    "start_time": "2024-12-13T23:05:54.054Z"
   },
   {
    "duration": 42,
    "start_time": "2024-12-13T23:05:54.068Z"
   },
   {
    "duration": 13,
    "start_time": "2024-12-13T23:05:54.112Z"
   },
   {
    "duration": 10,
    "start_time": "2024-12-13T23:05:54.130Z"
   },
   {
    "duration": 14,
    "start_time": "2024-12-13T23:05:54.141Z"
   },
   {
    "duration": 11,
    "start_time": "2024-12-13T23:05:54.156Z"
   },
   {
    "duration": 42,
    "start_time": "2024-12-13T23:05:54.168Z"
   },
   {
    "duration": 6,
    "start_time": "2024-12-13T23:05:54.212Z"
   },
   {
    "duration": 51,
    "start_time": "2024-12-13T23:05:54.220Z"
   },
   {
    "duration": 2,
    "start_time": "2024-12-13T23:05:54.273Z"
   },
   {
    "duration": 41,
    "start_time": "2024-12-13T23:05:54.277Z"
   },
   {
    "duration": 16,
    "start_time": "2024-12-13T23:05:54.320Z"
   },
   {
    "duration": 17,
    "start_time": "2024-12-13T23:05:54.337Z"
   },
   {
    "duration": 28,
    "start_time": "2024-12-13T23:05:54.356Z"
   },
   {
    "duration": 24,
    "start_time": "2024-12-13T23:05:54.386Z"
   },
   {
    "duration": 3,
    "start_time": "2024-12-13T23:05:54.411Z"
   },
   {
    "duration": 3,
    "start_time": "2024-12-13T23:05:54.416Z"
   },
   {
    "duration": 3,
    "start_time": "2024-12-13T23:05:54.420Z"
   },
   {
    "duration": 3,
    "start_time": "2024-12-13T23:05:54.425Z"
   },
   {
    "duration": 2,
    "start_time": "2024-12-13T23:05:54.431Z"
   },
   {
    "duration": 3,
    "start_time": "2024-12-13T23:05:54.434Z"
   },
   {
    "duration": 2,
    "start_time": "2024-12-13T23:05:54.439Z"
   },
   {
    "duration": 3,
    "start_time": "2024-12-13T23:05:54.443Z"
   },
   {
    "duration": 21,
    "start_time": "2024-12-13T23:22:03.852Z"
   },
   {
    "duration": 17,
    "start_time": "2024-12-13T23:22:49.471Z"
   },
   {
    "duration": 20,
    "start_time": "2024-12-13T23:22:52.286Z"
   },
   {
    "duration": 18,
    "start_time": "2024-12-13T23:25:08.349Z"
   },
   {
    "duration": 18,
    "start_time": "2024-12-13T23:25:12.224Z"
   },
   {
    "duration": 629,
    "start_time": "2024-12-13T23:41:53.440Z"
   },
   {
    "duration": 51,
    "start_time": "2024-12-13T23:42:36.946Z"
   },
   {
    "duration": 23,
    "start_time": "2024-12-13T23:45:07.447Z"
   },
   {
    "duration": 23,
    "start_time": "2024-12-13T23:46:04.216Z"
   },
   {
    "duration": 56,
    "start_time": "2024-12-13T23:48:42.297Z"
   },
   {
    "duration": 21,
    "start_time": "2024-12-13T23:49:02.082Z"
   },
   {
    "duration": 27,
    "start_time": "2024-12-13T23:54:27.901Z"
   },
   {
    "duration": 26,
    "start_time": "2024-12-13T23:55:37.954Z"
   },
   {
    "duration": 10,
    "start_time": "2024-12-13T23:56:14.830Z"
   },
   {
    "duration": 6,
    "start_time": "2024-12-13T23:56:34.397Z"
   },
   {
    "duration": 24,
    "start_time": "2024-12-13T23:56:46.997Z"
   },
   {
    "duration": 7,
    "start_time": "2024-12-13T23:57:09.606Z"
   },
   {
    "duration": 26,
    "start_time": "2024-12-13T23:57:16.304Z"
   },
   {
    "duration": 28,
    "start_time": "2024-12-13T23:58:16.160Z"
   },
   {
    "duration": 23,
    "start_time": "2024-12-13T23:58:52.789Z"
   },
   {
    "duration": 20,
    "start_time": "2024-12-13T23:59:13.870Z"
   },
   {
    "duration": 22,
    "start_time": "2024-12-14T00:07:16.424Z"
   },
   {
    "duration": 162,
    "start_time": "2024-12-16T18:46:48.497Z"
   },
   {
    "duration": 2289,
    "start_time": "2024-12-16T18:47:01.064Z"
   },
   {
    "duration": 209,
    "start_time": "2024-12-16T18:47:03.356Z"
   },
   {
    "duration": 10,
    "start_time": "2024-12-16T18:47:03.566Z"
   },
   {
    "duration": 11,
    "start_time": "2024-12-16T18:47:03.577Z"
   },
   {
    "duration": 8,
    "start_time": "2024-12-16T18:47:03.590Z"
   },
   {
    "duration": 12,
    "start_time": "2024-12-16T18:47:03.601Z"
   },
   {
    "duration": 4,
    "start_time": "2024-12-16T18:47:03.614Z"
   },
   {
    "duration": 27,
    "start_time": "2024-12-16T18:47:03.620Z"
   },
   {
    "duration": 3,
    "start_time": "2024-12-16T18:47:03.649Z"
   },
   {
    "duration": 10,
    "start_time": "2024-12-16T18:47:03.654Z"
   },
   {
    "duration": 3,
    "start_time": "2024-12-16T18:47:03.666Z"
   },
   {
    "duration": 11,
    "start_time": "2024-12-16T18:47:03.671Z"
   },
   {
    "duration": 15,
    "start_time": "2024-12-16T18:47:03.684Z"
   },
   {
    "duration": 44,
    "start_time": "2024-12-16T18:47:03.702Z"
   },
   {
    "duration": 7,
    "start_time": "2024-12-16T18:47:03.747Z"
   },
   {
    "duration": 18,
    "start_time": "2024-12-16T18:47:03.755Z"
   },
   {
    "duration": 16,
    "start_time": "2024-12-16T18:47:03.775Z"
   },
   {
    "duration": 16,
    "start_time": "2024-12-16T18:47:03.792Z"
   },
   {
    "duration": 3,
    "start_time": "2024-12-16T18:47:03.809Z"
   },
   {
    "duration": 16,
    "start_time": "2024-12-16T18:47:03.843Z"
   },
   {
    "duration": 26,
    "start_time": "2024-12-16T18:47:03.860Z"
   },
   {
    "duration": 11,
    "start_time": "2024-12-16T18:47:03.887Z"
   },
   {
    "duration": 11,
    "start_time": "2024-12-16T18:47:03.900Z"
   },
   {
    "duration": 36,
    "start_time": "2024-12-16T18:47:03.912Z"
   },
   {
    "duration": 14,
    "start_time": "2024-12-16T18:47:03.950Z"
   },
   {
    "duration": 12,
    "start_time": "2024-12-16T18:47:03.966Z"
   },
   {
    "duration": 13,
    "start_time": "2024-12-16T18:47:03.980Z"
   },
   {
    "duration": 9,
    "start_time": "2024-12-16T18:47:03.994Z"
   },
   {
    "duration": 51,
    "start_time": "2024-12-16T18:47:04.004Z"
   },
   {
    "duration": 14,
    "start_time": "2024-12-16T18:47:04.056Z"
   },
   {
    "duration": 13,
    "start_time": "2024-12-16T18:47:04.073Z"
   },
   {
    "duration": 6,
    "start_time": "2024-12-16T18:47:04.088Z"
   },
   {
    "duration": 70,
    "start_time": "2024-12-16T18:47:04.096Z"
   },
   {
    "duration": 2,
    "start_time": "2024-12-16T18:47:04.168Z"
   },
   {
    "duration": 19,
    "start_time": "2024-12-16T18:47:04.172Z"
   },
   {
    "duration": 16,
    "start_time": "2024-12-16T18:47:04.193Z"
   },
   {
    "duration": 44,
    "start_time": "2024-12-16T18:47:04.210Z"
   },
   {
    "duration": 18,
    "start_time": "2024-12-16T18:47:04.256Z"
   },
   {
    "duration": 19,
    "start_time": "2024-12-16T18:47:04.275Z"
   },
   {
    "duration": 2,
    "start_time": "2024-12-16T18:47:04.296Z"
   },
   {
    "duration": 2,
    "start_time": "2024-12-16T18:47:04.303Z"
   },
   {
    "duration": 3,
    "start_time": "2024-12-16T18:47:04.306Z"
   },
   {
    "duration": 3,
    "start_time": "2024-12-16T18:47:04.342Z"
   },
   {
    "duration": 2,
    "start_time": "2024-12-16T18:47:04.346Z"
   },
   {
    "duration": 3,
    "start_time": "2024-12-16T18:47:04.350Z"
   },
   {
    "duration": 2,
    "start_time": "2024-12-16T18:47:04.354Z"
   },
   {
    "duration": 2,
    "start_time": "2024-12-16T18:47:04.358Z"
   },
   {
    "duration": 21,
    "start_time": "2024-12-16T18:51:09.140Z"
   },
   {
    "duration": 12,
    "start_time": "2024-12-16T18:52:28.143Z"
   },
   {
    "duration": 34,
    "start_time": "2024-12-16T18:52:46.372Z"
   },
   {
    "duration": 1498,
    "start_time": "2024-12-16T20:26:45.522Z"
   },
   {
    "duration": 406,
    "start_time": "2024-12-16T20:28:02.880Z"
   },
   {
    "duration": 523,
    "start_time": "2024-12-16T20:29:29.619Z"
   },
   {
    "duration": 25,
    "start_time": "2024-12-16T20:29:39.263Z"
   },
   {
    "duration": 22,
    "start_time": "2024-12-16T20:30:03.591Z"
   },
   {
    "duration": 28,
    "start_time": "2024-12-16T22:23:50.484Z"
   },
   {
    "duration": 11,
    "start_time": "2024-12-16T22:32:27.670Z"
   },
   {
    "duration": 119,
    "start_time": "2024-12-16T22:32:45.035Z"
   },
   {
    "duration": 136,
    "start_time": "2024-12-16T22:41:52.798Z"
   },
   {
    "duration": 7,
    "start_time": "2024-12-16T22:56:17.867Z"
   },
   {
    "duration": 4,
    "start_time": "2024-12-16T22:57:01.336Z"
   },
   {
    "duration": 1493,
    "start_time": "2024-12-16T22:58:05.799Z"
   },
   {
    "duration": 2389,
    "start_time": "2024-12-16T23:00:04.166Z"
   },
   {
    "duration": 2647,
    "start_time": "2024-12-16T23:02:41.009Z"
   },
   {
    "duration": 2428,
    "start_time": "2024-12-16T23:03:02.784Z"
   },
   {
    "duration": 2493,
    "start_time": "2024-12-16T23:04:23.146Z"
   },
   {
    "duration": 2580,
    "start_time": "2024-12-16T23:05:17.450Z"
   },
   {
    "duration": 2737,
    "start_time": "2024-12-16T23:05:29.535Z"
   },
   {
    "duration": 2813,
    "start_time": "2024-12-16T23:06:01.858Z"
   },
   {
    "duration": 2095,
    "start_time": "2024-12-16T23:07:02.573Z"
   },
   {
    "duration": 3172,
    "start_time": "2024-12-16T23:07:29.433Z"
   },
   {
    "duration": 2077,
    "start_time": "2024-12-16T23:08:19.892Z"
   },
   {
    "duration": 3182,
    "start_time": "2024-12-16T23:08:36.071Z"
   },
   {
    "duration": 6,
    "start_time": "2024-12-16T23:08:54.912Z"
   },
   {
    "duration": 4,
    "start_time": "2024-12-16T23:09:08.978Z"
   },
   {
    "duration": 3065,
    "start_time": "2024-12-16T23:09:14.771Z"
   },
   {
    "duration": 2019,
    "start_time": "2024-12-16T23:13:26.731Z"
   },
   {
    "duration": 141,
    "start_time": "2024-12-16T23:15:13.865Z"
   },
   {
    "duration": 132,
    "start_time": "2024-12-16T23:15:42.111Z"
   },
   {
    "duration": 131,
    "start_time": "2024-12-16T23:16:37.105Z"
   },
   {
    "duration": 130,
    "start_time": "2024-12-16T23:18:38.984Z"
   },
   {
    "duration": 137,
    "start_time": "2024-12-16T23:19:06.789Z"
   },
   {
    "duration": 124,
    "start_time": "2024-12-16T23:19:40.994Z"
   },
   {
    "duration": 3340,
    "start_time": "2024-12-16T23:21:14.266Z"
   },
   {
    "duration": 2065,
    "start_time": "2024-12-16T23:21:31.450Z"
   },
   {
    "duration": 135,
    "start_time": "2024-12-16T23:21:55.970Z"
   },
   {
    "duration": 140,
    "start_time": "2024-12-16T23:28:49.641Z"
   },
   {
    "duration": 143,
    "start_time": "2024-12-16T23:29:30.553Z"
   },
   {
    "duration": 2049,
    "start_time": "2024-12-16T23:37:01.362Z"
   },
   {
    "duration": 75,
    "start_time": "2024-12-16T23:39:57.545Z"
   },
   {
    "duration": 8,
    "start_time": "2024-12-16T23:45:19.368Z"
   },
   {
    "duration": 9,
    "start_time": "2024-12-16T23:47:08.433Z"
   },
   {
    "duration": 11,
    "start_time": "2024-12-16T23:47:50.366Z"
   },
   {
    "duration": 11,
    "start_time": "2024-12-16T23:48:02.450Z"
   },
   {
    "duration": 9,
    "start_time": "2024-12-16T23:48:26.321Z"
   },
   {
    "duration": 8,
    "start_time": "2024-12-16T23:48:28.408Z"
   },
   {
    "duration": 147,
    "start_time": "2024-12-16T23:51:19.104Z"
   },
   {
    "duration": 4,
    "start_time": "2024-12-16T23:51:32.387Z"
   },
   {
    "duration": 158,
    "start_time": "2024-12-16T23:53:05.998Z"
   },
   {
    "duration": 79,
    "start_time": "2024-12-16T23:57:58.132Z"
   },
   {
    "duration": 7,
    "start_time": "2024-12-16T23:58:22.020Z"
   },
   {
    "duration": 49,
    "start_time": "2024-12-16T23:58:27.840Z"
   },
   {
    "duration": 8,
    "start_time": "2024-12-16T23:59:00.755Z"
   },
   {
    "duration": 3,
    "start_time": "2024-12-16T23:59:01.949Z"
   },
   {
    "duration": 5,
    "start_time": "2024-12-16T23:59:17.658Z"
   },
   {
    "duration": 120,
    "start_time": "2024-12-17T00:00:19.292Z"
   },
   {
    "duration": 103,
    "start_time": "2024-12-17T00:01:21.081Z"
   },
   {
    "duration": 157,
    "start_time": "2024-12-17T02:03:58.869Z"
   },
   {
    "duration": 2146,
    "start_time": "2024-12-17T02:04:06.993Z"
   },
   {
    "duration": 213,
    "start_time": "2024-12-17T02:04:09.141Z"
   },
   {
    "duration": 10,
    "start_time": "2024-12-17T02:04:09.356Z"
   },
   {
    "duration": 10,
    "start_time": "2024-12-17T02:04:09.368Z"
   },
   {
    "duration": 9,
    "start_time": "2024-12-17T02:04:09.380Z"
   },
   {
    "duration": 9,
    "start_time": "2024-12-17T02:04:09.391Z"
   },
   {
    "duration": 3,
    "start_time": "2024-12-17T02:04:09.402Z"
   },
   {
    "duration": 8,
    "start_time": "2024-12-17T02:04:09.407Z"
   },
   {
    "duration": 3,
    "start_time": "2024-12-17T02:04:09.417Z"
   },
   {
    "duration": 9,
    "start_time": "2024-12-17T02:04:09.423Z"
   },
   {
    "duration": 4,
    "start_time": "2024-12-17T02:04:09.434Z"
   },
   {
    "duration": 48,
    "start_time": "2024-12-17T02:04:09.440Z"
   },
   {
    "duration": 15,
    "start_time": "2024-12-17T02:04:09.490Z"
   },
   {
    "duration": 10,
    "start_time": "2024-12-17T02:04:09.506Z"
   },
   {
    "duration": 7,
    "start_time": "2024-12-17T02:04:09.518Z"
   },
   {
    "duration": 19,
    "start_time": "2024-12-17T02:04:09.526Z"
   },
   {
    "duration": 49,
    "start_time": "2024-12-17T02:04:09.547Z"
   },
   {
    "duration": 16,
    "start_time": "2024-12-17T02:04:09.597Z"
   },
   {
    "duration": 3,
    "start_time": "2024-12-17T02:04:09.614Z"
   },
   {
    "duration": 15,
    "start_time": "2024-12-17T02:04:09.620Z"
   },
   {
    "duration": 52,
    "start_time": "2024-12-17T02:04:09.637Z"
   },
   {
    "duration": 11,
    "start_time": "2024-12-17T02:04:09.690Z"
   },
   {
    "duration": 12,
    "start_time": "2024-12-17T02:04:09.703Z"
   },
   {
    "duration": 8,
    "start_time": "2024-12-17T02:04:09.717Z"
   },
   {
    "duration": 12,
    "start_time": "2024-12-17T02:04:09.727Z"
   },
   {
    "duration": 12,
    "start_time": "2024-12-17T02:04:09.740Z"
   },
   {
    "duration": 43,
    "start_time": "2024-12-17T02:04:09.754Z"
   },
   {
    "duration": 10,
    "start_time": "2024-12-17T02:04:09.802Z"
   },
   {
    "duration": 15,
    "start_time": "2024-12-17T02:04:09.814Z"
   },
   {
    "duration": 14,
    "start_time": "2024-12-17T02:04:09.831Z"
   },
   {
    "duration": 40,
    "start_time": "2024-12-17T02:04:09.847Z"
   },
   {
    "duration": 7,
    "start_time": "2024-12-17T02:04:09.889Z"
   },
   {
    "duration": 50,
    "start_time": "2024-12-17T02:04:09.897Z"
   },
   {
    "duration": 2,
    "start_time": "2024-12-17T02:04:09.949Z"
   },
   {
    "duration": 40,
    "start_time": "2024-12-17T02:04:09.953Z"
   },
   {
    "duration": 16,
    "start_time": "2024-12-17T02:04:09.994Z"
   },
   {
    "duration": 16,
    "start_time": "2024-12-17T02:04:10.013Z"
   },
   {
    "duration": 16,
    "start_time": "2024-12-17T02:04:10.030Z"
   },
   {
    "duration": 44,
    "start_time": "2024-12-17T02:04:10.047Z"
   },
   {
    "duration": 161,
    "start_time": "2024-12-17T02:04:10.093Z"
   },
   {
    "duration": 967,
    "start_time": "2024-12-17T02:04:10.255Z"
   },
   {
    "duration": 0,
    "start_time": "2024-12-17T02:04:11.224Z"
   },
   {
    "duration": 0,
    "start_time": "2024-12-17T02:04:11.225Z"
   },
   {
    "duration": 0,
    "start_time": "2024-12-17T02:04:11.226Z"
   },
   {
    "duration": 0,
    "start_time": "2024-12-17T02:04:11.227Z"
   },
   {
    "duration": 0,
    "start_time": "2024-12-17T02:04:11.229Z"
   },
   {
    "duration": 0,
    "start_time": "2024-12-17T02:04:11.230Z"
   },
   {
    "duration": 0,
    "start_time": "2024-12-17T02:04:11.232Z"
   },
   {
    "duration": 146,
    "start_time": "2024-12-17T02:04:30.608Z"
   },
   {
    "duration": 145,
    "start_time": "2024-12-17T02:04:47.591Z"
   },
   {
    "duration": 221,
    "start_time": "2024-12-17T02:04:56.317Z"
   },
   {
    "duration": 9,
    "start_time": "2024-12-17T02:07:58.511Z"
   },
   {
    "duration": 7,
    "start_time": "2024-12-17T02:08:00.662Z"
   },
   {
    "duration": 157,
    "start_time": "2024-12-17T02:08:07.025Z"
   },
   {
    "duration": 7,
    "start_time": "2024-12-17T02:08:53.104Z"
   },
   {
    "duration": 8,
    "start_time": "2024-12-17T02:08:59.290Z"
   },
   {
    "duration": 14,
    "start_time": "2024-12-17T02:21:38.868Z"
   },
   {
    "duration": 15,
    "start_time": "2024-12-17T02:22:46.453Z"
   },
   {
    "duration": 12,
    "start_time": "2024-12-17T02:23:09.208Z"
   },
   {
    "duration": 11,
    "start_time": "2024-12-17T02:24:20.464Z"
   },
   {
    "duration": 341,
    "start_time": "2024-12-17T02:27:25.656Z"
   },
   {
    "duration": 11,
    "start_time": "2024-12-17T02:27:58.666Z"
   },
   {
    "duration": 108,
    "start_time": "2024-12-17T02:30:01.719Z"
   },
   {
    "duration": 2138,
    "start_time": "2024-12-17T17:40:56.442Z"
   },
   {
    "duration": 212,
    "start_time": "2024-12-17T17:40:58.582Z"
   },
   {
    "duration": 11,
    "start_time": "2024-12-17T17:40:58.796Z"
   },
   {
    "duration": 10,
    "start_time": "2024-12-17T17:40:58.809Z"
   },
   {
    "duration": 8,
    "start_time": "2024-12-17T17:40:58.820Z"
   },
   {
    "duration": 10,
    "start_time": "2024-12-17T17:40:58.830Z"
   },
   {
    "duration": 3,
    "start_time": "2024-12-17T17:40:58.841Z"
   },
   {
    "duration": 24,
    "start_time": "2024-12-17T17:40:58.846Z"
   },
   {
    "duration": 3,
    "start_time": "2024-12-17T17:40:58.872Z"
   },
   {
    "duration": 9,
    "start_time": "2024-12-17T17:40:58.879Z"
   },
   {
    "duration": 4,
    "start_time": "2024-12-17T17:40:58.890Z"
   },
   {
    "duration": 9,
    "start_time": "2024-12-17T17:40:58.896Z"
   },
   {
    "duration": 15,
    "start_time": "2024-12-17T17:40:58.907Z"
   },
   {
    "duration": 47,
    "start_time": "2024-12-17T17:40:58.924Z"
   },
   {
    "duration": 7,
    "start_time": "2024-12-17T17:40:58.972Z"
   },
   {
    "duration": 19,
    "start_time": "2024-12-17T17:40:58.980Z"
   },
   {
    "duration": 16,
    "start_time": "2024-12-17T17:40:59.000Z"
   },
   {
    "duration": 15,
    "start_time": "2024-12-17T17:40:59.018Z"
   },
   {
    "duration": 35,
    "start_time": "2024-12-17T17:40:59.035Z"
   },
   {
    "duration": 15,
    "start_time": "2024-12-17T17:40:59.072Z"
   },
   {
    "duration": 25,
    "start_time": "2024-12-17T17:40:59.089Z"
   },
   {
    "duration": 10,
    "start_time": "2024-12-17T17:40:59.115Z"
   },
   {
    "duration": 12,
    "start_time": "2024-12-17T17:40:59.127Z"
   },
   {
    "duration": 8,
    "start_time": "2024-12-17T17:40:59.169Z"
   },
   {
    "duration": 12,
    "start_time": "2024-12-17T17:40:59.180Z"
   },
   {
    "duration": 12,
    "start_time": "2024-12-17T17:40:59.193Z"
   },
   {
    "duration": 13,
    "start_time": "2024-12-17T17:40:59.207Z"
   },
   {
    "duration": 9,
    "start_time": "2024-12-17T17:40:59.224Z"
   },
   {
    "duration": 41,
    "start_time": "2024-12-17T17:40:59.235Z"
   },
   {
    "duration": 11,
    "start_time": "2024-12-17T17:40:59.278Z"
   },
   {
    "duration": 12,
    "start_time": "2024-12-17T17:40:59.290Z"
   },
   {
    "duration": 7,
    "start_time": "2024-12-17T17:40:59.303Z"
   },
   {
    "duration": 75,
    "start_time": "2024-12-17T17:40:59.312Z"
   },
   {
    "duration": 2,
    "start_time": "2024-12-17T17:40:59.389Z"
   },
   {
    "duration": 19,
    "start_time": "2024-12-17T17:40:59.393Z"
   },
   {
    "duration": 16,
    "start_time": "2024-12-17T17:40:59.414Z"
   },
   {
    "duration": 41,
    "start_time": "2024-12-17T17:40:59.432Z"
   },
   {
    "duration": 16,
    "start_time": "2024-12-17T17:40:59.474Z"
   },
   {
    "duration": 18,
    "start_time": "2024-12-17T17:40:59.491Z"
   },
   {
    "duration": 211,
    "start_time": "2024-12-17T17:40:59.511Z"
   },
   {
    "duration": 898,
    "start_time": "2024-12-17T17:40:59.724Z"
   },
   {
    "duration": 0,
    "start_time": "2024-12-17T17:41:00.624Z"
   },
   {
    "duration": 0,
    "start_time": "2024-12-17T17:41:00.625Z"
   },
   {
    "duration": 0,
    "start_time": "2024-12-17T17:41:00.627Z"
   },
   {
    "duration": 0,
    "start_time": "2024-12-17T17:41:00.628Z"
   },
   {
    "duration": 0,
    "start_time": "2024-12-17T17:41:00.630Z"
   },
   {
    "duration": 0,
    "start_time": "2024-12-17T17:41:00.631Z"
   },
   {
    "duration": 0,
    "start_time": "2024-12-17T17:41:00.633Z"
   },
   {
    "duration": 439,
    "start_time": "2024-12-17T17:48:04.164Z"
   },
   {
    "duration": 14,
    "start_time": "2024-12-17T17:48:54.654Z"
   },
   {
    "duration": 11,
    "start_time": "2024-12-17T17:49:00.241Z"
   },
   {
    "duration": 364,
    "start_time": "2024-12-17T17:54:15.254Z"
   },
   {
    "duration": 16,
    "start_time": "2024-12-17T17:54:57.192Z"
   },
   {
    "duration": 15,
    "start_time": "2024-12-17T17:55:15.608Z"
   },
   {
    "duration": 16,
    "start_time": "2024-12-17T17:55:21.371Z"
   },
   {
    "duration": 38,
    "start_time": "2024-12-17T18:02:43.656Z"
   },
   {
    "duration": 16,
    "start_time": "2024-12-17T18:03:00.944Z"
   },
   {
    "duration": 15,
    "start_time": "2024-12-17T18:04:23.598Z"
   },
   {
    "duration": 13,
    "start_time": "2024-12-17T18:04:32.886Z"
   },
   {
    "duration": 14,
    "start_time": "2024-12-17T18:04:39.974Z"
   },
   {
    "duration": 15,
    "start_time": "2024-12-17T18:04:52.191Z"
   },
   {
    "duration": 10,
    "start_time": "2024-12-17T18:05:41.404Z"
   },
   {
    "duration": 10,
    "start_time": "2024-12-17T18:05:44.158Z"
   },
   {
    "duration": 16,
    "start_time": "2024-12-17T18:05:53.209Z"
   },
   {
    "duration": 5,
    "start_time": "2024-12-17T18:09:18.474Z"
   },
   {
    "duration": 12,
    "start_time": "2024-12-17T18:09:29.399Z"
   },
   {
    "duration": 38,
    "start_time": "2024-12-17T18:10:42.343Z"
   },
   {
    "duration": 14,
    "start_time": "2024-12-17T18:11:00.359Z"
   },
   {
    "duration": 10,
    "start_time": "2024-12-17T18:11:29.819Z"
   },
   {
    "duration": 7,
    "start_time": "2024-12-17T18:11:38.169Z"
   },
   {
    "duration": 15,
    "start_time": "2024-12-17T18:11:45.427Z"
   },
   {
    "duration": 17,
    "start_time": "2024-12-17T18:17:30.823Z"
   },
   {
    "duration": 13,
    "start_time": "2024-12-17T18:18:38.088Z"
   },
   {
    "duration": 34,
    "start_time": "2024-12-17T18:21:48.278Z"
   },
   {
    "duration": 20,
    "start_time": "2024-12-17T18:22:23.001Z"
   },
   {
    "duration": 18,
    "start_time": "2024-12-17T18:23:55.872Z"
   },
   {
    "duration": 4,
    "start_time": "2024-12-17T18:26:56.594Z"
   },
   {
    "duration": 19,
    "start_time": "2024-12-17T18:27:13.673Z"
   },
   {
    "duration": 442,
    "start_time": "2024-12-17T18:27:40.678Z"
   },
   {
    "duration": 186,
    "start_time": "2024-12-17T18:27:41.122Z"
   },
   {
    "duration": 10,
    "start_time": "2024-12-17T18:27:41.309Z"
   },
   {
    "duration": 10,
    "start_time": "2024-12-17T18:27:41.320Z"
   },
   {
    "duration": 8,
    "start_time": "2024-12-17T18:27:41.332Z"
   },
   {
    "duration": 30,
    "start_time": "2024-12-17T18:27:41.342Z"
   },
   {
    "duration": 5,
    "start_time": "2024-12-17T18:27:41.373Z"
   },
   {
    "duration": 10,
    "start_time": "2024-12-17T18:27:41.380Z"
   },
   {
    "duration": 16,
    "start_time": "2024-12-17T18:27:41.391Z"
   },
   {
    "duration": 4,
    "start_time": "2024-12-17T18:27:41.409Z"
   },
   {
    "duration": 12,
    "start_time": "2024-12-17T18:27:41.415Z"
   },
   {
    "duration": 42,
    "start_time": "2024-12-17T18:27:41.429Z"
   },
   {
    "duration": 17,
    "start_time": "2024-12-17T18:27:41.473Z"
   },
   {
    "duration": 10,
    "start_time": "2024-12-17T18:27:41.494Z"
   },
   {
    "duration": 7,
    "start_time": "2024-12-17T18:27:41.505Z"
   },
   {
    "duration": 18,
    "start_time": "2024-12-17T18:27:41.513Z"
   },
   {
    "duration": 49,
    "start_time": "2024-12-17T18:27:41.533Z"
   },
   {
    "duration": 17,
    "start_time": "2024-12-17T18:27:41.584Z"
   },
   {
    "duration": 3,
    "start_time": "2024-12-17T18:27:41.603Z"
   },
   {
    "duration": 19,
    "start_time": "2024-12-17T18:27:41.607Z"
   },
   {
    "duration": 55,
    "start_time": "2024-12-17T18:27:41.628Z"
   },
   {
    "duration": 11,
    "start_time": "2024-12-17T18:27:41.685Z"
   },
   {
    "duration": 14,
    "start_time": "2024-12-17T18:27:41.698Z"
   },
   {
    "duration": 35,
    "start_time": "2024-12-17T18:27:41.713Z"
   },
   {
    "duration": 31,
    "start_time": "2024-12-17T18:27:41.750Z"
   },
   {
    "duration": 10,
    "start_time": "2024-12-17T18:27:41.782Z"
   },
   {
    "duration": 12,
    "start_time": "2024-12-17T18:27:41.793Z"
   },
   {
    "duration": 12,
    "start_time": "2024-12-17T18:27:41.807Z"
   },
   {
    "duration": 12,
    "start_time": "2024-12-17T18:27:41.821Z"
   },
   {
    "duration": 49,
    "start_time": "2024-12-17T18:27:41.835Z"
   },
   {
    "duration": 10,
    "start_time": "2024-12-17T18:27:41.886Z"
   },
   {
    "duration": 12,
    "start_time": "2024-12-17T18:27:41.898Z"
   },
   {
    "duration": 11,
    "start_time": "2024-12-17T18:27:41.912Z"
   },
   {
    "duration": 12,
    "start_time": "2024-12-17T18:27:41.924Z"
   },
   {
    "duration": 35,
    "start_time": "2024-12-17T18:27:41.938Z"
   },
   {
    "duration": 51,
    "start_time": "2024-12-17T18:27:41.975Z"
   },
   {
    "duration": 1,
    "start_time": "2024-12-17T18:27:42.028Z"
   },
   {
    "duration": 45,
    "start_time": "2024-12-17T18:27:42.031Z"
   },
   {
    "duration": 16,
    "start_time": "2024-12-17T18:27:42.077Z"
   },
   {
    "duration": 18,
    "start_time": "2024-12-17T18:27:42.094Z"
   },
   {
    "duration": 15,
    "start_time": "2024-12-17T18:27:42.117Z"
   },
   {
    "duration": 49,
    "start_time": "2024-12-17T18:27:42.134Z"
   },
   {
    "duration": 161,
    "start_time": "2024-12-17T18:27:42.184Z"
   },
   {
    "duration": 984,
    "start_time": "2024-12-17T18:27:42.346Z"
   },
   {
    "duration": 0,
    "start_time": "2024-12-17T18:27:43.332Z"
   },
   {
    "duration": 0,
    "start_time": "2024-12-17T18:27:43.333Z"
   },
   {
    "duration": 0,
    "start_time": "2024-12-17T18:27:43.334Z"
   },
   {
    "duration": 0,
    "start_time": "2024-12-17T18:27:43.335Z"
   },
   {
    "duration": 0,
    "start_time": "2024-12-17T18:27:43.336Z"
   },
   {
    "duration": 0,
    "start_time": "2024-12-17T18:27:43.337Z"
   },
   {
    "duration": 0,
    "start_time": "2024-12-17T18:27:43.338Z"
   },
   {
    "duration": 255,
    "start_time": "2024-12-17T18:52:20.409Z"
   },
   {
    "duration": 5,
    "start_time": "2024-12-17T18:52:28.934Z"
   },
   {
    "duration": 7,
    "start_time": "2024-12-17T18:53:24.443Z"
   },
   {
    "duration": 2,
    "start_time": "2024-12-17T18:54:01.643Z"
   },
   {
    "duration": 4,
    "start_time": "2024-12-17T18:54:10.992Z"
   },
   {
    "duration": 5,
    "start_time": "2024-12-17T18:54:24.680Z"
   },
   {
    "duration": 6,
    "start_time": "2024-12-17T18:55:42.037Z"
   },
   {
    "duration": 5,
    "start_time": "2024-12-17T18:55:58.086Z"
   },
   {
    "duration": 5,
    "start_time": "2024-12-17T18:57:28.495Z"
   },
   {
    "duration": 75,
    "start_time": "2024-12-17T18:58:15.672Z"
   },
   {
    "duration": 3,
    "start_time": "2024-12-17T18:59:02.066Z"
   },
   {
    "duration": 3,
    "start_time": "2024-12-17T18:59:09.883Z"
   },
   {
    "duration": 268,
    "start_time": "2024-12-17T19:00:10.513Z"
   },
   {
    "duration": 8,
    "start_time": "2024-12-17T19:00:23.978Z"
   },
   {
    "duration": 9,
    "start_time": "2024-12-17T19:00:29.468Z"
   },
   {
    "duration": 8,
    "start_time": "2024-12-17T19:01:12.086Z"
   },
   {
    "duration": 20,
    "start_time": "2024-12-17T19:01:20.484Z"
   },
   {
    "duration": 452,
    "start_time": "2024-12-17T19:02:31.529Z"
   },
   {
    "duration": 196,
    "start_time": "2024-12-17T19:02:31.983Z"
   },
   {
    "duration": 10,
    "start_time": "2024-12-17T19:02:32.181Z"
   },
   {
    "duration": 10,
    "start_time": "2024-12-17T19:02:32.193Z"
   },
   {
    "duration": 8,
    "start_time": "2024-12-17T19:02:32.204Z"
   },
   {
    "duration": 11,
    "start_time": "2024-12-17T19:02:32.214Z"
   },
   {
    "duration": 3,
    "start_time": "2024-12-17T19:02:32.227Z"
   },
   {
    "duration": 8,
    "start_time": "2024-12-17T19:02:32.232Z"
   },
   {
    "duration": 43,
    "start_time": "2024-12-17T19:02:32.242Z"
   },
   {
    "duration": 4,
    "start_time": "2024-12-17T19:02:32.289Z"
   },
   {
    "duration": 13,
    "start_time": "2024-12-17T19:02:32.295Z"
   },
   {
    "duration": 17,
    "start_time": "2024-12-17T19:02:32.310Z"
   },
   {
    "duration": 49,
    "start_time": "2024-12-17T19:02:32.329Z"
   },
   {
    "duration": 12,
    "start_time": "2024-12-17T19:02:32.379Z"
   },
   {
    "duration": 7,
    "start_time": "2024-12-17T19:02:32.392Z"
   },
   {
    "duration": 18,
    "start_time": "2024-12-17T19:02:32.401Z"
   },
   {
    "duration": 23,
    "start_time": "2024-12-17T19:02:32.421Z"
   },
   {
    "duration": 36,
    "start_time": "2024-12-17T19:02:32.447Z"
   },
   {
    "duration": 4,
    "start_time": "2024-12-17T19:02:32.485Z"
   },
   {
    "duration": 16,
    "start_time": "2024-12-17T19:02:32.490Z"
   },
   {
    "duration": 24,
    "start_time": "2024-12-17T19:02:32.508Z"
   },
   {
    "duration": 39,
    "start_time": "2024-12-17T19:02:32.534Z"
   },
   {
    "duration": 17,
    "start_time": "2024-12-17T19:02:32.576Z"
   },
   {
    "duration": 34,
    "start_time": "2024-12-17T19:02:32.595Z"
   },
   {
    "duration": 12,
    "start_time": "2024-12-17T19:02:32.631Z"
   },
   {
    "duration": 33,
    "start_time": "2024-12-17T19:02:32.644Z"
   },
   {
    "duration": 12,
    "start_time": "2024-12-17T19:02:32.679Z"
   },
   {
    "duration": 12,
    "start_time": "2024-12-17T19:02:32.695Z"
   },
   {
    "duration": 13,
    "start_time": "2024-12-17T19:02:32.708Z"
   },
   {
    "duration": 14,
    "start_time": "2024-12-17T19:02:32.722Z"
   },
   {
    "duration": 39,
    "start_time": "2024-12-17T19:02:32.737Z"
   },
   {
    "duration": 13,
    "start_time": "2024-12-17T19:02:32.777Z"
   },
   {
    "duration": 16,
    "start_time": "2024-12-17T19:02:32.792Z"
   },
   {
    "duration": 13,
    "start_time": "2024-12-17T19:02:32.810Z"
   },
   {
    "duration": 7,
    "start_time": "2024-12-17T19:02:32.824Z"
   },
   {
    "duration": 81,
    "start_time": "2024-12-17T19:02:32.833Z"
   },
   {
    "duration": 3,
    "start_time": "2024-12-17T19:02:32.915Z"
   },
   {
    "duration": 23,
    "start_time": "2024-12-17T19:02:32.919Z"
   },
   {
    "duration": 29,
    "start_time": "2024-12-17T19:02:32.944Z"
   },
   {
    "duration": 16,
    "start_time": "2024-12-17T19:02:32.975Z"
   },
   {
    "duration": 15,
    "start_time": "2024-12-17T19:02:32.994Z"
   },
   {
    "duration": 19,
    "start_time": "2024-12-17T19:02:33.011Z"
   },
   {
    "duration": 177,
    "start_time": "2024-12-17T19:02:33.032Z"
   },
   {
    "duration": 740,
    "start_time": "2024-12-17T19:02:33.210Z"
   },
   {
    "duration": 19,
    "start_time": "2024-12-17T19:02:33.951Z"
   },
   {
    "duration": 7,
    "start_time": "2024-12-17T19:02:33.971Z"
   },
   {
    "duration": 161,
    "start_time": "2024-12-17T19:02:33.979Z"
   },
   {
    "duration": 0,
    "start_time": "2024-12-17T19:02:34.142Z"
   },
   {
    "duration": 0,
    "start_time": "2024-12-17T19:02:34.143Z"
   },
   {
    "duration": 0,
    "start_time": "2024-12-17T19:02:34.144Z"
   },
   {
    "duration": 0,
    "start_time": "2024-12-17T19:02:34.145Z"
   },
   {
    "duration": 735,
    "start_time": "2024-12-17T19:03:59.970Z"
   },
   {
    "duration": 159,
    "start_time": "2024-12-17T19:04:00.708Z"
   },
   {
    "duration": 11,
    "start_time": "2024-12-17T19:04:00.869Z"
   },
   {
    "duration": 12,
    "start_time": "2024-12-17T19:04:00.882Z"
   },
   {
    "duration": 7,
    "start_time": "2024-12-17T19:04:00.897Z"
   },
   {
    "duration": 10,
    "start_time": "2024-12-17T19:04:00.906Z"
   },
   {
    "duration": 3,
    "start_time": "2024-12-17T19:04:00.918Z"
   },
   {
    "duration": 9,
    "start_time": "2024-12-17T19:04:00.923Z"
   },
   {
    "duration": 44,
    "start_time": "2024-12-17T19:04:00.933Z"
   },
   {
    "duration": 3,
    "start_time": "2024-12-17T19:04:00.979Z"
   },
   {
    "duration": 10,
    "start_time": "2024-12-17T19:04:00.984Z"
   },
   {
    "duration": 16,
    "start_time": "2024-12-17T19:04:00.996Z"
   },
   {
    "duration": 15,
    "start_time": "2024-12-17T19:04:01.013Z"
   },
   {
    "duration": 10,
    "start_time": "2024-12-17T19:04:01.031Z"
   },
   {
    "duration": 7,
    "start_time": "2024-12-17T19:04:01.070Z"
   },
   {
    "duration": 19,
    "start_time": "2024-12-17T19:04:01.079Z"
   },
   {
    "duration": 16,
    "start_time": "2024-12-17T19:04:01.099Z"
   },
   {
    "duration": 15,
    "start_time": "2024-12-17T19:04:01.117Z"
   },
   {
    "duration": 4,
    "start_time": "2024-12-17T19:04:01.134Z"
   },
   {
    "duration": 41,
    "start_time": "2024-12-17T19:04:01.139Z"
   },
   {
    "duration": 25,
    "start_time": "2024-12-17T19:04:01.182Z"
   },
   {
    "duration": 12,
    "start_time": "2024-12-17T19:04:01.208Z"
   },
   {
    "duration": 15,
    "start_time": "2024-12-17T19:04:01.221Z"
   },
   {
    "duration": 56,
    "start_time": "2024-12-17T19:04:01.237Z"
   },
   {
    "duration": 11,
    "start_time": "2024-12-17T19:04:01.295Z"
   },
   {
    "duration": 8,
    "start_time": "2024-12-17T19:04:01.307Z"
   },
   {
    "duration": 12,
    "start_time": "2024-12-17T19:04:01.318Z"
   },
   {
    "duration": 38,
    "start_time": "2024-12-17T19:04:01.332Z"
   },
   {
    "duration": 13,
    "start_time": "2024-12-17T19:04:01.372Z"
   },
   {
    "duration": 13,
    "start_time": "2024-12-17T19:04:01.387Z"
   },
   {
    "duration": 9,
    "start_time": "2024-12-17T19:04:01.401Z"
   },
   {
    "duration": 12,
    "start_time": "2024-12-17T19:04:01.412Z"
   },
   {
    "duration": 11,
    "start_time": "2024-12-17T19:04:01.426Z"
   },
   {
    "duration": 43,
    "start_time": "2024-12-17T19:04:01.438Z"
   },
   {
    "duration": 7,
    "start_time": "2024-12-17T19:04:01.482Z"
   },
   {
    "duration": 53,
    "start_time": "2024-12-17T19:04:01.491Z"
   },
   {
    "duration": 2,
    "start_time": "2024-12-17T19:04:01.546Z"
   },
   {
    "duration": 22,
    "start_time": "2024-12-17T19:04:01.571Z"
   },
   {
    "duration": 18,
    "start_time": "2024-12-17T19:04:01.597Z"
   },
   {
    "duration": 26,
    "start_time": "2024-12-17T19:04:01.617Z"
   },
   {
    "duration": 34,
    "start_time": "2024-12-17T19:04:01.651Z"
   },
   {
    "duration": 21,
    "start_time": "2024-12-17T19:04:01.687Z"
   },
   {
    "duration": 186,
    "start_time": "2024-12-17T19:04:01.711Z"
   },
   {
    "duration": 747,
    "start_time": "2024-12-17T19:04:01.899Z"
   },
   {
    "duration": 9,
    "start_time": "2024-12-17T19:04:02.648Z"
   },
   {
    "duration": 20,
    "start_time": "2024-12-17T19:04:02.658Z"
   },
   {
    "duration": 145,
    "start_time": "2024-12-17T19:04:02.679Z"
   },
   {
    "duration": 0,
    "start_time": "2024-12-17T19:04:02.826Z"
   },
   {
    "duration": 0,
    "start_time": "2024-12-17T19:04:02.827Z"
   },
   {
    "duration": 1,
    "start_time": "2024-12-17T19:04:02.828Z"
   },
   {
    "duration": 0,
    "start_time": "2024-12-17T19:04:02.830Z"
   },
   {
    "duration": 8,
    "start_time": "2024-12-17T19:10:08.122Z"
   },
   {
    "duration": 5,
    "start_time": "2024-12-17T19:15:46.916Z"
   },
   {
    "duration": 6,
    "start_time": "2024-12-17T19:17:57.829Z"
   },
   {
    "duration": 5,
    "start_time": "2024-12-17T19:18:17.675Z"
   },
   {
    "duration": 8,
    "start_time": "2024-12-17T19:18:32.197Z"
   },
   {
    "duration": 99,
    "start_time": "2024-12-17T19:21:35.622Z"
   },
   {
    "duration": 5,
    "start_time": "2024-12-17T19:22:17.971Z"
   },
   {
    "duration": 12,
    "start_time": "2024-12-17T19:47:08.031Z"
   },
   {
    "duration": 5,
    "start_time": "2024-12-17T19:47:39.863Z"
   },
   {
    "duration": 13,
    "start_time": "2024-12-17T19:49:06.830Z"
   },
   {
    "duration": 166,
    "start_time": "2024-12-17T19:52:15.245Z"
   },
   {
    "duration": 807,
    "start_time": "2024-12-17T19:53:14.241Z"
   },
   {
    "duration": 166,
    "start_time": "2024-12-17T19:53:15.050Z"
   },
   {
    "duration": 10,
    "start_time": "2024-12-17T19:53:15.217Z"
   },
   {
    "duration": 11,
    "start_time": "2024-12-17T19:53:15.228Z"
   },
   {
    "duration": 7,
    "start_time": "2024-12-17T19:53:15.242Z"
   },
   {
    "duration": 24,
    "start_time": "2024-12-17T19:53:15.251Z"
   },
   {
    "duration": 3,
    "start_time": "2024-12-17T19:53:15.276Z"
   },
   {
    "duration": 9,
    "start_time": "2024-12-17T19:53:15.281Z"
   },
   {
    "duration": 15,
    "start_time": "2024-12-17T19:53:15.292Z"
   },
   {
    "duration": 4,
    "start_time": "2024-12-17T19:53:15.309Z"
   },
   {
    "duration": 11,
    "start_time": "2024-12-17T19:53:15.314Z"
   },
   {
    "duration": 43,
    "start_time": "2024-12-17T19:53:15.328Z"
   },
   {
    "duration": 15,
    "start_time": "2024-12-17T19:53:15.373Z"
   },
   {
    "duration": 9,
    "start_time": "2024-12-17T19:53:15.392Z"
   },
   {
    "duration": 8,
    "start_time": "2024-12-17T19:53:15.402Z"
   },
   {
    "duration": 19,
    "start_time": "2024-12-17T19:53:15.411Z"
   },
   {
    "duration": 46,
    "start_time": "2024-12-17T19:53:15.431Z"
   },
   {
    "duration": 15,
    "start_time": "2024-12-17T19:53:15.479Z"
   },
   {
    "duration": 29,
    "start_time": "2024-12-17T19:53:15.495Z"
   },
   {
    "duration": 34,
    "start_time": "2024-12-17T19:53:15.525Z"
   },
   {
    "duration": 25,
    "start_time": "2024-12-17T19:53:15.562Z"
   },
   {
    "duration": 11,
    "start_time": "2024-12-17T19:53:15.589Z"
   },
   {
    "duration": 15,
    "start_time": "2024-12-17T19:53:15.603Z"
   },
   {
    "duration": 33,
    "start_time": "2024-12-17T19:53:15.619Z"
   },
   {
    "duration": 21,
    "start_time": "2024-12-17T19:53:15.655Z"
   },
   {
    "duration": 8,
    "start_time": "2024-12-17T19:53:15.677Z"
   },
   {
    "duration": 12,
    "start_time": "2024-12-17T19:53:15.687Z"
   },
   {
    "duration": 12,
    "start_time": "2024-12-17T19:53:15.701Z"
   },
   {
    "duration": 13,
    "start_time": "2024-12-17T19:53:15.714Z"
   },
   {
    "duration": 46,
    "start_time": "2024-12-17T19:53:15.728Z"
   },
   {
    "duration": 9,
    "start_time": "2024-12-17T19:53:15.776Z"
   },
   {
    "duration": 13,
    "start_time": "2024-12-17T19:53:15.786Z"
   },
   {
    "duration": 11,
    "start_time": "2024-12-17T19:53:15.800Z"
   },
   {
    "duration": 11,
    "start_time": "2024-12-17T19:53:15.813Z"
   },
   {
    "duration": 6,
    "start_time": "2024-12-17T19:53:15.826Z"
   },
   {
    "duration": 86,
    "start_time": "2024-12-17T19:53:15.833Z"
   },
   {
    "duration": 3,
    "start_time": "2024-12-17T19:53:15.921Z"
   },
   {
    "duration": 20,
    "start_time": "2024-12-17T19:53:15.926Z"
   },
   {
    "duration": 32,
    "start_time": "2024-12-17T19:53:15.948Z"
   },
   {
    "duration": 18,
    "start_time": "2024-12-17T19:53:15.982Z"
   },
   {
    "duration": 15,
    "start_time": "2024-12-17T19:53:16.004Z"
   },
   {
    "duration": 19,
    "start_time": "2024-12-17T19:53:16.020Z"
   },
   {
    "duration": 155,
    "start_time": "2024-12-17T19:53:16.069Z"
   },
   {
    "duration": 121,
    "start_time": "2024-12-17T19:53:16.225Z"
   },
   {
    "duration": 18,
    "start_time": "2024-12-17T19:53:16.348Z"
   },
   {
    "duration": 9,
    "start_time": "2024-12-17T19:53:16.368Z"
   },
   {
    "duration": 482,
    "start_time": "2024-12-17T19:53:16.379Z"
   },
   {
    "duration": 122,
    "start_time": "2024-12-17T19:53:16.863Z"
   },
   {
    "duration": 3,
    "start_time": "2024-12-17T19:53:16.987Z"
   },
   {
    "duration": 2,
    "start_time": "2024-12-17T19:53:16.992Z"
   },
   {
    "duration": 2,
    "start_time": "2024-12-17T19:53:16.996Z"
   },
   {
    "duration": 99,
    "start_time": "2024-12-17T20:03:51.724Z"
   },
   {
    "duration": 12,
    "start_time": "2024-12-17T20:05:39.794Z"
   },
   {
    "duration": 11,
    "start_time": "2024-12-17T20:05:58.379Z"
   },
   {
    "duration": 11,
    "start_time": "2024-12-17T20:06:15.445Z"
   },
   {
    "duration": 642,
    "start_time": "2024-12-17T20:07:06.846Z"
   },
   {
    "duration": 12,
    "start_time": "2024-12-17T20:08:17.582Z"
   },
   {
    "duration": 143,
    "start_time": "2024-12-17T20:08:40.237Z"
   },
   {
    "duration": 7,
    "start_time": "2024-12-17T20:14:50.091Z"
   },
   {
    "duration": 158,
    "start_time": "2024-12-17T22:31:58.816Z"
   },
   {
    "duration": 2467,
    "start_time": "2024-12-17T22:32:09.183Z"
   },
   {
    "duration": 217,
    "start_time": "2024-12-17T22:32:11.652Z"
   },
   {
    "duration": 10,
    "start_time": "2024-12-17T22:32:11.871Z"
   },
   {
    "duration": 9,
    "start_time": "2024-12-17T22:32:11.884Z"
   },
   {
    "duration": 7,
    "start_time": "2024-12-17T22:32:11.895Z"
   },
   {
    "duration": 10,
    "start_time": "2024-12-17T22:32:11.905Z"
   },
   {
    "duration": 3,
    "start_time": "2024-12-17T22:32:11.917Z"
   },
   {
    "duration": 9,
    "start_time": "2024-12-17T22:32:11.921Z"
   },
   {
    "duration": 13,
    "start_time": "2024-12-17T22:32:11.931Z"
   },
   {
    "duration": 3,
    "start_time": "2024-12-17T22:32:11.946Z"
   },
   {
    "duration": 10,
    "start_time": "2024-12-17T22:32:11.950Z"
   },
   {
    "duration": 13,
    "start_time": "2024-12-17T22:32:11.962Z"
   },
   {
    "duration": 47,
    "start_time": "2024-12-17T22:32:11.977Z"
   },
   {
    "duration": 10,
    "start_time": "2024-12-17T22:32:12.028Z"
   },
   {
    "duration": 7,
    "start_time": "2024-12-17T22:32:12.040Z"
   },
   {
    "duration": 18,
    "start_time": "2024-12-17T22:32:12.048Z"
   },
   {
    "duration": 16,
    "start_time": "2024-12-17T22:32:12.068Z"
   },
   {
    "duration": 15,
    "start_time": "2024-12-17T22:32:12.113Z"
   },
   {
    "duration": 3,
    "start_time": "2024-12-17T22:32:12.130Z"
   },
   {
    "duration": 15,
    "start_time": "2024-12-17T22:32:12.134Z"
   },
   {
    "duration": 25,
    "start_time": "2024-12-17T22:32:12.150Z"
   },
   {
    "duration": 36,
    "start_time": "2024-12-17T22:32:12.177Z"
   },
   {
    "duration": 15,
    "start_time": "2024-12-17T22:32:12.214Z"
   },
   {
    "duration": 33,
    "start_time": "2024-12-17T22:32:12.230Z"
   },
   {
    "duration": 12,
    "start_time": "2024-12-17T22:32:12.264Z"
   },
   {
    "duration": 36,
    "start_time": "2024-12-17T22:32:12.277Z"
   },
   {
    "duration": 12,
    "start_time": "2024-12-17T22:32:12.314Z"
   },
   {
    "duration": 12,
    "start_time": "2024-12-17T22:32:12.327Z"
   },
   {
    "duration": 12,
    "start_time": "2024-12-17T22:32:12.340Z"
   },
   {
    "duration": 13,
    "start_time": "2024-12-17T22:32:12.354Z"
   },
   {
    "duration": 9,
    "start_time": "2024-12-17T22:32:12.368Z"
   },
   {
    "duration": 40,
    "start_time": "2024-12-17T22:32:12.379Z"
   },
   {
    "duration": 11,
    "start_time": "2024-12-17T22:32:12.420Z"
   },
   {
    "duration": 12,
    "start_time": "2024-12-17T22:32:12.432Z"
   },
   {
    "duration": 7,
    "start_time": "2024-12-17T22:32:12.446Z"
   },
   {
    "duration": 79,
    "start_time": "2024-12-17T22:32:12.455Z"
   },
   {
    "duration": 3,
    "start_time": "2024-12-17T22:32:12.536Z"
   },
   {
    "duration": 19,
    "start_time": "2024-12-17T22:32:12.541Z"
   },
   {
    "duration": 16,
    "start_time": "2024-12-17T22:32:12.561Z"
   },
   {
    "duration": 38,
    "start_time": "2024-12-17T22:32:12.578Z"
   },
   {
    "duration": 15,
    "start_time": "2024-12-17T22:32:12.621Z"
   },
   {
    "duration": 19,
    "start_time": "2024-12-17T22:32:12.637Z"
   },
   {
    "duration": 173,
    "start_time": "2024-12-17T22:32:12.657Z"
   },
   {
    "duration": 439,
    "start_time": "2024-12-17T22:32:12.832Z"
   },
   {
    "duration": 0,
    "start_time": "2024-12-17T22:32:13.274Z"
   },
   {
    "duration": 0,
    "start_time": "2024-12-17T22:32:13.274Z"
   },
   {
    "duration": 0,
    "start_time": "2024-12-17T22:32:13.276Z"
   },
   {
    "duration": 0,
    "start_time": "2024-12-17T22:32:13.278Z"
   },
   {
    "duration": 0,
    "start_time": "2024-12-17T22:32:13.279Z"
   },
   {
    "duration": 0,
    "start_time": "2024-12-17T22:32:13.280Z"
   },
   {
    "duration": 0,
    "start_time": "2024-12-17T22:32:13.281Z"
   },
   {
    "duration": 16,
    "start_time": "2024-12-17T22:33:28.435Z"
   },
   {
    "duration": 15,
    "start_time": "2024-12-17T22:33:39.653Z"
   },
   {
    "duration": 5,
    "start_time": "2024-12-17T22:34:02.508Z"
   },
   {
    "duration": 4,
    "start_time": "2024-12-17T22:34:11.132Z"
   },
   {
    "duration": 114,
    "start_time": "2024-12-17T22:34:16.804Z"
   },
   {
    "duration": 463,
    "start_time": "2024-12-17T22:34:21.853Z"
   },
   {
    "duration": 171,
    "start_time": "2024-12-18T01:28:29.991Z"
   },
   {
    "duration": 2508,
    "start_time": "2024-12-18T14:14:43.597Z"
   },
   {
    "duration": 234,
    "start_time": "2024-12-18T14:14:46.107Z"
   },
   {
    "duration": 10,
    "start_time": "2024-12-18T14:14:46.343Z"
   },
   {
    "duration": 9,
    "start_time": "2024-12-18T14:14:46.355Z"
   },
   {
    "duration": 7,
    "start_time": "2024-12-18T14:14:46.367Z"
   },
   {
    "duration": 10,
    "start_time": "2024-12-18T14:14:46.376Z"
   },
   {
    "duration": 3,
    "start_time": "2024-12-18T14:14:46.388Z"
   },
   {
    "duration": 25,
    "start_time": "2024-12-18T14:14:46.392Z"
   },
   {
    "duration": 13,
    "start_time": "2024-12-18T14:14:46.418Z"
   },
   {
    "duration": 3,
    "start_time": "2024-12-18T14:14:46.433Z"
   },
   {
    "duration": 10,
    "start_time": "2024-12-18T14:14:46.438Z"
   },
   {
    "duration": 14,
    "start_time": "2024-12-18T14:14:46.449Z"
   },
   {
    "duration": 48,
    "start_time": "2024-12-18T14:14:46.464Z"
   },
   {
    "duration": 9,
    "start_time": "2024-12-18T14:14:46.517Z"
   },
   {
    "duration": 7,
    "start_time": "2024-12-18T14:14:46.528Z"
   },
   {
    "duration": 18,
    "start_time": "2024-12-18T14:14:46.536Z"
   },
   {
    "duration": 16,
    "start_time": "2024-12-18T14:14:46.555Z"
   },
   {
    "duration": 43,
    "start_time": "2024-12-18T14:14:46.573Z"
   },
   {
    "duration": 3,
    "start_time": "2024-12-18T14:14:46.618Z"
   },
   {
    "duration": 16,
    "start_time": "2024-12-18T14:14:46.622Z"
   },
   {
    "duration": 24,
    "start_time": "2024-12-18T14:14:46.640Z"
   },
   {
    "duration": 10,
    "start_time": "2024-12-18T14:14:46.666Z"
   },
   {
    "duration": 42,
    "start_time": "2024-12-18T14:14:46.678Z"
   },
   {
    "duration": 31,
    "start_time": "2024-12-18T14:14:46.722Z"
   },
   {
    "duration": 11,
    "start_time": "2024-12-18T14:14:46.754Z"
   },
   {
    "duration": 8,
    "start_time": "2024-12-18T14:14:46.766Z"
   },
   {
    "duration": 12,
    "start_time": "2024-12-18T14:14:46.775Z"
   },
   {
    "duration": 12,
    "start_time": "2024-12-18T14:14:46.812Z"
   },
   {
    "duration": 11,
    "start_time": "2024-12-18T14:14:46.826Z"
   },
   {
    "duration": 13,
    "start_time": "2024-12-18T14:14:46.839Z"
   },
   {
    "duration": 9,
    "start_time": "2024-12-18T14:14:46.854Z"
   },
   {
    "duration": 13,
    "start_time": "2024-12-18T14:14:46.864Z"
   },
   {
    "duration": 44,
    "start_time": "2024-12-18T14:14:46.878Z"
   },
   {
    "duration": 12,
    "start_time": "2024-12-18T14:14:46.924Z"
   },
   {
    "duration": 6,
    "start_time": "2024-12-18T14:14:46.938Z"
   },
   {
    "duration": 72,
    "start_time": "2024-12-18T14:14:46.945Z"
   },
   {
    "duration": 2,
    "start_time": "2024-12-18T14:14:47.019Z"
   },
   {
    "duration": 18,
    "start_time": "2024-12-18T14:14:47.023Z"
   },
   {
    "duration": 15,
    "start_time": "2024-12-18T14:14:47.043Z"
   },
   {
    "duration": 16,
    "start_time": "2024-12-18T14:14:47.060Z"
   },
   {
    "duration": 43,
    "start_time": "2024-12-18T14:14:47.080Z"
   },
   {
    "duration": 18,
    "start_time": "2024-12-18T14:14:47.125Z"
   },
   {
    "duration": 178,
    "start_time": "2024-12-18T14:14:47.145Z"
   },
   {
    "duration": 121,
    "start_time": "2024-12-18T14:14:47.325Z"
   },
   {
    "duration": 8,
    "start_time": "2024-12-18T14:14:47.448Z"
   },
   {
    "duration": 7,
    "start_time": "2024-12-18T14:14:47.457Z"
   },
   {
    "duration": 165,
    "start_time": "2024-12-18T14:14:47.466Z"
   },
   {
    "duration": 2,
    "start_time": "2024-12-18T14:14:47.633Z"
   },
   {
    "duration": 2,
    "start_time": "2024-12-18T14:14:47.637Z"
   },
   {
    "duration": 11,
    "start_time": "2024-12-18T14:14:47.641Z"
   },
   {
    "duration": 192,
    "start_time": "2024-12-18T14:37:20.051Z"
   },
   {
    "duration": 22,
    "start_time": "2024-12-18T14:38:56.737Z"
   },
   {
    "duration": 22,
    "start_time": "2024-12-18T14:39:20.399Z"
   },
   {
    "duration": 25,
    "start_time": "2024-12-18T14:41:33.612Z"
   },
   {
    "duration": 25,
    "start_time": "2024-12-18T14:41:46.712Z"
   },
   {
    "duration": 41,
    "start_time": "2024-12-18T14:44:58.178Z"
   },
   {
    "duration": 39,
    "start_time": "2024-12-18T14:46:06.909Z"
   },
   {
    "duration": 25,
    "start_time": "2024-12-18T14:46:18.886Z"
   },
   {
    "duration": 6,
    "start_time": "2024-12-18T16:16:56.929Z"
   },
   {
    "duration": 7,
    "start_time": "2024-12-18T16:17:24.597Z"
   },
   {
    "duration": 620,
    "start_time": "2024-12-18T16:19:37.468Z"
   },
   {
    "duration": 5,
    "start_time": "2024-12-18T16:19:42.183Z"
   },
   {
    "duration": 3151,
    "start_time": "2024-12-18T16:21:33.067Z"
   },
   {
    "duration": 3155,
    "start_time": "2024-12-18T16:23:28.707Z"
   },
   {
    "duration": 204,
    "start_time": "2024-12-18T16:26:50.799Z"
   },
   {
    "duration": 3026,
    "start_time": "2024-12-18T16:26:53.713Z"
   },
   {
    "duration": 4,
    "start_time": "2024-12-18T16:26:56.742Z"
   },
   {
    "duration": 3164,
    "start_time": "2024-12-18T16:27:25.077Z"
   },
   {
    "duration": 7,
    "start_time": "2024-12-18T16:27:28.243Z"
   },
   {
    "duration": 158,
    "start_time": "2024-12-18T16:28:36.894Z"
   },
   {
    "duration": 5,
    "start_time": "2024-12-18T16:34:12.951Z"
   },
   {
    "duration": 6,
    "start_time": "2024-12-18T16:45:27.198Z"
   },
   {
    "duration": 158,
    "start_time": "2024-12-18T16:46:03.758Z"
   },
   {
    "duration": 13,
    "start_time": "2024-12-18T17:04:49.324Z"
   },
   {
    "duration": 170,
    "start_time": "2024-12-18T17:04:52.179Z"
   },
   {
    "duration": 6,
    "start_time": "2024-12-18T17:04:56.816Z"
   },
   {
    "duration": 6,
    "start_time": "2024-12-18T17:06:13.280Z"
   },
   {
    "duration": 179,
    "start_time": "2024-12-18T17:06:17.694Z"
   },
   {
    "duration": 7,
    "start_time": "2024-12-18T17:06:21.414Z"
   },
   {
    "duration": 360,
    "start_time": "2024-12-18T17:07:08.782Z"
   },
   {
    "duration": 8,
    "start_time": "2024-12-18T17:14:10.180Z"
   },
   {
    "duration": 154,
    "start_time": "2024-12-18T17:15:33.917Z"
   },
   {
    "duration": 8,
    "start_time": "2024-12-18T17:16:31.358Z"
   },
   {
    "duration": 4,
    "start_time": "2024-12-18T17:16:43.400Z"
   },
   {
    "duration": 8,
    "start_time": "2024-12-18T17:18:27.252Z"
   },
   {
    "duration": 162,
    "start_time": "2024-12-18T17:18:41.050Z"
   },
   {
    "duration": 14,
    "start_time": "2024-12-18T17:18:55.342Z"
   },
   {
    "duration": 7,
    "start_time": "2024-12-18T17:18:58.370Z"
   },
   {
    "duration": 7,
    "start_time": "2024-12-18T17:19:03.097Z"
   },
   {
    "duration": 163,
    "start_time": "2024-12-18T17:19:30.069Z"
   },
   {
    "duration": 13,
    "start_time": "2024-12-18T17:20:46.476Z"
   },
   {
    "duration": 389,
    "start_time": "2024-12-18T17:20:49.364Z"
   },
   {
    "duration": 12,
    "start_time": "2024-12-18T17:20:53.058Z"
   },
   {
    "duration": 40,
    "start_time": "2024-12-18T17:21:09.311Z"
   },
   {
    "duration": 51,
    "start_time": "2024-12-18T17:21:24.793Z"
   },
   {
    "duration": 42,
    "start_time": "2024-12-18T17:22:23.263Z"
   },
   {
    "duration": 8,
    "start_time": "2024-12-18T17:22:32.806Z"
   },
   {
    "duration": 95,
    "start_time": "2024-12-18T17:22:43.932Z"
   },
   {
    "duration": 6,
    "start_time": "2024-12-18T17:23:01.783Z"
   },
   {
    "duration": 216,
    "start_time": "2024-12-18T17:31:17.225Z"
   },
   {
    "duration": 109,
    "start_time": "2024-12-18T17:33:50.136Z"
   },
   {
    "duration": 7,
    "start_time": "2024-12-18T17:34:03.645Z"
   },
   {
    "duration": 119,
    "start_time": "2024-12-18T17:34:18.612Z"
   },
   {
    "duration": 155,
    "start_time": "2024-12-18T17:36:03.737Z"
   },
   {
    "duration": 5,
    "start_time": "2024-12-18T17:37:14.851Z"
   },
   {
    "duration": 5,
    "start_time": "2024-12-18T17:38:00.233Z"
   },
   {
    "duration": 156,
    "start_time": "2024-12-18T17:38:29.923Z"
   },
   {
    "duration": 154,
    "start_time": "2024-12-18T19:53:07.102Z"
   },
   {
    "duration": 6,
    "start_time": "2024-12-18T19:53:14.717Z"
   },
   {
    "duration": 151,
    "start_time": "2024-12-18T19:53:30.323Z"
   },
   {
    "duration": 5,
    "start_time": "2024-12-18T19:53:33.542Z"
   },
   {
    "duration": 4,
    "start_time": "2024-12-18T19:53:48.340Z"
   },
   {
    "duration": 6,
    "start_time": "2024-12-18T20:02:05.400Z"
   },
   {
    "duration": 4,
    "start_time": "2024-12-18T20:02:12.052Z"
   },
   {
    "duration": 156,
    "start_time": "2024-12-18T20:02:37.015Z"
   },
   {
    "duration": 7,
    "start_time": "2024-12-18T20:02:41.484Z"
   },
   {
    "duration": 114,
    "start_time": "2024-12-18T20:02:57.857Z"
   },
   {
    "duration": 5,
    "start_time": "2024-12-18T22:52:28.267Z"
   },
   {
    "duration": 17,
    "start_time": "2024-12-18T23:20:56.861Z"
   },
   {
    "duration": 111,
    "start_time": "2024-12-18T23:22:37.905Z"
   },
   {
    "duration": 244,
    "start_time": "2024-12-18T23:22:55.541Z"
   },
   {
    "duration": 122,
    "start_time": "2024-12-18T23:23:07.659Z"
   },
   {
    "duration": 155,
    "start_time": "2024-12-19T14:24:10.686Z"
   },
   {
    "duration": 11,
    "start_time": "2024-12-19T14:25:54.967Z"
   },
   {
    "duration": 2566,
    "start_time": "2024-12-19T14:26:04.852Z"
   },
   {
    "duration": 230,
    "start_time": "2024-12-19T14:26:07.420Z"
   },
   {
    "duration": 10,
    "start_time": "2024-12-19T14:26:07.651Z"
   },
   {
    "duration": 9,
    "start_time": "2024-12-19T14:26:07.663Z"
   },
   {
    "duration": 8,
    "start_time": "2024-12-19T14:26:07.674Z"
   },
   {
    "duration": 10,
    "start_time": "2024-12-19T14:26:07.684Z"
   },
   {
    "duration": 3,
    "start_time": "2024-12-19T14:26:07.696Z"
   },
   {
    "duration": 8,
    "start_time": "2024-12-19T14:26:07.701Z"
   },
   {
    "duration": 15,
    "start_time": "2024-12-19T14:26:07.711Z"
   },
   {
    "duration": 3,
    "start_time": "2024-12-19T14:26:07.729Z"
   },
   {
    "duration": 47,
    "start_time": "2024-12-19T14:26:07.733Z"
   },
   {
    "duration": 15,
    "start_time": "2024-12-19T14:26:07.782Z"
   },
   {
    "duration": 15,
    "start_time": "2024-12-19T14:26:07.798Z"
   },
   {
    "duration": 11,
    "start_time": "2024-12-19T14:26:07.814Z"
   },
   {
    "duration": 7,
    "start_time": "2024-12-19T14:26:07.826Z"
   },
   {
    "duration": 48,
    "start_time": "2024-12-19T14:26:07.835Z"
   },
   {
    "duration": 17,
    "start_time": "2024-12-19T14:26:07.885Z"
   },
   {
    "duration": 16,
    "start_time": "2024-12-19T14:26:07.903Z"
   },
   {
    "duration": 4,
    "start_time": "2024-12-19T14:26:07.920Z"
   },
   {
    "duration": 45,
    "start_time": "2024-12-19T14:26:07.925Z"
   },
   {
    "duration": 25,
    "start_time": "2024-12-19T14:26:07.971Z"
   },
   {
    "duration": 11,
    "start_time": "2024-12-19T14:26:07.999Z"
   },
   {
    "duration": 15,
    "start_time": "2024-12-19T14:26:08.011Z"
   },
   {
    "duration": 53,
    "start_time": "2024-12-19T14:26:08.027Z"
   },
   {
    "duration": 13,
    "start_time": "2024-12-19T14:26:08.082Z"
   },
   {
    "duration": 9,
    "start_time": "2024-12-19T14:26:08.096Z"
   },
   {
    "duration": 12,
    "start_time": "2024-12-19T14:26:08.106Z"
   },
   {
    "duration": 13,
    "start_time": "2024-12-19T14:26:08.122Z"
   },
   {
    "duration": 42,
    "start_time": "2024-12-19T14:26:08.136Z"
   },
   {
    "duration": 14,
    "start_time": "2024-12-19T14:26:08.180Z"
   },
   {
    "duration": 10,
    "start_time": "2024-12-19T14:26:08.196Z"
   },
   {
    "duration": 12,
    "start_time": "2024-12-19T14:26:08.207Z"
   },
   {
    "duration": 12,
    "start_time": "2024-12-19T14:26:08.221Z"
   },
   {
    "duration": 42,
    "start_time": "2024-12-19T14:26:08.234Z"
   },
   {
    "duration": 9,
    "start_time": "2024-12-19T14:26:08.278Z"
   },
   {
    "duration": 56,
    "start_time": "2024-12-19T14:26:08.289Z"
   },
   {
    "duration": 2,
    "start_time": "2024-12-19T14:26:08.347Z"
   },
   {
    "duration": 19,
    "start_time": "2024-12-19T14:26:08.371Z"
   },
   {
    "duration": 15,
    "start_time": "2024-12-19T14:26:08.392Z"
   },
   {
    "duration": 16,
    "start_time": "2024-12-19T14:26:08.409Z"
   },
   {
    "duration": 16,
    "start_time": "2024-12-19T14:26:08.427Z"
   },
   {
    "duration": 24,
    "start_time": "2024-12-19T14:26:08.471Z"
   },
   {
    "duration": 174,
    "start_time": "2024-12-19T14:26:08.497Z"
   },
   {
    "duration": 134,
    "start_time": "2024-12-19T14:26:08.673Z"
   },
   {
    "duration": 12,
    "start_time": "2024-12-19T14:26:08.808Z"
   },
   {
    "duration": 8,
    "start_time": "2024-12-19T14:26:08.822Z"
   },
   {
    "duration": 7,
    "start_time": "2024-12-19T14:26:08.832Z"
   },
   {
    "duration": 151,
    "start_time": "2024-12-19T14:26:08.841Z"
   },
   {
    "duration": 1,
    "start_time": "2024-12-19T14:26:08.993Z"
   },
   {
    "duration": 0,
    "start_time": "2024-12-19T14:26:08.995Z"
   },
   {
    "duration": 0,
    "start_time": "2024-12-19T14:26:08.997Z"
   },
   {
    "duration": 0,
    "start_time": "2024-12-19T14:26:08.998Z"
   },
   {
    "duration": 0,
    "start_time": "2024-12-19T14:26:08.999Z"
   },
   {
    "duration": 0,
    "start_time": "2024-12-19T14:26:09.001Z"
   },
   {
    "duration": 420,
    "start_time": "2024-12-19T14:29:07.160Z"
   },
   {
    "duration": 13,
    "start_time": "2024-12-19T14:29:17.895Z"
   },
   {
    "duration": 12,
    "start_time": "2024-12-19T14:30:18.727Z"
   },
   {
    "duration": 82,
    "start_time": "2024-12-19T14:52:18.671Z"
   },
   {
    "duration": 106,
    "start_time": "2024-12-19T14:53:15.928Z"
   },
   {
    "duration": 166,
    "start_time": "2024-12-19T14:54:09.606Z"
   },
   {
    "duration": 154,
    "start_time": "2024-12-19T14:54:45.092Z"
   },
   {
    "duration": 13,
    "start_time": "2024-12-19T14:56:20.951Z"
   },
   {
    "duration": 5,
    "start_time": "2024-12-19T15:02:14.494Z"
   },
   {
    "duration": 108,
    "start_time": "2024-12-19T15:02:50.350Z"
   },
   {
    "duration": 15,
    "start_time": "2024-12-19T15:28:45.730Z"
   },
   {
    "duration": 9,
    "start_time": "2024-12-19T15:35:36.911Z"
   },
   {
    "duration": 148,
    "start_time": "2024-12-19T16:17:43.404Z"
   },
   {
    "duration": 4,
    "start_time": "2024-12-19T16:17:57.693Z"
   },
   {
    "duration": 109,
    "start_time": "2024-12-19T16:25:15.543Z"
   },
   {
    "duration": 111,
    "start_time": "2024-12-19T16:25:22.338Z"
   },
   {
    "duration": 109,
    "start_time": "2024-12-19T16:25:30.329Z"
   },
   {
    "duration": 109,
    "start_time": "2024-12-19T16:25:36.944Z"
   },
   {
    "duration": 110,
    "start_time": "2024-12-19T16:25:45.015Z"
   },
   {
    "duration": 114,
    "start_time": "2024-12-19T16:26:16.673Z"
   },
   {
    "duration": 151,
    "start_time": "2024-12-19T16:44:02.526Z"
   },
   {
    "duration": 158,
    "start_time": "2024-12-19T16:44:17.566Z"
   },
   {
    "duration": 14,
    "start_time": "2024-12-19T17:17:37.224Z"
   },
   {
    "duration": 6,
    "start_time": "2024-12-19T21:45:26.064Z"
   },
   {
    "duration": 798,
    "start_time": "2024-12-19T21:45:43.364Z"
   },
   {
    "duration": 159,
    "start_time": "2024-12-19T21:45:44.165Z"
   },
   {
    "duration": 9,
    "start_time": "2024-12-19T21:45:44.326Z"
   },
   {
    "duration": 9,
    "start_time": "2024-12-19T21:45:44.337Z"
   },
   {
    "duration": 8,
    "start_time": "2024-12-19T21:45:44.350Z"
   },
   {
    "duration": 21,
    "start_time": "2024-12-19T21:45:44.359Z"
   },
   {
    "duration": 3,
    "start_time": "2024-12-19T21:45:44.381Z"
   },
   {
    "duration": 8,
    "start_time": "2024-12-19T21:45:44.386Z"
   },
   {
    "duration": 14,
    "start_time": "2024-12-19T21:45:44.396Z"
   },
   {
    "duration": 4,
    "start_time": "2024-12-19T21:45:44.411Z"
   },
   {
    "duration": 14,
    "start_time": "2024-12-19T21:45:44.416Z"
   },
   {
    "duration": 52,
    "start_time": "2024-12-19T21:45:44.432Z"
   },
   {
    "duration": 16,
    "start_time": "2024-12-19T21:45:44.485Z"
   },
   {
    "duration": 12,
    "start_time": "2024-12-19T21:45:44.505Z"
   },
   {
    "duration": 8,
    "start_time": "2024-12-19T21:45:44.519Z"
   },
   {
    "duration": 48,
    "start_time": "2024-12-19T21:45:44.528Z"
   },
   {
    "duration": 17,
    "start_time": "2024-12-19T21:45:44.578Z"
   },
   {
    "duration": 16,
    "start_time": "2024-12-19T21:45:44.596Z"
   },
   {
    "duration": 2,
    "start_time": "2024-12-19T21:45:44.614Z"
   },
   {
    "duration": 15,
    "start_time": "2024-12-19T21:45:44.618Z"
   },
   {
    "duration": 54,
    "start_time": "2024-12-19T21:45:44.635Z"
   },
   {
    "duration": 11,
    "start_time": "2024-12-19T21:45:44.691Z"
   },
   {
    "duration": 14,
    "start_time": "2024-12-19T21:45:44.704Z"
   },
   {
    "duration": 51,
    "start_time": "2024-12-19T21:45:44.720Z"
   },
   {
    "duration": 13,
    "start_time": "2024-12-19T21:45:44.772Z"
   },
   {
    "duration": 8,
    "start_time": "2024-12-19T21:45:44.786Z"
   },
   {
    "duration": 13,
    "start_time": "2024-12-19T21:45:44.796Z"
   },
   {
    "duration": 12,
    "start_time": "2024-12-19T21:45:44.811Z"
   },
   {
    "duration": 13,
    "start_time": "2024-12-19T21:45:44.824Z"
   },
   {
    "duration": 13,
    "start_time": "2024-12-19T21:45:44.870Z"
   },
   {
    "duration": 9,
    "start_time": "2024-12-19T21:45:44.884Z"
   },
   {
    "duration": 14,
    "start_time": "2024-12-19T21:45:44.895Z"
   },
   {
    "duration": 11,
    "start_time": "2024-12-19T21:45:44.911Z"
   },
   {
    "duration": 11,
    "start_time": "2024-12-19T21:45:44.923Z"
   },
   {
    "duration": 35,
    "start_time": "2024-12-19T21:45:44.936Z"
   },
   {
    "duration": 53,
    "start_time": "2024-12-19T21:45:44.973Z"
   },
   {
    "duration": 3,
    "start_time": "2024-12-19T21:45:45.028Z"
   },
   {
    "duration": 40,
    "start_time": "2024-12-19T21:45:45.033Z"
   },
   {
    "duration": 17,
    "start_time": "2024-12-19T21:45:45.074Z"
   },
   {
    "duration": 19,
    "start_time": "2024-12-19T21:45:45.093Z"
   },
   {
    "duration": 20,
    "start_time": "2024-12-19T21:45:45.116Z"
   },
   {
    "duration": 53,
    "start_time": "2024-12-19T21:45:45.138Z"
   },
   {
    "duration": 178,
    "start_time": "2024-12-19T21:45:45.193Z"
   },
   {
    "duration": 184,
    "start_time": "2024-12-19T21:45:45.373Z"
   },
   {
    "duration": 14,
    "start_time": "2024-12-19T21:45:45.559Z"
   },
   {
    "duration": 7,
    "start_time": "2024-12-19T21:45:45.574Z"
   },
   {
    "duration": 105,
    "start_time": "2024-12-19T21:45:45.583Z"
   },
   {
    "duration": 161,
    "start_time": "2024-12-19T21:45:45.689Z"
   },
   {
    "duration": 114,
    "start_time": "2024-12-19T21:45:45.852Z"
   },
   {
    "duration": 6,
    "start_time": "2024-12-19T21:45:45.969Z"
   },
   {
    "duration": 2,
    "start_time": "2024-12-19T21:45:45.977Z"
   },
   {
    "duration": 2,
    "start_time": "2024-12-19T21:45:45.981Z"
   },
   {
    "duration": 793,
    "start_time": "2024-12-19T21:45:58.870Z"
   },
   {
    "duration": 159,
    "start_time": "2024-12-19T21:45:59.665Z"
   },
   {
    "duration": 9,
    "start_time": "2024-12-19T21:45:59.825Z"
   },
   {
    "duration": 9,
    "start_time": "2024-12-19T21:45:59.836Z"
   },
   {
    "duration": 8,
    "start_time": "2024-12-19T21:45:59.848Z"
   },
   {
    "duration": 21,
    "start_time": "2024-12-19T21:45:59.857Z"
   },
   {
    "duration": 3,
    "start_time": "2024-12-19T21:45:59.880Z"
   },
   {
    "duration": 9,
    "start_time": "2024-12-19T21:45:59.885Z"
   },
   {
    "duration": 14,
    "start_time": "2024-12-19T21:45:59.895Z"
   },
   {
    "duration": 3,
    "start_time": "2024-12-19T21:45:59.911Z"
   },
   {
    "duration": 9,
    "start_time": "2024-12-19T21:45:59.916Z"
   },
   {
    "duration": 52,
    "start_time": "2024-12-19T21:45:59.926Z"
   },
   {
    "duration": 16,
    "start_time": "2024-12-19T21:45:59.981Z"
   },
   {
    "duration": 14,
    "start_time": "2024-12-19T21:46:00.001Z"
   },
   {
    "duration": 8,
    "start_time": "2024-12-19T21:46:00.017Z"
   },
   {
    "duration": 44,
    "start_time": "2024-12-19T21:46:00.027Z"
   },
   {
    "duration": 16,
    "start_time": "2024-12-19T21:46:00.072Z"
   },
   {
    "duration": 15,
    "start_time": "2024-12-19T21:46:00.092Z"
   },
   {
    "duration": 3,
    "start_time": "2024-12-19T21:46:00.109Z"
   },
   {
    "duration": 15,
    "start_time": "2024-12-19T21:46:00.114Z"
   },
   {
    "duration": 54,
    "start_time": "2024-12-19T21:46:00.131Z"
   },
   {
    "duration": 10,
    "start_time": "2024-12-19T21:46:00.187Z"
   },
   {
    "duration": 14,
    "start_time": "2024-12-19T21:46:00.199Z"
   },
   {
    "duration": 33,
    "start_time": "2024-12-19T21:46:00.215Z"
   },
   {
    "duration": 12,
    "start_time": "2024-12-19T21:46:00.270Z"
   },
   {
    "duration": 8,
    "start_time": "2024-12-19T21:46:00.284Z"
   },
   {
    "duration": 12,
    "start_time": "2024-12-19T21:46:00.293Z"
   },
   {
    "duration": 12,
    "start_time": "2024-12-19T21:46:00.307Z"
   },
   {
    "duration": 12,
    "start_time": "2024-12-19T21:46:00.321Z"
   },
   {
    "duration": 46,
    "start_time": "2024-12-19T21:46:00.335Z"
   },
   {
    "duration": 10,
    "start_time": "2024-12-19T21:46:00.382Z"
   },
   {
    "duration": 13,
    "start_time": "2024-12-19T21:46:00.393Z"
   },
   {
    "duration": 12,
    "start_time": "2024-12-19T21:46:00.408Z"
   },
   {
    "duration": 13,
    "start_time": "2024-12-19T21:46:00.421Z"
   },
   {
    "duration": 36,
    "start_time": "2024-12-19T21:46:00.436Z"
   },
   {
    "duration": 51,
    "start_time": "2024-12-19T21:46:00.474Z"
   },
   {
    "duration": 2,
    "start_time": "2024-12-19T21:46:00.527Z"
   },
   {
    "duration": 40,
    "start_time": "2024-12-19T21:46:00.531Z"
   },
   {
    "duration": 16,
    "start_time": "2024-12-19T21:46:00.572Z"
   },
   {
    "duration": 17,
    "start_time": "2024-12-19T21:46:00.590Z"
   },
   {
    "duration": 15,
    "start_time": "2024-12-19T21:46:00.612Z"
   },
   {
    "duration": 49,
    "start_time": "2024-12-19T21:46:00.628Z"
   },
   {
    "duration": 176,
    "start_time": "2024-12-19T21:46:00.679Z"
   },
   {
    "duration": 185,
    "start_time": "2024-12-19T21:46:00.857Z"
   },
   {
    "duration": 10,
    "start_time": "2024-12-19T21:46:01.043Z"
   },
   {
    "duration": 16,
    "start_time": "2024-12-19T21:46:01.055Z"
   },
   {
    "duration": 107,
    "start_time": "2024-12-19T21:46:01.073Z"
   },
   {
    "duration": 156,
    "start_time": "2024-12-19T21:46:01.182Z"
   },
   {
    "duration": 128,
    "start_time": "2024-12-19T21:46:01.340Z"
   },
   {
    "duration": 6,
    "start_time": "2024-12-19T21:46:01.470Z"
   },
   {
    "duration": 4,
    "start_time": "2024-12-19T21:46:01.479Z"
   },
   {
    "duration": 2,
    "start_time": "2024-12-19T21:46:01.484Z"
   },
   {
    "duration": 14,
    "start_time": "2024-12-19T21:46:17.971Z"
   },
   {
    "duration": 4,
    "start_time": "2024-12-19T23:53:45.570Z"
   },
   {
    "duration": 10,
    "start_time": "2024-12-19T23:53:50.156Z"
   },
   {
    "duration": 219,
    "start_time": "2024-12-19T23:54:28.177Z"
   },
   {
    "duration": 5,
    "start_time": "2024-12-19T23:54:30.571Z"
   },
   {
    "duration": 9,
    "start_time": "2024-12-19T23:54:32.200Z"
   },
   {
    "duration": 366,
    "start_time": "2024-12-19T23:59:21.967Z"
   },
   {
    "duration": 5,
    "start_time": "2024-12-20T00:00:20.685Z"
   },
   {
    "duration": 353,
    "start_time": "2024-12-20T00:00:36.150Z"
   },
   {
    "duration": 42,
    "start_time": "2024-12-20T00:07:44.465Z"
   },
   {
    "duration": 6,
    "start_time": "2024-12-20T00:07:51.770Z"
   },
   {
    "duration": 56,
    "start_time": "2024-12-20T00:07:57.057Z"
   },
   {
    "duration": 9,
    "start_time": "2024-12-20T00:08:00.217Z"
   },
   {
    "duration": 17,
    "start_time": "2024-12-20T00:08:31.992Z"
   },
   {
    "duration": 18,
    "start_time": "2024-12-20T00:08:40.062Z"
   },
   {
    "duration": 7,
    "start_time": "2024-12-20T00:08:48.560Z"
   },
   {
    "duration": 5,
    "start_time": "2024-12-20T00:14:07.897Z"
   },
   {
    "duration": 15,
    "start_time": "2024-12-20T00:14:13.334Z"
   },
   {
    "duration": 7,
    "start_time": "2024-12-20T00:14:21.723Z"
   },
   {
    "duration": 15,
    "start_time": "2024-12-20T00:14:23.794Z"
   },
   {
    "duration": 7,
    "start_time": "2024-12-20T00:14:41.873Z"
   },
   {
    "duration": 16,
    "start_time": "2024-12-20T00:14:44.365Z"
   },
   {
    "duration": 8,
    "start_time": "2024-12-20T00:18:52.107Z"
   },
   {
    "duration": 16,
    "start_time": "2024-12-20T00:18:53.303Z"
   },
   {
    "duration": 8,
    "start_time": "2024-12-20T00:19:32.834Z"
   },
   {
    "duration": 17,
    "start_time": "2024-12-20T00:19:33.948Z"
   },
   {
    "duration": 8,
    "start_time": "2024-12-20T00:38:04.121Z"
   },
   {
    "duration": 16,
    "start_time": "2024-12-20T00:38:05.588Z"
   },
   {
    "duration": 13,
    "start_time": "2024-12-20T00:39:40.641Z"
   },
   {
    "duration": 13,
    "start_time": "2024-12-20T00:39:45.661Z"
   },
   {
    "duration": 9,
    "start_time": "2024-12-20T00:40:11.530Z"
   },
   {
    "duration": 4,
    "start_time": "2024-12-20T00:40:43.986Z"
   },
   {
    "duration": 7,
    "start_time": "2024-12-20T00:40:55.257Z"
   },
   {
    "duration": 12,
    "start_time": "2024-12-20T00:41:08.694Z"
   },
   {
    "duration": 155,
    "start_time": "2024-12-20T15:12:00.216Z"
   },
   {
    "duration": 2557,
    "start_time": "2024-12-20T15:12:06.885Z"
   },
   {
    "duration": 218,
    "start_time": "2024-12-20T15:12:09.444Z"
   },
   {
    "duration": 10,
    "start_time": "2024-12-20T15:12:09.663Z"
   },
   {
    "duration": 9,
    "start_time": "2024-12-20T15:12:09.675Z"
   },
   {
    "duration": 8,
    "start_time": "2024-12-20T15:12:09.686Z"
   },
   {
    "duration": 10,
    "start_time": "2024-12-20T15:12:09.695Z"
   },
   {
    "duration": 3,
    "start_time": "2024-12-20T15:12:09.707Z"
   },
   {
    "duration": 35,
    "start_time": "2024-12-20T15:12:09.712Z"
   },
   {
    "duration": 12,
    "start_time": "2024-12-20T15:12:09.749Z"
   },
   {
    "duration": 3,
    "start_time": "2024-12-20T15:12:09.765Z"
   },
   {
    "duration": 9,
    "start_time": "2024-12-20T15:12:09.770Z"
   },
   {
    "duration": 14,
    "start_time": "2024-12-20T15:12:09.781Z"
   },
   {
    "duration": 47,
    "start_time": "2024-12-20T15:12:09.796Z"
   },
   {
    "duration": 11,
    "start_time": "2024-12-20T15:12:09.845Z"
   },
   {
    "duration": 8,
    "start_time": "2024-12-20T15:12:09.857Z"
   },
   {
    "duration": 18,
    "start_time": "2024-12-20T15:12:09.867Z"
   },
   {
    "duration": 17,
    "start_time": "2024-12-20T15:12:09.887Z"
   },
   {
    "duration": 45,
    "start_time": "2024-12-20T15:12:09.905Z"
   },
   {
    "duration": 4,
    "start_time": "2024-12-20T15:12:09.952Z"
   },
   {
    "duration": 16,
    "start_time": "2024-12-20T15:12:09.957Z"
   },
   {
    "duration": 26,
    "start_time": "2024-12-20T15:12:09.974Z"
   },
   {
    "duration": 10,
    "start_time": "2024-12-20T15:12:10.002Z"
   },
   {
    "duration": 39,
    "start_time": "2024-12-20T15:12:10.014Z"
   },
   {
    "duration": 36,
    "start_time": "2024-12-20T15:12:10.054Z"
   },
   {
    "duration": 12,
    "start_time": "2024-12-20T15:12:10.092Z"
   },
   {
    "duration": 8,
    "start_time": "2024-12-20T15:12:10.105Z"
   },
   {
    "duration": 38,
    "start_time": "2024-12-20T15:12:10.115Z"
   },
   {
    "duration": 12,
    "start_time": "2024-12-20T15:12:10.156Z"
   },
   {
    "duration": 14,
    "start_time": "2024-12-20T15:12:10.170Z"
   },
   {
    "duration": 16,
    "start_time": "2024-12-20T15:12:10.186Z"
   },
   {
    "duration": 10,
    "start_time": "2024-12-20T15:12:10.205Z"
   },
   {
    "duration": 12,
    "start_time": "2024-12-20T15:12:10.245Z"
   },
   {
    "duration": 11,
    "start_time": "2024-12-20T15:12:10.259Z"
   },
   {
    "duration": 12,
    "start_time": "2024-12-20T15:12:10.271Z"
   },
   {
    "duration": 6,
    "start_time": "2024-12-20T15:12:10.285Z"
   },
   {
    "duration": 80,
    "start_time": "2024-12-20T15:12:10.293Z"
   },
   {
    "duration": 3,
    "start_time": "2024-12-20T15:12:10.374Z"
   },
   {
    "duration": 19,
    "start_time": "2024-12-20T15:12:10.378Z"
   },
   {
    "duration": 15,
    "start_time": "2024-12-20T15:12:10.399Z"
   },
   {
    "duration": 37,
    "start_time": "2024-12-20T15:12:10.416Z"
   },
   {
    "duration": 16,
    "start_time": "2024-12-20T15:12:10.455Z"
   },
   {
    "duration": 30,
    "start_time": "2024-12-20T15:12:10.473Z"
   },
   {
    "duration": 195,
    "start_time": "2024-12-20T15:12:10.505Z"
   },
   {
    "duration": 148,
    "start_time": "2024-12-20T15:12:10.702Z"
   },
   {
    "duration": 11,
    "start_time": "2024-12-20T15:12:10.853Z"
   },
   {
    "duration": 7,
    "start_time": "2024-12-20T15:12:10.865Z"
   },
   {
    "duration": 108,
    "start_time": "2024-12-20T15:12:10.874Z"
   },
   {
    "duration": 236,
    "start_time": "2024-12-20T15:12:10.984Z"
   },
   {
    "duration": 124,
    "start_time": "2024-12-20T15:12:11.222Z"
   },
   {
    "duration": 4,
    "start_time": "2024-12-20T15:12:11.348Z"
   },
   {
    "duration": 7,
    "start_time": "2024-12-20T15:12:11.354Z"
   },
   {
    "duration": 12,
    "start_time": "2024-12-20T15:12:11.362Z"
   },
   {
    "duration": 6,
    "start_time": "2024-12-20T15:12:11.377Z"
   },
   {
    "duration": 15,
    "start_time": "2024-12-20T15:12:11.384Z"
   },
   {
    "duration": 9,
    "start_time": "2024-12-20T15:12:11.400Z"
   },
   {
    "duration": 42,
    "start_time": "2024-12-20T15:12:11.411Z"
   },
   {
    "duration": 233,
    "start_time": "2024-12-20T15:12:11.455Z"
   },
   {
    "duration": 5,
    "start_time": "2024-12-20T15:12:54.850Z"
   },
   {
    "duration": 13,
    "start_time": "2024-12-20T15:15:57.120Z"
   },
   {
    "duration": 6,
    "start_time": "2024-12-20T15:16:10.741Z"
   },
   {
    "duration": 7,
    "start_time": "2024-12-20T15:19:38.087Z"
   },
   {
    "duration": 12,
    "start_time": "2024-12-20T15:19:57.754Z"
   },
   {
    "duration": 5,
    "start_time": "2024-12-20T15:24:12.417Z"
   },
   {
    "duration": 12,
    "start_time": "2024-12-20T15:25:14.557Z"
   },
   {
    "duration": 3,
    "start_time": "2024-12-20T15:27:47.038Z"
   },
   {
    "duration": 13,
    "start_time": "2024-12-20T15:27:54.152Z"
   },
   {
    "duration": 5,
    "start_time": "2024-12-20T15:34:37.165Z"
   },
   {
    "duration": 24,
    "start_time": "2024-12-20T15:35:51.947Z"
   },
   {
    "duration": 440,
    "start_time": "2024-12-20T15:48:00.517Z"
   },
   {
    "duration": 18,
    "start_time": "2024-12-20T15:48:49.374Z"
   },
   {
    "duration": 17,
    "start_time": "2024-12-20T15:48:56.510Z"
   },
   {
    "duration": 15,
    "start_time": "2024-12-20T15:49:00.621Z"
   },
   {
    "duration": 24,
    "start_time": "2024-12-20T15:49:04.601Z"
   },
   {
    "duration": 22,
    "start_time": "2024-12-20T15:50:15.808Z"
   },
   {
    "duration": 119,
    "start_time": "2024-12-20T15:50:45.090Z"
   },
   {
    "duration": 26,
    "start_time": "2024-12-20T15:50:53.713Z"
   },
   {
    "duration": 107,
    "start_time": "2024-12-20T15:50:59.540Z"
   },
   {
    "duration": 6,
    "start_time": "2024-12-20T15:51:14.520Z"
   },
   {
    "duration": 6,
    "start_time": "2024-12-20T15:51:28.548Z"
   },
   {
    "duration": 24,
    "start_time": "2024-12-20T15:52:15.375Z"
   },
   {
    "duration": 5,
    "start_time": "2024-12-20T15:52:24.023Z"
   },
   {
    "duration": 6,
    "start_time": "2024-12-20T15:52:27.082Z"
   },
   {
    "duration": 6,
    "start_time": "2024-12-20T15:52:42.016Z"
   },
   {
    "duration": 8,
    "start_time": "2024-12-20T15:52:51.990Z"
   },
   {
    "duration": 7,
    "start_time": "2024-12-20T15:53:16.071Z"
   },
   {
    "duration": 16,
    "start_time": "2024-12-20T15:53:17.273Z"
   },
   {
    "duration": 121,
    "start_time": "2024-12-20T15:54:44.883Z"
   },
   {
    "duration": 10,
    "start_time": "2024-12-20T15:54:49.540Z"
   },
   {
    "duration": 7,
    "start_time": "2024-12-20T15:54:51.542Z"
   },
   {
    "duration": 167,
    "start_time": "2024-12-20T15:55:44.292Z"
   },
   {
    "duration": 24,
    "start_time": "2024-12-20T15:59:24.559Z"
   },
   {
    "duration": 23,
    "start_time": "2024-12-20T16:00:15.691Z"
   },
   {
    "duration": 5,
    "start_time": "2024-12-20T16:29:14.213Z"
   },
   {
    "duration": 7,
    "start_time": "2024-12-20T16:29:26.676Z"
   },
   {
    "duration": 24,
    "start_time": "2024-12-20T16:30:37.653Z"
   },
   {
    "duration": 28,
    "start_time": "2024-12-20T16:30:55.303Z"
   },
   {
    "duration": 24,
    "start_time": "2024-12-20T16:31:07.754Z"
   },
   {
    "duration": 11,
    "start_time": "2024-12-20T16:31:32.312Z"
   },
   {
    "duration": 12,
    "start_time": "2024-12-20T16:31:47.742Z"
   },
   {
    "duration": 12,
    "start_time": "2024-12-20T16:31:58.747Z"
   },
   {
    "duration": 24,
    "start_time": "2024-12-20T16:32:33.905Z"
   },
   {
    "duration": 23,
    "start_time": "2024-12-20T16:32:38.081Z"
   },
   {
    "duration": 7,
    "start_time": "2024-12-20T16:35:44.979Z"
   },
   {
    "duration": 7,
    "start_time": "2024-12-20T16:37:51.411Z"
   },
   {
    "duration": 4,
    "start_time": "2024-12-20T16:44:34.615Z"
   },
   {
    "duration": 8,
    "start_time": "2024-12-20T16:44:35.253Z"
   },
   {
    "duration": 15,
    "start_time": "2024-12-20T17:34:00.618Z"
   },
   {
    "duration": 5,
    "start_time": "2024-12-20T17:34:21.897Z"
   },
   {
    "duration": 16,
    "start_time": "2024-12-20T17:34:48.953Z"
   },
   {
    "duration": 302,
    "start_time": "2024-12-20T17:38:52.917Z"
   },
   {
    "duration": 17,
    "start_time": "2024-12-20T17:39:26.846Z"
   },
   {
    "duration": 14,
    "start_time": "2024-12-20T17:39:37.685Z"
   },
   {
    "duration": 5,
    "start_time": "2024-12-20T17:39:45.461Z"
   },
   {
    "duration": 12,
    "start_time": "2024-12-20T18:10:15.051Z"
   },
   {
    "duration": 17,
    "start_time": "2024-12-20T18:10:32.912Z"
   },
   {
    "duration": 25,
    "start_time": "2024-12-20T18:10:38.743Z"
   },
   {
    "duration": 15,
    "start_time": "2024-12-20T18:10:43.200Z"
   },
   {
    "duration": 24,
    "start_time": "2024-12-20T18:10:46.470Z"
   },
   {
    "duration": 23,
    "start_time": "2024-12-20T18:10:52.261Z"
   },
   {
    "duration": 796,
    "start_time": "2024-12-20T18:11:11.530Z"
   },
   {
    "duration": 157,
    "start_time": "2024-12-20T18:11:12.328Z"
   },
   {
    "duration": 9,
    "start_time": "2024-12-20T18:11:12.487Z"
   },
   {
    "duration": 9,
    "start_time": "2024-12-20T18:11:12.498Z"
   },
   {
    "duration": 3,
    "start_time": "2024-12-20T18:11:12.509Z"
   },
   {
    "duration": 9,
    "start_time": "2024-12-20T18:11:12.513Z"
   },
   {
    "duration": 27,
    "start_time": "2024-12-20T18:11:12.523Z"
   },
   {
    "duration": 3,
    "start_time": "2024-12-20T18:11:12.551Z"
   },
   {
    "duration": 9,
    "start_time": "2024-12-20T18:11:12.556Z"
   },
   {
    "duration": 13,
    "start_time": "2024-12-20T18:11:12.567Z"
   },
   {
    "duration": 3,
    "start_time": "2024-12-20T18:11:12.582Z"
   },
   {
    "duration": 9,
    "start_time": "2024-12-20T18:11:12.587Z"
   },
   {
    "duration": 51,
    "start_time": "2024-12-20T18:11:12.597Z"
   },
   {
    "duration": 15,
    "start_time": "2024-12-20T18:11:12.651Z"
   },
   {
    "duration": 9,
    "start_time": "2024-12-20T18:11:12.668Z"
   },
   {
    "duration": 6,
    "start_time": "2024-12-20T18:11:12.679Z"
   },
   {
    "duration": 18,
    "start_time": "2024-12-20T18:11:12.686Z"
   },
   {
    "duration": 42,
    "start_time": "2024-12-20T18:11:12.706Z"
   },
   {
    "duration": 16,
    "start_time": "2024-12-20T18:11:12.749Z"
   },
   {
    "duration": 3,
    "start_time": "2024-12-20T18:11:12.766Z"
   },
   {
    "duration": 16,
    "start_time": "2024-12-20T18:11:12.771Z"
   },
   {
    "duration": 24,
    "start_time": "2024-12-20T18:11:12.789Z"
   },
   {
    "duration": 37,
    "start_time": "2024-12-20T18:11:12.815Z"
   },
   {
    "duration": 15,
    "start_time": "2024-12-20T18:11:12.854Z"
   },
   {
    "duration": 33,
    "start_time": "2024-12-20T18:11:12.870Z"
   },
   {
    "duration": 39,
    "start_time": "2024-12-20T18:11:12.904Z"
   },
   {
    "duration": 8,
    "start_time": "2024-12-20T18:11:12.945Z"
   },
   {
    "duration": 16,
    "start_time": "2024-12-20T18:11:12.955Z"
   },
   {
    "duration": 15,
    "start_time": "2024-12-20T18:11:12.972Z"
   },
   {
    "duration": 12,
    "start_time": "2024-12-20T18:11:12.988Z"
   },
   {
    "duration": 42,
    "start_time": "2024-12-20T18:11:13.002Z"
   },
   {
    "duration": 12,
    "start_time": "2024-12-20T18:11:13.046Z"
   },
   {
    "duration": 13,
    "start_time": "2024-12-20T18:11:13.060Z"
   },
   {
    "duration": 11,
    "start_time": "2024-12-20T18:11:13.074Z"
   },
   {
    "duration": 10,
    "start_time": "2024-12-20T18:11:13.087Z"
   },
   {
    "duration": 6,
    "start_time": "2024-12-20T18:11:13.099Z"
   },
   {
    "duration": 81,
    "start_time": "2024-12-20T18:11:13.106Z"
   },
   {
    "duration": 3,
    "start_time": "2024-12-20T18:11:13.189Z"
   },
   {
    "duration": 19,
    "start_time": "2024-12-20T18:11:13.193Z"
   },
   {
    "duration": 36,
    "start_time": "2024-12-20T18:11:13.215Z"
   },
   {
    "duration": 17,
    "start_time": "2024-12-20T18:11:13.256Z"
   },
   {
    "duration": 15,
    "start_time": "2024-12-20T18:11:13.275Z"
   },
   {
    "duration": 24,
    "start_time": "2024-12-20T18:11:13.292Z"
   },
   {
    "duration": 43,
    "start_time": "2024-12-20T18:11:13.318Z"
   },
   {
    "duration": 171,
    "start_time": "2024-12-20T18:11:13.363Z"
   },
   {
    "duration": 178,
    "start_time": "2024-12-20T18:11:13.536Z"
   },
   {
    "duration": 9,
    "start_time": "2024-12-20T18:11:13.716Z"
   },
   {
    "duration": 19,
    "start_time": "2024-12-20T18:11:13.727Z"
   },
   {
    "duration": 94,
    "start_time": "2024-12-20T18:11:13.748Z"
   },
   {
    "duration": 149,
    "start_time": "2024-12-20T18:11:13.844Z"
   },
   {
    "duration": 123,
    "start_time": "2024-12-20T18:11:13.994Z"
   },
   {
    "duration": 4,
    "start_time": "2024-12-20T18:11:14.119Z"
   },
   {
    "duration": 18,
    "start_time": "2024-12-20T18:11:14.125Z"
   },
   {
    "duration": 4,
    "start_time": "2024-12-20T18:11:14.145Z"
   },
   {
    "duration": 6,
    "start_time": "2024-12-20T18:11:14.151Z"
   },
   {
    "duration": 7,
    "start_time": "2024-12-20T18:11:14.160Z"
   },
   {
    "duration": 8,
    "start_time": "2024-12-20T18:11:14.168Z"
   },
   {
    "duration": 14,
    "start_time": "2024-12-20T18:11:14.178Z"
   },
   {
    "duration": 4,
    "start_time": "2024-12-20T18:11:14.193Z"
   },
   {
    "duration": 51,
    "start_time": "2024-12-20T18:11:14.199Z"
   },
   {
    "duration": 4,
    "start_time": "2024-12-20T18:11:14.251Z"
   },
   {
    "duration": 806,
    "start_time": "2024-12-20T18:15:00.340Z"
   },
   {
    "duration": 156,
    "start_time": "2024-12-20T18:15:01.148Z"
   },
   {
    "duration": 10,
    "start_time": "2024-12-20T18:15:01.306Z"
   },
   {
    "duration": 8,
    "start_time": "2024-12-20T18:15:01.318Z"
   },
   {
    "duration": 4,
    "start_time": "2024-12-20T18:15:01.328Z"
   },
   {
    "duration": 10,
    "start_time": "2024-12-20T18:15:01.343Z"
   },
   {
    "duration": 13,
    "start_time": "2024-12-20T18:15:01.355Z"
   },
   {
    "duration": 3,
    "start_time": "2024-12-20T18:15:01.370Z"
   },
   {
    "duration": 9,
    "start_time": "2024-12-20T18:15:01.374Z"
   },
   {
    "duration": 13,
    "start_time": "2024-12-20T18:15:01.386Z"
   },
   {
    "duration": 4,
    "start_time": "2024-12-20T18:15:01.401Z"
   },
   {
    "duration": 47,
    "start_time": "2024-12-20T18:15:01.406Z"
   },
   {
    "duration": 15,
    "start_time": "2024-12-20T18:15:01.455Z"
   },
   {
    "duration": 15,
    "start_time": "2024-12-20T18:15:01.472Z"
   },
   {
    "duration": 10,
    "start_time": "2024-12-20T18:15:01.489Z"
   },
   {
    "duration": 7,
    "start_time": "2024-12-20T18:15:01.500Z"
   },
   {
    "duration": 48,
    "start_time": "2024-12-20T18:15:01.509Z"
   },
   {
    "duration": 18,
    "start_time": "2024-12-20T18:15:01.559Z"
   },
   {
    "duration": 17,
    "start_time": "2024-12-20T18:15:01.579Z"
   },
   {
    "duration": 4,
    "start_time": "2024-12-20T18:15:01.598Z"
   },
   {
    "duration": 46,
    "start_time": "2024-12-20T18:15:01.604Z"
   },
   {
    "duration": 26,
    "start_time": "2024-12-20T18:15:01.651Z"
   },
   {
    "duration": 11,
    "start_time": "2024-12-20T18:15:01.679Z"
   },
   {
    "duration": 14,
    "start_time": "2024-12-20T18:15:01.692Z"
   },
   {
    "duration": 57,
    "start_time": "2024-12-20T18:15:01.708Z"
   },
   {
    "duration": 12,
    "start_time": "2024-12-20T18:15:01.766Z"
   },
   {
    "duration": 9,
    "start_time": "2024-12-20T18:15:01.780Z"
   },
   {
    "duration": 12,
    "start_time": "2024-12-20T18:15:01.794Z"
   },
   {
    "duration": 38,
    "start_time": "2024-12-20T18:15:01.807Z"
   },
   {
    "duration": 13,
    "start_time": "2024-12-20T18:15:01.846Z"
   },
   {
    "duration": 14,
    "start_time": "2024-12-20T18:15:01.861Z"
   },
   {
    "duration": 9,
    "start_time": "2024-12-20T18:15:01.877Z"
   },
   {
    "duration": 13,
    "start_time": "2024-12-20T18:15:01.888Z"
   },
   {
    "duration": 42,
    "start_time": "2024-12-20T18:15:01.903Z"
   },
   {
    "duration": 134,
    "start_time": "2024-12-20T18:15:01.947Z"
   },
   {
    "duration": 0,
    "start_time": "2024-12-20T18:15:02.082Z"
   },
   {
    "duration": 0,
    "start_time": "2024-12-20T18:15:02.084Z"
   },
   {
    "duration": 0,
    "start_time": "2024-12-20T18:15:02.085Z"
   },
   {
    "duration": 0,
    "start_time": "2024-12-20T18:15:02.087Z"
   },
   {
    "duration": 0,
    "start_time": "2024-12-20T18:15:02.088Z"
   },
   {
    "duration": 0,
    "start_time": "2024-12-20T18:15:02.089Z"
   },
   {
    "duration": 0,
    "start_time": "2024-12-20T18:15:02.090Z"
   },
   {
    "duration": 0,
    "start_time": "2024-12-20T18:15:02.091Z"
   },
   {
    "duration": 0,
    "start_time": "2024-12-20T18:15:02.092Z"
   },
   {
    "duration": 0,
    "start_time": "2024-12-20T18:15:02.094Z"
   },
   {
    "duration": 0,
    "start_time": "2024-12-20T18:15:02.096Z"
   },
   {
    "duration": 0,
    "start_time": "2024-12-20T18:15:02.097Z"
   },
   {
    "duration": 0,
    "start_time": "2024-12-20T18:15:02.099Z"
   },
   {
    "duration": 0,
    "start_time": "2024-12-20T18:15:02.101Z"
   },
   {
    "duration": 0,
    "start_time": "2024-12-20T18:15:02.102Z"
   },
   {
    "duration": 0,
    "start_time": "2024-12-20T18:15:02.142Z"
   },
   {
    "duration": 0,
    "start_time": "2024-12-20T18:15:02.143Z"
   },
   {
    "duration": 0,
    "start_time": "2024-12-20T18:15:02.144Z"
   },
   {
    "duration": 0,
    "start_time": "2024-12-20T18:15:02.146Z"
   },
   {
    "duration": 0,
    "start_time": "2024-12-20T18:15:02.147Z"
   },
   {
    "duration": 0,
    "start_time": "2024-12-20T18:15:02.149Z"
   },
   {
    "duration": 0,
    "start_time": "2024-12-20T18:15:02.150Z"
   },
   {
    "duration": 0,
    "start_time": "2024-12-20T18:15:02.151Z"
   },
   {
    "duration": 0,
    "start_time": "2024-12-20T18:15:02.153Z"
   },
   {
    "duration": 0,
    "start_time": "2024-12-20T18:15:02.153Z"
   },
   {
    "duration": 0,
    "start_time": "2024-12-20T18:15:02.155Z"
   },
   {
    "duration": 12,
    "start_time": "2024-12-20T18:15:40.186Z"
   },
   {
    "duration": 151,
    "start_time": "2024-12-20T18:16:06.282Z"
   },
   {
    "duration": 11,
    "start_time": "2024-12-20T18:16:36.412Z"
   },
   {
    "duration": 11,
    "start_time": "2024-12-20T18:17:29.167Z"
   },
   {
    "duration": 822,
    "start_time": "2024-12-20T18:18:54.806Z"
   },
   {
    "duration": 154,
    "start_time": "2024-12-20T18:18:55.630Z"
   },
   {
    "duration": 10,
    "start_time": "2024-12-20T18:18:55.785Z"
   },
   {
    "duration": 9,
    "start_time": "2024-12-20T18:18:55.797Z"
   },
   {
    "duration": 3,
    "start_time": "2024-12-20T18:18:55.808Z"
   },
   {
    "duration": 8,
    "start_time": "2024-12-20T18:18:55.813Z"
   },
   {
    "duration": 29,
    "start_time": "2024-12-20T18:18:55.822Z"
   },
   {
    "duration": 3,
    "start_time": "2024-12-20T18:18:55.853Z"
   },
   {
    "duration": 8,
    "start_time": "2024-12-20T18:18:55.858Z"
   },
   {
    "duration": 13,
    "start_time": "2024-12-20T18:18:55.870Z"
   },
   {
    "duration": 3,
    "start_time": "2024-12-20T18:18:55.885Z"
   },
   {
    "duration": 9,
    "start_time": "2024-12-20T18:18:55.890Z"
   },
   {
    "duration": 50,
    "start_time": "2024-12-20T18:18:55.901Z"
   },
   {
    "duration": 16,
    "start_time": "2024-12-20T18:18:55.953Z"
   },
   {
    "duration": 10,
    "start_time": "2024-12-20T18:18:55.971Z"
   },
   {
    "duration": 7,
    "start_time": "2024-12-20T18:18:55.982Z"
   },
   {
    "duration": 19,
    "start_time": "2024-12-20T18:18:55.990Z"
   },
   {
    "duration": 45,
    "start_time": "2024-12-20T18:18:56.011Z"
   },
   {
    "duration": 16,
    "start_time": "2024-12-20T18:18:56.058Z"
   },
   {
    "duration": 3,
    "start_time": "2024-12-20T18:18:56.076Z"
   },
   {
    "duration": 15,
    "start_time": "2024-12-20T18:18:56.081Z"
   },
   {
    "duration": 50,
    "start_time": "2024-12-20T18:18:56.098Z"
   },
   {
    "duration": 11,
    "start_time": "2024-12-20T18:18:56.150Z"
   },
   {
    "duration": 15,
    "start_time": "2024-12-20T18:18:56.162Z"
   },
   {
    "duration": 33,
    "start_time": "2024-12-20T18:18:56.178Z"
   },
   {
    "duration": 32,
    "start_time": "2024-12-20T18:18:56.212Z"
   },
   {
    "duration": 9,
    "start_time": "2024-12-20T18:18:56.246Z"
   },
   {
    "duration": 11,
    "start_time": "2024-12-20T18:18:56.259Z"
   },
   {
    "duration": 12,
    "start_time": "2024-12-20T18:18:56.272Z"
   },
   {
    "duration": 12,
    "start_time": "2024-12-20T18:18:56.285Z"
   },
   {
    "duration": 49,
    "start_time": "2024-12-20T18:18:56.298Z"
   },
   {
    "duration": 10,
    "start_time": "2024-12-20T18:18:56.348Z"
   },
   {
    "duration": 12,
    "start_time": "2024-12-20T18:18:56.360Z"
   },
   {
    "duration": 13,
    "start_time": "2024-12-20T18:18:56.374Z"
   },
   {
    "duration": 11,
    "start_time": "2024-12-20T18:18:56.389Z"
   },
   {
    "duration": 8,
    "start_time": "2024-12-20T18:18:56.402Z"
   },
   {
    "duration": 79,
    "start_time": "2024-12-20T18:18:56.413Z"
   },
   {
    "duration": 4,
    "start_time": "2024-12-20T18:18:56.493Z"
   },
   {
    "duration": 19,
    "start_time": "2024-12-20T18:18:56.499Z"
   },
   {
    "duration": 31,
    "start_time": "2024-12-20T18:18:56.520Z"
   },
   {
    "duration": 17,
    "start_time": "2024-12-20T18:18:56.553Z"
   },
   {
    "duration": 15,
    "start_time": "2024-12-20T18:18:56.572Z"
   },
   {
    "duration": 26,
    "start_time": "2024-12-20T18:18:56.589Z"
   },
   {
    "duration": 46,
    "start_time": "2024-12-20T18:18:56.616Z"
   },
   {
    "duration": 181,
    "start_time": "2024-12-20T18:18:56.664Z"
   },
   {
    "duration": 183,
    "start_time": "2024-12-20T18:18:56.847Z"
   },
   {
    "duration": 14,
    "start_time": "2024-12-20T18:18:57.032Z"
   },
   {
    "duration": 7,
    "start_time": "2024-12-20T18:18:57.048Z"
   },
   {
    "duration": 102,
    "start_time": "2024-12-20T18:18:57.056Z"
   },
   {
    "duration": 156,
    "start_time": "2024-12-20T18:18:57.160Z"
   },
   {
    "duration": 115,
    "start_time": "2024-12-20T18:18:57.318Z"
   },
   {
    "duration": 8,
    "start_time": "2024-12-20T18:18:57.436Z"
   },
   {
    "duration": 6,
    "start_time": "2024-12-20T18:18:57.446Z"
   },
   {
    "duration": 5,
    "start_time": "2024-12-20T18:18:57.454Z"
   },
   {
    "duration": 6,
    "start_time": "2024-12-20T18:18:57.461Z"
   },
   {
    "duration": 9,
    "start_time": "2024-12-20T18:18:57.468Z"
   },
   {
    "duration": 6,
    "start_time": "2024-12-20T18:18:57.479Z"
   },
   {
    "duration": 14,
    "start_time": "2024-12-20T18:18:57.487Z"
   },
   {
    "duration": 6,
    "start_time": "2024-12-20T18:18:57.542Z"
   },
   {
    "duration": 16,
    "start_time": "2024-12-20T18:18:57.549Z"
   },
   {
    "duration": 4,
    "start_time": "2024-12-20T18:18:57.567Z"
   },
   {
    "duration": 17,
    "start_time": "2024-12-20T18:20:04.780Z"
   },
   {
    "duration": 16,
    "start_time": "2024-12-20T18:20:37.670Z"
   },
   {
    "duration": 20,
    "start_time": "2024-12-20T18:20:57.248Z"
   },
   {
    "duration": 137,
    "start_time": "2024-12-20T18:21:00.285Z"
   },
   {
    "duration": 852,
    "start_time": "2024-12-20T18:21:08.776Z"
   },
   {
    "duration": 154,
    "start_time": "2024-12-20T18:21:09.631Z"
   },
   {
    "duration": 10,
    "start_time": "2024-12-20T18:21:09.786Z"
   },
   {
    "duration": 9,
    "start_time": "2024-12-20T18:21:09.798Z"
   },
   {
    "duration": 3,
    "start_time": "2024-12-20T18:21:09.809Z"
   },
   {
    "duration": 8,
    "start_time": "2024-12-20T18:21:09.813Z"
   },
   {
    "duration": 29,
    "start_time": "2024-12-20T18:21:09.823Z"
   },
   {
    "duration": 3,
    "start_time": "2024-12-20T18:21:09.854Z"
   },
   {
    "duration": 7,
    "start_time": "2024-12-20T18:21:09.860Z"
   },
   {
    "duration": 13,
    "start_time": "2024-12-20T18:21:09.871Z"
   },
   {
    "duration": 3,
    "start_time": "2024-12-20T18:21:09.886Z"
   },
   {
    "duration": 10,
    "start_time": "2024-12-20T18:21:09.891Z"
   },
   {
    "duration": 14,
    "start_time": "2024-12-20T18:21:09.942Z"
   },
   {
    "duration": 15,
    "start_time": "2024-12-20T18:21:09.957Z"
   },
   {
    "duration": 9,
    "start_time": "2024-12-20T18:21:09.974Z"
   },
   {
    "duration": 6,
    "start_time": "2024-12-20T18:21:09.985Z"
   },
   {
    "duration": 18,
    "start_time": "2024-12-20T18:21:09.993Z"
   },
   {
    "duration": 17,
    "start_time": "2024-12-20T18:21:10.042Z"
   },
   {
    "duration": 16,
    "start_time": "2024-12-20T18:21:10.061Z"
   },
   {
    "duration": 3,
    "start_time": "2024-12-20T18:21:10.079Z"
   },
   {
    "duration": 18,
    "start_time": "2024-12-20T18:21:10.083Z"
   },
   {
    "duration": 50,
    "start_time": "2024-12-20T18:21:10.103Z"
   },
   {
    "duration": 11,
    "start_time": "2024-12-20T18:21:10.154Z"
   },
   {
    "duration": 15,
    "start_time": "2024-12-20T18:21:10.167Z"
   },
   {
    "duration": 33,
    "start_time": "2024-12-20T18:21:10.184Z"
   },
   {
    "duration": 34,
    "start_time": "2024-12-20T18:21:10.219Z"
   },
   {
    "duration": 9,
    "start_time": "2024-12-20T18:21:10.254Z"
   },
   {
    "duration": 13,
    "start_time": "2024-12-20T18:21:10.266Z"
   },
   {
    "duration": 12,
    "start_time": "2024-12-20T18:21:10.281Z"
   },
   {
    "duration": 12,
    "start_time": "2024-12-20T18:21:10.295Z"
   },
   {
    "duration": 44,
    "start_time": "2024-12-20T18:21:10.309Z"
   },
   {
    "duration": 9,
    "start_time": "2024-12-20T18:21:10.355Z"
   },
   {
    "duration": 13,
    "start_time": "2024-12-20T18:21:10.365Z"
   },
   {
    "duration": 12,
    "start_time": "2024-12-20T18:21:10.380Z"
   },
   {
    "duration": 11,
    "start_time": "2024-12-20T18:21:10.394Z"
   },
   {
    "duration": 8,
    "start_time": "2024-12-20T18:21:11.218Z"
   },
   {
    "duration": 54,
    "start_time": "2024-12-20T18:21:11.228Z"
   },
   {
    "duration": 2,
    "start_time": "2024-12-20T18:21:11.285Z"
   },
   {
    "duration": 19,
    "start_time": "2024-12-20T18:21:11.289Z"
   },
   {
    "duration": 33,
    "start_time": "2024-12-20T18:21:11.310Z"
   },
   {
    "duration": 19,
    "start_time": "2024-12-20T18:21:11.345Z"
   },
   {
    "duration": 18,
    "start_time": "2024-12-20T18:21:11.366Z"
   },
   {
    "duration": 25,
    "start_time": "2024-12-20T18:21:11.386Z"
   },
   {
    "duration": 23,
    "start_time": "2024-12-20T18:21:11.442Z"
   },
   {
    "duration": 178,
    "start_time": "2024-12-20T18:21:11.468Z"
   },
   {
    "duration": 168,
    "start_time": "2024-12-20T18:21:11.648Z"
   },
   {
    "duration": 9,
    "start_time": "2024-12-20T18:21:11.818Z"
   },
   {
    "duration": 15,
    "start_time": "2024-12-20T18:21:11.829Z"
   },
   {
    "duration": 103,
    "start_time": "2024-12-20T18:21:11.846Z"
   },
   {
    "duration": 158,
    "start_time": "2024-12-20T18:21:11.950Z"
   },
   {
    "duration": 115,
    "start_time": "2024-12-20T18:21:12.110Z"
   },
   {
    "duration": 5,
    "start_time": "2024-12-20T18:21:12.227Z"
   },
   {
    "duration": 14,
    "start_time": "2024-12-20T18:21:12.233Z"
   },
   {
    "duration": 4,
    "start_time": "2024-12-20T18:21:12.249Z"
   },
   {
    "duration": 6,
    "start_time": "2024-12-20T18:21:12.255Z"
   },
   {
    "duration": 9,
    "start_time": "2024-12-20T18:21:12.264Z"
   },
   {
    "duration": 7,
    "start_time": "2024-12-20T18:21:12.275Z"
   },
   {
    "duration": 16,
    "start_time": "2024-12-20T18:21:12.285Z"
   },
   {
    "duration": 41,
    "start_time": "2024-12-20T18:21:12.302Z"
   },
   {
    "duration": 17,
    "start_time": "2024-12-20T18:21:12.344Z"
   },
   {
    "duration": 5,
    "start_time": "2024-12-20T18:21:12.362Z"
   },
   {
    "duration": 3,
    "start_time": "2024-12-20T18:22:35.417Z"
   },
   {
    "duration": 220,
    "start_time": "2024-12-20T18:23:03.333Z"
   },
   {
    "duration": 4,
    "start_time": "2024-12-20T18:23:08.934Z"
   },
   {
    "duration": 12,
    "start_time": "2024-12-20T18:23:09.192Z"
   },
   {
    "duration": 4,
    "start_time": "2024-12-20T18:23:20.792Z"
   },
   {
    "duration": 3,
    "start_time": "2024-12-20T18:23:27.648Z"
   },
   {
    "duration": 6,
    "start_time": "2024-12-20T18:23:32.441Z"
   },
   {
    "duration": 800,
    "start_time": "2024-12-20T18:24:37.836Z"
   },
   {
    "duration": 153,
    "start_time": "2024-12-20T18:24:38.639Z"
   },
   {
    "duration": 9,
    "start_time": "2024-12-20T18:24:38.794Z"
   },
   {
    "duration": 11,
    "start_time": "2024-12-20T18:24:38.806Z"
   },
   {
    "duration": 5,
    "start_time": "2024-12-20T18:24:38.819Z"
   },
   {
    "duration": 23,
    "start_time": "2024-12-20T18:24:38.825Z"
   },
   {
    "duration": 10,
    "start_time": "2024-12-20T18:24:38.850Z"
   },
   {
    "duration": 4,
    "start_time": "2024-12-20T18:24:38.861Z"
   },
   {
    "duration": 8,
    "start_time": "2024-12-20T18:24:38.866Z"
   },
   {
    "duration": 13,
    "start_time": "2024-12-20T18:24:38.878Z"
   },
   {
    "duration": 3,
    "start_time": "2024-12-20T18:24:38.892Z"
   },
   {
    "duration": 10,
    "start_time": "2024-12-20T18:24:38.897Z"
   },
   {
    "duration": 47,
    "start_time": "2024-12-20T18:24:38.908Z"
   },
   {
    "duration": 15,
    "start_time": "2024-12-20T18:24:38.957Z"
   },
   {
    "duration": 9,
    "start_time": "2024-12-20T18:24:38.974Z"
   },
   {
    "duration": 6,
    "start_time": "2024-12-20T18:24:38.985Z"
   },
   {
    "duration": 19,
    "start_time": "2024-12-20T18:24:38.993Z"
   },
   {
    "duration": 46,
    "start_time": "2024-12-20T18:24:39.013Z"
   },
   {
    "duration": 19,
    "start_time": "2024-12-20T18:24:39.062Z"
   },
   {
    "duration": 5,
    "start_time": "2024-12-20T18:24:39.084Z"
   },
   {
    "duration": 16,
    "start_time": "2024-12-20T18:24:39.091Z"
   },
   {
    "duration": 49,
    "start_time": "2024-12-20T18:24:39.110Z"
   },
   {
    "duration": 11,
    "start_time": "2024-12-20T18:24:39.161Z"
   },
   {
    "duration": 14,
    "start_time": "2024-12-20T18:24:39.173Z"
   },
   {
    "duration": 33,
    "start_time": "2024-12-20T18:24:39.189Z"
   },
   {
    "duration": 28,
    "start_time": "2024-12-20T18:24:39.223Z"
   },
   {
    "duration": 10,
    "start_time": "2024-12-20T18:24:39.252Z"
   },
   {
    "duration": 11,
    "start_time": "2024-12-20T18:24:39.267Z"
   },
   {
    "duration": 12,
    "start_time": "2024-12-20T18:24:39.280Z"
   },
   {
    "duration": 11,
    "start_time": "2024-12-20T18:24:39.294Z"
   },
   {
    "duration": 43,
    "start_time": "2024-12-20T18:24:39.306Z"
   },
   {
    "duration": 9,
    "start_time": "2024-12-20T18:24:39.351Z"
   },
   {
    "duration": 12,
    "start_time": "2024-12-20T18:24:39.361Z"
   },
   {
    "duration": 11,
    "start_time": "2024-12-20T18:24:39.375Z"
   },
   {
    "duration": 3,
    "start_time": "2024-12-20T18:24:39.387Z"
   },
   {
    "duration": 11,
    "start_time": "2024-12-20T18:24:39.392Z"
   },
   {
    "duration": 40,
    "start_time": "2024-12-20T18:24:39.404Z"
   },
   {
    "duration": 52,
    "start_time": "2024-12-20T18:24:39.446Z"
   },
   {
    "duration": 2,
    "start_time": "2024-12-20T18:24:39.500Z"
   },
   {
    "duration": 39,
    "start_time": "2024-12-20T18:24:39.504Z"
   },
   {
    "duration": 17,
    "start_time": "2024-12-20T18:24:39.544Z"
   },
   {
    "duration": 17,
    "start_time": "2024-12-20T18:24:39.563Z"
   },
   {
    "duration": 15,
    "start_time": "2024-12-20T18:24:39.581Z"
   },
   {
    "duration": 49,
    "start_time": "2024-12-20T18:24:39.597Z"
   },
   {
    "duration": 23,
    "start_time": "2024-12-20T18:24:39.647Z"
   },
   {
    "duration": 176,
    "start_time": "2024-12-20T18:24:39.672Z"
   },
   {
    "duration": 182,
    "start_time": "2024-12-20T18:24:39.849Z"
   },
   {
    "duration": 10,
    "start_time": "2024-12-20T18:24:40.033Z"
   },
   {
    "duration": 8,
    "start_time": "2024-12-20T18:24:40.045Z"
   },
   {
    "duration": 102,
    "start_time": "2024-12-20T18:24:40.055Z"
   },
   {
    "duration": 153,
    "start_time": "2024-12-20T18:24:40.159Z"
   },
   {
    "duration": 111,
    "start_time": "2024-12-20T18:24:40.314Z"
   },
   {
    "duration": 5,
    "start_time": "2024-12-20T18:24:40.426Z"
   },
   {
    "duration": 5,
    "start_time": "2024-12-20T18:24:40.443Z"
   },
   {
    "duration": 4,
    "start_time": "2024-12-20T18:24:40.450Z"
   },
   {
    "duration": 7,
    "start_time": "2024-12-20T18:24:40.455Z"
   },
   {
    "duration": 8,
    "start_time": "2024-12-20T18:24:40.465Z"
   },
   {
    "duration": 7,
    "start_time": "2024-12-20T18:24:40.475Z"
   },
   {
    "duration": 25,
    "start_time": "2024-12-20T18:24:40.483Z"
   },
   {
    "duration": 37,
    "start_time": "2024-12-20T18:24:40.510Z"
   },
   {
    "duration": 17,
    "start_time": "2024-12-20T18:24:40.549Z"
   },
   {
    "duration": 4,
    "start_time": "2024-12-20T18:24:40.568Z"
   },
   {
    "duration": 798,
    "start_time": "2024-12-20T18:32:43.528Z"
   },
   {
    "duration": 170,
    "start_time": "2024-12-20T18:32:44.328Z"
   },
   {
    "duration": 9,
    "start_time": "2024-12-20T18:32:44.500Z"
   },
   {
    "duration": 8,
    "start_time": "2024-12-20T18:32:44.512Z"
   },
   {
    "duration": 4,
    "start_time": "2024-12-20T18:32:44.522Z"
   },
   {
    "duration": 19,
    "start_time": "2024-12-20T18:32:44.529Z"
   },
   {
    "duration": 9,
    "start_time": "2024-12-20T18:32:44.550Z"
   },
   {
    "duration": 3,
    "start_time": "2024-12-20T18:32:44.561Z"
   },
   {
    "duration": 8,
    "start_time": "2024-12-20T18:32:44.565Z"
   },
   {
    "duration": 14,
    "start_time": "2024-12-20T18:32:44.576Z"
   },
   {
    "duration": 3,
    "start_time": "2024-12-20T18:32:44.591Z"
   },
   {
    "duration": 10,
    "start_time": "2024-12-20T18:32:44.595Z"
   },
   {
    "duration": 15,
    "start_time": "2024-12-20T18:32:44.642Z"
   },
   {
    "duration": 14,
    "start_time": "2024-12-20T18:32:44.659Z"
   },
   {
    "duration": 10,
    "start_time": "2024-12-20T18:32:44.675Z"
   },
   {
    "duration": 7,
    "start_time": "2024-12-20T18:32:44.688Z"
   },
   {
    "duration": 47,
    "start_time": "2024-12-20T18:32:44.696Z"
   },
   {
    "duration": 16,
    "start_time": "2024-12-20T18:32:44.744Z"
   },
   {
    "duration": 15,
    "start_time": "2024-12-20T18:32:44.762Z"
   },
   {
    "duration": 4,
    "start_time": "2024-12-20T18:32:44.779Z"
   },
   {
    "duration": 15,
    "start_time": "2024-12-20T18:32:44.784Z"
   },
   {
    "duration": 50,
    "start_time": "2024-12-20T18:32:44.801Z"
   },
   {
    "duration": 12,
    "start_time": "2024-12-20T18:32:44.853Z"
   },
   {
    "duration": 15,
    "start_time": "2024-12-20T18:32:44.867Z"
   },
   {
    "duration": 32,
    "start_time": "2024-12-20T18:32:44.883Z"
   },
   {
    "duration": 36,
    "start_time": "2024-12-20T18:32:44.916Z"
   },
   {
    "duration": 9,
    "start_time": "2024-12-20T18:32:44.954Z"
   },
   {
    "duration": 13,
    "start_time": "2024-12-20T18:32:44.966Z"
   },
   {
    "duration": 12,
    "start_time": "2024-12-20T18:32:44.980Z"
   },
   {
    "duration": 11,
    "start_time": "2024-12-20T18:32:44.994Z"
   },
   {
    "duration": 40,
    "start_time": "2024-12-20T18:32:45.007Z"
   },
   {
    "duration": 9,
    "start_time": "2024-12-20T18:32:45.049Z"
   },
   {
    "duration": 13,
    "start_time": "2024-12-20T18:32:45.059Z"
   },
   {
    "duration": 10,
    "start_time": "2024-12-20T18:32:45.074Z"
   },
   {
    "duration": 3,
    "start_time": "2024-12-20T18:32:45.086Z"
   },
   {
    "duration": 10,
    "start_time": "2024-12-20T18:32:45.091Z"
   },
   {
    "duration": 40,
    "start_time": "2024-12-20T18:32:45.102Z"
   },
   {
    "duration": 58,
    "start_time": "2024-12-20T18:32:45.144Z"
   },
   {
    "duration": 2,
    "start_time": "2024-12-20T18:32:45.204Z"
   },
   {
    "duration": 36,
    "start_time": "2024-12-20T18:32:45.207Z"
   },
   {
    "duration": 17,
    "start_time": "2024-12-20T18:32:45.245Z"
   },
   {
    "duration": 16,
    "start_time": "2024-12-20T18:32:45.264Z"
   },
   {
    "duration": 15,
    "start_time": "2024-12-20T18:32:45.282Z"
   },
   {
    "duration": 48,
    "start_time": "2024-12-20T18:32:45.299Z"
   },
   {
    "duration": 22,
    "start_time": "2024-12-20T18:32:45.349Z"
   },
   {
    "duration": 177,
    "start_time": "2024-12-20T18:32:45.373Z"
   },
   {
    "duration": 175,
    "start_time": "2024-12-20T18:32:45.552Z"
   },
   {
    "duration": 14,
    "start_time": "2024-12-20T18:32:45.729Z"
   },
   {
    "duration": 7,
    "start_time": "2024-12-20T18:32:45.745Z"
   },
   {
    "duration": 97,
    "start_time": "2024-12-20T18:32:45.754Z"
   },
   {
    "duration": 153,
    "start_time": "2024-12-20T18:32:45.852Z"
   },
   {
    "duration": 113,
    "start_time": "2024-12-20T18:32:46.007Z"
   },
   {
    "duration": 4,
    "start_time": "2024-12-20T18:32:46.122Z"
   },
   {
    "duration": 4,
    "start_time": "2024-12-20T18:32:46.142Z"
   },
   {
    "duration": 4,
    "start_time": "2024-12-20T18:32:46.148Z"
   },
   {
    "duration": 6,
    "start_time": "2024-12-20T18:32:46.154Z"
   },
   {
    "duration": 10,
    "start_time": "2024-12-20T18:32:46.161Z"
   },
   {
    "duration": 8,
    "start_time": "2024-12-20T18:32:46.173Z"
   },
   {
    "duration": 14,
    "start_time": "2024-12-20T18:32:46.183Z"
   },
   {
    "duration": 4,
    "start_time": "2024-12-20T18:32:46.199Z"
   },
   {
    "duration": 51,
    "start_time": "2024-12-20T18:32:46.205Z"
   },
   {
    "duration": 5,
    "start_time": "2024-12-20T18:32:46.257Z"
   },
   {
    "duration": 12,
    "start_time": "2024-12-20T18:44:41.114Z"
   },
   {
    "duration": 4,
    "start_time": "2024-12-20T18:44:51.225Z"
   },
   {
    "duration": 13,
    "start_time": "2024-12-20T18:44:52.617Z"
   },
   {
    "duration": 807,
    "start_time": "2024-12-20T18:45:00.530Z"
   },
   {
    "duration": 167,
    "start_time": "2024-12-20T18:45:01.339Z"
   },
   {
    "duration": 9,
    "start_time": "2024-12-20T18:45:01.508Z"
   },
   {
    "duration": 9,
    "start_time": "2024-12-20T18:45:01.519Z"
   },
   {
    "duration": 4,
    "start_time": "2024-12-20T18:45:01.530Z"
   },
   {
    "duration": 8,
    "start_time": "2024-12-20T18:45:01.543Z"
   },
   {
    "duration": 10,
    "start_time": "2024-12-20T18:45:01.553Z"
   },
   {
    "duration": 3,
    "start_time": "2024-12-20T18:45:01.564Z"
   },
   {
    "duration": 10,
    "start_time": "2024-12-20T18:45:01.569Z"
   },
   {
    "duration": 17,
    "start_time": "2024-12-20T18:45:01.583Z"
   },
   {
    "duration": 3,
    "start_time": "2024-12-20T18:45:01.603Z"
   },
   {
    "duration": 10,
    "start_time": "2024-12-20T18:45:01.644Z"
   },
   {
    "duration": 17,
    "start_time": "2024-12-20T18:45:01.656Z"
   },
   {
    "duration": 16,
    "start_time": "2024-12-20T18:45:01.675Z"
   },
   {
    "duration": 10,
    "start_time": "2024-12-20T18:45:01.692Z"
   },
   {
    "duration": 8,
    "start_time": "2024-12-20T18:45:01.703Z"
   },
   {
    "duration": 20,
    "start_time": "2024-12-20T18:45:01.743Z"
   },
   {
    "duration": 17,
    "start_time": "2024-12-20T18:45:01.764Z"
   },
   {
    "duration": 16,
    "start_time": "2024-12-20T18:45:01.783Z"
   },
   {
    "duration": 4,
    "start_time": "2024-12-20T18:45:01.800Z"
   },
   {
    "duration": 38,
    "start_time": "2024-12-20T18:45:01.805Z"
   },
   {
    "duration": 30,
    "start_time": "2024-12-20T18:45:01.845Z"
   },
   {
    "duration": 16,
    "start_time": "2024-12-20T18:45:01.876Z"
   },
   {
    "duration": 15,
    "start_time": "2024-12-20T18:45:01.894Z"
   },
   {
    "duration": 56,
    "start_time": "2024-12-20T18:45:01.910Z"
   },
   {
    "duration": 11,
    "start_time": "2024-12-20T18:45:01.968Z"
   },
   {
    "duration": 8,
    "start_time": "2024-12-20T18:45:01.981Z"
   },
   {
    "duration": 13,
    "start_time": "2024-12-20T18:45:01.993Z"
   },
   {
    "duration": 36,
    "start_time": "2024-12-20T18:45:02.008Z"
   },
   {
    "duration": 13,
    "start_time": "2024-12-20T18:45:02.047Z"
   },
   {
    "duration": 14,
    "start_time": "2024-12-20T18:45:02.061Z"
   },
   {
    "duration": 10,
    "start_time": "2024-12-20T18:45:02.077Z"
   },
   {
    "duration": 13,
    "start_time": "2024-12-20T18:45:02.089Z"
   },
   {
    "duration": 40,
    "start_time": "2024-12-20T18:45:02.103Z"
   },
   {
    "duration": 4,
    "start_time": "2024-12-20T18:45:02.145Z"
   },
   {
    "duration": 18,
    "start_time": "2024-12-20T18:45:02.150Z"
   },
   {
    "duration": 7,
    "start_time": "2024-12-20T18:45:02.170Z"
   },
   {
    "duration": 74,
    "start_time": "2024-12-20T18:45:02.178Z"
   },
   {
    "duration": 2,
    "start_time": "2024-12-20T18:45:02.254Z"
   },
   {
    "duration": 20,
    "start_time": "2024-12-20T18:45:02.258Z"
   },
   {
    "duration": 16,
    "start_time": "2024-12-20T18:45:02.279Z"
   },
   {
    "duration": 17,
    "start_time": "2024-12-20T18:45:02.297Z"
   },
   {
    "duration": 41,
    "start_time": "2024-12-20T18:45:02.316Z"
   },
   {
    "duration": 35,
    "start_time": "2024-12-20T18:45:02.360Z"
   },
   {
    "duration": 23,
    "start_time": "2024-12-20T18:45:02.397Z"
   },
   {
    "duration": 176,
    "start_time": "2024-12-20T18:45:02.443Z"
   },
   {
    "duration": 192,
    "start_time": "2024-12-20T18:45:02.621Z"
   },
   {
    "duration": 9,
    "start_time": "2024-12-20T18:45:02.815Z"
   },
   {
    "duration": 29,
    "start_time": "2024-12-20T18:45:02.825Z"
   },
   {
    "duration": 89,
    "start_time": "2024-12-20T18:45:02.856Z"
   },
   {
    "duration": 162,
    "start_time": "2024-12-20T18:45:02.947Z"
   },
   {
    "duration": 116,
    "start_time": "2024-12-20T18:45:03.111Z"
   },
   {
    "duration": 221,
    "start_time": "2024-12-20T18:45:03.228Z"
   },
   {
    "duration": 0,
    "start_time": "2024-12-20T18:45:03.451Z"
   },
   {
    "duration": 0,
    "start_time": "2024-12-20T18:45:03.452Z"
   },
   {
    "duration": 0,
    "start_time": "2024-12-20T18:45:03.454Z"
   },
   {
    "duration": 0,
    "start_time": "2024-12-20T18:45:03.456Z"
   },
   {
    "duration": 0,
    "start_time": "2024-12-20T18:45:03.456Z"
   },
   {
    "duration": 0,
    "start_time": "2024-12-20T18:45:03.458Z"
   },
   {
    "duration": 0,
    "start_time": "2024-12-20T18:45:03.459Z"
   },
   {
    "duration": 0,
    "start_time": "2024-12-20T18:45:03.460Z"
   },
   {
    "duration": 0,
    "start_time": "2024-12-20T18:45:03.461Z"
   },
   {
    "duration": 807,
    "start_time": "2024-12-20T18:46:22.136Z"
   },
   {
    "duration": 155,
    "start_time": "2024-12-20T18:46:22.945Z"
   },
   {
    "duration": 9,
    "start_time": "2024-12-20T18:46:23.104Z"
   },
   {
    "duration": 9,
    "start_time": "2024-12-20T18:46:23.115Z"
   },
   {
    "duration": 3,
    "start_time": "2024-12-20T18:46:23.142Z"
   },
   {
    "duration": 8,
    "start_time": "2024-12-20T18:46:23.147Z"
   },
   {
    "duration": 9,
    "start_time": "2024-12-20T18:46:23.156Z"
   },
   {
    "duration": 14,
    "start_time": "2024-12-20T18:46:23.167Z"
   },
   {
    "duration": 8,
    "start_time": "2024-12-20T18:46:23.183Z"
   },
   {
    "duration": 13,
    "start_time": "2024-12-20T18:46:23.192Z"
   },
   {
    "duration": 3,
    "start_time": "2024-12-20T18:46:23.206Z"
   },
   {
    "duration": 35,
    "start_time": "2024-12-20T18:46:23.210Z"
   },
   {
    "duration": 18,
    "start_time": "2024-12-20T18:46:23.246Z"
   },
   {
    "duration": 18,
    "start_time": "2024-12-20T18:46:23.268Z"
   },
   {
    "duration": 11,
    "start_time": "2024-12-20T18:46:23.288Z"
   },
   {
    "duration": 7,
    "start_time": "2024-12-20T18:46:23.300Z"
   },
   {
    "duration": 47,
    "start_time": "2024-12-20T18:46:23.308Z"
   },
   {
    "duration": 17,
    "start_time": "2024-12-20T18:46:23.356Z"
   },
   {
    "duration": 15,
    "start_time": "2024-12-20T18:46:23.375Z"
   },
   {
    "duration": 3,
    "start_time": "2024-12-20T18:46:23.392Z"
   },
   {
    "duration": 10,
    "start_time": "2024-12-20T18:46:23.396Z"
   },
   {
    "duration": 47,
    "start_time": "2024-12-20T18:46:23.407Z"
   },
   {
    "duration": 33,
    "start_time": "2024-12-20T18:46:23.455Z"
   },
   {
    "duration": 12,
    "start_time": "2024-12-20T18:46:23.490Z"
   },
   {
    "duration": 7,
    "start_time": "2024-12-20T18:46:23.504Z"
   },
   {
    "duration": 38,
    "start_time": "2024-12-20T18:46:23.512Z"
   },
   {
    "duration": 12,
    "start_time": "2024-12-20T18:46:23.551Z"
   },
   {
    "duration": 12,
    "start_time": "2024-12-20T18:46:23.565Z"
   },
   {
    "duration": 13,
    "start_time": "2024-12-20T18:46:23.578Z"
   },
   {
    "duration": 8,
    "start_time": "2024-12-20T18:46:23.593Z"
   },
   {
    "duration": 41,
    "start_time": "2024-12-20T18:46:23.603Z"
   },
   {
    "duration": 11,
    "start_time": "2024-12-20T18:46:23.645Z"
   },
   {
    "duration": 4,
    "start_time": "2024-12-20T18:46:23.657Z"
   },
   {
    "duration": 10,
    "start_time": "2024-12-20T18:46:23.663Z"
   },
   {
    "duration": 7,
    "start_time": "2024-12-20T18:46:23.675Z"
   },
   {
    "duration": 78,
    "start_time": "2024-12-20T18:46:23.683Z"
   },
   {
    "duration": 3,
    "start_time": "2024-12-20T18:46:23.762Z"
   },
   {
    "duration": 18,
    "start_time": "2024-12-20T18:46:23.766Z"
   },
   {
    "duration": 15,
    "start_time": "2024-12-20T18:46:23.786Z"
   },
   {
    "duration": 41,
    "start_time": "2024-12-20T18:46:23.803Z"
   },
   {
    "duration": 16,
    "start_time": "2024-12-20T18:46:23.849Z"
   },
   {
    "duration": 34,
    "start_time": "2024-12-20T18:46:23.867Z"
   },
   {
    "duration": 42,
    "start_time": "2024-12-20T18:46:23.903Z"
   },
   {
    "duration": 172,
    "start_time": "2024-12-20T18:46:23.947Z"
   },
   {
    "duration": 171,
    "start_time": "2024-12-20T18:46:24.121Z"
   },
   {
    "duration": 9,
    "start_time": "2024-12-20T18:46:24.295Z"
   },
   {
    "duration": 9,
    "start_time": "2024-12-20T18:46:24.305Z"
   },
   {
    "duration": 104,
    "start_time": "2024-12-20T18:46:24.315Z"
   },
   {
    "duration": 160,
    "start_time": "2024-12-20T18:46:24.421Z"
   },
   {
    "duration": 112,
    "start_time": "2024-12-20T18:46:24.583Z"
   },
   {
    "duration": 215,
    "start_time": "2024-12-20T18:46:24.698Z"
   },
   {
    "duration": 0,
    "start_time": "2024-12-20T18:46:24.915Z"
   },
   {
    "duration": 0,
    "start_time": "2024-12-20T18:46:24.916Z"
   },
   {
    "duration": 0,
    "start_time": "2024-12-20T18:46:24.917Z"
   },
   {
    "duration": 0,
    "start_time": "2024-12-20T18:46:24.918Z"
   },
   {
    "duration": 0,
    "start_time": "2024-12-20T18:46:24.919Z"
   },
   {
    "duration": 0,
    "start_time": "2024-12-20T18:46:24.920Z"
   },
   {
    "duration": 0,
    "start_time": "2024-12-20T18:46:24.922Z"
   },
   {
    "duration": 0,
    "start_time": "2024-12-20T18:46:24.943Z"
   },
   {
    "duration": 0,
    "start_time": "2024-12-20T18:46:24.944Z"
   },
   {
    "duration": 809,
    "start_time": "2024-12-20T18:51:21.836Z"
   },
   {
    "duration": 158,
    "start_time": "2024-12-20T18:51:22.647Z"
   },
   {
    "duration": 10,
    "start_time": "2024-12-20T18:51:22.806Z"
   },
   {
    "duration": 10,
    "start_time": "2024-12-20T18:51:22.818Z"
   },
   {
    "duration": 4,
    "start_time": "2024-12-20T18:51:22.842Z"
   },
   {
    "duration": 7,
    "start_time": "2024-12-20T18:51:22.849Z"
   },
   {
    "duration": 10,
    "start_time": "2024-12-20T18:51:22.858Z"
   },
   {
    "duration": 3,
    "start_time": "2024-12-20T18:51:22.869Z"
   },
   {
    "duration": 8,
    "start_time": "2024-12-20T18:51:22.874Z"
   },
   {
    "duration": 13,
    "start_time": "2024-12-20T18:51:22.885Z"
   },
   {
    "duration": 3,
    "start_time": "2024-12-20T18:51:22.900Z"
   },
   {
    "duration": 42,
    "start_time": "2024-12-20T18:51:22.905Z"
   },
   {
    "duration": 17,
    "start_time": "2024-12-20T18:51:22.949Z"
   },
   {
    "duration": 17,
    "start_time": "2024-12-20T18:51:22.969Z"
   },
   {
    "duration": 11,
    "start_time": "2024-12-20T18:51:22.988Z"
   },
   {
    "duration": 7,
    "start_time": "2024-12-20T18:51:23.000Z"
   },
   {
    "duration": 47,
    "start_time": "2024-12-20T18:51:23.009Z"
   },
   {
    "duration": 20,
    "start_time": "2024-12-20T18:51:23.057Z"
   },
   {
    "duration": 15,
    "start_time": "2024-12-20T18:51:23.079Z"
   },
   {
    "duration": 3,
    "start_time": "2024-12-20T18:51:23.096Z"
   },
   {
    "duration": 10,
    "start_time": "2024-12-20T18:51:23.100Z"
   },
   {
    "duration": 15,
    "start_time": "2024-12-20T18:51:23.142Z"
   },
   {
    "duration": 35,
    "start_time": "2024-12-20T18:51:23.159Z"
   },
   {
    "duration": 11,
    "start_time": "2024-12-20T18:51:23.195Z"
   },
   {
    "duration": 8,
    "start_time": "2024-12-20T18:51:23.208Z"
   },
   {
    "duration": 12,
    "start_time": "2024-12-20T18:51:23.242Z"
   },
   {
    "duration": 13,
    "start_time": "2024-12-20T18:51:23.256Z"
   },
   {
    "duration": 12,
    "start_time": "2024-12-20T18:51:23.274Z"
   },
   {
    "duration": 14,
    "start_time": "2024-12-20T18:51:23.287Z"
   },
   {
    "duration": 10,
    "start_time": "2024-12-20T18:51:23.302Z"
   },
   {
    "duration": 14,
    "start_time": "2024-12-20T18:51:23.343Z"
   },
   {
    "duration": 11,
    "start_time": "2024-12-20T18:51:23.358Z"
   },
   {
    "duration": 3,
    "start_time": "2024-12-20T18:51:23.372Z"
   },
   {
    "duration": 10,
    "start_time": "2024-12-20T18:51:23.377Z"
   },
   {
    "duration": 7,
    "start_time": "2024-12-20T18:51:23.389Z"
   },
   {
    "duration": 87,
    "start_time": "2024-12-20T18:51:23.397Z"
   },
   {
    "duration": 4,
    "start_time": "2024-12-20T18:51:23.486Z"
   },
   {
    "duration": 18,
    "start_time": "2024-12-20T18:51:23.491Z"
   },
   {
    "duration": 37,
    "start_time": "2024-12-20T18:51:23.511Z"
   },
   {
    "duration": 17,
    "start_time": "2024-12-20T18:51:23.549Z"
   },
   {
    "duration": 15,
    "start_time": "2024-12-20T18:51:23.568Z"
   },
   {
    "duration": 34,
    "start_time": "2024-12-20T18:51:23.585Z"
   },
   {
    "duration": 32,
    "start_time": "2024-12-20T18:51:23.642Z"
   },
   {
    "duration": 175,
    "start_time": "2024-12-20T18:51:23.675Z"
   },
   {
    "duration": 179,
    "start_time": "2024-12-20T18:51:23.852Z"
   },
   {
    "duration": 17,
    "start_time": "2024-12-20T18:51:24.032Z"
   },
   {
    "duration": 8,
    "start_time": "2024-12-20T18:51:24.050Z"
   },
   {
    "duration": 102,
    "start_time": "2024-12-20T18:51:24.060Z"
   },
   {
    "duration": 159,
    "start_time": "2024-12-20T18:51:24.164Z"
   },
   {
    "duration": 118,
    "start_time": "2024-12-20T18:51:24.325Z"
   },
   {
    "duration": 229,
    "start_time": "2024-12-20T18:51:24.445Z"
   },
   {
    "duration": 0,
    "start_time": "2024-12-20T18:51:24.676Z"
   },
   {
    "duration": 0,
    "start_time": "2024-12-20T18:51:24.678Z"
   },
   {
    "duration": 0,
    "start_time": "2024-12-20T18:51:24.679Z"
   },
   {
    "duration": 0,
    "start_time": "2024-12-20T18:51:24.681Z"
   },
   {
    "duration": 0,
    "start_time": "2024-12-20T18:51:24.682Z"
   },
   {
    "duration": 0,
    "start_time": "2024-12-20T18:51:24.683Z"
   },
   {
    "duration": 0,
    "start_time": "2024-12-20T18:51:24.684Z"
   },
   {
    "duration": 0,
    "start_time": "2024-12-20T18:51:24.684Z"
   },
   {
    "duration": 0,
    "start_time": "2024-12-20T18:51:24.685Z"
   },
   {
    "duration": 7,
    "start_time": "2024-12-20T18:52:25.268Z"
   },
   {
    "duration": 159,
    "start_time": "2024-12-20T22:34:06.805Z"
   },
   {
    "duration": 2453,
    "start_time": "2024-12-20T22:34:12.306Z"
   },
   {
    "duration": 215,
    "start_time": "2024-12-20T22:34:14.762Z"
   },
   {
    "duration": 9,
    "start_time": "2024-12-20T22:34:14.979Z"
   },
   {
    "duration": 10,
    "start_time": "2024-12-20T22:34:14.990Z"
   },
   {
    "duration": 3,
    "start_time": "2024-12-20T22:34:15.002Z"
   },
   {
    "duration": 8,
    "start_time": "2024-12-20T22:34:15.007Z"
   },
   {
    "duration": 10,
    "start_time": "2024-12-20T22:34:15.016Z"
   },
   {
    "duration": 10,
    "start_time": "2024-12-20T22:34:15.028Z"
   },
   {
    "duration": 3,
    "start_time": "2024-12-20T22:34:15.040Z"
   },
   {
    "duration": 8,
    "start_time": "2024-12-20T22:34:15.045Z"
   },
   {
    "duration": 13,
    "start_time": "2024-12-20T22:34:15.054Z"
   },
   {
    "duration": 3,
    "start_time": "2024-12-20T22:34:15.068Z"
   },
   {
    "duration": 48,
    "start_time": "2024-12-20T22:34:15.073Z"
   },
   {
    "duration": 15,
    "start_time": "2024-12-20T22:34:15.126Z"
   },
   {
    "duration": 14,
    "start_time": "2024-12-20T22:34:15.142Z"
   },
   {
    "duration": 11,
    "start_time": "2024-12-20T22:34:15.158Z"
   },
   {
    "duration": 7,
    "start_time": "2024-12-20T22:34:15.170Z"
   },
   {
    "duration": 50,
    "start_time": "2024-12-20T22:34:15.178Z"
   },
   {
    "duration": 16,
    "start_time": "2024-12-20T22:34:15.230Z"
   },
   {
    "duration": 16,
    "start_time": "2024-12-20T22:34:15.248Z"
   },
   {
    "duration": 3,
    "start_time": "2024-12-20T22:34:15.267Z"
   },
   {
    "duration": 10,
    "start_time": "2024-12-20T22:34:15.271Z"
   },
   {
    "duration": 40,
    "start_time": "2024-12-20T22:34:15.282Z"
   },
   {
    "duration": 35,
    "start_time": "2024-12-20T22:34:15.324Z"
   },
   {
    "duration": 12,
    "start_time": "2024-12-20T22:34:15.360Z"
   },
   {
    "duration": 8,
    "start_time": "2024-12-20T22:34:15.374Z"
   },
   {
    "duration": 33,
    "start_time": "2024-12-20T22:34:15.384Z"
   },
   {
    "duration": 12,
    "start_time": "2024-12-20T22:34:15.419Z"
   },
   {
    "duration": 16,
    "start_time": "2024-12-20T22:34:15.432Z"
   },
   {
    "duration": 21,
    "start_time": "2024-12-20T22:34:15.450Z"
   },
   {
    "duration": 10,
    "start_time": "2024-12-20T22:34:15.472Z"
   },
   {
    "duration": 32,
    "start_time": "2024-12-20T22:34:15.484Z"
   },
   {
    "duration": 10,
    "start_time": "2024-12-20T22:34:15.518Z"
   },
   {
    "duration": 3,
    "start_time": "2024-12-20T22:34:15.530Z"
   },
   {
    "duration": 11,
    "start_time": "2024-12-20T22:34:15.535Z"
   },
   {
    "duration": 6,
    "start_time": "2024-12-20T22:34:15.548Z"
   },
   {
    "duration": 89,
    "start_time": "2024-12-20T22:34:15.556Z"
   },
   {
    "duration": 2,
    "start_time": "2024-12-20T22:34:15.647Z"
   },
   {
    "duration": 18,
    "start_time": "2024-12-20T22:34:15.651Z"
   },
   {
    "duration": 16,
    "start_time": "2024-12-20T22:34:15.671Z"
   },
   {
    "duration": 16,
    "start_time": "2024-12-20T22:34:15.711Z"
   },
   {
    "duration": 15,
    "start_time": "2024-12-20T22:34:15.729Z"
   },
   {
    "duration": 35,
    "start_time": "2024-12-20T22:34:15.745Z"
   },
   {
    "duration": 43,
    "start_time": "2024-12-20T22:34:15.781Z"
   },
   {
    "duration": 168,
    "start_time": "2024-12-20T22:34:15.826Z"
   },
   {
    "duration": 143,
    "start_time": "2024-12-20T22:34:15.996Z"
   },
   {
    "duration": 8,
    "start_time": "2024-12-20T22:34:16.141Z"
   },
   {
    "duration": 7,
    "start_time": "2024-12-20T22:34:16.150Z"
   },
   {
    "duration": 103,
    "start_time": "2024-12-20T22:34:16.159Z"
   },
   {
    "duration": 195,
    "start_time": "2024-12-20T22:34:16.264Z"
   },
   {
    "duration": 112,
    "start_time": "2024-12-20T22:34:16.461Z"
   },
   {
    "duration": 219,
    "start_time": "2024-12-20T22:34:16.575Z"
   },
   {
    "duration": 0,
    "start_time": "2024-12-20T22:34:16.797Z"
   },
   {
    "duration": 0,
    "start_time": "2024-12-20T22:34:16.798Z"
   },
   {
    "duration": 0,
    "start_time": "2024-12-20T22:34:16.812Z"
   },
   {
    "duration": 0,
    "start_time": "2024-12-20T22:34:16.813Z"
   },
   {
    "duration": 0,
    "start_time": "2024-12-20T22:34:16.814Z"
   },
   {
    "duration": 0,
    "start_time": "2024-12-20T22:34:16.815Z"
   },
   {
    "duration": 0,
    "start_time": "2024-12-20T22:34:16.816Z"
   },
   {
    "duration": 0,
    "start_time": "2024-12-20T22:34:16.817Z"
   },
   {
    "duration": 10,
    "start_time": "2024-12-20T22:35:49.122Z"
   },
   {
    "duration": 702,
    "start_time": "2024-12-20T22:36:42.057Z"
   },
   {
    "duration": 4,
    "start_time": "2024-12-20T22:37:03.788Z"
   },
   {
    "duration": 7,
    "start_time": "2024-12-20T22:37:06.185Z"
   },
   {
    "duration": 11,
    "start_time": "2024-12-20T22:37:38.437Z"
   },
   {
    "duration": 12,
    "start_time": "2024-12-20T22:38:52.760Z"
   },
   {
    "duration": 13,
    "start_time": "2024-12-20T22:39:11.549Z"
   },
   {
    "duration": 8,
    "start_time": "2024-12-20T22:40:45.561Z"
   },
   {
    "duration": 159,
    "start_time": "2024-12-20T22:44:10.828Z"
   },
   {
    "duration": 154,
    "start_time": "2024-12-20T22:44:32.246Z"
   },
   {
    "duration": 152,
    "start_time": "2024-12-20T22:45:20.985Z"
   },
   {
    "duration": 153,
    "start_time": "2024-12-20T22:45:42.449Z"
   },
   {
    "duration": 153,
    "start_time": "2024-12-20T22:46:07.654Z"
   },
   {
    "duration": 125,
    "start_time": "2024-12-20T22:47:04.013Z"
   },
   {
    "duration": 155,
    "start_time": "2024-12-20T22:47:20.719Z"
   },
   {
    "duration": 125,
    "start_time": "2024-12-20T22:47:58.166Z"
   },
   {
    "duration": 91,
    "start_time": "2024-12-20T22:48:27.957Z"
   },
   {
    "duration": 85,
    "start_time": "2024-12-20T22:48:44.443Z"
   },
   {
    "duration": 145,
    "start_time": "2024-12-20T22:49:10.546Z"
   },
   {
    "duration": 104,
    "start_time": "2024-12-20T22:49:26.589Z"
   },
   {
    "duration": 4,
    "start_time": "2024-12-20T22:50:25.930Z"
   },
   {
    "duration": 150,
    "start_time": "2024-12-20T22:55:40.729Z"
   },
   {
    "duration": 155,
    "start_time": "2024-12-20T22:55:54.909Z"
   },
   {
    "duration": 147,
    "start_time": "2024-12-20T22:56:06.417Z"
   },
   {
    "duration": 153,
    "start_time": "2024-12-20T22:56:24.329Z"
   },
   {
    "duration": 270,
    "start_time": "2024-12-20T22:56:32.811Z"
   },
   {
    "duration": 148,
    "start_time": "2024-12-20T22:57:08.523Z"
   },
   {
    "duration": 108,
    "start_time": "2024-12-20T22:57:25.174Z"
   },
   {
    "duration": 102,
    "start_time": "2024-12-20T22:57:38.140Z"
   },
   {
    "duration": 154,
    "start_time": "2024-12-20T22:58:22.468Z"
   },
   {
    "duration": 14,
    "start_time": "2024-12-20T22:59:41.904Z"
   },
   {
    "duration": 852,
    "start_time": "2024-12-20T23:00:06.036Z"
   },
   {
    "duration": 155,
    "start_time": "2024-12-20T23:00:06.890Z"
   },
   {
    "duration": 9,
    "start_time": "2024-12-20T23:00:07.046Z"
   },
   {
    "duration": 10,
    "start_time": "2024-12-20T23:00:07.057Z"
   },
   {
    "duration": 8,
    "start_time": "2024-12-20T23:00:07.068Z"
   },
   {
    "duration": 5,
    "start_time": "2024-12-20T23:00:07.077Z"
   },
   {
    "duration": 8,
    "start_time": "2024-12-20T23:00:07.084Z"
   },
   {
    "duration": 24,
    "start_time": "2024-12-20T23:00:07.093Z"
   },
   {
    "duration": 9,
    "start_time": "2024-12-20T23:00:07.118Z"
   },
   {
    "duration": 2,
    "start_time": "2024-12-20T23:00:07.131Z"
   },
   {
    "duration": 9,
    "start_time": "2024-12-20T23:00:07.135Z"
   },
   {
    "duration": 12,
    "start_time": "2024-12-20T23:00:07.145Z"
   },
   {
    "duration": 3,
    "start_time": "2024-12-20T23:00:07.159Z"
   },
   {
    "duration": 9,
    "start_time": "2024-12-20T23:00:07.165Z"
   },
   {
    "duration": 15,
    "start_time": "2024-12-20T23:00:07.213Z"
   },
   {
    "duration": 20,
    "start_time": "2024-12-20T23:00:07.230Z"
   },
   {
    "duration": 13,
    "start_time": "2024-12-20T23:00:07.252Z"
   },
   {
    "duration": 9,
    "start_time": "2024-12-20T23:00:07.267Z"
   },
   {
    "duration": 47,
    "start_time": "2024-12-20T23:00:07.278Z"
   },
   {
    "duration": 16,
    "start_time": "2024-12-20T23:00:07.327Z"
   },
   {
    "duration": 15,
    "start_time": "2024-12-20T23:00:07.344Z"
   },
   {
    "duration": 3,
    "start_time": "2024-12-20T23:00:07.361Z"
   },
   {
    "duration": 10,
    "start_time": "2024-12-20T23:00:07.366Z"
   },
   {
    "duration": 44,
    "start_time": "2024-12-20T23:00:07.378Z"
   },
   {
    "duration": 32,
    "start_time": "2024-12-20T23:00:07.423Z"
   },
   {
    "duration": 11,
    "start_time": "2024-12-20T23:00:07.457Z"
   },
   {
    "duration": 8,
    "start_time": "2024-12-20T23:00:07.470Z"
   },
   {
    "duration": 34,
    "start_time": "2024-12-20T23:00:07.483Z"
   },
   {
    "duration": 11,
    "start_time": "2024-12-20T23:00:07.518Z"
   },
   {
    "duration": 12,
    "start_time": "2024-12-20T23:00:07.531Z"
   },
   {
    "duration": 12,
    "start_time": "2024-12-20T23:00:07.544Z"
   },
   {
    "duration": 9,
    "start_time": "2024-12-20T23:00:07.558Z"
   },
   {
    "duration": 43,
    "start_time": "2024-12-20T23:00:07.568Z"
   },
   {
    "duration": 12,
    "start_time": "2024-12-20T23:00:07.613Z"
   },
   {
    "duration": 11,
    "start_time": "2024-12-20T23:00:07.626Z"
   },
   {
    "duration": 8,
    "start_time": "2024-12-20T23:00:07.638Z"
   },
   {
    "duration": 76,
    "start_time": "2024-12-20T23:00:07.648Z"
   },
   {
    "duration": 17,
    "start_time": "2024-12-20T23:00:07.726Z"
   },
   {
    "duration": 15,
    "start_time": "2024-12-20T23:00:07.745Z"
   },
   {
    "duration": 17,
    "start_time": "2024-12-20T23:00:07.762Z"
   },
   {
    "duration": 524,
    "start_time": "2024-12-20T23:00:07.780Z"
   },
   {
    "duration": 0,
    "start_time": "2024-12-20T23:00:08.306Z"
   },
   {
    "duration": 0,
    "start_time": "2024-12-20T23:00:08.307Z"
   },
   {
    "duration": 0,
    "start_time": "2024-12-20T23:00:08.308Z"
   },
   {
    "duration": 0,
    "start_time": "2024-12-20T23:00:08.308Z"
   },
   {
    "duration": 0,
    "start_time": "2024-12-20T23:00:08.309Z"
   },
   {
    "duration": 0,
    "start_time": "2024-12-20T23:00:08.309Z"
   },
   {
    "duration": 0,
    "start_time": "2024-12-20T23:00:08.310Z"
   },
   {
    "duration": 0,
    "start_time": "2024-12-20T23:00:08.310Z"
   },
   {
    "duration": 0,
    "start_time": "2024-12-20T23:00:08.311Z"
   },
   {
    "duration": 0,
    "start_time": "2024-12-20T23:00:08.313Z"
   },
   {
    "duration": 0,
    "start_time": "2024-12-20T23:00:08.314Z"
   },
   {
    "duration": 0,
    "start_time": "2024-12-20T23:00:08.317Z"
   },
   {
    "duration": 0,
    "start_time": "2024-12-20T23:00:08.318Z"
   },
   {
    "duration": 0,
    "start_time": "2024-12-20T23:00:08.319Z"
   },
   {
    "duration": 0,
    "start_time": "2024-12-20T23:00:08.320Z"
   },
   {
    "duration": 0,
    "start_time": "2024-12-20T23:00:08.321Z"
   },
   {
    "duration": 0,
    "start_time": "2024-12-20T23:00:08.323Z"
   },
   {
    "duration": 14,
    "start_time": "2024-12-20T23:00:32.350Z"
   },
   {
    "duration": 13,
    "start_time": "2024-12-20T23:00:42.792Z"
   },
   {
    "duration": 15,
    "start_time": "2024-12-20T23:01:00.503Z"
   },
   {
    "duration": 486,
    "start_time": "2024-12-20T23:02:56.005Z"
   },
   {
    "duration": 130,
    "start_time": "2024-12-20T23:03:10.406Z"
   },
   {
    "duration": 840,
    "start_time": "2024-12-20T23:03:27.628Z"
   },
   {
    "duration": 153,
    "start_time": "2024-12-20T23:03:28.470Z"
   },
   {
    "duration": 10,
    "start_time": "2024-12-20T23:03:28.624Z"
   },
   {
    "duration": 9,
    "start_time": "2024-12-20T23:03:28.636Z"
   },
   {
    "duration": 9,
    "start_time": "2024-12-20T23:03:28.646Z"
   },
   {
    "duration": 4,
    "start_time": "2024-12-20T23:03:28.657Z"
   },
   {
    "duration": 8,
    "start_time": "2024-12-20T23:03:28.663Z"
   },
   {
    "duration": 8,
    "start_time": "2024-12-20T23:03:28.672Z"
   },
   {
    "duration": 38,
    "start_time": "2024-12-20T23:03:28.681Z"
   },
   {
    "duration": 3,
    "start_time": "2024-12-20T23:03:28.723Z"
   },
   {
    "duration": 8,
    "start_time": "2024-12-20T23:03:28.728Z"
   },
   {
    "duration": 13,
    "start_time": "2024-12-20T23:03:28.737Z"
   },
   {
    "duration": 3,
    "start_time": "2024-12-20T23:03:28.752Z"
   },
   {
    "duration": 9,
    "start_time": "2024-12-20T23:03:28.757Z"
   },
   {
    "duration": 50,
    "start_time": "2024-12-20T23:03:28.768Z"
   },
   {
    "duration": 14,
    "start_time": "2024-12-20T23:03:28.820Z"
   },
   {
    "duration": 10,
    "start_time": "2024-12-20T23:03:28.835Z"
   },
   {
    "duration": 7,
    "start_time": "2024-12-20T23:03:28.846Z"
   },
   {
    "duration": 18,
    "start_time": "2024-12-20T23:03:28.855Z"
   },
   {
    "duration": 41,
    "start_time": "2024-12-20T23:03:28.874Z"
   },
   {
    "duration": 15,
    "start_time": "2024-12-20T23:03:28.916Z"
   },
   {
    "duration": 3,
    "start_time": "2024-12-20T23:03:28.933Z"
   },
   {
    "duration": 9,
    "start_time": "2024-12-20T23:03:28.937Z"
   },
   {
    "duration": 14,
    "start_time": "2024-12-20T23:03:28.948Z"
   },
   {
    "duration": 61,
    "start_time": "2024-12-20T23:03:28.963Z"
   },
   {
    "duration": 12,
    "start_time": "2024-12-20T23:03:29.026Z"
   },
   {
    "duration": 9,
    "start_time": "2024-12-20T23:03:29.039Z"
   },
   {
    "duration": 12,
    "start_time": "2024-12-20T23:03:29.052Z"
   },
   {
    "duration": 11,
    "start_time": "2024-12-20T23:03:29.066Z"
   },
   {
    "duration": 40,
    "start_time": "2024-12-20T23:03:29.079Z"
   },
   {
    "duration": 12,
    "start_time": "2024-12-20T23:03:29.121Z"
   },
   {
    "duration": 8,
    "start_time": "2024-12-20T23:03:29.135Z"
   },
   {
    "duration": 13,
    "start_time": "2024-12-20T23:03:29.145Z"
   },
   {
    "duration": 10,
    "start_time": "2024-12-20T23:03:29.159Z"
   },
   {
    "duration": 11,
    "start_time": "2024-12-20T23:03:29.172Z"
   },
   {
    "duration": 7,
    "start_time": "2024-12-20T23:03:29.212Z"
   },
   {
    "duration": 53,
    "start_time": "2024-12-20T23:03:29.221Z"
   },
   {
    "duration": 17,
    "start_time": "2024-12-20T23:03:29.276Z"
   },
   {
    "duration": 16,
    "start_time": "2024-12-20T23:03:29.312Z"
   },
   {
    "duration": 16,
    "start_time": "2024-12-20T23:03:29.330Z"
   },
   {
    "duration": 510,
    "start_time": "2024-12-20T23:03:29.348Z"
   },
   {
    "duration": 0,
    "start_time": "2024-12-20T23:03:29.860Z"
   },
   {
    "duration": 0,
    "start_time": "2024-12-20T23:03:29.861Z"
   },
   {
    "duration": 0,
    "start_time": "2024-12-20T23:03:29.862Z"
   },
   {
    "duration": 0,
    "start_time": "2024-12-20T23:03:29.863Z"
   },
   {
    "duration": 0,
    "start_time": "2024-12-20T23:03:29.864Z"
   },
   {
    "duration": 0,
    "start_time": "2024-12-20T23:03:29.865Z"
   },
   {
    "duration": 0,
    "start_time": "2024-12-20T23:03:29.866Z"
   },
   {
    "duration": 0,
    "start_time": "2024-12-20T23:03:29.867Z"
   },
   {
    "duration": 0,
    "start_time": "2024-12-20T23:03:29.868Z"
   },
   {
    "duration": 0,
    "start_time": "2024-12-20T23:03:29.868Z"
   },
   {
    "duration": 0,
    "start_time": "2024-12-20T23:03:29.869Z"
   },
   {
    "duration": 0,
    "start_time": "2024-12-20T23:03:29.870Z"
   },
   {
    "duration": 0,
    "start_time": "2024-12-20T23:03:29.871Z"
   },
   {
    "duration": 0,
    "start_time": "2024-12-20T23:03:29.872Z"
   },
   {
    "duration": 0,
    "start_time": "2024-12-20T23:03:29.873Z"
   },
   {
    "duration": 0,
    "start_time": "2024-12-20T23:03:29.874Z"
   },
   {
    "duration": 0,
    "start_time": "2024-12-20T23:03:29.875Z"
   },
   {
    "duration": 491,
    "start_time": "2024-12-20T23:04:10.822Z"
   },
   {
    "duration": 48,
    "start_time": "2024-12-20T23:04:21.989Z"
   },
   {
    "duration": 9,
    "start_time": "2024-12-20T23:04:56.905Z"
   },
   {
    "duration": 8,
    "start_time": "2024-12-20T23:05:09.082Z"
   },
   {
    "duration": 845,
    "start_time": "2024-12-20T23:05:41.028Z"
   },
   {
    "duration": 148,
    "start_time": "2024-12-20T23:05:41.875Z"
   },
   {
    "duration": 9,
    "start_time": "2024-12-20T23:05:42.025Z"
   },
   {
    "duration": 9,
    "start_time": "2024-12-20T23:05:42.036Z"
   },
   {
    "duration": 7,
    "start_time": "2024-12-20T23:05:42.047Z"
   },
   {
    "duration": 4,
    "start_time": "2024-12-20T23:05:42.056Z"
   },
   {
    "duration": 7,
    "start_time": "2024-12-20T23:05:42.062Z"
   },
   {
    "duration": 9,
    "start_time": "2024-12-20T23:05:42.070Z"
   },
   {
    "duration": 37,
    "start_time": "2024-12-20T23:05:42.080Z"
   },
   {
    "duration": 3,
    "start_time": "2024-12-20T23:05:42.119Z"
   },
   {
    "duration": 8,
    "start_time": "2024-12-20T23:05:42.125Z"
   },
   {
    "duration": 12,
    "start_time": "2024-12-20T23:05:42.134Z"
   },
   {
    "duration": 4,
    "start_time": "2024-12-20T23:05:42.148Z"
   },
   {
    "duration": 9,
    "start_time": "2024-12-20T23:05:42.157Z"
   },
   {
    "duration": 50,
    "start_time": "2024-12-20T23:05:42.167Z"
   },
   {
    "duration": 15,
    "start_time": "2024-12-20T23:05:42.219Z"
   },
   {
    "duration": 10,
    "start_time": "2024-12-20T23:05:42.236Z"
   },
   {
    "duration": 7,
    "start_time": "2024-12-20T23:05:42.247Z"
   },
   {
    "duration": 18,
    "start_time": "2024-12-20T23:05:42.256Z"
   },
   {
    "duration": 45,
    "start_time": "2024-12-20T23:05:42.275Z"
   },
   {
    "duration": 15,
    "start_time": "2024-12-20T23:05:42.322Z"
   },
   {
    "duration": 4,
    "start_time": "2024-12-20T23:05:42.339Z"
   },
   {
    "duration": 9,
    "start_time": "2024-12-20T23:05:42.344Z"
   },
   {
    "duration": 14,
    "start_time": "2024-12-20T23:05:42.355Z"
   },
   {
    "duration": 59,
    "start_time": "2024-12-20T23:05:42.371Z"
   },
   {
    "duration": 12,
    "start_time": "2024-12-20T23:05:42.432Z"
   },
   {
    "duration": 7,
    "start_time": "2024-12-20T23:05:42.445Z"
   },
   {
    "duration": 12,
    "start_time": "2024-12-20T23:05:42.454Z"
   },
   {
    "duration": 12,
    "start_time": "2024-12-20T23:05:42.467Z"
   },
   {
    "duration": 39,
    "start_time": "2024-12-20T23:05:42.480Z"
   },
   {
    "duration": 12,
    "start_time": "2024-12-20T23:05:42.521Z"
   },
   {
    "duration": 10,
    "start_time": "2024-12-20T23:05:42.535Z"
   },
   {
    "duration": 12,
    "start_time": "2024-12-20T23:05:42.546Z"
   },
   {
    "duration": 13,
    "start_time": "2024-12-20T23:05:42.560Z"
   },
   {
    "duration": 38,
    "start_time": "2024-12-20T23:05:42.574Z"
   },
   {
    "duration": 7,
    "start_time": "2024-12-20T23:05:42.614Z"
   },
   {
    "duration": 50,
    "start_time": "2024-12-20T23:05:42.623Z"
   },
   {
    "duration": 37,
    "start_time": "2024-12-20T23:05:42.675Z"
   },
   {
    "duration": 16,
    "start_time": "2024-12-20T23:05:42.714Z"
   },
   {
    "duration": 16,
    "start_time": "2024-12-20T23:05:42.732Z"
   },
   {
    "duration": 515,
    "start_time": "2024-12-20T23:05:42.753Z"
   },
   {
    "duration": 0,
    "start_time": "2024-12-20T23:05:43.270Z"
   },
   {
    "duration": 0,
    "start_time": "2024-12-20T23:05:43.271Z"
   },
   {
    "duration": 0,
    "start_time": "2024-12-20T23:05:43.273Z"
   },
   {
    "duration": 0,
    "start_time": "2024-12-20T23:05:43.274Z"
   },
   {
    "duration": 0,
    "start_time": "2024-12-20T23:05:43.276Z"
   },
   {
    "duration": 0,
    "start_time": "2024-12-20T23:05:43.276Z"
   },
   {
    "duration": 0,
    "start_time": "2024-12-20T23:05:43.277Z"
   },
   {
    "duration": 0,
    "start_time": "2024-12-20T23:05:43.278Z"
   },
   {
    "duration": 0,
    "start_time": "2024-12-20T23:05:43.279Z"
   },
   {
    "duration": 0,
    "start_time": "2024-12-20T23:05:43.280Z"
   },
   {
    "duration": 0,
    "start_time": "2024-12-20T23:05:43.281Z"
   },
   {
    "duration": 0,
    "start_time": "2024-12-20T23:05:43.283Z"
   },
   {
    "duration": 0,
    "start_time": "2024-12-20T23:05:43.284Z"
   },
   {
    "duration": 0,
    "start_time": "2024-12-20T23:05:43.285Z"
   },
   {
    "duration": 0,
    "start_time": "2024-12-20T23:05:43.286Z"
   },
   {
    "duration": 0,
    "start_time": "2024-12-20T23:05:43.287Z"
   },
   {
    "duration": 0,
    "start_time": "2024-12-20T23:05:43.312Z"
   },
   {
    "duration": 13,
    "start_time": "2024-12-20T23:07:36.556Z"
   },
   {
    "duration": 16,
    "start_time": "2024-12-20T23:07:46.075Z"
   },
   {
    "duration": 17,
    "start_time": "2024-12-20T23:08:50.515Z"
   },
   {
    "duration": 34,
    "start_time": "2024-12-20T23:08:55.433Z"
   },
   {
    "duration": 842,
    "start_time": "2024-12-20T23:09:16.238Z"
   },
   {
    "duration": 149,
    "start_time": "2024-12-20T23:09:17.082Z"
   },
   {
    "duration": 10,
    "start_time": "2024-12-20T23:09:17.233Z"
   },
   {
    "duration": 10,
    "start_time": "2024-12-20T23:09:17.245Z"
   },
   {
    "duration": 9,
    "start_time": "2024-12-20T23:09:17.258Z"
   },
   {
    "duration": 4,
    "start_time": "2024-12-20T23:09:17.269Z"
   },
   {
    "duration": 7,
    "start_time": "2024-12-20T23:09:17.276Z"
   },
   {
    "duration": 35,
    "start_time": "2024-12-20T23:09:17.285Z"
   },
   {
    "duration": 9,
    "start_time": "2024-12-20T23:09:17.322Z"
   },
   {
    "duration": 4,
    "start_time": "2024-12-20T23:09:17.332Z"
   },
   {
    "duration": 8,
    "start_time": "2024-12-20T23:09:17.338Z"
   },
   {
    "duration": 14,
    "start_time": "2024-12-20T23:09:17.348Z"
   },
   {
    "duration": 3,
    "start_time": "2024-12-20T23:09:17.364Z"
   },
   {
    "duration": 41,
    "start_time": "2024-12-20T23:09:17.371Z"
   },
   {
    "duration": 14,
    "start_time": "2024-12-20T23:09:17.414Z"
   },
   {
    "duration": 15,
    "start_time": "2024-12-20T23:09:17.429Z"
   },
   {
    "duration": 9,
    "start_time": "2024-12-20T23:09:17.446Z"
   },
   {
    "duration": 7,
    "start_time": "2024-12-20T23:09:17.457Z"
   },
   {
    "duration": 47,
    "start_time": "2024-12-20T23:09:17.465Z"
   },
   {
    "duration": 17,
    "start_time": "2024-12-20T23:09:17.513Z"
   },
   {
    "duration": 14,
    "start_time": "2024-12-20T23:09:17.532Z"
   },
   {
    "duration": 3,
    "start_time": "2024-12-20T23:09:17.548Z"
   },
   {
    "duration": 10,
    "start_time": "2024-12-20T23:09:17.553Z"
   },
   {
    "duration": 15,
    "start_time": "2024-12-20T23:09:17.565Z"
   },
   {
    "duration": 33,
    "start_time": "2024-12-20T23:09:17.613Z"
   },
   {
    "duration": 13,
    "start_time": "2024-12-20T23:09:17.647Z"
   },
   {
    "duration": 8,
    "start_time": "2024-12-20T23:09:17.661Z"
   },
   {
    "duration": 12,
    "start_time": "2024-12-20T23:09:17.671Z"
   },
   {
    "duration": 33,
    "start_time": "2024-12-20T23:09:17.684Z"
   },
   {
    "duration": 12,
    "start_time": "2024-12-20T23:09:17.719Z"
   },
   {
    "duration": 13,
    "start_time": "2024-12-20T23:09:17.733Z"
   },
   {
    "duration": 9,
    "start_time": "2024-12-20T23:09:17.748Z"
   },
   {
    "duration": 14,
    "start_time": "2024-12-20T23:09:17.758Z"
   },
   {
    "duration": 40,
    "start_time": "2024-12-20T23:09:17.773Z"
   },
   {
    "duration": 12,
    "start_time": "2024-12-20T23:09:17.815Z"
   },
   {
    "duration": 6,
    "start_time": "2024-12-20T23:09:17.829Z"
   },
   {
    "duration": 53,
    "start_time": "2024-12-20T23:09:17.836Z"
   },
   {
    "duration": 19,
    "start_time": "2024-12-20T23:09:17.911Z"
   },
   {
    "duration": 16,
    "start_time": "2024-12-20T23:09:17.932Z"
   },
   {
    "duration": 17,
    "start_time": "2024-12-20T23:09:17.950Z"
   },
   {
    "duration": 42,
    "start_time": "2024-12-20T23:09:17.971Z"
   },
   {
    "duration": 42,
    "start_time": "2024-12-20T23:09:18.014Z"
   },
   {
    "duration": 177,
    "start_time": "2024-12-20T23:09:18.058Z"
   },
   {
    "duration": 179,
    "start_time": "2024-12-20T23:09:18.237Z"
   },
   {
    "duration": 9,
    "start_time": "2024-12-20T23:09:18.418Z"
   },
   {
    "duration": 7,
    "start_time": "2024-12-20T23:09:18.428Z"
   },
   {
    "duration": 105,
    "start_time": "2024-12-20T23:09:18.437Z"
   },
   {
    "duration": 152,
    "start_time": "2024-12-20T23:09:18.545Z"
   },
   {
    "duration": 115,
    "start_time": "2024-12-20T23:09:18.698Z"
   },
   {
    "duration": 4,
    "start_time": "2024-12-20T23:09:18.815Z"
   },
   {
    "duration": 223,
    "start_time": "2024-12-20T23:09:18.821Z"
   },
   {
    "duration": 1,
    "start_time": "2024-12-20T23:09:19.046Z"
   },
   {
    "duration": 0,
    "start_time": "2024-12-20T23:09:19.048Z"
   },
   {
    "duration": 0,
    "start_time": "2024-12-20T23:09:19.049Z"
   },
   {
    "duration": 0,
    "start_time": "2024-12-20T23:09:19.051Z"
   },
   {
    "duration": 0,
    "start_time": "2024-12-20T23:09:19.052Z"
   },
   {
    "duration": 0,
    "start_time": "2024-12-20T23:09:19.054Z"
   },
   {
    "duration": 0,
    "start_time": "2024-12-20T23:09:19.055Z"
   },
   {
    "duration": 8,
    "start_time": "2024-12-20T23:10:33.038Z"
   },
   {
    "duration": 25,
    "start_time": "2024-12-20T23:10:33.835Z"
   },
   {
    "duration": 16,
    "start_time": "2024-12-20T23:10:47.118Z"
   },
   {
    "duration": 14,
    "start_time": "2024-12-20T23:10:55.019Z"
   },
   {
    "duration": 26,
    "start_time": "2024-12-20T23:11:07.462Z"
   },
   {
    "duration": 26,
    "start_time": "2024-12-20T23:11:36.877Z"
   },
   {
    "duration": 5,
    "start_time": "2024-12-20T23:11:41.320Z"
   },
   {
    "duration": 8,
    "start_time": "2024-12-20T23:11:47.184Z"
   },
   {
    "duration": 6,
    "start_time": "2024-12-20T23:11:59.499Z"
   },
   {
    "duration": 6,
    "start_time": "2024-12-20T23:12:12.310Z"
   },
   {
    "duration": 820,
    "start_time": "2024-12-20T23:14:19.271Z"
   },
   {
    "duration": 159,
    "start_time": "2024-12-20T23:14:20.093Z"
   },
   {
    "duration": 10,
    "start_time": "2024-12-20T23:14:20.253Z"
   },
   {
    "duration": 8,
    "start_time": "2024-12-20T23:14:20.266Z"
   },
   {
    "duration": 8,
    "start_time": "2024-12-20T23:14:20.276Z"
   },
   {
    "duration": 5,
    "start_time": "2024-12-20T23:14:20.285Z"
   },
   {
    "duration": 6,
    "start_time": "2024-12-20T23:14:20.312Z"
   },
   {
    "duration": 8,
    "start_time": "2024-12-20T23:14:20.320Z"
   },
   {
    "duration": 9,
    "start_time": "2024-12-20T23:14:20.330Z"
   },
   {
    "duration": 2,
    "start_time": "2024-12-20T23:14:20.343Z"
   },
   {
    "duration": 8,
    "start_time": "2024-12-20T23:14:20.347Z"
   },
   {
    "duration": 13,
    "start_time": "2024-12-20T23:14:20.356Z"
   },
   {
    "duration": 41,
    "start_time": "2024-12-20T23:14:20.371Z"
   },
   {
    "duration": 11,
    "start_time": "2024-12-20T23:14:20.413Z"
   },
   {
    "duration": 14,
    "start_time": "2024-12-20T23:14:20.425Z"
   },
   {
    "duration": 15,
    "start_time": "2024-12-20T23:14:20.440Z"
   },
   {
    "duration": 9,
    "start_time": "2024-12-20T23:14:20.457Z"
   },
   {
    "duration": 6,
    "start_time": "2024-12-20T23:14:20.468Z"
   },
   {
    "duration": 51,
    "start_time": "2024-12-20T23:14:20.476Z"
   },
   {
    "duration": 17,
    "start_time": "2024-12-20T23:14:20.528Z"
   },
   {
    "duration": 16,
    "start_time": "2024-12-20T23:14:20.546Z"
   },
   {
    "duration": 3,
    "start_time": "2024-12-20T23:14:20.564Z"
   },
   {
    "duration": 9,
    "start_time": "2024-12-20T23:14:20.568Z"
   },
   {
    "duration": 45,
    "start_time": "2024-12-20T23:14:20.579Z"
   },
   {
    "duration": 33,
    "start_time": "2024-12-20T23:14:20.625Z"
   },
   {
    "duration": 11,
    "start_time": "2024-12-20T23:14:20.659Z"
   },
   {
    "duration": 7,
    "start_time": "2024-12-20T23:14:20.672Z"
   },
   {
    "duration": 32,
    "start_time": "2024-12-20T23:14:20.684Z"
   },
   {
    "duration": 11,
    "start_time": "2024-12-20T23:14:20.718Z"
   },
   {
    "duration": 12,
    "start_time": "2024-12-20T23:14:20.730Z"
   },
   {
    "duration": 14,
    "start_time": "2024-12-20T23:14:20.743Z"
   },
   {
    "duration": 9,
    "start_time": "2024-12-20T23:14:20.758Z"
   },
   {
    "duration": 46,
    "start_time": "2024-12-20T23:14:20.769Z"
   },
   {
    "duration": 11,
    "start_time": "2024-12-20T23:14:20.816Z"
   },
   {
    "duration": 11,
    "start_time": "2024-12-20T23:14:20.828Z"
   },
   {
    "duration": 7,
    "start_time": "2024-12-20T23:14:20.840Z"
   },
   {
    "duration": 71,
    "start_time": "2024-12-20T23:14:20.849Z"
   },
   {
    "duration": 21,
    "start_time": "2024-12-20T23:14:20.922Z"
   },
   {
    "duration": 15,
    "start_time": "2024-12-20T23:14:20.945Z"
   },
   {
    "duration": 16,
    "start_time": "2024-12-20T23:14:20.962Z"
   },
   {
    "duration": 41,
    "start_time": "2024-12-20T23:14:20.980Z"
   },
   {
    "duration": 33,
    "start_time": "2024-12-20T23:14:21.023Z"
   },
   {
    "duration": 177,
    "start_time": "2024-12-20T23:14:21.058Z"
   },
   {
    "duration": 177,
    "start_time": "2024-12-20T23:14:21.237Z"
   },
   {
    "duration": 8,
    "start_time": "2024-12-20T23:14:21.416Z"
   },
   {
    "duration": 7,
    "start_time": "2024-12-20T23:14:21.426Z"
   },
   {
    "duration": 105,
    "start_time": "2024-12-20T23:14:21.434Z"
   },
   {
    "duration": 155,
    "start_time": "2024-12-20T23:14:21.541Z"
   },
   {
    "duration": 109,
    "start_time": "2024-12-20T23:14:21.698Z"
   },
   {
    "duration": 4,
    "start_time": "2024-12-20T23:14:21.811Z"
   },
   {
    "duration": 5,
    "start_time": "2024-12-20T23:14:21.816Z"
   },
   {
    "duration": 5,
    "start_time": "2024-12-20T23:14:21.822Z"
   },
   {
    "duration": 5,
    "start_time": "2024-12-20T23:14:21.829Z"
   },
   {
    "duration": 8,
    "start_time": "2024-12-20T23:14:21.835Z"
   },
   {
    "duration": 24,
    "start_time": "2024-12-20T23:14:21.844Z"
   },
   {
    "duration": 60,
    "start_time": "2024-12-20T23:14:21.869Z"
   },
   {
    "duration": 25,
    "start_time": "2024-12-20T23:14:21.931Z"
   },
   {
    "duration": 5,
    "start_time": "2024-12-20T23:14:21.957Z"
   },
   {
    "duration": 7,
    "start_time": "2024-12-20T23:15:00.452Z"
   },
   {
    "duration": 25,
    "start_time": "2024-12-20T23:15:02.043Z"
   },
   {
    "duration": 753,
    "start_time": "2024-12-20T23:31:55.632Z"
   },
   {
    "duration": 155,
    "start_time": "2024-12-20T23:32:21.002Z"
   },
   {
    "duration": 155,
    "start_time": "2024-12-20T23:35:16.934Z"
   },
   {
    "duration": 226,
    "start_time": "2024-12-20T23:35:44.409Z"
   },
   {
    "duration": 143,
    "start_time": "2024-12-20T23:36:00.683Z"
   },
   {
    "duration": 7,
    "start_time": "2024-12-20T23:37:25.522Z"
   },
   {
    "duration": 5,
    "start_time": "2024-12-20T23:37:43.075Z"
   },
   {
    "duration": 5,
    "start_time": "2024-12-20T23:37:45.050Z"
   },
   {
    "duration": 5,
    "start_time": "2024-12-20T23:37:52.575Z"
   },
   {
    "duration": 4,
    "start_time": "2024-12-20T23:40:18.243Z"
   },
   {
    "duration": 4,
    "start_time": "2024-12-20T23:41:01.107Z"
   },
   {
    "duration": 5,
    "start_time": "2024-12-20T23:49:27.662Z"
   },
   {
    "duration": 158,
    "start_time": "2024-12-22T02:48:19.469Z"
   },
   {
    "duration": 12,
    "start_time": "2024-12-22T02:48:33.058Z"
   },
   {
    "duration": 2848,
    "start_time": "2024-12-22T02:48:48.024Z"
   },
   {
    "duration": 248,
    "start_time": "2024-12-22T02:48:50.875Z"
   },
   {
    "duration": 13,
    "start_time": "2024-12-22T02:48:51.125Z"
   },
   {
    "duration": 10,
    "start_time": "2024-12-22T02:48:51.140Z"
   },
   {
    "duration": 7,
    "start_time": "2024-12-22T02:48:51.153Z"
   },
   {
    "duration": 4,
    "start_time": "2024-12-22T02:48:51.162Z"
   },
   {
    "duration": 7,
    "start_time": "2024-12-22T02:48:51.169Z"
   },
   {
    "duration": 11,
    "start_time": "2024-12-22T02:48:51.179Z"
   },
   {
    "duration": 46,
    "start_time": "2024-12-22T02:48:51.192Z"
   },
   {
    "duration": 7,
    "start_time": "2024-12-22T02:48:51.240Z"
   },
   {
    "duration": 9,
    "start_time": "2024-12-22T02:48:51.249Z"
   },
   {
    "duration": 14,
    "start_time": "2024-12-22T02:48:51.260Z"
   },
   {
    "duration": 4,
    "start_time": "2024-12-22T02:48:51.276Z"
   },
   {
    "duration": 15,
    "start_time": "2024-12-22T02:48:51.284Z"
   },
   {
    "duration": 48,
    "start_time": "2024-12-22T02:48:51.301Z"
   },
   {
    "duration": 18,
    "start_time": "2024-12-22T02:48:51.351Z"
   },
   {
    "duration": 13,
    "start_time": "2024-12-22T02:48:51.371Z"
   },
   {
    "duration": 9,
    "start_time": "2024-12-22T02:48:51.386Z"
   },
   {
    "duration": 45,
    "start_time": "2024-12-22T02:48:51.397Z"
   },
   {
    "duration": 17,
    "start_time": "2024-12-22T02:48:51.444Z"
   },
   {
    "duration": 16,
    "start_time": "2024-12-22T02:48:51.463Z"
   },
   {
    "duration": 11,
    "start_time": "2024-12-22T02:48:51.481Z"
   },
   {
    "duration": 53,
    "start_time": "2024-12-22T02:48:51.494Z"
   },
   {
    "duration": 36,
    "start_time": "2024-12-22T02:48:51.549Z"
   },
   {
    "duration": 13,
    "start_time": "2024-12-22T02:48:51.587Z"
   },
   {
    "duration": 9,
    "start_time": "2024-12-22T02:48:51.601Z"
   },
   {
    "duration": 15,
    "start_time": "2024-12-22T02:48:51.630Z"
   },
   {
    "duration": 13,
    "start_time": "2024-12-22T02:48:51.647Z"
   },
   {
    "duration": 15,
    "start_time": "2024-12-22T02:48:51.663Z"
   },
   {
    "duration": 13,
    "start_time": "2024-12-22T02:48:51.680Z"
   },
   {
    "duration": 42,
    "start_time": "2024-12-22T02:48:51.695Z"
   },
   {
    "duration": 14,
    "start_time": "2024-12-22T02:48:51.741Z"
   },
   {
    "duration": 15,
    "start_time": "2024-12-22T02:48:51.757Z"
   },
   {
    "duration": 18,
    "start_time": "2024-12-22T02:48:51.776Z"
   },
   {
    "duration": 8,
    "start_time": "2024-12-22T02:48:51.797Z"
   },
   {
    "duration": 94,
    "start_time": "2024-12-22T02:48:51.808Z"
   },
   {
    "duration": 31,
    "start_time": "2024-12-22T02:48:51.904Z"
   },
   {
    "duration": 23,
    "start_time": "2024-12-22T02:48:51.937Z"
   },
   {
    "duration": 24,
    "start_time": "2024-12-22T02:48:51.964Z"
   },
   {
    "duration": 23,
    "start_time": "2024-12-22T02:48:51.991Z"
   },
   {
    "duration": 52,
    "start_time": "2024-12-22T02:48:52.036Z"
   },
   {
    "duration": 188,
    "start_time": "2024-12-22T02:48:52.090Z"
   },
   {
    "duration": 176,
    "start_time": "2024-12-22T02:48:52.280Z"
   },
   {
    "duration": 14,
    "start_time": "2024-12-22T02:48:52.458Z"
   },
   {
    "duration": 11,
    "start_time": "2024-12-22T02:48:52.475Z"
   },
   {
    "duration": 121,
    "start_time": "2024-12-22T02:48:52.488Z"
   },
   {
    "duration": 165,
    "start_time": "2024-12-22T02:48:52.611Z"
   },
   {
    "duration": 131,
    "start_time": "2024-12-22T02:48:52.778Z"
   },
   {
    "duration": 5,
    "start_time": "2024-12-22T02:48:52.912Z"
   },
   {
    "duration": 6,
    "start_time": "2024-12-22T02:48:52.932Z"
   },
   {
    "duration": 8,
    "start_time": "2024-12-22T02:48:52.941Z"
   },
   {
    "duration": 7,
    "start_time": "2024-12-22T02:48:52.951Z"
   },
   {
    "duration": 6,
    "start_time": "2024-12-22T02:48:52.961Z"
   },
   {
    "duration": 4,
    "start_time": "2024-12-22T02:48:52.969Z"
   },
   {
    "duration": 7,
    "start_time": "2024-12-22T02:48:52.976Z"
   },
   {
    "duration": 46,
    "start_time": "2024-12-22T02:48:52.985Z"
   },
   {
    "duration": 85,
    "start_time": "2024-12-22T02:48:53.033Z"
   },
   {
    "duration": 37,
    "start_time": "2024-12-22T02:48:53.119Z"
   },
   {
    "duration": 27,
    "start_time": "2024-12-22T02:48:53.159Z"
   },
   {
    "duration": 4,
    "start_time": "2024-12-22T02:48:53.189Z"
   },
   {
    "duration": 238,
    "start_time": "2024-12-22T02:51:59.599Z"
   },
   {
    "duration": 12,
    "start_time": "2024-12-22T02:52:27.406Z"
   },
   {
    "duration": 120,
    "start_time": "2024-12-22T03:31:19.606Z"
   },
   {
    "duration": 157,
    "start_time": "2024-12-22T03:31:28.982Z"
   },
   {
    "duration": 154,
    "start_time": "2024-12-22T03:33:44.308Z"
   },
   {
    "duration": 156,
    "start_time": "2024-12-22T03:33:54.166Z"
   },
   {
    "duration": 20,
    "start_time": "2024-12-22T03:39:31.216Z"
   },
   {
    "duration": 21,
    "start_time": "2024-12-22T03:40:27.468Z"
   },
   {
    "duration": 217,
    "start_time": "2024-12-22T03:41:24.908Z"
   },
   {
    "duration": 29,
    "start_time": "2024-12-22T03:43:07.064Z"
   },
   {
    "duration": 172,
    "start_time": "2024-12-22T03:44:35.019Z"
   },
   {
    "duration": 162,
    "start_time": "2024-12-22T03:45:41.489Z"
   },
   {
    "duration": 89,
    "start_time": "2024-12-22T03:50:18.306Z"
   },
   {
    "duration": 88,
    "start_time": "2024-12-22T03:52:04.871Z"
   },
   {
    "duration": 90,
    "start_time": "2024-12-22T03:52:12.401Z"
   },
   {
    "duration": 4,
    "start_time": "2024-12-22T04:03:47.894Z"
   },
   {
    "duration": 4,
    "start_time": "2024-12-22T04:04:05.404Z"
   },
   {
    "duration": 109,
    "start_time": "2024-12-22T04:12:52.969Z"
   },
   {
    "duration": 149,
    "start_time": "2024-12-22T04:13:11.305Z"
   },
   {
    "duration": 106,
    "start_time": "2024-12-22T04:14:01.347Z"
   },
   {
    "duration": 110,
    "start_time": "2024-12-22T04:14:22.252Z"
   },
   {
    "duration": 115,
    "start_time": "2024-12-22T04:15:09.889Z"
   },
   {
    "duration": 118,
    "start_time": "2024-12-22T04:15:19.762Z"
   },
   {
    "duration": 97,
    "start_time": "2024-12-22T04:16:23.605Z"
   },
   {
    "duration": 8,
    "start_time": "2024-12-23T04:30:21.613Z"
   },
   {
    "duration": 179,
    "start_time": "2024-12-26T20:42:16.440Z"
   },
   {
    "duration": 2529,
    "start_time": "2024-12-26T20:42:23.764Z"
   },
   {
    "duration": 224,
    "start_time": "2024-12-26T20:42:26.296Z"
   },
   {
    "duration": 11,
    "start_time": "2024-12-26T20:42:26.522Z"
   },
   {
    "duration": 28,
    "start_time": "2024-12-26T20:42:26.535Z"
   },
   {
    "duration": 13,
    "start_time": "2024-12-26T20:42:26.567Z"
   },
   {
    "duration": 5,
    "start_time": "2024-12-26T20:42:26.582Z"
   },
   {
    "duration": 7,
    "start_time": "2024-12-26T20:42:26.589Z"
   },
   {
    "duration": 8,
    "start_time": "2024-12-26T20:42:26.598Z"
   },
   {
    "duration": 9,
    "start_time": "2024-12-26T20:42:26.609Z"
   },
   {
    "duration": 3,
    "start_time": "2024-12-26T20:42:26.620Z"
   },
   {
    "duration": 8,
    "start_time": "2024-12-26T20:42:26.625Z"
   },
   {
    "duration": 42,
    "start_time": "2024-12-26T20:42:26.634Z"
   },
   {
    "duration": 3,
    "start_time": "2024-12-26T20:42:26.678Z"
   },
   {
    "duration": 10,
    "start_time": "2024-12-26T20:42:26.686Z"
   },
   {
    "duration": 16,
    "start_time": "2024-12-26T20:42:26.697Z"
   },
   {
    "duration": 15,
    "start_time": "2024-12-26T20:42:26.714Z"
   },
   {
    "duration": 44,
    "start_time": "2024-12-26T20:42:26.731Z"
   },
   {
    "duration": 9,
    "start_time": "2024-12-26T20:42:26.777Z"
   },
   {
    "duration": 19,
    "start_time": "2024-12-26T20:42:26.787Z"
   },
   {
    "duration": 16,
    "start_time": "2024-12-26T20:42:26.808Z"
   },
   {
    "duration": 16,
    "start_time": "2024-12-26T20:42:26.825Z"
   },
   {
    "duration": 36,
    "start_time": "2024-12-26T20:42:26.842Z"
   },
   {
    "duration": 19,
    "start_time": "2024-12-26T20:42:26.880Z"
   },
   {
    "duration": 34,
    "start_time": "2024-12-26T20:42:26.900Z"
   },
   {
    "duration": 35,
    "start_time": "2024-12-26T20:42:26.936Z"
   },
   {
    "duration": 10,
    "start_time": "2024-12-26T20:42:26.973Z"
   },
   {
    "duration": 13,
    "start_time": "2024-12-26T20:42:26.984Z"
   },
   {
    "duration": 11,
    "start_time": "2024-12-26T20:42:26.999Z"
   },
   {
    "duration": 12,
    "start_time": "2024-12-26T20:42:27.012Z"
   },
   {
    "duration": 13,
    "start_time": "2024-12-26T20:42:27.026Z"
   },
   {
    "duration": 35,
    "start_time": "2024-12-26T20:42:27.041Z"
   },
   {
    "duration": 14,
    "start_time": "2024-12-26T20:42:27.078Z"
   },
   {
    "duration": 11,
    "start_time": "2024-12-26T20:42:27.094Z"
   },
   {
    "duration": 11,
    "start_time": "2024-12-26T20:42:27.106Z"
   },
   {
    "duration": 6,
    "start_time": "2024-12-26T20:42:27.119Z"
   },
   {
    "duration": 90,
    "start_time": "2024-12-26T20:42:27.127Z"
   },
   {
    "duration": 19,
    "start_time": "2024-12-26T20:42:27.219Z"
   },
   {
    "duration": 34,
    "start_time": "2024-12-26T20:42:27.240Z"
   },
   {
    "duration": 17,
    "start_time": "2024-12-26T20:42:27.276Z"
   },
   {
    "duration": 16,
    "start_time": "2024-12-26T20:42:27.294Z"
   },
   {
    "duration": 41,
    "start_time": "2024-12-26T20:42:27.316Z"
   },
   {
    "duration": 184,
    "start_time": "2024-12-26T20:42:27.359Z"
   },
   {
    "duration": 164,
    "start_time": "2024-12-26T20:42:27.545Z"
   },
   {
    "duration": 10,
    "start_time": "2024-12-26T20:42:27.711Z"
   },
   {
    "duration": 7,
    "start_time": "2024-12-26T20:42:27.723Z"
   },
   {
    "duration": 110,
    "start_time": "2024-12-26T20:42:27.732Z"
   },
   {
    "duration": 158,
    "start_time": "2024-12-26T20:42:27.844Z"
   },
   {
    "duration": 283,
    "start_time": "2024-12-26T20:42:28.004Z"
   },
   {
    "duration": 0,
    "start_time": "2024-12-26T20:42:28.289Z"
   },
   {
    "duration": 0,
    "start_time": "2024-12-26T20:42:28.290Z"
   },
   {
    "duration": 0,
    "start_time": "2024-12-26T20:42:28.291Z"
   },
   {
    "duration": 0,
    "start_time": "2024-12-26T20:42:28.292Z"
   },
   {
    "duration": 0,
    "start_time": "2024-12-26T20:42:28.293Z"
   },
   {
    "duration": 0,
    "start_time": "2024-12-26T20:42:28.295Z"
   },
   {
    "duration": 0,
    "start_time": "2024-12-26T20:42:28.296Z"
   },
   {
    "duration": 0,
    "start_time": "2024-12-26T20:42:28.297Z"
   },
   {
    "duration": 0,
    "start_time": "2024-12-26T20:42:28.298Z"
   },
   {
    "duration": 0,
    "start_time": "2024-12-26T20:42:28.299Z"
   },
   {
    "duration": 0,
    "start_time": "2024-12-26T20:42:28.300Z"
   },
   {
    "duration": 98,
    "start_time": "2024-12-26T20:57:31.027Z"
   },
   {
    "duration": 15,
    "start_time": "2024-12-26T20:58:58.650Z"
   },
   {
    "duration": 3,
    "start_time": "2024-12-26T20:59:01.831Z"
   },
   {
    "duration": 166,
    "start_time": "2024-12-26T20:59:03.274Z"
   },
   {
    "duration": 229,
    "start_time": "2024-12-26T21:01:03.311Z"
   },
   {
    "duration": 79,
    "start_time": "2024-12-26T21:02:27.429Z"
   },
   {
    "duration": 157,
    "start_time": "2024-12-26T21:03:16.716Z"
   },
   {
    "duration": 84,
    "start_time": "2024-12-26T21:08:54.376Z"
   },
   {
    "duration": 79,
    "start_time": "2024-12-26T21:11:37.721Z"
   },
   {
    "duration": 5,
    "start_time": "2024-12-26T21:12:07.379Z"
   },
   {
    "duration": 5,
    "start_time": "2024-12-26T21:13:41.937Z"
   },
   {
    "duration": 4,
    "start_time": "2024-12-26T21:13:57.928Z"
   },
   {
    "duration": 123,
    "start_time": "2024-12-26T21:14:02.311Z"
   },
   {
    "duration": 13,
    "start_time": "2024-12-26T21:15:32.166Z"
   },
   {
    "duration": 4,
    "start_time": "2024-12-26T21:15:33.979Z"
   },
   {
    "duration": 52,
    "start_time": "2024-12-26T21:15:35.365Z"
   },
   {
    "duration": 6,
    "start_time": "2024-12-26T21:17:22.546Z"
   },
   {
    "duration": 220,
    "start_time": "2024-12-26T21:17:24.179Z"
   },
   {
    "duration": 88,
    "start_time": "2024-12-26T21:20:26.545Z"
   },
   {
    "duration": 77,
    "start_time": "2024-12-26T21:20:36.883Z"
   },
   {
    "duration": 167,
    "start_time": "2024-12-26T21:21:17.144Z"
   },
   {
    "duration": 166,
    "start_time": "2024-12-26T21:21:30.752Z"
   },
   {
    "duration": 165,
    "start_time": "2024-12-26T21:22:56.447Z"
   },
   {
    "duration": 6,
    "start_time": "2024-12-26T21:23:40.256Z"
   },
   {
    "duration": 2581,
    "start_time": "2024-12-27T03:49:34.822Z"
   },
   {
    "duration": 215,
    "start_time": "2024-12-27T03:49:37.405Z"
   },
   {
    "duration": 10,
    "start_time": "2024-12-27T03:49:37.622Z"
   },
   {
    "duration": 10,
    "start_time": "2024-12-27T03:49:37.634Z"
   },
   {
    "duration": 8,
    "start_time": "2024-12-27T03:49:37.645Z"
   },
   {
    "duration": 5,
    "start_time": "2024-12-27T03:49:37.654Z"
   },
   {
    "duration": 11,
    "start_time": "2024-12-27T03:49:37.661Z"
   },
   {
    "duration": 9,
    "start_time": "2024-12-27T03:49:37.674Z"
   },
   {
    "duration": 9,
    "start_time": "2024-12-27T03:49:37.685Z"
   },
   {
    "duration": 2,
    "start_time": "2024-12-27T03:49:37.698Z"
   },
   {
    "duration": 8,
    "start_time": "2024-12-27T03:49:37.702Z"
   },
   {
    "duration": 13,
    "start_time": "2024-12-27T03:49:37.712Z"
   },
   {
    "duration": 44,
    "start_time": "2024-12-27T03:49:37.727Z"
   },
   {
    "duration": 11,
    "start_time": "2024-12-27T03:49:37.772Z"
   },
   {
    "duration": 16,
    "start_time": "2024-12-27T03:49:37.784Z"
   },
   {
    "duration": 15,
    "start_time": "2024-12-27T03:49:37.801Z"
   },
   {
    "duration": 9,
    "start_time": "2024-12-27T03:49:37.817Z"
   },
   {
    "duration": 43,
    "start_time": "2024-12-27T03:49:37.828Z"
   },
   {
    "duration": 18,
    "start_time": "2024-12-27T03:49:37.873Z"
   },
   {
    "duration": 16,
    "start_time": "2024-12-27T03:49:37.893Z"
   },
   {
    "duration": 15,
    "start_time": "2024-12-27T03:49:37.911Z"
   },
   {
    "duration": 11,
    "start_time": "2024-12-27T03:49:37.928Z"
   },
   {
    "duration": 39,
    "start_time": "2024-12-27T03:49:37.941Z"
   },
   {
    "duration": 32,
    "start_time": "2024-12-27T03:49:37.982Z"
   },
   {
    "duration": 13,
    "start_time": "2024-12-27T03:49:38.016Z"
   },
   {
    "duration": 8,
    "start_time": "2024-12-27T03:49:38.032Z"
   },
   {
    "duration": 35,
    "start_time": "2024-12-27T03:49:38.042Z"
   },
   {
    "duration": 13,
    "start_time": "2024-12-27T03:49:38.082Z"
   },
   {
    "duration": 12,
    "start_time": "2024-12-27T03:49:38.096Z"
   },
   {
    "duration": 14,
    "start_time": "2024-12-27T03:49:38.109Z"
   },
   {
    "duration": 8,
    "start_time": "2024-12-27T03:49:38.125Z"
   },
   {
    "duration": 43,
    "start_time": "2024-12-27T03:49:38.135Z"
   },
   {
    "duration": 12,
    "start_time": "2024-12-27T03:49:38.179Z"
   },
   {
    "duration": 14,
    "start_time": "2024-12-27T03:49:38.193Z"
   },
   {
    "duration": 9,
    "start_time": "2024-12-27T03:49:38.209Z"
   },
   {
    "duration": 79,
    "start_time": "2024-12-27T03:49:38.222Z"
   },
   {
    "duration": 19,
    "start_time": "2024-12-27T03:49:38.303Z"
   },
   {
    "duration": 19,
    "start_time": "2024-12-27T03:49:38.324Z"
   },
   {
    "duration": 37,
    "start_time": "2024-12-27T03:49:38.345Z"
   },
   {
    "duration": 16,
    "start_time": "2024-12-27T03:49:38.383Z"
   },
   {
    "duration": 34,
    "start_time": "2024-12-27T03:49:38.401Z"
   },
   {
    "duration": 192,
    "start_time": "2024-12-27T03:49:38.437Z"
   },
   {
    "duration": 159,
    "start_time": "2024-12-27T03:49:38.630Z"
   },
   {
    "duration": 9,
    "start_time": "2024-12-27T03:49:38.791Z"
   },
   {
    "duration": 7,
    "start_time": "2024-12-27T03:49:38.802Z"
   },
   {
    "duration": 113,
    "start_time": "2024-12-27T03:49:38.811Z"
   },
   {
    "duration": 200,
    "start_time": "2024-12-27T03:49:38.925Z"
   },
   {
    "duration": 108,
    "start_time": "2024-12-27T03:49:39.127Z"
   },
   {
    "duration": 7,
    "start_time": "2024-12-27T03:49:39.238Z"
   },
   {
    "duration": 87,
    "start_time": "2024-12-27T03:49:39.249Z"
   },
   {
    "duration": 6,
    "start_time": "2024-12-27T03:49:39.339Z"
   },
   {
    "duration": 6,
    "start_time": "2024-12-27T03:49:39.346Z"
   },
   {
    "duration": 232,
    "start_time": "2024-12-27T03:49:39.354Z"
   },
   {
    "duration": 6,
    "start_time": "2024-12-27T03:49:39.588Z"
   },
   {
    "duration": 203,
    "start_time": "2024-12-27T03:49:39.595Z"
   },
   {
    "duration": 7,
    "start_time": "2024-12-27T03:49:39.801Z"
   },
   {
    "duration": 7,
    "start_time": "2024-12-27T03:49:39.809Z"
   },
   {
    "duration": 9,
    "start_time": "2024-12-27T03:49:39.818Z"
   },
   {
    "duration": 49,
    "start_time": "2024-12-27T03:49:39.829Z"
   },
   {
    "duration": 25,
    "start_time": "2024-12-27T03:49:39.879Z"
   },
   {
    "duration": 25,
    "start_time": "2024-12-27T03:49:39.905Z"
   },
   {
    "duration": 4,
    "start_time": "2024-12-27T03:49:39.931Z"
   }
  ],
  "colab": {
   "provenance": []
  },
  "kernelspec": {
   "display_name": "Python 3 (ipykernel)",
   "language": "python",
   "name": "python3"
  },
  "language_info": {
   "codemirror_mode": {
    "name": "ipython",
    "version": 3
   },
   "file_extension": ".py",
   "mimetype": "text/x-python",
   "name": "python",
   "nbconvert_exporter": "python",
   "pygments_lexer": "ipython3",
   "version": "3.9.19"
  },
  "toc": {
   "base_numbering": 1,
   "nav_menu": {},
   "number_sections": true,
   "sideBar": true,
   "skip_h1_title": false,
   "title_cell": "Table of Contents",
   "title_sidebar": "Contents",
   "toc_cell": false,
   "toc_position": {
    "height": "calc(100% - 180px)",
    "left": "10px",
    "top": "150px",
    "width": "313.25px"
   },
   "toc_section_display": true,
   "toc_window_display": true
  }
 },
 "nbformat": 4,
 "nbformat_minor": 1
}
